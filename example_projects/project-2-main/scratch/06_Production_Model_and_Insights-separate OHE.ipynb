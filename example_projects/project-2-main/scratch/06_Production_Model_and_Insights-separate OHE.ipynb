{
 "cells": [
  {
   "cell_type": "markdown",
   "id": "6e7a3507-3272-4ee3-a3c5-0905d422d8a2",
   "metadata": {
    "tags": []
   },
   "source": [
    "# Production Model and Insights - Garage Crafters"
   ]
  },
  {
   "cell_type": "code",
   "execution_count": 1,
   "id": "36d700dc-1e5d-4c57-87c4-623912736436",
   "metadata": {
    "tags": []
   },
   "outputs": [],
   "source": [
    "import pandas as pd\n",
    "import numpy as np\n",
    "import matplotlib.pyplot  as plt\n",
    "import seaborn as sns\n",
    "\n",
    "from sklearn.model_selection import train_test_split, cross_val_score\n",
    "from sklearn.linear_model import LinearRegression\n",
    "from sklearn.metrics import r2_score\n",
    "from sklearn.preprocessing import OneHotEncoder, StandardScaler\n",
    "from sklearn.compose import ColumnTransformer, make_column_transformer\n",
    "\n",
    "import statsmodels.api as sm"
   ]
  },
  {
   "cell_type": "markdown",
   "id": "e6cebc3b-21b4-4807-8b7c-08b0ca2d9366",
   "metadata": {
    "tags": []
   },
   "source": [
    "## Functions"
   ]
  },
  {
   "cell_type": "markdown",
   "id": "3d945a86-b06b-40c1-a26e-2d9dd83e1ff5",
   "metadata": {
    "tags": []
   },
   "source": [
    "## Load clean training and test data"
   ]
  },
  {
   "cell_type": "code",
   "execution_count": 2,
   "id": "ad157b49-94f4-4380-affa-edacc22be121",
   "metadata": {
    "tags": []
   },
   "outputs": [],
   "source": [
    "train = pd.read_csv('../data/cleaned_data/train_clean.csv')\n",
    "test = pd.read_csv('../data/cleaned_data/test_clean.csv')"
   ]
  },
  {
   "cell_type": "markdown",
   "id": "ed01916b-a310-4bda-996c-988c00b150c1",
   "metadata": {
    "tags": []
   },
   "source": [
    "## Predictors and target Variables"
   ]
  },
  {
   "cell_type": "code",
   "execution_count": 3,
   "id": "4b6d98f2-161a-48a4-b3af-2719b5b7670b",
   "metadata": {
    "tags": []
   },
   "outputs": [],
   "source": [
    "predictors = [\n",
    "'Garage Area',\n",
    "'Garage Cars',\n",
    "'Garage Cond',\n",
    "'Garage Finish',\n",
    "'Garage Qual',\n",
    "'Garage Type',\n",
    "'Garage Yr Blt',\n",
    "'Gr Liv Area',\n",
    "'Neighborhood',\n",
    "    \n",
    "    \n",
    "'Bldg Type',\n",
    " 'Bsmt Cond',\n",
    " 'Bsmt Exposure',\n",
    " 'Bsmt Qual',\n",
    " 'BsmtFin Type 1',\n",
    " 'BsmtFin Type 2',\n",
    " 'Central Air',\n",
    " 'Electrical',\n",
    " 'Exter Qual',\n",
    " 'Exter Cond',\n",
    " 'Fence',\n",
    " 'Fireplace Qu',\n",
    " 'Foundation',\n",
    " 'Heating QC',\n",
    " 'House Style',\n",
    " 'Kitchen Qual',\n",
    " 'Land Contour',\n",
    " 'Lot Shape',\n",
    " 'MS Zoning',\n",
    " 'Mas Vnr Type',\n",
    " 'Paved Drive',\n",
    " 'Street'\n",
    "]"
   ]
  },
  {
   "cell_type": "code",
   "execution_count": 4,
   "id": "8ab25e8b-f8fb-4962-a67a-7d11d482280f",
   "metadata": {
    "tags": []
   },
   "outputs": [],
   "source": [
    "X = train[predictors]\n",
    "y = train['SalePrice']"
   ]
  },
  {
   "cell_type": "code",
   "execution_count": null,
   "id": "84c678e2-9765-4fbd-9d4f-356286e0474c",
   "metadata": {},
   "outputs": [],
   "source": []
  },
  {
   "cell_type": "code",
   "execution_count": 5,
   "id": "f16cc839-c4b9-4ddb-a52a-eb222bf7fc18",
   "metadata": {
    "tags": []
   },
   "outputs": [
    {
     "name": "stderr",
     "output_type": "stream",
     "text": [
      "/var/folders/q7/5h2c80n91kv48jr01119s4t80000gn/T/ipykernel_42751/2786934907.py:2: SettingWithCopyWarning: \n",
      "A value is trying to be set on a copy of a slice from a DataFrame\n",
      "\n",
      "See the caveats in the documentation: https://pandas.pydata.org/pandas-docs/stable/user_guide/indexing.html#returning-a-view-versus-a-copy\n",
      "  X.replace('no_garage', '0_no_garage', inplace=True)\n"
     ]
    }
   ],
   "source": [
    "#HACKY METHOD ALERT: renaming no_garage so that the onehotencoder drops this column first\n",
    "X.replace('no_garage', '0_no_garage', inplace=True)"
   ]
  },
  {
   "cell_type": "markdown",
   "id": "993701b1-65ca-442e-910c-43f12901c7bc",
   "metadata": {},
   "source": [
    "## Split data into train and test sets"
   ]
  },
  {
   "cell_type": "code",
   "execution_count": 6,
   "id": "5d4820db-11c7-48d2-b48b-7305a0695f47",
   "metadata": {
    "tags": []
   },
   "outputs": [],
   "source": [
    "X_train, X_test, y_train, y_test = train_test_split(X, y, test_size=0.2, random_state = 21)"
   ]
  },
  {
   "cell_type": "code",
   "execution_count": 7,
   "id": "47e6a23f-28fe-4a8a-beb2-ac7194d9ae2a",
   "metadata": {
    "tags": []
   },
   "outputs": [
    {
     "data": {
      "text/plain": [
       "((1640, 31), (411,))"
      ]
     },
     "execution_count": 7,
     "metadata": {},
     "output_type": "execute_result"
    }
   ],
   "source": [
    "X_train.shape, y_test.shape"
   ]
  },
  {
   "cell_type": "markdown",
   "id": "f34be0a9-0520-4572-8fec-4b91088b9df0",
   "metadata": {},
   "source": [
    "## Column Transformer"
   ]
  },
  {
   "cell_type": "code",
   "execution_count": 8,
   "id": "086c4072-625f-45f4-aae0-03662c898eac",
   "metadata": {
    "tags": []
   },
   "outputs": [],
   "source": [
    "X_cat_cols = X.select_dtypes(exclude=['number'])"
   ]
  },
  {
   "cell_type": "code",
   "execution_count": 9,
   "id": "f7d5c6ab-821b-4822-b1cb-b63baa4105fe",
   "metadata": {
    "tags": []
   },
   "outputs": [],
   "source": [
    "X_cat_col_garage_mask = X_cat_cols.apply(lambda col: 'no_garage' in col.values)"
   ]
  },
  {
   "cell_type": "code",
   "execution_count": 10,
   "id": "0fbaf30f-cc57-4e06-b4c5-05e564e866d9",
   "metadata": {
    "tags": []
   },
   "outputs": [
    {
     "data": {
      "text/plain": [
       "Garage Cond       False\n",
       "Garage Finish     False\n",
       "Garage Qual       False\n",
       "Garage Type       False\n",
       "Neighborhood      False\n",
       "Bldg Type         False\n",
       "Bsmt Cond         False\n",
       "Bsmt Exposure     False\n",
       "Bsmt Qual         False\n",
       "BsmtFin Type 1    False\n",
       "BsmtFin Type 2    False\n",
       "Central Air       False\n",
       "Electrical        False\n",
       "Exter Qual        False\n",
       "Exter Cond        False\n",
       "Fence             False\n",
       "Fireplace Qu      False\n",
       "Foundation        False\n",
       "Heating QC        False\n",
       "House Style       False\n",
       "Kitchen Qual      False\n",
       "Land Contour      False\n",
       "Lot Shape         False\n",
       "MS Zoning         False\n",
       "Mas Vnr Type      False\n",
       "Paved Drive       False\n",
       "Street            False\n",
       "dtype: bool"
      ]
     },
     "execution_count": 10,
     "metadata": {},
     "output_type": "execute_result"
    }
   ],
   "source": [
    "X_cat_col_garage_mask"
   ]
  },
  {
   "cell_type": "code",
   "execution_count": 11,
   "id": "7955c6af-d75c-4145-84ad-2877fe77b08b",
   "metadata": {
    "tags": []
   },
   "outputs": [],
   "source": [
    "X_cat_col_garage_list = X_cat_col_garage_mask[X_cat_col_garage_mask].index.tolist()\n"
   ]
  },
  {
   "cell_type": "code",
   "execution_count": 12,
   "id": "c3ecf77b-a1aa-4998-946a-f0bd61e4edf9",
   "metadata": {
    "tags": []
   },
   "outputs": [],
   "source": [
    "X_cat_col_other_list = X_cat_col_garage_mask[X_cat_col_garage_mask==False].index.tolist()\n"
   ]
  },
  {
   "cell_type": "code",
   "execution_count": 13,
   "id": "065093f5-a7a5-44f3-82a7-c4e28af6deb9",
   "metadata": {
    "tags": []
   },
   "outputs": [
    {
     "data": {
      "text/plain": [
       "[]"
      ]
     },
     "execution_count": 13,
     "metadata": {},
     "output_type": "execute_result"
    }
   ],
   "source": [
    "X_cat_col_garage_list"
   ]
  },
  {
   "cell_type": "code",
   "execution_count": 14,
   "id": "ff42d019-5eb2-4ecc-b7bb-a703de039ba7",
   "metadata": {
    "tags": []
   },
   "outputs": [
    {
     "data": {
      "text/plain": [
       "array(['TA', 'Fa', '0_no_garage', 'Po', 'Gd', 'Ex'], dtype=object)"
      ]
     },
     "execution_count": 14,
     "metadata": {},
     "output_type": "execute_result"
    }
   ],
   "source": [
    "X['Garage Cond'].unique()"
   ]
  },
  {
   "cell_type": "code",
   "execution_count": 15,
   "id": "56bf3fc1-420d-4f59-b2f5-d67a41e17cf5",
   "metadata": {
    "tags": []
   },
   "outputs": [
    {
     "data": {
      "text/plain": [
       "array(['RFn', 'Unf', 'Fin', '0_no_garage'], dtype=object)"
      ]
     },
     "execution_count": 15,
     "metadata": {},
     "output_type": "execute_result"
    }
   ],
   "source": [
    "X['Garage Finish'].unique()"
   ]
  },
  {
   "cell_type": "code",
   "execution_count": 16,
   "id": "95affd96-aee4-4056-9264-b910566d6ae9",
   "metadata": {
    "tags": []
   },
   "outputs": [
    {
     "data": {
      "text/plain": [
       "array(['TA', 'Fa', '0_no_garage', 'Gd', 'Ex', 'Po'], dtype=object)"
      ]
     },
     "execution_count": 16,
     "metadata": {},
     "output_type": "execute_result"
    }
   ],
   "source": [
    "X['Garage Qual'].unique()"
   ]
  },
  {
   "cell_type": "code",
   "execution_count": 17,
   "id": "4bf9b107-9d56-4b48-8de6-496c0ffc8323",
   "metadata": {
    "tags": []
   },
   "outputs": [
    {
     "data": {
      "text/plain": [
       "array(['Attchd', 'Detchd', 'BuiltIn', 'Basment', '0_no_garage', '2Types',\n",
       "       'CarPort'], dtype=object)"
      ]
     },
     "execution_count": 17,
     "metadata": {},
     "output_type": "execute_result"
    }
   ],
   "source": [
    "X['Garage Type'].unique()"
   ]
  },
  {
   "cell_type": "code",
   "execution_count": null,
   "id": "4b2be5ad-204a-4017-9140-9aaf072ffa2c",
   "metadata": {},
   "outputs": [],
   "source": []
  },
  {
   "cell_type": "code",
   "execution_count": 18,
   "id": "cd0915af-5fe2-4c63-ba54-efeb2769e3ff",
   "metadata": {
    "tags": []
   },
   "outputs": [
    {
     "data": {
      "text/plain": [
       "['Garage Cond',\n",
       " 'Garage Finish',\n",
       " 'Garage Qual',\n",
       " 'Garage Type',\n",
       " 'Neighborhood',\n",
       " 'Bldg Type',\n",
       " 'Bsmt Cond',\n",
       " 'Bsmt Exposure',\n",
       " 'Bsmt Qual',\n",
       " 'BsmtFin Type 1',\n",
       " 'BsmtFin Type 2',\n",
       " 'Central Air',\n",
       " 'Electrical',\n",
       " 'Exter Qual',\n",
       " 'Exter Cond',\n",
       " 'Fence',\n",
       " 'Fireplace Qu',\n",
       " 'Foundation',\n",
       " 'Heating QC',\n",
       " 'House Style',\n",
       " 'Kitchen Qual',\n",
       " 'Land Contour',\n",
       " 'Lot Shape',\n",
       " 'MS Zoning',\n",
       " 'Mas Vnr Type',\n",
       " 'Paved Drive',\n",
       " 'Street']"
      ]
     },
     "execution_count": 18,
     "metadata": {},
     "output_type": "execute_result"
    }
   ],
   "source": [
    "X_cat_col_other_list"
   ]
  },
  {
   "cell_type": "code",
   "execution_count": null,
   "id": "ed0f3a7a-58d9-4ab6-90f0-9f7d59b71b94",
   "metadata": {},
   "outputs": [],
   "source": []
  },
  {
   "cell_type": "code",
   "execution_count": null,
   "id": "ea7d812d-f932-4b24-9389-454d4716fefb",
   "metadata": {},
   "outputs": [],
   "source": []
  },
  {
   "cell_type": "code",
   "execution_count": null,
   "id": "2b0bc290-4748-446e-afa1-2b54a49c235c",
   "metadata": {},
   "outputs": [],
   "source": []
  },
  {
   "cell_type": "code",
   "execution_count": 19,
   "id": "719d2847-2ee6-480f-bbb9-365962310938",
   "metadata": {},
   "outputs": [],
   "source": [
    "OHE_garage = OneHotEncoder(sparse=False, handle_unknown='ignore', drop=['first'])"
   ]
  },
  {
   "cell_type": "code",
   "execution_count": 20,
   "id": "20b59421-a700-411b-9a8d-c1cf853b7611",
   "metadata": {
    "tags": []
   },
   "outputs": [],
   "source": [
    "OHE_other = OneHotEncoder(sparse=False, handle_unknown='ignore', drop='first')"
   ]
  },
  {
   "cell_type": "code",
   "execution_count": 21,
   "id": "0bb790cd-8dca-4713-a813-2d2965a1da24",
   "metadata": {
    "tags": []
   },
   "outputs": [],
   "source": [
    "ct = make_column_transformer(\n",
    "    (OHE_garage, X_cat_col_garage_list),\n",
    "    (OHE_other, X_cat_col_other_list),\n",
    "    remainder='passthrough'\n",
    ")"
   ]
  },
  {
   "cell_type": "markdown",
   "id": "834a4a67-49b8-4281-9589-47853329755d",
   "metadata": {},
   "source": [
    "## Transform training and testing data"
   ]
  },
  {
   "cell_type": "code",
   "execution_count": 22,
   "id": "213cd95a-986e-47ed-a75a-20e1d64f0ec2",
   "metadata": {
    "tags": []
   },
   "outputs": [
    {
     "name": "stderr",
     "output_type": "stream",
     "text": [
      "/Users/nolan/anaconda3/lib/python3.11/site-packages/sklearn/preprocessing/_encoders.py:972: FutureWarning: `sparse` was renamed to `sparse_output` in version 1.2 and will be removed in 1.4. `sparse_output` is ignored unless you leave `sparse` to its default value.\n",
      "  warnings.warn(\n"
     ]
    }
   ],
   "source": [
    "X_train_ct = ct.fit_transform(X_train)"
   ]
  },
  {
   "cell_type": "code",
   "execution_count": 23,
   "id": "4cadd819-5972-41ba-afb4-f9429c7a86e1",
   "metadata": {
    "tags": []
   },
   "outputs": [
    {
     "name": "stderr",
     "output_type": "stream",
     "text": [
      "/Users/nolan/anaconda3/lib/python3.11/site-packages/sklearn/preprocessing/_encoders.py:227: UserWarning: Found unknown categories in columns [12] during transform. These unknown categories will be encoded as all zeros\n",
      "  warnings.warn(\n"
     ]
    }
   ],
   "source": [
    "X_test_ct = ct.transform(X_test)"
   ]
  },
  {
   "cell_type": "code",
   "execution_count": 24,
   "id": "1c13fc78-289a-4e9f-be67-1f88b5155b06",
   "metadata": {
    "tags": []
   },
   "outputs": [],
   "source": [
    "column_names = ct.get_feature_names_out()"
   ]
  },
  {
   "cell_type": "code",
   "execution_count": 25,
   "id": "0654b077-33b2-4807-aabd-bf923a3599f9",
   "metadata": {
    "tags": []
   },
   "outputs": [
    {
     "data": {
      "text/plain": [
       "array(['onehotencoder-2__Garage Cond_Ex',\n",
       "       'onehotencoder-2__Garage Cond_Fa',\n",
       "       'onehotencoder-2__Garage Cond_Gd',\n",
       "       'onehotencoder-2__Garage Cond_Po',\n",
       "       'onehotencoder-2__Garage Cond_TA',\n",
       "       'onehotencoder-2__Garage Finish_Fin',\n",
       "       'onehotencoder-2__Garage Finish_RFn',\n",
       "       'onehotencoder-2__Garage Finish_Unf',\n",
       "       'onehotencoder-2__Garage Qual_Ex',\n",
       "       'onehotencoder-2__Garage Qual_Fa',\n",
       "       'onehotencoder-2__Garage Qual_Gd',\n",
       "       'onehotencoder-2__Garage Qual_Po',\n",
       "       'onehotencoder-2__Garage Qual_TA',\n",
       "       'onehotencoder-2__Garage Type_2Types',\n",
       "       'onehotencoder-2__Garage Type_Attchd',\n",
       "       'onehotencoder-2__Garage Type_Basment',\n",
       "       'onehotencoder-2__Garage Type_BuiltIn',\n",
       "       'onehotencoder-2__Garage Type_CarPort',\n",
       "       'onehotencoder-2__Garage Type_Detchd',\n",
       "       'onehotencoder-2__Neighborhood_Blueste',\n",
       "       'onehotencoder-2__Neighborhood_BrDale',\n",
       "       'onehotencoder-2__Neighborhood_BrkSide',\n",
       "       'onehotencoder-2__Neighborhood_ClearCr',\n",
       "       'onehotencoder-2__Neighborhood_CollgCr',\n",
       "       'onehotencoder-2__Neighborhood_Crawfor',\n",
       "       'onehotencoder-2__Neighborhood_Edwards',\n",
       "       'onehotencoder-2__Neighborhood_Gilbert',\n",
       "       'onehotencoder-2__Neighborhood_Greens',\n",
       "       'onehotencoder-2__Neighborhood_GrnHill',\n",
       "       'onehotencoder-2__Neighborhood_IDOTRR',\n",
       "       'onehotencoder-2__Neighborhood_Landmrk',\n",
       "       'onehotencoder-2__Neighborhood_MeadowV',\n",
       "       'onehotencoder-2__Neighborhood_Mitchel',\n",
       "       'onehotencoder-2__Neighborhood_NAmes',\n",
       "       'onehotencoder-2__Neighborhood_NPkVill',\n",
       "       'onehotencoder-2__Neighborhood_NWAmes',\n",
       "       'onehotencoder-2__Neighborhood_NoRidge',\n",
       "       'onehotencoder-2__Neighborhood_NridgHt',\n",
       "       'onehotencoder-2__Neighborhood_OldTown',\n",
       "       'onehotencoder-2__Neighborhood_SWISU',\n",
       "       'onehotencoder-2__Neighborhood_Sawyer',\n",
       "       'onehotencoder-2__Neighborhood_SawyerW',\n",
       "       'onehotencoder-2__Neighborhood_Somerst',\n",
       "       'onehotencoder-2__Neighborhood_StoneBr',\n",
       "       'onehotencoder-2__Neighborhood_Timber',\n",
       "       'onehotencoder-2__Neighborhood_Veenker',\n",
       "       'onehotencoder-2__Bldg Type_2fmCon',\n",
       "       'onehotencoder-2__Bldg Type_Duplex',\n",
       "       'onehotencoder-2__Bldg Type_Twnhs',\n",
       "       'onehotencoder-2__Bldg Type_TwnhsE',\n",
       "       'onehotencoder-2__Bsmt Cond_Fa', 'onehotencoder-2__Bsmt Cond_Gd',\n",
       "       'onehotencoder-2__Bsmt Cond_Po', 'onehotencoder-2__Bsmt Cond_TA',\n",
       "       'onehotencoder-2__Bsmt Cond_no_basement',\n",
       "       'onehotencoder-2__Bsmt Exposure_Gd',\n",
       "       'onehotencoder-2__Bsmt Exposure_Mn',\n",
       "       'onehotencoder-2__Bsmt Exposure_No',\n",
       "       'onehotencoder-2__Bsmt Exposure_no_basement',\n",
       "       'onehotencoder-2__Bsmt Qual_Fa', 'onehotencoder-2__Bsmt Qual_Gd',\n",
       "       'onehotencoder-2__Bsmt Qual_Po', 'onehotencoder-2__Bsmt Qual_TA',\n",
       "       'onehotencoder-2__Bsmt Qual_no_basement',\n",
       "       'onehotencoder-2__BsmtFin Type 1_BLQ',\n",
       "       'onehotencoder-2__BsmtFin Type 1_GLQ',\n",
       "       'onehotencoder-2__BsmtFin Type 1_LwQ',\n",
       "       'onehotencoder-2__BsmtFin Type 1_Rec',\n",
       "       'onehotencoder-2__BsmtFin Type 1_Unf',\n",
       "       'onehotencoder-2__BsmtFin Type 1_no_basement',\n",
       "       'onehotencoder-2__BsmtFin Type 2_BLQ',\n",
       "       'onehotencoder-2__BsmtFin Type 2_GLQ',\n",
       "       'onehotencoder-2__BsmtFin Type 2_LwQ',\n",
       "       'onehotencoder-2__BsmtFin Type 2_Rec',\n",
       "       'onehotencoder-2__BsmtFin Type 2_Unf',\n",
       "       'onehotencoder-2__BsmtFin Type 2_no_basement',\n",
       "       'onehotencoder-2__Central Air_Y',\n",
       "       'onehotencoder-2__Electrical_FuseF',\n",
       "       'onehotencoder-2__Electrical_FuseP',\n",
       "       'onehotencoder-2__Electrical_SBrkr',\n",
       "       'onehotencoder-2__Exter Qual_Fa', 'onehotencoder-2__Exter Qual_Gd',\n",
       "       'onehotencoder-2__Exter Qual_TA', 'onehotencoder-2__Exter Cond_Fa',\n",
       "       'onehotencoder-2__Exter Cond_Gd', 'onehotencoder-2__Exter Cond_Po',\n",
       "       'onehotencoder-2__Exter Cond_TA', 'onehotencoder-2__Fence_GdWo',\n",
       "       'onehotencoder-2__Fence_MnPrv', 'onehotencoder-2__Fence_MnWw',\n",
       "       'onehotencoder-2__Fence_no_fence',\n",
       "       'onehotencoder-2__Fireplace Qu_Fa',\n",
       "       'onehotencoder-2__Fireplace Qu_Gd',\n",
       "       'onehotencoder-2__Fireplace Qu_Po',\n",
       "       'onehotencoder-2__Fireplace Qu_TA',\n",
       "       'onehotencoder-2__Fireplace Qu_no_fireplace',\n",
       "       'onehotencoder-2__Foundation_CBlock',\n",
       "       'onehotencoder-2__Foundation_PConc',\n",
       "       'onehotencoder-2__Foundation_Slab',\n",
       "       'onehotencoder-2__Foundation_Stone',\n",
       "       'onehotencoder-2__Foundation_Wood',\n",
       "       'onehotencoder-2__Heating QC_Fa', 'onehotencoder-2__Heating QC_Gd',\n",
       "       'onehotencoder-2__Heating QC_Po', 'onehotencoder-2__Heating QC_TA',\n",
       "       'onehotencoder-2__House Style_1.5Unf',\n",
       "       'onehotencoder-2__House Style_1Story',\n",
       "       'onehotencoder-2__House Style_2.5Fin',\n",
       "       'onehotencoder-2__House Style_2.5Unf',\n",
       "       'onehotencoder-2__House Style_2Story',\n",
       "       'onehotencoder-2__House Style_SFoyer',\n",
       "       'onehotencoder-2__House Style_SLvl',\n",
       "       'onehotencoder-2__Kitchen Qual_Fa',\n",
       "       'onehotencoder-2__Kitchen Qual_Gd',\n",
       "       'onehotencoder-2__Kitchen Qual_TA',\n",
       "       'onehotencoder-2__Land Contour_HLS',\n",
       "       'onehotencoder-2__Land Contour_Low',\n",
       "       'onehotencoder-2__Land Contour_Lvl',\n",
       "       'onehotencoder-2__Lot Shape_IR2', 'onehotencoder-2__Lot Shape_IR3',\n",
       "       'onehotencoder-2__Lot Shape_Reg',\n",
       "       'onehotencoder-2__MS Zoning_C (all)',\n",
       "       'onehotencoder-2__MS Zoning_FV',\n",
       "       'onehotencoder-2__MS Zoning_I (all)',\n",
       "       'onehotencoder-2__MS Zoning_RH', 'onehotencoder-2__MS Zoning_RL',\n",
       "       'onehotencoder-2__MS Zoning_RM',\n",
       "       'onehotencoder-2__Mas Vnr Type_BrkFace',\n",
       "       'onehotencoder-2__Mas Vnr Type_Stone',\n",
       "       'onehotencoder-2__Mas Vnr Type_none',\n",
       "       'onehotencoder-2__Paved Drive_P', 'onehotencoder-2__Paved Drive_Y',\n",
       "       'onehotencoder-2__Street_Pave', 'remainder__Garage Area',\n",
       "       'remainder__Garage Cars', 'remainder__Garage Yr Blt',\n",
       "       'remainder__Gr Liv Area'], dtype=object)"
      ]
     },
     "execution_count": 25,
     "metadata": {},
     "output_type": "execute_result"
    }
   ],
   "source": [
    "column_names"
   ]
  },
  {
   "cell_type": "markdown",
   "id": "d37c2310-3a4b-4a6a-a304-c87433bef7f9",
   "metadata": {},
   "source": [
    "## Initialize and train Linear Regression Model"
   ]
  },
  {
   "cell_type": "code",
   "execution_count": 26,
   "id": "70de985e-53a8-4514-9aff-a776102301c0",
   "metadata": {},
   "outputs": [
    {
     "data": {
      "text/html": [
       "<style>#sk-container-id-1 {color: black;}#sk-container-id-1 pre{padding: 0;}#sk-container-id-1 div.sk-toggleable {background-color: white;}#sk-container-id-1 label.sk-toggleable__label {cursor: pointer;display: block;width: 100%;margin-bottom: 0;padding: 0.3em;box-sizing: border-box;text-align: center;}#sk-container-id-1 label.sk-toggleable__label-arrow:before {content: \"▸\";float: left;margin-right: 0.25em;color: #696969;}#sk-container-id-1 label.sk-toggleable__label-arrow:hover:before {color: black;}#sk-container-id-1 div.sk-estimator:hover label.sk-toggleable__label-arrow:before {color: black;}#sk-container-id-1 div.sk-toggleable__content {max-height: 0;max-width: 0;overflow: hidden;text-align: left;background-color: #f0f8ff;}#sk-container-id-1 div.sk-toggleable__content pre {margin: 0.2em;color: black;border-radius: 0.25em;background-color: #f0f8ff;}#sk-container-id-1 input.sk-toggleable__control:checked~div.sk-toggleable__content {max-height: 200px;max-width: 100%;overflow: auto;}#sk-container-id-1 input.sk-toggleable__control:checked~label.sk-toggleable__label-arrow:before {content: \"▾\";}#sk-container-id-1 div.sk-estimator input.sk-toggleable__control:checked~label.sk-toggleable__label {background-color: #d4ebff;}#sk-container-id-1 div.sk-label input.sk-toggleable__control:checked~label.sk-toggleable__label {background-color: #d4ebff;}#sk-container-id-1 input.sk-hidden--visually {border: 0;clip: rect(1px 1px 1px 1px);clip: rect(1px, 1px, 1px, 1px);height: 1px;margin: -1px;overflow: hidden;padding: 0;position: absolute;width: 1px;}#sk-container-id-1 div.sk-estimator {font-family: monospace;background-color: #f0f8ff;border: 1px dotted black;border-radius: 0.25em;box-sizing: border-box;margin-bottom: 0.5em;}#sk-container-id-1 div.sk-estimator:hover {background-color: #d4ebff;}#sk-container-id-1 div.sk-parallel-item::after {content: \"\";width: 100%;border-bottom: 1px solid gray;flex-grow: 1;}#sk-container-id-1 div.sk-label:hover label.sk-toggleable__label {background-color: #d4ebff;}#sk-container-id-1 div.sk-serial::before {content: \"\";position: absolute;border-left: 1px solid gray;box-sizing: border-box;top: 0;bottom: 0;left: 50%;z-index: 0;}#sk-container-id-1 div.sk-serial {display: flex;flex-direction: column;align-items: center;background-color: white;padding-right: 0.2em;padding-left: 0.2em;position: relative;}#sk-container-id-1 div.sk-item {position: relative;z-index: 1;}#sk-container-id-1 div.sk-parallel {display: flex;align-items: stretch;justify-content: center;background-color: white;position: relative;}#sk-container-id-1 div.sk-item::before, #sk-container-id-1 div.sk-parallel-item::before {content: \"\";position: absolute;border-left: 1px solid gray;box-sizing: border-box;top: 0;bottom: 0;left: 50%;z-index: -1;}#sk-container-id-1 div.sk-parallel-item {display: flex;flex-direction: column;z-index: 1;position: relative;background-color: white;}#sk-container-id-1 div.sk-parallel-item:first-child::after {align-self: flex-end;width: 50%;}#sk-container-id-1 div.sk-parallel-item:last-child::after {align-self: flex-start;width: 50%;}#sk-container-id-1 div.sk-parallel-item:only-child::after {width: 0;}#sk-container-id-1 div.sk-dashed-wrapped {border: 1px dashed gray;margin: 0 0.4em 0.5em 0.4em;box-sizing: border-box;padding-bottom: 0.4em;background-color: white;}#sk-container-id-1 div.sk-label label {font-family: monospace;font-weight: bold;display: inline-block;line-height: 1.2em;}#sk-container-id-1 div.sk-label-container {text-align: center;}#sk-container-id-1 div.sk-container {/* jupyter's `normalize.less` sets `[hidden] { display: none; }` but bootstrap.min.css set `[hidden] { display: none !important; }` so we also need the `!important` here to be able to override the default hidden behavior on the sphinx rendered scikit-learn.org. See: https://github.com/scikit-learn/scikit-learn/issues/21755 */display: inline-block !important;position: relative;}#sk-container-id-1 div.sk-text-repr-fallback {display: none;}</style><div id=\"sk-container-id-1\" class=\"sk-top-container\"><div class=\"sk-text-repr-fallback\"><pre>LinearRegression()</pre><b>In a Jupyter environment, please rerun this cell to show the HTML representation or trust the notebook. <br />On GitHub, the HTML representation is unable to render, please try loading this page with nbviewer.org.</b></div><div class=\"sk-container\" hidden><div class=\"sk-item\"><div class=\"sk-estimator sk-toggleable\"><input class=\"sk-toggleable__control sk-hidden--visually\" id=\"sk-estimator-id-1\" type=\"checkbox\" checked><label for=\"sk-estimator-id-1\" class=\"sk-toggleable__label sk-toggleable__label-arrow\">LinearRegression</label><div class=\"sk-toggleable__content\"><pre>LinearRegression()</pre></div></div></div></div></div>"
      ],
      "text/plain": [
       "LinearRegression()"
      ]
     },
     "execution_count": 26,
     "metadata": {},
     "output_type": "execute_result"
    }
   ],
   "source": [
    "model = LinearRegression()\n",
    "model.fit(X_train_ct, y_train)"
   ]
  },
  {
   "cell_type": "markdown",
   "id": "8930478e-606a-4b10-900d-8837167b07b7",
   "metadata": {
    "tags": []
   },
   "source": [
    "## Evaluate Model"
   ]
  },
  {
   "cell_type": "code",
   "execution_count": 27,
   "id": "fa83af72-8e5f-4e11-a057-437cf7c880b8",
   "metadata": {
    "tags": []
   },
   "outputs": [
    {
     "data": {
      "text/plain": [
       "0.894954893458562"
      ]
     },
     "execution_count": 27,
     "metadata": {},
     "output_type": "execute_result"
    }
   ],
   "source": [
    "# scoring model on training set\n",
    "model.score(X_train_ct, y_train)"
   ]
  },
  {
   "cell_type": "code",
   "execution_count": 28,
   "id": "6b1e507a-12b4-4c5f-8c63-d392eacfdcc4",
   "metadata": {
    "tags": []
   },
   "outputs": [
    {
     "data": {
      "text/plain": [
       "-757405448859732.9"
      ]
     },
     "execution_count": 28,
     "metadata": {},
     "output_type": "execute_result"
    }
   ],
   "source": [
    "#scoring model on testing set\n",
    "model.score(X_test_ct, y_test)"
   ]
  },
  {
   "cell_type": "code",
   "execution_count": 29,
   "id": "0c80a5ef-f540-460e-97fc-477ab2509134",
   "metadata": {
    "tags": []
   },
   "outputs": [
    {
     "data": {
      "text/plain": [
       "-1.5478124340430253e+17"
      ]
     },
     "execution_count": 29,
     "metadata": {},
     "output_type": "execute_result"
    }
   ],
   "source": [
    "np.mean(cross_val_score(model, X_test_ct, y_test, cv=5))"
   ]
  },
  {
   "cell_type": "code",
   "execution_count": 30,
   "id": "5fd3940b-7c70-4e7b-8618-f8c7c142f93c",
   "metadata": {
    "tags": []
   },
   "outputs": [],
   "source": [
    "# setting baseline\n",
    "y_pred_baseline = [np.mean(y_train)] * len(y_test)"
   ]
  },
  {
   "cell_type": "code",
   "execution_count": 31,
   "id": "9ac30094-7f4d-4aba-b69b-4fa1f4637bbf",
   "metadata": {
    "tags": []
   },
   "outputs": [
    {
     "data": {
      "text/plain": [
       "-0.014887741251467856"
      ]
     },
     "execution_count": 31,
     "metadata": {},
     "output_type": "execute_result"
    }
   ],
   "source": [
    "# scoring mean baseline on testing set\n",
    "r2_score(y_test, y_pred_baseline)"
   ]
  },
  {
   "cell_type": "markdown",
   "id": "462fd94b-572a-4904-9357-92ed0ceea0fd",
   "metadata": {},
   "source": [
    "## Transform and Make Predictions on Unseen Testing Set"
   ]
  },
  {
   "cell_type": "code",
   "execution_count": 32,
   "id": "f8537f70-89f8-4e66-b102-23910d7d7355",
   "metadata": {
    "tags": []
   },
   "outputs": [
    {
     "name": "stderr",
     "output_type": "stream",
     "text": [
      "/Users/nolan/anaconda3/lib/python3.11/site-packages/sklearn/preprocessing/_encoders.py:227: UserWarning: Found unknown categories in columns [0, 1, 2, 3, 12, 20, 24] during transform. These unknown categories will be encoded as all zeros\n",
      "  warnings.warn(\n"
     ]
    }
   ],
   "source": [
    "test_features = test[predictors]\n",
    "test_features_ct = ct.transform(test_features)"
   ]
  },
  {
   "cell_type": "code",
   "execution_count": 33,
   "id": "54ce00ce-eb7a-4e42-917c-26d3ba548341",
   "metadata": {
    "tags": []
   },
   "outputs": [],
   "source": [
    "predictions = model.predict(test_features_ct)"
   ]
  },
  {
   "cell_type": "markdown",
   "id": "05171f07-5efb-4704-bf63-4f56a42c18ca",
   "metadata": {
    "tags": []
   },
   "source": [
    "## OLS"
   ]
  },
  {
   "cell_type": "code",
   "execution_count": 34,
   "id": "fbcc288a-5e7e-42cc-89ac-109476b5b363",
   "metadata": {
    "tags": []
   },
   "outputs": [],
   "source": [
    "X_train_ct_df = pd.DataFrame(X_train_ct, columns=column_names)"
   ]
  },
  {
   "cell_type": "code",
   "execution_count": 35,
   "id": "0b2a2e7e-965e-4699-bf4b-046f5388bb6a",
   "metadata": {},
   "outputs": [],
   "source": [
    "y_train.reset_index(drop=True, inplace=True)\n",
    "X_train_ct_df.reset_index(drop=True, inplace=True)"
   ]
  },
  {
   "cell_type": "code",
   "execution_count": 36,
   "id": "bbea7ecb-eaee-4c44-ae5b-c69fdfc5d88d",
   "metadata": {},
   "outputs": [],
   "source": [
    "X_train_ct_df = sm.add_constant(X_train_ct_df)"
   ]
  },
  {
   "cell_type": "code",
   "execution_count": 37,
   "id": "6eb800dc-c0b2-4af3-8edd-d78a15a31b1a",
   "metadata": {
    "tags": []
   },
   "outputs": [],
   "source": [
    "ols = sm.OLS(y_train, X_train_ct_df).fit()"
   ]
  },
  {
   "cell_type": "code",
   "execution_count": 38,
   "id": "a27f0e34-8f89-4123-9578-4cec153fc007",
   "metadata": {
    "tags": []
   },
   "outputs": [],
   "source": [
    "ols_summary = ols.summary()"
   ]
  },
  {
   "cell_type": "code",
   "execution_count": 39,
   "id": "570ffb0d-a90e-42eb-af50-c3aa26226265",
   "metadata": {
    "tags": []
   },
   "outputs": [
    {
     "data": {
      "text/html": [
       "<table class=\"simpletable\">\n",
       "<caption>OLS Regression Results</caption>\n",
       "<tr>\n",
       "  <th>Dep. Variable:</th>        <td>SalePrice</td>    <th>  R-squared:         </th> <td>   0.895</td> \n",
       "</tr>\n",
       "<tr>\n",
       "  <th>Model:</th>                   <td>OLS</td>       <th>  Adj. R-squared:    </th> <td>   0.886</td> \n",
       "</tr>\n",
       "<tr>\n",
       "  <th>Method:</th>             <td>Least Squares</td>  <th>  F-statistic:       </th> <td>   97.27</td> \n",
       "</tr>\n",
       "<tr>\n",
       "  <th>Date:</th>             <td>Sat, 07 Oct 2023</td> <th>  Prob (F-statistic):</th>  <td>  0.00</td>  \n",
       "</tr>\n",
       "<tr>\n",
       "  <th>Time:</th>                 <td>08:49:15</td>     <th>  Log-Likelihood:    </th> <td> -19008.</td> \n",
       "</tr>\n",
       "<tr>\n",
       "  <th>No. Observations:</th>      <td>  1640</td>      <th>  AIC:               </th> <td>3.828e+04</td>\n",
       "</tr>\n",
       "<tr>\n",
       "  <th>Df Residuals:</th>          <td>  1507</td>      <th>  BIC:               </th> <td>3.900e+04</td>\n",
       "</tr>\n",
       "<tr>\n",
       "  <th>Df Model:</th>              <td>   132</td>      <th>                     </th>     <td> </td>    \n",
       "</tr>\n",
       "<tr>\n",
       "  <th>Covariance Type:</th>      <td>nonrobust</td>    <th>                     </th>     <td> </td>    \n",
       "</tr>\n",
       "</table>\n",
       "<table class=\"simpletable\">\n",
       "<tr>\n",
       "                       <td></td>                          <th>coef</th>     <th>std err</th>      <th>t</th>      <th>P>|t|</th>  <th>[0.025</th>    <th>0.975]</th>  \n",
       "</tr>\n",
       "<tr>\n",
       "  <th>const</th>                                       <td>  1.66e+05</td> <td> 3.92e+04</td> <td>    4.230</td> <td> 0.000</td> <td>  8.9e+04</td> <td> 2.43e+05</td>\n",
       "</tr>\n",
       "<tr>\n",
       "  <th>onehotencoder-2__Garage Cond_Ex</th>             <td>-8.526e+04</td> <td> 4.22e+04</td> <td>   -2.019</td> <td> 0.044</td> <td>-1.68e+05</td> <td>-2439.238</td>\n",
       "</tr>\n",
       "<tr>\n",
       "  <th>onehotencoder-2__Garage Cond_Fa</th>             <td> 5.431e+04</td> <td> 2.76e+04</td> <td>    1.965</td> <td> 0.050</td> <td>   85.733</td> <td> 1.09e+05</td>\n",
       "</tr>\n",
       "<tr>\n",
       "  <th>onehotencoder-2__Garage Cond_Gd</th>             <td> 5.419e+04</td> <td> 2.86e+04</td> <td>    1.897</td> <td> 0.058</td> <td>-1854.313</td> <td>  1.1e+05</td>\n",
       "</tr>\n",
       "<tr>\n",
       "  <th>onehotencoder-2__Garage Cond_Po</th>             <td> 5.786e+04</td> <td> 2.89e+04</td> <td>    2.000</td> <td> 0.046</td> <td> 1114.103</td> <td> 1.15e+05</td>\n",
       "</tr>\n",
       "<tr>\n",
       "  <th>onehotencoder-2__Garage Cond_TA</th>             <td> 6.558e+04</td> <td> 2.77e+04</td> <td>    2.364</td> <td> 0.018</td> <td> 1.12e+04</td> <td>  1.2e+05</td>\n",
       "</tr>\n",
       "<tr>\n",
       "  <th>onehotencoder-2__Garage Finish_Fin</th>          <td>  5.25e+04</td> <td> 4.39e+04</td> <td>    1.195</td> <td> 0.232</td> <td>-3.37e+04</td> <td> 1.39e+05</td>\n",
       "</tr>\n",
       "<tr>\n",
       "  <th>onehotencoder-2__Garage Finish_RFn</th>          <td> 4.643e+04</td> <td> 4.38e+04</td> <td>    1.059</td> <td> 0.290</td> <td>-3.96e+04</td> <td> 1.32e+05</td>\n",
       "</tr>\n",
       "<tr>\n",
       "  <th>onehotencoder-2__Garage Finish_Unf</th>          <td> 4.776e+04</td> <td> 4.38e+04</td> <td>    1.091</td> <td> 0.275</td> <td>-3.81e+04</td> <td> 1.34e+05</td>\n",
       "</tr>\n",
       "<tr>\n",
       "  <th>onehotencoder-2__Garage Qual_Ex</th>             <td> 1.495e+05</td> <td>  3.8e+04</td> <td>    3.938</td> <td> 0.000</td> <td>  7.5e+04</td> <td> 2.24e+05</td>\n",
       "</tr>\n",
       "<tr>\n",
       "  <th>onehotencoder-2__Garage Qual_Fa</th>             <td>-7136.7373</td> <td> 2.72e+04</td> <td>   -0.262</td> <td> 0.793</td> <td>-6.05e+04</td> <td> 4.63e+04</td>\n",
       "</tr>\n",
       "<tr>\n",
       "  <th>onehotencoder-2__Garage Qual_Gd</th>             <td>  3.77e+04</td> <td> 2.94e+04</td> <td>    1.281</td> <td> 0.200</td> <td>   -2e+04</td> <td> 9.54e+04</td>\n",
       "</tr>\n",
       "<tr>\n",
       "  <th>onehotencoder-2__Garage Qual_Po</th>             <td>-2.603e+04</td> <td> 3.72e+04</td> <td>   -0.699</td> <td> 0.485</td> <td>-9.91e+04</td> <td>  4.7e+04</td>\n",
       "</tr>\n",
       "<tr>\n",
       "  <th>onehotencoder-2__Garage Qual_TA</th>             <td>-7363.3935</td> <td> 2.79e+04</td> <td>   -0.264</td> <td> 0.792</td> <td>-6.21e+04</td> <td> 4.74e+04</td>\n",
       "</tr>\n",
       "<tr>\n",
       "  <th>onehotencoder-2__Garage Type_2Types</th>         <td> 8400.6555</td> <td> 2.21e+04</td> <td>    0.380</td> <td> 0.704</td> <td>-3.49e+04</td> <td> 5.17e+04</td>\n",
       "</tr>\n",
       "<tr>\n",
       "  <th>onehotencoder-2__Garage Type_Attchd</th>         <td> 3.619e+04</td> <td> 2.22e+04</td> <td>    1.633</td> <td> 0.103</td> <td>-7280.657</td> <td> 7.97e+04</td>\n",
       "</tr>\n",
       "<tr>\n",
       "  <th>onehotencoder-2__Garage Type_Basment</th>        <td> 1.898e+04</td> <td> 2.27e+04</td> <td>    0.835</td> <td> 0.404</td> <td>-2.56e+04</td> <td> 6.35e+04</td>\n",
       "</tr>\n",
       "<tr>\n",
       "  <th>onehotencoder-2__Garage Type_BuiltIn</th>        <td> 3.457e+04</td> <td> 2.26e+04</td> <td>    1.532</td> <td> 0.126</td> <td>-9701.221</td> <td> 7.88e+04</td>\n",
       "</tr>\n",
       "<tr>\n",
       "  <th>onehotencoder-2__Garage Type_CarPort</th>        <td> 1.627e+04</td> <td> 2.43e+04</td> <td>    0.669</td> <td> 0.504</td> <td>-3.15e+04</td> <td>  6.4e+04</td>\n",
       "</tr>\n",
       "<tr>\n",
       "  <th>onehotencoder-2__Garage Type_Detchd</th>         <td> 3.228e+04</td> <td> 2.23e+04</td> <td>    1.450</td> <td> 0.147</td> <td>-1.14e+04</td> <td> 7.59e+04</td>\n",
       "</tr>\n",
       "<tr>\n",
       "  <th>onehotencoder-2__Neighborhood_Blueste</th>       <td> 2842.1416</td> <td> 1.52e+04</td> <td>    0.187</td> <td> 0.852</td> <td> -2.7e+04</td> <td> 3.27e+04</td>\n",
       "</tr>\n",
       "<tr>\n",
       "  <th>onehotencoder-2__Neighborhood_BrDale</th>        <td> 2.328e+04</td> <td> 1.19e+04</td> <td>    1.963</td> <td> 0.050</td> <td>   17.174</td> <td> 4.65e+04</td>\n",
       "</tr>\n",
       "<tr>\n",
       "  <th>onehotencoder-2__Neighborhood_BrkSide</th>       <td>-9662.3652</td> <td> 9489.317</td> <td>   -1.018</td> <td> 0.309</td> <td>-2.83e+04</td> <td> 8951.305</td>\n",
       "</tr>\n",
       "<tr>\n",
       "  <th>onehotencoder-2__Neighborhood_ClearCr</th>       <td>-1285.2882</td> <td> 9697.645</td> <td>   -0.133</td> <td> 0.895</td> <td>-2.03e+04</td> <td> 1.77e+04</td>\n",
       "</tr>\n",
       "<tr>\n",
       "  <th>onehotencoder-2__Neighborhood_CollgCr</th>       <td>-5204.0727</td> <td> 7631.249</td> <td>   -0.682</td> <td> 0.495</td> <td>-2.02e+04</td> <td> 9764.922</td>\n",
       "</tr>\n",
       "<tr>\n",
       "  <th>onehotencoder-2__Neighborhood_Crawfor</th>       <td> 5857.5666</td> <td> 8585.214</td> <td>    0.682</td> <td> 0.495</td> <td> -1.1e+04</td> <td> 2.27e+04</td>\n",
       "</tr>\n",
       "<tr>\n",
       "  <th>onehotencoder-2__Neighborhood_Edwards</th>       <td>-1.926e+04</td> <td> 8175.595</td> <td>   -2.355</td> <td> 0.019</td> <td>-3.53e+04</td> <td>-3219.552</td>\n",
       "</tr>\n",
       "<tr>\n",
       "  <th>onehotencoder-2__Neighborhood_Gilbert</th>       <td>-9327.5721</td> <td> 8005.382</td> <td>   -1.165</td> <td> 0.244</td> <td> -2.5e+04</td> <td> 6375.300</td>\n",
       "</tr>\n",
       "<tr>\n",
       "  <th>onehotencoder-2__Neighborhood_Greens</th>        <td> 4530.1400</td> <td> 1.81e+04</td> <td>    0.251</td> <td> 0.802</td> <td>-3.09e+04</td> <td> 3.99e+04</td>\n",
       "</tr>\n",
       "<tr>\n",
       "  <th>onehotencoder-2__Neighborhood_GrnHill</th>       <td> 1.352e+05</td> <td> 2.16e+04</td> <td>    6.270</td> <td> 0.000</td> <td> 9.29e+04</td> <td> 1.78e+05</td>\n",
       "</tr>\n",
       "<tr>\n",
       "  <th>onehotencoder-2__Neighborhood_IDOTRR</th>        <td>-1.469e+04</td> <td>  1.1e+04</td> <td>   -1.338</td> <td> 0.181</td> <td>-3.62e+04</td> <td> 6846.076</td>\n",
       "</tr>\n",
       "<tr>\n",
       "  <th>onehotencoder-2__Neighborhood_Landmrk</th>       <td> 1027.0089</td> <td> 3.02e+04</td> <td>    0.034</td> <td> 0.973</td> <td>-5.82e+04</td> <td> 6.02e+04</td>\n",
       "</tr>\n",
       "<tr>\n",
       "  <th>onehotencoder-2__Neighborhood_MeadowV</th>       <td>-2900.5246</td> <td>  1.1e+04</td> <td>   -0.263</td> <td> 0.793</td> <td>-2.46e+04</td> <td> 1.88e+04</td>\n",
       "</tr>\n",
       "<tr>\n",
       "  <th>onehotencoder-2__Neighborhood_Mitchel</th>       <td>-6636.7493</td> <td> 8341.129</td> <td>   -0.796</td> <td> 0.426</td> <td> -2.3e+04</td> <td> 9724.705</td>\n",
       "</tr>\n",
       "<tr>\n",
       "  <th>onehotencoder-2__Neighborhood_NAmes</th>         <td>-1.467e+04</td> <td> 7966.660</td> <td>   -1.841</td> <td> 0.066</td> <td>-3.03e+04</td> <td>  959.446</td>\n",
       "</tr>\n",
       "<tr>\n",
       "  <th>onehotencoder-2__Neighborhood_NPkVill</th>       <td> 1.621e+04</td> <td> 1.11e+04</td> <td>    1.463</td> <td> 0.144</td> <td>-5523.624</td> <td> 3.79e+04</td>\n",
       "</tr>\n",
       "<tr>\n",
       "  <th>onehotencoder-2__Neighborhood_NWAmes</th>        <td>-7749.3904</td> <td> 8304.468</td> <td>   -0.933</td> <td> 0.351</td> <td> -2.4e+04</td> <td> 8540.151</td>\n",
       "</tr>\n",
       "<tr>\n",
       "  <th>onehotencoder-2__Neighborhood_NoRidge</th>       <td> 3.387e+04</td> <td> 8711.761</td> <td>    3.887</td> <td> 0.000</td> <td> 1.68e+04</td> <td>  5.1e+04</td>\n",
       "</tr>\n",
       "<tr>\n",
       "  <th>onehotencoder-2__Neighborhood_NridgHt</th>       <td> 3.862e+04</td> <td> 7751.130</td> <td>    4.983</td> <td> 0.000</td> <td> 2.34e+04</td> <td> 5.38e+04</td>\n",
       "</tr>\n",
       "<tr>\n",
       "  <th>onehotencoder-2__Neighborhood_OldTown</th>       <td>-2.197e+04</td> <td> 9407.785</td> <td>   -2.335</td> <td> 0.020</td> <td>-4.04e+04</td> <td>-3517.120</td>\n",
       "</tr>\n",
       "<tr>\n",
       "  <th>onehotencoder-2__Neighborhood_SWISU</th>         <td>-1.387e+04</td> <td> 9872.189</td> <td>   -1.405</td> <td> 0.160</td> <td>-3.32e+04</td> <td> 5493.692</td>\n",
       "</tr>\n",
       "<tr>\n",
       "  <th>onehotencoder-2__Neighborhood_Sawyer</th>        <td> -1.43e+04</td> <td> 8354.826</td> <td>   -1.711</td> <td> 0.087</td> <td>-3.07e+04</td> <td> 2092.884</td>\n",
       "</tr>\n",
       "<tr>\n",
       "  <th>onehotencoder-2__Neighborhood_SawyerW</th>       <td>-9720.0938</td> <td> 8004.909</td> <td>   -1.214</td> <td> 0.225</td> <td>-2.54e+04</td> <td> 5981.851</td>\n",
       "</tr>\n",
       "<tr>\n",
       "  <th>onehotencoder-2__Neighborhood_Somerst</th>       <td> 1.338e+04</td> <td> 9059.171</td> <td>    1.477</td> <td> 0.140</td> <td>-4390.476</td> <td> 3.11e+04</td>\n",
       "</tr>\n",
       "<tr>\n",
       "  <th>onehotencoder-2__Neighborhood_StoneBr</th>       <td> 5.027e+04</td> <td> 8708.680</td> <td>    5.772</td> <td> 0.000</td> <td> 3.32e+04</td> <td> 6.74e+04</td>\n",
       "</tr>\n",
       "<tr>\n",
       "  <th>onehotencoder-2__Neighborhood_Timber</th>        <td>  886.7650</td> <td> 8499.894</td> <td>    0.104</td> <td> 0.917</td> <td>-1.58e+04</td> <td> 1.76e+04</td>\n",
       "</tr>\n",
       "<tr>\n",
       "  <th>onehotencoder-2__Neighborhood_Veenker</th>       <td> 9744.4860</td> <td> 1.07e+04</td> <td>    0.913</td> <td> 0.361</td> <td>-1.12e+04</td> <td> 3.07e+04</td>\n",
       "</tr>\n",
       "<tr>\n",
       "  <th>onehotencoder-2__Bldg Type_2fmCon</th>           <td>-7704.2807</td> <td> 5086.321</td> <td>   -1.515</td> <td> 0.130</td> <td>-1.77e+04</td> <td> 2272.739</td>\n",
       "</tr>\n",
       "<tr>\n",
       "  <th>onehotencoder-2__Bldg Type_Duplex</th>           <td> -1.77e+04</td> <td> 4490.990</td> <td>   -3.940</td> <td> 0.000</td> <td>-2.65e+04</td> <td>-8885.841</td>\n",
       "</tr>\n",
       "<tr>\n",
       "  <th>onehotencoder-2__Bldg Type_Twnhs</th>            <td>-3.811e+04</td> <td> 5684.719</td> <td>   -6.704</td> <td> 0.000</td> <td>-4.93e+04</td> <td> -2.7e+04</td>\n",
       "</tr>\n",
       "<tr>\n",
       "  <th>onehotencoder-2__Bldg Type_TwnhsE</th>           <td>-3.333e+04</td> <td> 3556.430</td> <td>   -9.371</td> <td> 0.000</td> <td>-4.03e+04</td> <td>-2.64e+04</td>\n",
       "</tr>\n",
       "<tr>\n",
       "  <th>onehotencoder-2__Bsmt Cond_Fa</th>               <td>-4484.3003</td> <td> 1.76e+04</td> <td>   -0.254</td> <td> 0.799</td> <td>-3.91e+04</td> <td> 3.01e+04</td>\n",
       "</tr>\n",
       "<tr>\n",
       "  <th>onehotencoder-2__Bsmt Cond_Gd</th>               <td> 4144.2887</td> <td> 1.74e+04</td> <td>    0.239</td> <td> 0.811</td> <td>-2.99e+04</td> <td> 3.82e+04</td>\n",
       "</tr>\n",
       "<tr>\n",
       "  <th>onehotencoder-2__Bsmt Cond_Po</th>               <td>-4007.8749</td> <td> 2.27e+04</td> <td>   -0.177</td> <td> 0.860</td> <td>-4.85e+04</td> <td> 4.05e+04</td>\n",
       "</tr>\n",
       "<tr>\n",
       "  <th>onehotencoder-2__Bsmt Cond_TA</th>               <td> 1639.5956</td> <td>  1.7e+04</td> <td>    0.096</td> <td> 0.923</td> <td>-3.17e+04</td> <td>  3.5e+04</td>\n",
       "</tr>\n",
       "<tr>\n",
       "  <th>onehotencoder-2__Bsmt Cond_no_basement</th>      <td>-1.465e+04</td> <td> 1.46e+04</td> <td>   -1.006</td> <td> 0.315</td> <td>-4.32e+04</td> <td> 1.39e+04</td>\n",
       "</tr>\n",
       "<tr>\n",
       "  <th>onehotencoder-2__Bsmt Exposure_Gd</th>           <td> 1.862e+04</td> <td> 3089.583</td> <td>    6.027</td> <td> 0.000</td> <td> 1.26e+04</td> <td> 2.47e+04</td>\n",
       "</tr>\n",
       "<tr>\n",
       "  <th>onehotencoder-2__Bsmt Exposure_Mn</th>           <td>-9893.5233</td> <td> 3249.276</td> <td>   -3.045</td> <td> 0.002</td> <td>-1.63e+04</td> <td>-3519.941</td>\n",
       "</tr>\n",
       "<tr>\n",
       "  <th>onehotencoder-2__Bsmt Exposure_No</th>           <td>-9367.7480</td> <td> 2377.982</td> <td>   -3.939</td> <td> 0.000</td> <td> -1.4e+04</td> <td>-4703.243</td>\n",
       "</tr>\n",
       "<tr>\n",
       "  <th>onehotencoder-2__Bsmt Exposure_no_basement</th>  <td>-1.538e+04</td> <td> 2.76e+04</td> <td>   -0.557</td> <td> 0.577</td> <td>-6.95e+04</td> <td> 3.88e+04</td>\n",
       "</tr>\n",
       "<tr>\n",
       "  <th>onehotencoder-2__Bsmt Qual_Fa</th>               <td>-2.798e+04</td> <td> 6211.819</td> <td>   -4.504</td> <td> 0.000</td> <td>-4.02e+04</td> <td>-1.58e+04</td>\n",
       "</tr>\n",
       "<tr>\n",
       "  <th>onehotencoder-2__Bsmt Qual_Gd</th>               <td>-2.048e+04</td> <td> 3480.298</td> <td>   -5.884</td> <td> 0.000</td> <td>-2.73e+04</td> <td>-1.37e+04</td>\n",
       "</tr>\n",
       "<tr>\n",
       "  <th>onehotencoder-2__Bsmt Qual_Po</th>               <td>-2.957e+04</td> <td> 3.31e+04</td> <td>   -0.894</td> <td> 0.372</td> <td>-9.45e+04</td> <td> 3.53e+04</td>\n",
       "</tr>\n",
       "<tr>\n",
       "  <th>onehotencoder-2__Bsmt Qual_TA</th>               <td> -2.27e+04</td> <td> 4363.892</td> <td>   -5.202</td> <td> 0.000</td> <td>-3.13e+04</td> <td>-1.41e+04</td>\n",
       "</tr>\n",
       "<tr>\n",
       "  <th>onehotencoder-2__Bsmt Qual_no_basement</th>      <td>-1.465e+04</td> <td> 1.46e+04</td> <td>   -1.006</td> <td> 0.315</td> <td>-4.32e+04</td> <td> 1.39e+04</td>\n",
       "</tr>\n",
       "<tr>\n",
       "  <th>onehotencoder-2__BsmtFin Type 1_BLQ</th>         <td>-4293.5884</td> <td> 2948.511</td> <td>   -1.456</td> <td> 0.146</td> <td>-1.01e+04</td> <td> 1490.033</td>\n",
       "</tr>\n",
       "<tr>\n",
       "  <th>onehotencoder-2__BsmtFin Type 1_GLQ</th>         <td> 4692.5672</td> <td> 2685.289</td> <td>    1.748</td> <td> 0.081</td> <td> -574.733</td> <td> 9959.867</td>\n",
       "</tr>\n",
       "<tr>\n",
       "  <th>onehotencoder-2__BsmtFin Type 1_LwQ</th>         <td>-1.066e+04</td> <td> 3953.423</td> <td>   -2.695</td> <td> 0.007</td> <td>-1.84e+04</td> <td>-2900.363</td>\n",
       "</tr>\n",
       "<tr>\n",
       "  <th>onehotencoder-2__BsmtFin Type 1_Rec</th>         <td>-5772.4989</td> <td> 3097.630</td> <td>   -1.864</td> <td> 0.063</td> <td>-1.18e+04</td> <td>  303.624</td>\n",
       "</tr>\n",
       "<tr>\n",
       "  <th>onehotencoder-2__BsmtFin Type 1_Unf</th>         <td>-1.051e+04</td> <td> 2561.850</td> <td>   -4.103</td> <td> 0.000</td> <td>-1.55e+04</td> <td>-5486.479</td>\n",
       "</tr>\n",
       "<tr>\n",
       "  <th>onehotencoder-2__BsmtFin Type 1_no_basement</th> <td>-1.465e+04</td> <td> 1.46e+04</td> <td>   -1.006</td> <td> 0.315</td> <td>-4.32e+04</td> <td> 1.39e+04</td>\n",
       "</tr>\n",
       "<tr>\n",
       "  <th>onehotencoder-2__BsmtFin Type 2_BLQ</th>         <td>-1.082e+04</td> <td> 7236.449</td> <td>   -1.495</td> <td> 0.135</td> <td> -2.5e+04</td> <td> 3373.848</td>\n",
       "</tr>\n",
       "<tr>\n",
       "  <th>onehotencoder-2__BsmtFin Type 2_GLQ</th>         <td> 3238.6781</td> <td> 8921.994</td> <td>    0.363</td> <td> 0.717</td> <td>-1.43e+04</td> <td> 2.07e+04</td>\n",
       "</tr>\n",
       "<tr>\n",
       "  <th>onehotencoder-2__BsmtFin Type 2_LwQ</th>         <td>-1.124e+04</td> <td> 6872.852</td> <td>   -1.635</td> <td> 0.102</td> <td>-2.47e+04</td> <td> 2241.025</td>\n",
       "</tr>\n",
       "<tr>\n",
       "  <th>onehotencoder-2__BsmtFin Type 2_Rec</th>         <td>-1.285e+04</td> <td> 6559.683</td> <td>   -1.959</td> <td> 0.050</td> <td>-2.57e+04</td> <td>   14.003</td>\n",
       "</tr>\n",
       "<tr>\n",
       "  <th>onehotencoder-2__BsmtFin Type 2_Unf</th>         <td>-8611.3420</td> <td> 5566.404</td> <td>   -1.547</td> <td> 0.122</td> <td>-1.95e+04</td> <td> 2307.380</td>\n",
       "</tr>\n",
       "<tr>\n",
       "  <th>onehotencoder-2__BsmtFin Type 2_no_basement</th> <td>-4215.0555</td> <td> 2.82e+04</td> <td>   -0.149</td> <td> 0.881</td> <td>-5.95e+04</td> <td> 5.11e+04</td>\n",
       "</tr>\n",
       "<tr>\n",
       "  <th>onehotencoder-2__Central Air_Y</th>              <td> 4877.6845</td> <td> 3695.143</td> <td>    1.320</td> <td> 0.187</td> <td>-2370.484</td> <td> 1.21e+04</td>\n",
       "</tr>\n",
       "<tr>\n",
       "  <th>onehotencoder-2__Electrical_FuseF</th>           <td> -720.9263</td> <td> 6179.351</td> <td>   -0.117</td> <td> 0.907</td> <td>-1.28e+04</td> <td> 1.14e+04</td>\n",
       "</tr>\n",
       "<tr>\n",
       "  <th>onehotencoder-2__Electrical_FuseP</th>           <td> 2.102e+04</td> <td> 1.51e+04</td> <td>    1.390</td> <td> 0.165</td> <td>-8645.621</td> <td> 5.07e+04</td>\n",
       "</tr>\n",
       "<tr>\n",
       "  <th>onehotencoder-2__Electrical_SBrkr</th>           <td>  838.0727</td> <td> 3081.620</td> <td>    0.272</td> <td> 0.786</td> <td>-5206.647</td> <td> 6882.793</td>\n",
       "</tr>\n",
       "<tr>\n",
       "  <th>onehotencoder-2__Exter Qual_Fa</th>              <td>-4.805e+04</td> <td> 9915.392</td> <td>   -4.846</td> <td> 0.000</td> <td>-6.75e+04</td> <td>-2.86e+04</td>\n",
       "</tr>\n",
       "<tr>\n",
       "  <th>onehotencoder-2__Exter Qual_Gd</th>              <td>-3.201e+04</td> <td> 4814.102</td> <td>   -6.648</td> <td> 0.000</td> <td>-4.14e+04</td> <td>-2.26e+04</td>\n",
       "</tr>\n",
       "<tr>\n",
       "  <th>onehotencoder-2__Exter Qual_TA</th>              <td>-4.015e+04</td> <td> 5448.301</td> <td>   -7.369</td> <td> 0.000</td> <td>-5.08e+04</td> <td>-2.95e+04</td>\n",
       "</tr>\n",
       "<tr>\n",
       "  <th>onehotencoder-2__Exter Cond_Fa</th>              <td>-2.935e+04</td> <td>  1.4e+04</td> <td>   -2.097</td> <td> 0.036</td> <td>-5.68e+04</td> <td>-1898.277</td>\n",
       "</tr>\n",
       "<tr>\n",
       "  <th>onehotencoder-2__Exter Cond_Gd</th>              <td>-1.731e+04</td> <td> 1.31e+04</td> <td>   -1.319</td> <td> 0.187</td> <td> -4.3e+04</td> <td> 8423.625</td>\n",
       "</tr>\n",
       "<tr>\n",
       "  <th>onehotencoder-2__Exter Cond_Po</th>              <td>-5.836e+04</td> <td> 2.86e+04</td> <td>   -2.038</td> <td> 0.042</td> <td>-1.15e+05</td> <td>-2181.044</td>\n",
       "</tr>\n",
       "<tr>\n",
       "  <th>onehotencoder-2__Exter Cond_TA</th>              <td>-2.105e+04</td> <td>  1.3e+04</td> <td>   -1.624</td> <td> 0.105</td> <td>-4.65e+04</td> <td> 4380.774</td>\n",
       "</tr>\n",
       "<tr>\n",
       "  <th>onehotencoder-2__Fence_GdWo</th>                 <td> 1329.1727</td> <td> 5131.793</td> <td>    0.259</td> <td> 0.796</td> <td>-8737.041</td> <td> 1.14e+04</td>\n",
       "</tr>\n",
       "<tr>\n",
       "  <th>onehotencoder-2__Fence_MnPrv</th>                <td>-1487.7706</td> <td> 4193.723</td> <td>   -0.355</td> <td> 0.723</td> <td>-9713.923</td> <td> 6738.382</td>\n",
       "</tr>\n",
       "<tr>\n",
       "  <th>onehotencoder-2__Fence_MnWw</th>                 <td>-3783.1092</td> <td> 1.12e+04</td> <td>   -0.337</td> <td> 0.736</td> <td>-2.58e+04</td> <td> 1.83e+04</td>\n",
       "</tr>\n",
       "<tr>\n",
       "  <th>onehotencoder-2__Fence_no_fence</th>             <td>-1349.9337</td> <td> 3790.435</td> <td>   -0.356</td> <td> 0.722</td> <td>-8785.022</td> <td> 6085.154</td>\n",
       "</tr>\n",
       "<tr>\n",
       "  <th>onehotencoder-2__Fireplace Qu_Fa</th>            <td>-8890.3294</td> <td> 7185.657</td> <td>   -1.237</td> <td> 0.216</td> <td> -2.3e+04</td> <td> 5204.620</td>\n",
       "</tr>\n",
       "<tr>\n",
       "  <th>onehotencoder-2__Fireplace Qu_Gd</th>            <td>-6083.6126</td> <td> 5749.019</td> <td>   -1.058</td> <td> 0.290</td> <td>-1.74e+04</td> <td> 5193.314</td>\n",
       "</tr>\n",
       "<tr>\n",
       "  <th>onehotencoder-2__Fireplace Qu_Po</th>            <td>-1.262e+04</td> <td> 8197.345</td> <td>   -1.539</td> <td> 0.124</td> <td>-2.87e+04</td> <td> 3461.398</td>\n",
       "</tr>\n",
       "<tr>\n",
       "  <th>onehotencoder-2__Fireplace Qu_TA</th>            <td>-7232.1441</td> <td> 5937.125</td> <td>   -1.218</td> <td> 0.223</td> <td>-1.89e+04</td> <td> 4413.760</td>\n",
       "</tr>\n",
       "<tr>\n",
       "  <th>onehotencoder-2__Fireplace Qu_no_fireplace</th>  <td>-1.483e+04</td> <td> 5969.115</td> <td>   -2.484</td> <td> 0.013</td> <td>-2.65e+04</td> <td>-3120.426</td>\n",
       "</tr>\n",
       "<tr>\n",
       "  <th>onehotencoder-2__Foundation_CBlock</th>          <td> 4171.5199</td> <td> 3206.135</td> <td>    1.301</td> <td> 0.193</td> <td>-2117.439</td> <td> 1.05e+04</td>\n",
       "</tr>\n",
       "<tr>\n",
       "  <th>onehotencoder-2__Foundation_PConc</th>           <td> 9143.5145</td> <td> 3540.409</td> <td>    2.583</td> <td> 0.010</td> <td> 2198.863</td> <td> 1.61e+04</td>\n",
       "</tr>\n",
       "<tr>\n",
       "  <th>onehotencoder-2__Foundation_Slab</th>            <td> 7175.6852</td> <td> 9695.404</td> <td>    0.740</td> <td> 0.459</td> <td>-1.18e+04</td> <td> 2.62e+04</td>\n",
       "</tr>\n",
       "<tr>\n",
       "  <th>onehotencoder-2__Foundation_Stone</th>           <td> 1.148e+04</td> <td> 1.44e+04</td> <td>    0.795</td> <td> 0.427</td> <td>-1.68e+04</td> <td> 3.98e+04</td>\n",
       "</tr>\n",
       "<tr>\n",
       "  <th>onehotencoder-2__Foundation_Wood</th>            <td>  1.75e+04</td> <td> 2.03e+04</td> <td>    0.860</td> <td> 0.390</td> <td>-2.24e+04</td> <td> 5.74e+04</td>\n",
       "</tr>\n",
       "<tr>\n",
       "  <th>onehotencoder-2__Heating QC_Fa</th>              <td>-4840.5302</td> <td> 4601.733</td> <td>   -1.052</td> <td> 0.293</td> <td>-1.39e+04</td> <td> 4185.949</td>\n",
       "</tr>\n",
       "<tr>\n",
       "  <th>onehotencoder-2__Heating QC_Gd</th>              <td>-2101.6397</td> <td> 2201.323</td> <td>   -0.955</td> <td> 0.340</td> <td>-6419.621</td> <td> 2216.341</td>\n",
       "</tr>\n",
       "<tr>\n",
       "  <th>onehotencoder-2__Heating QC_Po</th>              <td>-1.684e+04</td> <td> 2.69e+04</td> <td>   -0.627</td> <td> 0.531</td> <td>-6.95e+04</td> <td> 3.59e+04</td>\n",
       "</tr>\n",
       "<tr>\n",
       "  <th>onehotencoder-2__Heating QC_TA</th>              <td>-6362.7112</td> <td> 2133.304</td> <td>   -2.983</td> <td> 0.003</td> <td>-1.05e+04</td> <td>-2178.152</td>\n",
       "</tr>\n",
       "<tr>\n",
       "  <th>onehotencoder-2__House Style_1.5Unf</th>         <td> 1.659e+04</td> <td> 9904.672</td> <td>    1.675</td> <td> 0.094</td> <td>-2834.377</td> <td>  3.6e+04</td>\n",
       "</tr>\n",
       "<tr>\n",
       "  <th>onehotencoder-2__House Style_1Story</th>         <td>  1.24e+04</td> <td> 3022.746</td> <td>    4.103</td> <td> 0.000</td> <td> 6474.483</td> <td> 1.83e+04</td>\n",
       "</tr>\n",
       "<tr>\n",
       "  <th>onehotencoder-2__House Style_2.5Fin</th>         <td>-1.198e+04</td> <td> 1.77e+04</td> <td>   -0.677</td> <td> 0.498</td> <td>-4.67e+04</td> <td> 2.27e+04</td>\n",
       "</tr>\n",
       "<tr>\n",
       "  <th>onehotencoder-2__House Style_2.5Unf</th>         <td> 1.302e+04</td> <td> 9418.202</td> <td>    1.382</td> <td> 0.167</td> <td>-5456.685</td> <td> 3.15e+04</td>\n",
       "</tr>\n",
       "<tr>\n",
       "  <th>onehotencoder-2__House Style_2Story</th>         <td> -700.0707</td> <td> 3024.178</td> <td>   -0.231</td> <td> 0.817</td> <td>-6632.115</td> <td> 5231.973</td>\n",
       "</tr>\n",
       "<tr>\n",
       "  <th>onehotencoder-2__House Style_SFoyer</th>         <td> 5123.0902</td> <td> 6194.986</td> <td>    0.827</td> <td> 0.408</td> <td>-7028.618</td> <td> 1.73e+04</td>\n",
       "</tr>\n",
       "<tr>\n",
       "  <th>onehotencoder-2__House Style_SLvl</th>           <td>-1366.6399</td> <td> 4777.005</td> <td>   -0.286</td> <td> 0.775</td> <td>-1.07e+04</td> <td> 8003.644</td>\n",
       "</tr>\n",
       "<tr>\n",
       "  <th>onehotencoder-2__Kitchen Qual_Fa</th>            <td>-4.023e+04</td> <td> 6638.519</td> <td>   -6.060</td> <td> 0.000</td> <td>-5.33e+04</td> <td>-2.72e+04</td>\n",
       "</tr>\n",
       "<tr>\n",
       "  <th>onehotencoder-2__Kitchen Qual_Gd</th>            <td>-3.028e+04</td> <td> 3753.419</td> <td>   -8.068</td> <td> 0.000</td> <td>-3.76e+04</td> <td>-2.29e+04</td>\n",
       "</tr>\n",
       "<tr>\n",
       "  <th>onehotencoder-2__Kitchen Qual_TA</th>            <td>-3.658e+04</td> <td> 4208.492</td> <td>   -8.693</td> <td> 0.000</td> <td>-4.48e+04</td> <td>-2.83e+04</td>\n",
       "</tr>\n",
       "<tr>\n",
       "  <th>onehotencoder-2__Land Contour_HLS</th>           <td> 1.326e+04</td> <td> 5328.308</td> <td>    2.488</td> <td> 0.013</td> <td> 2806.635</td> <td> 2.37e+04</td>\n",
       "</tr>\n",
       "<tr>\n",
       "  <th>onehotencoder-2__Land Contour_Low</th>           <td> 5796.2172</td> <td> 6672.696</td> <td>    0.869</td> <td> 0.385</td> <td>-7292.539</td> <td> 1.89e+04</td>\n",
       "</tr>\n",
       "<tr>\n",
       "  <th>onehotencoder-2__Land Contour_Lvl</th>           <td> 7828.9569</td> <td> 3900.923</td> <td>    2.007</td> <td> 0.045</td> <td>  177.143</td> <td> 1.55e+04</td>\n",
       "</tr>\n",
       "<tr>\n",
       "  <th>onehotencoder-2__Lot Shape_IR2</th>              <td> 1.253e+04</td> <td> 4580.919</td> <td>    2.734</td> <td> 0.006</td> <td> 3540.589</td> <td> 2.15e+04</td>\n",
       "</tr>\n",
       "<tr>\n",
       "  <th>onehotencoder-2__Lot Shape_IR3</th>              <td>-5.353e+04</td> <td> 1.03e+04</td> <td>   -5.206</td> <td> 0.000</td> <td>-7.37e+04</td> <td>-3.34e+04</td>\n",
       "</tr>\n",
       "<tr>\n",
       "  <th>onehotencoder-2__Lot Shape_Reg</th>              <td> -340.7475</td> <td> 1666.222</td> <td>   -0.205</td> <td> 0.838</td> <td>-3609.108</td> <td> 2927.613</td>\n",
       "</tr>\n",
       "<tr>\n",
       "  <th>onehotencoder-2__MS Zoning_C (all)</th>          <td>-2758.3549</td> <td> 2.81e+04</td> <td>   -0.098</td> <td> 0.922</td> <td>-5.78e+04</td> <td> 5.23e+04</td>\n",
       "</tr>\n",
       "<tr>\n",
       "  <th>onehotencoder-2__MS Zoning_FV</th>               <td> 2.948e+04</td> <td> 2.68e+04</td> <td>    1.099</td> <td> 0.272</td> <td>-2.31e+04</td> <td> 8.21e+04</td>\n",
       "</tr>\n",
       "<tr>\n",
       "  <th>onehotencoder-2__MS Zoning_I (all)</th>          <td> 2.557e+04</td> <td> 4.06e+04</td> <td>    0.630</td> <td> 0.529</td> <td> -5.4e+04</td> <td> 1.05e+05</td>\n",
       "</tr>\n",
       "<tr>\n",
       "  <th>onehotencoder-2__MS Zoning_RH</th>               <td> 3.025e+04</td> <td> 2.73e+04</td> <td>    1.109</td> <td> 0.268</td> <td>-2.33e+04</td> <td> 8.38e+04</td>\n",
       "</tr>\n",
       "<tr>\n",
       "  <th>onehotencoder-2__MS Zoning_RL</th>               <td> 2.249e+04</td> <td>  2.6e+04</td> <td>    0.866</td> <td> 0.387</td> <td>-2.85e+04</td> <td> 7.34e+04</td>\n",
       "</tr>\n",
       "<tr>\n",
       "  <th>onehotencoder-2__MS Zoning_RM</th>               <td> 1.838e+04</td> <td> 2.63e+04</td> <td>    0.699</td> <td> 0.484</td> <td>-3.32e+04</td> <td> 6.99e+04</td>\n",
       "</tr>\n",
       "<tr>\n",
       "  <th>onehotencoder-2__Mas Vnr Type_BrkFace</th>       <td> 1.193e+04</td> <td> 8825.338</td> <td>    1.351</td> <td> 0.177</td> <td>-5385.049</td> <td> 2.92e+04</td>\n",
       "</tr>\n",
       "<tr>\n",
       "  <th>onehotencoder-2__Mas Vnr Type_Stone</th>         <td> 1.445e+04</td> <td> 9158.282</td> <td>    1.578</td> <td> 0.115</td> <td>-3511.398</td> <td> 3.24e+04</td>\n",
       "</tr>\n",
       "<tr>\n",
       "  <th>onehotencoder-2__Mas Vnr Type_none</th>          <td> 9272.8606</td> <td> 8753.185</td> <td>    1.059</td> <td> 0.290</td> <td>-7896.857</td> <td> 2.64e+04</td>\n",
       "</tr>\n",
       "<tr>\n",
       "  <th>onehotencoder-2__Paved Drive_P</th>              <td>   91.0012</td> <td> 6221.201</td> <td>    0.015</td> <td> 0.988</td> <td>-1.21e+04</td> <td> 1.23e+04</td>\n",
       "</tr>\n",
       "<tr>\n",
       "  <th>onehotencoder-2__Paved Drive_Y</th>              <td> 7761.0112</td> <td> 3453.214</td> <td>    2.247</td> <td> 0.025</td> <td>  987.395</td> <td> 1.45e+04</td>\n",
       "</tr>\n",
       "<tr>\n",
       "  <th>onehotencoder-2__Street_Pave</th>                <td>-2745.1406</td> <td> 1.54e+04</td> <td>   -0.178</td> <td> 0.859</td> <td> -3.3e+04</td> <td> 2.75e+04</td>\n",
       "</tr>\n",
       "<tr>\n",
       "  <th>remainder__Garage Area</th>                      <td>   18.7173</td> <td>    8.599</td> <td>    2.177</td> <td> 0.030</td> <td>    1.850</td> <td>   35.585</td>\n",
       "</tr>\n",
       "<tr>\n",
       "  <th>remainder__Garage Cars</th>                      <td> 8687.4475</td> <td> 2482.505</td> <td>    3.499</td> <td> 0.000</td> <td> 3817.915</td> <td> 1.36e+04</td>\n",
       "</tr>\n",
       "<tr>\n",
       "  <th>remainder__Garage Yr Blt</th>                    <td>  -76.4584</td> <td>   60.858</td> <td>   -1.256</td> <td> 0.209</td> <td> -195.833</td> <td>   42.916</td>\n",
       "</tr>\n",
       "<tr>\n",
       "  <th>remainder__Gr Liv Area</th>                      <td>   57.1822</td> <td>    2.664</td> <td>   21.462</td> <td> 0.000</td> <td>   51.956</td> <td>   62.408</td>\n",
       "</tr>\n",
       "</table>\n",
       "<table class=\"simpletable\">\n",
       "<tr>\n",
       "  <th>Omnibus:</th>       <td>529.286</td> <th>  Durbin-Watson:     </th> <td>   1.996</td> \n",
       "</tr>\n",
       "<tr>\n",
       "  <th>Prob(Omnibus):</th> <td> 0.000</td>  <th>  Jarque-Bera (JB):  </th> <td>33387.619</td>\n",
       "</tr>\n",
       "<tr>\n",
       "  <th>Skew:</th>          <td>-0.643</td>  <th>  Prob(JB):          </th> <td>    0.00</td> \n",
       "</tr>\n",
       "<tr>\n",
       "  <th>Kurtosis:</th>      <td>25.067</td>  <th>  Cond. No.          </th> <td>1.02e+16</td> \n",
       "</tr>\n",
       "</table><br/><br/>Notes:<br/>[1] Standard Errors assume that the covariance matrix of the errors is correctly specified.<br/>[2] The smallest eigenvalue is 9.76e-23. This might indicate that there are<br/>strong multicollinearity problems or that the design matrix is singular."
      ],
      "text/latex": [
       "\\begin{center}\n",
       "\\begin{tabular}{lclc}\n",
       "\\toprule\n",
       "\\textbf{Dep. Variable:}                                  &    SalePrice     & \\textbf{  R-squared:         } &     0.895   \\\\\n",
       "\\textbf{Model:}                                          &       OLS        & \\textbf{  Adj. R-squared:    } &     0.886   \\\\\n",
       "\\textbf{Method:}                                         &  Least Squares   & \\textbf{  F-statistic:       } &     97.27   \\\\\n",
       "\\textbf{Date:}                                           & Sat, 07 Oct 2023 & \\textbf{  Prob (F-statistic):} &     0.00    \\\\\n",
       "\\textbf{Time:}                                           &     08:49:15     & \\textbf{  Log-Likelihood:    } &   -19008.   \\\\\n",
       "\\textbf{No. Observations:}                               &        1640      & \\textbf{  AIC:               } & 3.828e+04   \\\\\n",
       "\\textbf{Df Residuals:}                                   &        1507      & \\textbf{  BIC:               } & 3.900e+04   \\\\\n",
       "\\textbf{Df Model:}                                       &         132      & \\textbf{                     } &             \\\\\n",
       "\\textbf{Covariance Type:}                                &    nonrobust     & \\textbf{                     } &             \\\\\n",
       "\\bottomrule\n",
       "\\end{tabular}\n",
       "\\begin{tabular}{lcccccc}\n",
       "                                                         & \\textbf{coef} & \\textbf{std err} & \\textbf{t} & \\textbf{P$> |$t$|$} & \\textbf{[0.025} & \\textbf{0.975]}  \\\\\n",
       "\\midrule\n",
       "\\textbf{const}                                           &     1.66e+05  &     3.92e+04     &     4.230  &         0.000        &      8.9e+04    &     2.43e+05     \\\\\n",
       "\\textbf{onehotencoder-2\\_\\_Garage Cond\\_Ex}              &   -8.526e+04  &     4.22e+04     &    -2.019  &         0.044        &    -1.68e+05    &    -2439.238     \\\\\n",
       "\\textbf{onehotencoder-2\\_\\_Garage Cond\\_Fa}              &    5.431e+04  &     2.76e+04     &     1.965  &         0.050        &       85.733    &     1.09e+05     \\\\\n",
       "\\textbf{onehotencoder-2\\_\\_Garage Cond\\_Gd}              &    5.419e+04  &     2.86e+04     &     1.897  &         0.058        &    -1854.313    &      1.1e+05     \\\\\n",
       "\\textbf{onehotencoder-2\\_\\_Garage Cond\\_Po}              &    5.786e+04  &     2.89e+04     &     2.000  &         0.046        &     1114.103    &     1.15e+05     \\\\\n",
       "\\textbf{onehotencoder-2\\_\\_Garage Cond\\_TA}              &    6.558e+04  &     2.77e+04     &     2.364  &         0.018        &     1.12e+04    &      1.2e+05     \\\\\n",
       "\\textbf{onehotencoder-2\\_\\_Garage Finish\\_Fin}           &     5.25e+04  &     4.39e+04     &     1.195  &         0.232        &    -3.37e+04    &     1.39e+05     \\\\\n",
       "\\textbf{onehotencoder-2\\_\\_Garage Finish\\_RFn}           &    4.643e+04  &     4.38e+04     &     1.059  &         0.290        &    -3.96e+04    &     1.32e+05     \\\\\n",
       "\\textbf{onehotencoder-2\\_\\_Garage Finish\\_Unf}           &    4.776e+04  &     4.38e+04     &     1.091  &         0.275        &    -3.81e+04    &     1.34e+05     \\\\\n",
       "\\textbf{onehotencoder-2\\_\\_Garage Qual\\_Ex}              &    1.495e+05  &      3.8e+04     &     3.938  &         0.000        &      7.5e+04    &     2.24e+05     \\\\\n",
       "\\textbf{onehotencoder-2\\_\\_Garage Qual\\_Fa}              &   -7136.7373  &     2.72e+04     &    -0.262  &         0.793        &    -6.05e+04    &     4.63e+04     \\\\\n",
       "\\textbf{onehotencoder-2\\_\\_Garage Qual\\_Gd}              &     3.77e+04  &     2.94e+04     &     1.281  &         0.200        &       -2e+04    &     9.54e+04     \\\\\n",
       "\\textbf{onehotencoder-2\\_\\_Garage Qual\\_Po}              &   -2.603e+04  &     3.72e+04     &    -0.699  &         0.485        &    -9.91e+04    &      4.7e+04     \\\\\n",
       "\\textbf{onehotencoder-2\\_\\_Garage Qual\\_TA}              &   -7363.3935  &     2.79e+04     &    -0.264  &         0.792        &    -6.21e+04    &     4.74e+04     \\\\\n",
       "\\textbf{onehotencoder-2\\_\\_Garage Type\\_2Types}          &    8400.6555  &     2.21e+04     &     0.380  &         0.704        &    -3.49e+04    &     5.17e+04     \\\\\n",
       "\\textbf{onehotencoder-2\\_\\_Garage Type\\_Attchd}          &    3.619e+04  &     2.22e+04     &     1.633  &         0.103        &    -7280.657    &     7.97e+04     \\\\\n",
       "\\textbf{onehotencoder-2\\_\\_Garage Type\\_Basment}         &    1.898e+04  &     2.27e+04     &     0.835  &         0.404        &    -2.56e+04    &     6.35e+04     \\\\\n",
       "\\textbf{onehotencoder-2\\_\\_Garage Type\\_BuiltIn}         &    3.457e+04  &     2.26e+04     &     1.532  &         0.126        &    -9701.221    &     7.88e+04     \\\\\n",
       "\\textbf{onehotencoder-2\\_\\_Garage Type\\_CarPort}         &    1.627e+04  &     2.43e+04     &     0.669  &         0.504        &    -3.15e+04    &      6.4e+04     \\\\\n",
       "\\textbf{onehotencoder-2\\_\\_Garage Type\\_Detchd}          &    3.228e+04  &     2.23e+04     &     1.450  &         0.147        &    -1.14e+04    &     7.59e+04     \\\\\n",
       "\\textbf{onehotencoder-2\\_\\_Neighborhood\\_Blueste}        &    2842.1416  &     1.52e+04     &     0.187  &         0.852        &     -2.7e+04    &     3.27e+04     \\\\\n",
       "\\textbf{onehotencoder-2\\_\\_Neighborhood\\_BrDale}         &    2.328e+04  &     1.19e+04     &     1.963  &         0.050        &       17.174    &     4.65e+04     \\\\\n",
       "\\textbf{onehotencoder-2\\_\\_Neighborhood\\_BrkSide}        &   -9662.3652  &     9489.317     &    -1.018  &         0.309        &    -2.83e+04    &     8951.305     \\\\\n",
       "\\textbf{onehotencoder-2\\_\\_Neighborhood\\_ClearCr}        &   -1285.2882  &     9697.645     &    -0.133  &         0.895        &    -2.03e+04    &     1.77e+04     \\\\\n",
       "\\textbf{onehotencoder-2\\_\\_Neighborhood\\_CollgCr}        &   -5204.0727  &     7631.249     &    -0.682  &         0.495        &    -2.02e+04    &     9764.922     \\\\\n",
       "\\textbf{onehotencoder-2\\_\\_Neighborhood\\_Crawfor}        &    5857.5666  &     8585.214     &     0.682  &         0.495        &     -1.1e+04    &     2.27e+04     \\\\\n",
       "\\textbf{onehotencoder-2\\_\\_Neighborhood\\_Edwards}        &   -1.926e+04  &     8175.595     &    -2.355  &         0.019        &    -3.53e+04    &    -3219.552     \\\\\n",
       "\\textbf{onehotencoder-2\\_\\_Neighborhood\\_Gilbert}        &   -9327.5721  &     8005.382     &    -1.165  &         0.244        &     -2.5e+04    &     6375.300     \\\\\n",
       "\\textbf{onehotencoder-2\\_\\_Neighborhood\\_Greens}         &    4530.1400  &     1.81e+04     &     0.251  &         0.802        &    -3.09e+04    &     3.99e+04     \\\\\n",
       "\\textbf{onehotencoder-2\\_\\_Neighborhood\\_GrnHill}        &    1.352e+05  &     2.16e+04     &     6.270  &         0.000        &     9.29e+04    &     1.78e+05     \\\\\n",
       "\\textbf{onehotencoder-2\\_\\_Neighborhood\\_IDOTRR}         &   -1.469e+04  &      1.1e+04     &    -1.338  &         0.181        &    -3.62e+04    &     6846.076     \\\\\n",
       "\\textbf{onehotencoder-2\\_\\_Neighborhood\\_Landmrk}        &    1027.0089  &     3.02e+04     &     0.034  &         0.973        &    -5.82e+04    &     6.02e+04     \\\\\n",
       "\\textbf{onehotencoder-2\\_\\_Neighborhood\\_MeadowV}        &   -2900.5246  &      1.1e+04     &    -0.263  &         0.793        &    -2.46e+04    &     1.88e+04     \\\\\n",
       "\\textbf{onehotencoder-2\\_\\_Neighborhood\\_Mitchel}        &   -6636.7493  &     8341.129     &    -0.796  &         0.426        &     -2.3e+04    &     9724.705     \\\\\n",
       "\\textbf{onehotencoder-2\\_\\_Neighborhood\\_NAmes}          &   -1.467e+04  &     7966.660     &    -1.841  &         0.066        &    -3.03e+04    &      959.446     \\\\\n",
       "\\textbf{onehotencoder-2\\_\\_Neighborhood\\_NPkVill}        &    1.621e+04  &     1.11e+04     &     1.463  &         0.144        &    -5523.624    &     3.79e+04     \\\\\n",
       "\\textbf{onehotencoder-2\\_\\_Neighborhood\\_NWAmes}         &   -7749.3904  &     8304.468     &    -0.933  &         0.351        &     -2.4e+04    &     8540.151     \\\\\n",
       "\\textbf{onehotencoder-2\\_\\_Neighborhood\\_NoRidge}        &    3.387e+04  &     8711.761     &     3.887  &         0.000        &     1.68e+04    &      5.1e+04     \\\\\n",
       "\\textbf{onehotencoder-2\\_\\_Neighborhood\\_NridgHt}        &    3.862e+04  &     7751.130     &     4.983  &         0.000        &     2.34e+04    &     5.38e+04     \\\\\n",
       "\\textbf{onehotencoder-2\\_\\_Neighborhood\\_OldTown}        &   -2.197e+04  &     9407.785     &    -2.335  &         0.020        &    -4.04e+04    &    -3517.120     \\\\\n",
       "\\textbf{onehotencoder-2\\_\\_Neighborhood\\_SWISU}          &   -1.387e+04  &     9872.189     &    -1.405  &         0.160        &    -3.32e+04    &     5493.692     \\\\\n",
       "\\textbf{onehotencoder-2\\_\\_Neighborhood\\_Sawyer}         &    -1.43e+04  &     8354.826     &    -1.711  &         0.087        &    -3.07e+04    &     2092.884     \\\\\n",
       "\\textbf{onehotencoder-2\\_\\_Neighborhood\\_SawyerW}        &   -9720.0938  &     8004.909     &    -1.214  &         0.225        &    -2.54e+04    &     5981.851     \\\\\n",
       "\\textbf{onehotencoder-2\\_\\_Neighborhood\\_Somerst}        &    1.338e+04  &     9059.171     &     1.477  &         0.140        &    -4390.476    &     3.11e+04     \\\\\n",
       "\\textbf{onehotencoder-2\\_\\_Neighborhood\\_StoneBr}        &    5.027e+04  &     8708.680     &     5.772  &         0.000        &     3.32e+04    &     6.74e+04     \\\\\n",
       "\\textbf{onehotencoder-2\\_\\_Neighborhood\\_Timber}         &     886.7650  &     8499.894     &     0.104  &         0.917        &    -1.58e+04    &     1.76e+04     \\\\\n",
       "\\textbf{onehotencoder-2\\_\\_Neighborhood\\_Veenker}        &    9744.4860  &     1.07e+04     &     0.913  &         0.361        &    -1.12e+04    &     3.07e+04     \\\\\n",
       "\\textbf{onehotencoder-2\\_\\_Bldg Type\\_2fmCon}            &   -7704.2807  &     5086.321     &    -1.515  &         0.130        &    -1.77e+04    &     2272.739     \\\\\n",
       "\\textbf{onehotencoder-2\\_\\_Bldg Type\\_Duplex}            &    -1.77e+04  &     4490.990     &    -3.940  &         0.000        &    -2.65e+04    &    -8885.841     \\\\\n",
       "\\textbf{onehotencoder-2\\_\\_Bldg Type\\_Twnhs}             &   -3.811e+04  &     5684.719     &    -6.704  &         0.000        &    -4.93e+04    &     -2.7e+04     \\\\\n",
       "\\textbf{onehotencoder-2\\_\\_Bldg Type\\_TwnhsE}            &   -3.333e+04  &     3556.430     &    -9.371  &         0.000        &    -4.03e+04    &    -2.64e+04     \\\\\n",
       "\\textbf{onehotencoder-2\\_\\_Bsmt Cond\\_Fa}                &   -4484.3003  &     1.76e+04     &    -0.254  &         0.799        &    -3.91e+04    &     3.01e+04     \\\\\n",
       "\\textbf{onehotencoder-2\\_\\_Bsmt Cond\\_Gd}                &    4144.2887  &     1.74e+04     &     0.239  &         0.811        &    -2.99e+04    &     3.82e+04     \\\\\n",
       "\\textbf{onehotencoder-2\\_\\_Bsmt Cond\\_Po}                &   -4007.8749  &     2.27e+04     &    -0.177  &         0.860        &    -4.85e+04    &     4.05e+04     \\\\\n",
       "\\textbf{onehotencoder-2\\_\\_Bsmt Cond\\_TA}                &    1639.5956  &      1.7e+04     &     0.096  &         0.923        &    -3.17e+04    &      3.5e+04     \\\\\n",
       "\\textbf{onehotencoder-2\\_\\_Bsmt Cond\\_no\\_basement}      &   -1.465e+04  &     1.46e+04     &    -1.006  &         0.315        &    -4.32e+04    &     1.39e+04     \\\\\n",
       "\\textbf{onehotencoder-2\\_\\_Bsmt Exposure\\_Gd}            &    1.862e+04  &     3089.583     &     6.027  &         0.000        &     1.26e+04    &     2.47e+04     \\\\\n",
       "\\textbf{onehotencoder-2\\_\\_Bsmt Exposure\\_Mn}            &   -9893.5233  &     3249.276     &    -3.045  &         0.002        &    -1.63e+04    &    -3519.941     \\\\\n",
       "\\textbf{onehotencoder-2\\_\\_Bsmt Exposure\\_No}            &   -9367.7480  &     2377.982     &    -3.939  &         0.000        &     -1.4e+04    &    -4703.243     \\\\\n",
       "\\textbf{onehotencoder-2\\_\\_Bsmt Exposure\\_no\\_basement}  &   -1.538e+04  &     2.76e+04     &    -0.557  &         0.577        &    -6.95e+04    &     3.88e+04     \\\\\n",
       "\\textbf{onehotencoder-2\\_\\_Bsmt Qual\\_Fa}                &   -2.798e+04  &     6211.819     &    -4.504  &         0.000        &    -4.02e+04    &    -1.58e+04     \\\\\n",
       "\\textbf{onehotencoder-2\\_\\_Bsmt Qual\\_Gd}                &   -2.048e+04  &     3480.298     &    -5.884  &         0.000        &    -2.73e+04    &    -1.37e+04     \\\\\n",
       "\\textbf{onehotencoder-2\\_\\_Bsmt Qual\\_Po}                &   -2.957e+04  &     3.31e+04     &    -0.894  &         0.372        &    -9.45e+04    &     3.53e+04     \\\\\n",
       "\\textbf{onehotencoder-2\\_\\_Bsmt Qual\\_TA}                &    -2.27e+04  &     4363.892     &    -5.202  &         0.000        &    -3.13e+04    &    -1.41e+04     \\\\\n",
       "\\textbf{onehotencoder-2\\_\\_Bsmt Qual\\_no\\_basement}      &   -1.465e+04  &     1.46e+04     &    -1.006  &         0.315        &    -4.32e+04    &     1.39e+04     \\\\\n",
       "\\textbf{onehotencoder-2\\_\\_BsmtFin Type 1\\_BLQ}          &   -4293.5884  &     2948.511     &    -1.456  &         0.146        &    -1.01e+04    &     1490.033     \\\\\n",
       "\\textbf{onehotencoder-2\\_\\_BsmtFin Type 1\\_GLQ}          &    4692.5672  &     2685.289     &     1.748  &         0.081        &     -574.733    &     9959.867     \\\\\n",
       "\\textbf{onehotencoder-2\\_\\_BsmtFin Type 1\\_LwQ}          &   -1.066e+04  &     3953.423     &    -2.695  &         0.007        &    -1.84e+04    &    -2900.363     \\\\\n",
       "\\textbf{onehotencoder-2\\_\\_BsmtFin Type 1\\_Rec}          &   -5772.4989  &     3097.630     &    -1.864  &         0.063        &    -1.18e+04    &      303.624     \\\\\n",
       "\\textbf{onehotencoder-2\\_\\_BsmtFin Type 1\\_Unf}          &   -1.051e+04  &     2561.850     &    -4.103  &         0.000        &    -1.55e+04    &    -5486.479     \\\\\n",
       "\\textbf{onehotencoder-2\\_\\_BsmtFin Type 1\\_no\\_basement} &   -1.465e+04  &     1.46e+04     &    -1.006  &         0.315        &    -4.32e+04    &     1.39e+04     \\\\\n",
       "\\textbf{onehotencoder-2\\_\\_BsmtFin Type 2\\_BLQ}          &   -1.082e+04  &     7236.449     &    -1.495  &         0.135        &     -2.5e+04    &     3373.848     \\\\\n",
       "\\textbf{onehotencoder-2\\_\\_BsmtFin Type 2\\_GLQ}          &    3238.6781  &     8921.994     &     0.363  &         0.717        &    -1.43e+04    &     2.07e+04     \\\\\n",
       "\\textbf{onehotencoder-2\\_\\_BsmtFin Type 2\\_LwQ}          &   -1.124e+04  &     6872.852     &    -1.635  &         0.102        &    -2.47e+04    &     2241.025     \\\\\n",
       "\\textbf{onehotencoder-2\\_\\_BsmtFin Type 2\\_Rec}          &   -1.285e+04  &     6559.683     &    -1.959  &         0.050        &    -2.57e+04    &       14.003     \\\\\n",
       "\\textbf{onehotencoder-2\\_\\_BsmtFin Type 2\\_Unf}          &   -8611.3420  &     5566.404     &    -1.547  &         0.122        &    -1.95e+04    &     2307.380     \\\\\n",
       "\\textbf{onehotencoder-2\\_\\_BsmtFin Type 2\\_no\\_basement} &   -4215.0555  &     2.82e+04     &    -0.149  &         0.881        &    -5.95e+04    &     5.11e+04     \\\\\n",
       "\\textbf{onehotencoder-2\\_\\_Central Air\\_Y}               &    4877.6845  &     3695.143     &     1.320  &         0.187        &    -2370.484    &     1.21e+04     \\\\\n",
       "\\textbf{onehotencoder-2\\_\\_Electrical\\_FuseF}            &    -720.9263  &     6179.351     &    -0.117  &         0.907        &    -1.28e+04    &     1.14e+04     \\\\\n",
       "\\textbf{onehotencoder-2\\_\\_Electrical\\_FuseP}            &    2.102e+04  &     1.51e+04     &     1.390  &         0.165        &    -8645.621    &     5.07e+04     \\\\\n",
       "\\textbf{onehotencoder-2\\_\\_Electrical\\_SBrkr}            &     838.0727  &     3081.620     &     0.272  &         0.786        &    -5206.647    &     6882.793     \\\\\n",
       "\\textbf{onehotencoder-2\\_\\_Exter Qual\\_Fa}               &   -4.805e+04  &     9915.392     &    -4.846  &         0.000        &    -6.75e+04    &    -2.86e+04     \\\\\n",
       "\\textbf{onehotencoder-2\\_\\_Exter Qual\\_Gd}               &   -3.201e+04  &     4814.102     &    -6.648  &         0.000        &    -4.14e+04    &    -2.26e+04     \\\\\n",
       "\\textbf{onehotencoder-2\\_\\_Exter Qual\\_TA}               &   -4.015e+04  &     5448.301     &    -7.369  &         0.000        &    -5.08e+04    &    -2.95e+04     \\\\\n",
       "\\textbf{onehotencoder-2\\_\\_Exter Cond\\_Fa}               &   -2.935e+04  &      1.4e+04     &    -2.097  &         0.036        &    -5.68e+04    &    -1898.277     \\\\\n",
       "\\textbf{onehotencoder-2\\_\\_Exter Cond\\_Gd}               &   -1.731e+04  &     1.31e+04     &    -1.319  &         0.187        &     -4.3e+04    &     8423.625     \\\\\n",
       "\\textbf{onehotencoder-2\\_\\_Exter Cond\\_Po}               &   -5.836e+04  &     2.86e+04     &    -2.038  &         0.042        &    -1.15e+05    &    -2181.044     \\\\\n",
       "\\textbf{onehotencoder-2\\_\\_Exter Cond\\_TA}               &   -2.105e+04  &      1.3e+04     &    -1.624  &         0.105        &    -4.65e+04    &     4380.774     \\\\\n",
       "\\textbf{onehotencoder-2\\_\\_Fence\\_GdWo}                  &    1329.1727  &     5131.793     &     0.259  &         0.796        &    -8737.041    &     1.14e+04     \\\\\n",
       "\\textbf{onehotencoder-2\\_\\_Fence\\_MnPrv}                 &   -1487.7706  &     4193.723     &    -0.355  &         0.723        &    -9713.923    &     6738.382     \\\\\n",
       "\\textbf{onehotencoder-2\\_\\_Fence\\_MnWw}                  &   -3783.1092  &     1.12e+04     &    -0.337  &         0.736        &    -2.58e+04    &     1.83e+04     \\\\\n",
       "\\textbf{onehotencoder-2\\_\\_Fence\\_no\\_fence}             &   -1349.9337  &     3790.435     &    -0.356  &         0.722        &    -8785.022    &     6085.154     \\\\\n",
       "\\textbf{onehotencoder-2\\_\\_Fireplace Qu\\_Fa}             &   -8890.3294  &     7185.657     &    -1.237  &         0.216        &     -2.3e+04    &     5204.620     \\\\\n",
       "\\textbf{onehotencoder-2\\_\\_Fireplace Qu\\_Gd}             &   -6083.6126  &     5749.019     &    -1.058  &         0.290        &    -1.74e+04    &     5193.314     \\\\\n",
       "\\textbf{onehotencoder-2\\_\\_Fireplace Qu\\_Po}             &   -1.262e+04  &     8197.345     &    -1.539  &         0.124        &    -2.87e+04    &     3461.398     \\\\\n",
       "\\textbf{onehotencoder-2\\_\\_Fireplace Qu\\_TA}             &   -7232.1441  &     5937.125     &    -1.218  &         0.223        &    -1.89e+04    &     4413.760     \\\\\n",
       "\\textbf{onehotencoder-2\\_\\_Fireplace Qu\\_no\\_fireplace}  &   -1.483e+04  &     5969.115     &    -2.484  &         0.013        &    -2.65e+04    &    -3120.426     \\\\\n",
       "\\textbf{onehotencoder-2\\_\\_Foundation\\_CBlock}           &    4171.5199  &     3206.135     &     1.301  &         0.193        &    -2117.439    &     1.05e+04     \\\\\n",
       "\\textbf{onehotencoder-2\\_\\_Foundation\\_PConc}            &    9143.5145  &     3540.409     &     2.583  &         0.010        &     2198.863    &     1.61e+04     \\\\\n",
       "\\textbf{onehotencoder-2\\_\\_Foundation\\_Slab}             &    7175.6852  &     9695.404     &     0.740  &         0.459        &    -1.18e+04    &     2.62e+04     \\\\\n",
       "\\textbf{onehotencoder-2\\_\\_Foundation\\_Stone}            &    1.148e+04  &     1.44e+04     &     0.795  &         0.427        &    -1.68e+04    &     3.98e+04     \\\\\n",
       "\\textbf{onehotencoder-2\\_\\_Foundation\\_Wood}             &     1.75e+04  &     2.03e+04     &     0.860  &         0.390        &    -2.24e+04    &     5.74e+04     \\\\\n",
       "\\textbf{onehotencoder-2\\_\\_Heating QC\\_Fa}               &   -4840.5302  &     4601.733     &    -1.052  &         0.293        &    -1.39e+04    &     4185.949     \\\\\n",
       "\\textbf{onehotencoder-2\\_\\_Heating QC\\_Gd}               &   -2101.6397  &     2201.323     &    -0.955  &         0.340        &    -6419.621    &     2216.341     \\\\\n",
       "\\textbf{onehotencoder-2\\_\\_Heating QC\\_Po}               &   -1.684e+04  &     2.69e+04     &    -0.627  &         0.531        &    -6.95e+04    &     3.59e+04     \\\\\n",
       "\\textbf{onehotencoder-2\\_\\_Heating QC\\_TA}               &   -6362.7112  &     2133.304     &    -2.983  &         0.003        &    -1.05e+04    &    -2178.152     \\\\\n",
       "\\textbf{onehotencoder-2\\_\\_House Style\\_1.5Unf}          &    1.659e+04  &     9904.672     &     1.675  &         0.094        &    -2834.377    &      3.6e+04     \\\\\n",
       "\\textbf{onehotencoder-2\\_\\_House Style\\_1Story}          &     1.24e+04  &     3022.746     &     4.103  &         0.000        &     6474.483    &     1.83e+04     \\\\\n",
       "\\textbf{onehotencoder-2\\_\\_House Style\\_2.5Fin}          &   -1.198e+04  &     1.77e+04     &    -0.677  &         0.498        &    -4.67e+04    &     2.27e+04     \\\\\n",
       "\\textbf{onehotencoder-2\\_\\_House Style\\_2.5Unf}          &    1.302e+04  &     9418.202     &     1.382  &         0.167        &    -5456.685    &     3.15e+04     \\\\\n",
       "\\textbf{onehotencoder-2\\_\\_House Style\\_2Story}          &    -700.0707  &     3024.178     &    -0.231  &         0.817        &    -6632.115    &     5231.973     \\\\\n",
       "\\textbf{onehotencoder-2\\_\\_House Style\\_SFoyer}          &    5123.0902  &     6194.986     &     0.827  &         0.408        &    -7028.618    &     1.73e+04     \\\\\n",
       "\\textbf{onehotencoder-2\\_\\_House Style\\_SLvl}            &   -1366.6399  &     4777.005     &    -0.286  &         0.775        &    -1.07e+04    &     8003.644     \\\\\n",
       "\\textbf{onehotencoder-2\\_\\_Kitchen Qual\\_Fa}             &   -4.023e+04  &     6638.519     &    -6.060  &         0.000        &    -5.33e+04    &    -2.72e+04     \\\\\n",
       "\\textbf{onehotencoder-2\\_\\_Kitchen Qual\\_Gd}             &   -3.028e+04  &     3753.419     &    -8.068  &         0.000        &    -3.76e+04    &    -2.29e+04     \\\\\n",
       "\\textbf{onehotencoder-2\\_\\_Kitchen Qual\\_TA}             &   -3.658e+04  &     4208.492     &    -8.693  &         0.000        &    -4.48e+04    &    -2.83e+04     \\\\\n",
       "\\textbf{onehotencoder-2\\_\\_Land Contour\\_HLS}            &    1.326e+04  &     5328.308     &     2.488  &         0.013        &     2806.635    &     2.37e+04     \\\\\n",
       "\\textbf{onehotencoder-2\\_\\_Land Contour\\_Low}            &    5796.2172  &     6672.696     &     0.869  &         0.385        &    -7292.539    &     1.89e+04     \\\\\n",
       "\\textbf{onehotencoder-2\\_\\_Land Contour\\_Lvl}            &    7828.9569  &     3900.923     &     2.007  &         0.045        &      177.143    &     1.55e+04     \\\\\n",
       "\\textbf{onehotencoder-2\\_\\_Lot Shape\\_IR2}               &    1.253e+04  &     4580.919     &     2.734  &         0.006        &     3540.589    &     2.15e+04     \\\\\n",
       "\\textbf{onehotencoder-2\\_\\_Lot Shape\\_IR3}               &   -5.353e+04  &     1.03e+04     &    -5.206  &         0.000        &    -7.37e+04    &    -3.34e+04     \\\\\n",
       "\\textbf{onehotencoder-2\\_\\_Lot Shape\\_Reg}               &    -340.7475  &     1666.222     &    -0.205  &         0.838        &    -3609.108    &     2927.613     \\\\\n",
       "\\textbf{onehotencoder-2\\_\\_MS Zoning\\_C (all)}           &   -2758.3549  &     2.81e+04     &    -0.098  &         0.922        &    -5.78e+04    &     5.23e+04     \\\\\n",
       "\\textbf{onehotencoder-2\\_\\_MS Zoning\\_FV}                &    2.948e+04  &     2.68e+04     &     1.099  &         0.272        &    -2.31e+04    &     8.21e+04     \\\\\n",
       "\\textbf{onehotencoder-2\\_\\_MS Zoning\\_I (all)}           &    2.557e+04  &     4.06e+04     &     0.630  &         0.529        &     -5.4e+04    &     1.05e+05     \\\\\n",
       "\\textbf{onehotencoder-2\\_\\_MS Zoning\\_RH}                &    3.025e+04  &     2.73e+04     &     1.109  &         0.268        &    -2.33e+04    &     8.38e+04     \\\\\n",
       "\\textbf{onehotencoder-2\\_\\_MS Zoning\\_RL}                &    2.249e+04  &      2.6e+04     &     0.866  &         0.387        &    -2.85e+04    &     7.34e+04     \\\\\n",
       "\\textbf{onehotencoder-2\\_\\_MS Zoning\\_RM}                &    1.838e+04  &     2.63e+04     &     0.699  &         0.484        &    -3.32e+04    &     6.99e+04     \\\\\n",
       "\\textbf{onehotencoder-2\\_\\_Mas Vnr Type\\_BrkFace}        &    1.193e+04  &     8825.338     &     1.351  &         0.177        &    -5385.049    &     2.92e+04     \\\\\n",
       "\\textbf{onehotencoder-2\\_\\_Mas Vnr Type\\_Stone}          &    1.445e+04  &     9158.282     &     1.578  &         0.115        &    -3511.398    &     3.24e+04     \\\\\n",
       "\\textbf{onehotencoder-2\\_\\_Mas Vnr Type\\_none}           &    9272.8606  &     8753.185     &     1.059  &         0.290        &    -7896.857    &     2.64e+04     \\\\\n",
       "\\textbf{onehotencoder-2\\_\\_Paved Drive\\_P}               &      91.0012  &     6221.201     &     0.015  &         0.988        &    -1.21e+04    &     1.23e+04     \\\\\n",
       "\\textbf{onehotencoder-2\\_\\_Paved Drive\\_Y}               &    7761.0112  &     3453.214     &     2.247  &         0.025        &      987.395    &     1.45e+04     \\\\\n",
       "\\textbf{onehotencoder-2\\_\\_Street\\_Pave}                 &   -2745.1406  &     1.54e+04     &    -0.178  &         0.859        &     -3.3e+04    &     2.75e+04     \\\\\n",
       "\\textbf{remainder\\_\\_Garage Area}                        &      18.7173  &        8.599     &     2.177  &         0.030        &        1.850    &       35.585     \\\\\n",
       "\\textbf{remainder\\_\\_Garage Cars}                        &    8687.4475  &     2482.505     &     3.499  &         0.000        &     3817.915    &     1.36e+04     \\\\\n",
       "\\textbf{remainder\\_\\_Garage Yr Blt}                      &     -76.4584  &       60.858     &    -1.256  &         0.209        &     -195.833    &       42.916     \\\\\n",
       "\\textbf{remainder\\_\\_Gr Liv Area}                        &      57.1822  &        2.664     &    21.462  &         0.000        &       51.956    &       62.408     \\\\\n",
       "\\bottomrule\n",
       "\\end{tabular}\n",
       "\\begin{tabular}{lclc}\n",
       "\\textbf{Omnibus:}       & 529.286 & \\textbf{  Durbin-Watson:     } &     1.996  \\\\\n",
       "\\textbf{Prob(Omnibus):} &   0.000 & \\textbf{  Jarque-Bera (JB):  } & 33387.619  \\\\\n",
       "\\textbf{Skew:}          &  -0.643 & \\textbf{  Prob(JB):          } &      0.00  \\\\\n",
       "\\textbf{Kurtosis:}      &  25.067 & \\textbf{  Cond. No.          } &  1.02e+16  \\\\\n",
       "\\bottomrule\n",
       "\\end{tabular}\n",
       "%\\caption{OLS Regression Results}\n",
       "\\end{center}\n",
       "\n",
       "Notes: \\newline\n",
       " [1] Standard Errors assume that the covariance matrix of the errors is correctly specified. \\newline\n",
       " [2] The smallest eigenvalue is 9.76e-23. This might indicate that there are \\newline\n",
       " strong multicollinearity problems or that the design matrix is singular."
      ],
      "text/plain": [
       "<class 'statsmodels.iolib.summary.Summary'>\n",
       "\"\"\"\n",
       "                            OLS Regression Results                            \n",
       "==============================================================================\n",
       "Dep. Variable:              SalePrice   R-squared:                       0.895\n",
       "Model:                            OLS   Adj. R-squared:                  0.886\n",
       "Method:                 Least Squares   F-statistic:                     97.27\n",
       "Date:                Sat, 07 Oct 2023   Prob (F-statistic):               0.00\n",
       "Time:                        08:49:15   Log-Likelihood:                -19008.\n",
       "No. Observations:                1640   AIC:                         3.828e+04\n",
       "Df Residuals:                    1507   BIC:                         3.900e+04\n",
       "Df Model:                         132                                         \n",
       "Covariance Type:            nonrobust                                         \n",
       "===============================================================================================================\n",
       "                                                  coef    std err          t      P>|t|      [0.025      0.975]\n",
       "---------------------------------------------------------------------------------------------------------------\n",
       "const                                         1.66e+05   3.92e+04      4.230      0.000     8.9e+04    2.43e+05\n",
       "onehotencoder-2__Garage Cond_Ex             -8.526e+04   4.22e+04     -2.019      0.044   -1.68e+05   -2439.238\n",
       "onehotencoder-2__Garage Cond_Fa              5.431e+04   2.76e+04      1.965      0.050      85.733    1.09e+05\n",
       "onehotencoder-2__Garage Cond_Gd              5.419e+04   2.86e+04      1.897      0.058   -1854.313     1.1e+05\n",
       "onehotencoder-2__Garage Cond_Po              5.786e+04   2.89e+04      2.000      0.046    1114.103    1.15e+05\n",
       "onehotencoder-2__Garage Cond_TA              6.558e+04   2.77e+04      2.364      0.018    1.12e+04     1.2e+05\n",
       "onehotencoder-2__Garage Finish_Fin            5.25e+04   4.39e+04      1.195      0.232   -3.37e+04    1.39e+05\n",
       "onehotencoder-2__Garage Finish_RFn           4.643e+04   4.38e+04      1.059      0.290   -3.96e+04    1.32e+05\n",
       "onehotencoder-2__Garage Finish_Unf           4.776e+04   4.38e+04      1.091      0.275   -3.81e+04    1.34e+05\n",
       "onehotencoder-2__Garage Qual_Ex              1.495e+05    3.8e+04      3.938      0.000     7.5e+04    2.24e+05\n",
       "onehotencoder-2__Garage Qual_Fa             -7136.7373   2.72e+04     -0.262      0.793   -6.05e+04    4.63e+04\n",
       "onehotencoder-2__Garage Qual_Gd               3.77e+04   2.94e+04      1.281      0.200      -2e+04    9.54e+04\n",
       "onehotencoder-2__Garage Qual_Po             -2.603e+04   3.72e+04     -0.699      0.485   -9.91e+04     4.7e+04\n",
       "onehotencoder-2__Garage Qual_TA             -7363.3935   2.79e+04     -0.264      0.792   -6.21e+04    4.74e+04\n",
       "onehotencoder-2__Garage Type_2Types          8400.6555   2.21e+04      0.380      0.704   -3.49e+04    5.17e+04\n",
       "onehotencoder-2__Garage Type_Attchd          3.619e+04   2.22e+04      1.633      0.103   -7280.657    7.97e+04\n",
       "onehotencoder-2__Garage Type_Basment         1.898e+04   2.27e+04      0.835      0.404   -2.56e+04    6.35e+04\n",
       "onehotencoder-2__Garage Type_BuiltIn         3.457e+04   2.26e+04      1.532      0.126   -9701.221    7.88e+04\n",
       "onehotencoder-2__Garage Type_CarPort         1.627e+04   2.43e+04      0.669      0.504   -3.15e+04     6.4e+04\n",
       "onehotencoder-2__Garage Type_Detchd          3.228e+04   2.23e+04      1.450      0.147   -1.14e+04    7.59e+04\n",
       "onehotencoder-2__Neighborhood_Blueste        2842.1416   1.52e+04      0.187      0.852    -2.7e+04    3.27e+04\n",
       "onehotencoder-2__Neighborhood_BrDale         2.328e+04   1.19e+04      1.963      0.050      17.174    4.65e+04\n",
       "onehotencoder-2__Neighborhood_BrkSide       -9662.3652   9489.317     -1.018      0.309   -2.83e+04    8951.305\n",
       "onehotencoder-2__Neighborhood_ClearCr       -1285.2882   9697.645     -0.133      0.895   -2.03e+04    1.77e+04\n",
       "onehotencoder-2__Neighborhood_CollgCr       -5204.0727   7631.249     -0.682      0.495   -2.02e+04    9764.922\n",
       "onehotencoder-2__Neighborhood_Crawfor        5857.5666   8585.214      0.682      0.495    -1.1e+04    2.27e+04\n",
       "onehotencoder-2__Neighborhood_Edwards       -1.926e+04   8175.595     -2.355      0.019   -3.53e+04   -3219.552\n",
       "onehotencoder-2__Neighborhood_Gilbert       -9327.5721   8005.382     -1.165      0.244    -2.5e+04    6375.300\n",
       "onehotencoder-2__Neighborhood_Greens         4530.1400   1.81e+04      0.251      0.802   -3.09e+04    3.99e+04\n",
       "onehotencoder-2__Neighborhood_GrnHill        1.352e+05   2.16e+04      6.270      0.000    9.29e+04    1.78e+05\n",
       "onehotencoder-2__Neighborhood_IDOTRR        -1.469e+04    1.1e+04     -1.338      0.181   -3.62e+04    6846.076\n",
       "onehotencoder-2__Neighborhood_Landmrk        1027.0089   3.02e+04      0.034      0.973   -5.82e+04    6.02e+04\n",
       "onehotencoder-2__Neighborhood_MeadowV       -2900.5246    1.1e+04     -0.263      0.793   -2.46e+04    1.88e+04\n",
       "onehotencoder-2__Neighborhood_Mitchel       -6636.7493   8341.129     -0.796      0.426    -2.3e+04    9724.705\n",
       "onehotencoder-2__Neighborhood_NAmes         -1.467e+04   7966.660     -1.841      0.066   -3.03e+04     959.446\n",
       "onehotencoder-2__Neighborhood_NPkVill        1.621e+04   1.11e+04      1.463      0.144   -5523.624    3.79e+04\n",
       "onehotencoder-2__Neighborhood_NWAmes        -7749.3904   8304.468     -0.933      0.351    -2.4e+04    8540.151\n",
       "onehotencoder-2__Neighborhood_NoRidge        3.387e+04   8711.761      3.887      0.000    1.68e+04     5.1e+04\n",
       "onehotencoder-2__Neighborhood_NridgHt        3.862e+04   7751.130      4.983      0.000    2.34e+04    5.38e+04\n",
       "onehotencoder-2__Neighborhood_OldTown       -2.197e+04   9407.785     -2.335      0.020   -4.04e+04   -3517.120\n",
       "onehotencoder-2__Neighborhood_SWISU         -1.387e+04   9872.189     -1.405      0.160   -3.32e+04    5493.692\n",
       "onehotencoder-2__Neighborhood_Sawyer         -1.43e+04   8354.826     -1.711      0.087   -3.07e+04    2092.884\n",
       "onehotencoder-2__Neighborhood_SawyerW       -9720.0938   8004.909     -1.214      0.225   -2.54e+04    5981.851\n",
       "onehotencoder-2__Neighborhood_Somerst        1.338e+04   9059.171      1.477      0.140   -4390.476    3.11e+04\n",
       "onehotencoder-2__Neighborhood_StoneBr        5.027e+04   8708.680      5.772      0.000    3.32e+04    6.74e+04\n",
       "onehotencoder-2__Neighborhood_Timber          886.7650   8499.894      0.104      0.917   -1.58e+04    1.76e+04\n",
       "onehotencoder-2__Neighborhood_Veenker        9744.4860   1.07e+04      0.913      0.361   -1.12e+04    3.07e+04\n",
       "onehotencoder-2__Bldg Type_2fmCon           -7704.2807   5086.321     -1.515      0.130   -1.77e+04    2272.739\n",
       "onehotencoder-2__Bldg Type_Duplex            -1.77e+04   4490.990     -3.940      0.000   -2.65e+04   -8885.841\n",
       "onehotencoder-2__Bldg Type_Twnhs            -3.811e+04   5684.719     -6.704      0.000   -4.93e+04    -2.7e+04\n",
       "onehotencoder-2__Bldg Type_TwnhsE           -3.333e+04   3556.430     -9.371      0.000   -4.03e+04   -2.64e+04\n",
       "onehotencoder-2__Bsmt Cond_Fa               -4484.3003   1.76e+04     -0.254      0.799   -3.91e+04    3.01e+04\n",
       "onehotencoder-2__Bsmt Cond_Gd                4144.2887   1.74e+04      0.239      0.811   -2.99e+04    3.82e+04\n",
       "onehotencoder-2__Bsmt Cond_Po               -4007.8749   2.27e+04     -0.177      0.860   -4.85e+04    4.05e+04\n",
       "onehotencoder-2__Bsmt Cond_TA                1639.5956    1.7e+04      0.096      0.923   -3.17e+04     3.5e+04\n",
       "onehotencoder-2__Bsmt Cond_no_basement      -1.465e+04   1.46e+04     -1.006      0.315   -4.32e+04    1.39e+04\n",
       "onehotencoder-2__Bsmt Exposure_Gd            1.862e+04   3089.583      6.027      0.000    1.26e+04    2.47e+04\n",
       "onehotencoder-2__Bsmt Exposure_Mn           -9893.5233   3249.276     -3.045      0.002   -1.63e+04   -3519.941\n",
       "onehotencoder-2__Bsmt Exposure_No           -9367.7480   2377.982     -3.939      0.000    -1.4e+04   -4703.243\n",
       "onehotencoder-2__Bsmt Exposure_no_basement  -1.538e+04   2.76e+04     -0.557      0.577   -6.95e+04    3.88e+04\n",
       "onehotencoder-2__Bsmt Qual_Fa               -2.798e+04   6211.819     -4.504      0.000   -4.02e+04   -1.58e+04\n",
       "onehotencoder-2__Bsmt Qual_Gd               -2.048e+04   3480.298     -5.884      0.000   -2.73e+04   -1.37e+04\n",
       "onehotencoder-2__Bsmt Qual_Po               -2.957e+04   3.31e+04     -0.894      0.372   -9.45e+04    3.53e+04\n",
       "onehotencoder-2__Bsmt Qual_TA                -2.27e+04   4363.892     -5.202      0.000   -3.13e+04   -1.41e+04\n",
       "onehotencoder-2__Bsmt Qual_no_basement      -1.465e+04   1.46e+04     -1.006      0.315   -4.32e+04    1.39e+04\n",
       "onehotencoder-2__BsmtFin Type 1_BLQ         -4293.5884   2948.511     -1.456      0.146   -1.01e+04    1490.033\n",
       "onehotencoder-2__BsmtFin Type 1_GLQ          4692.5672   2685.289      1.748      0.081    -574.733    9959.867\n",
       "onehotencoder-2__BsmtFin Type 1_LwQ         -1.066e+04   3953.423     -2.695      0.007   -1.84e+04   -2900.363\n",
       "onehotencoder-2__BsmtFin Type 1_Rec         -5772.4989   3097.630     -1.864      0.063   -1.18e+04     303.624\n",
       "onehotencoder-2__BsmtFin Type 1_Unf         -1.051e+04   2561.850     -4.103      0.000   -1.55e+04   -5486.479\n",
       "onehotencoder-2__BsmtFin Type 1_no_basement -1.465e+04   1.46e+04     -1.006      0.315   -4.32e+04    1.39e+04\n",
       "onehotencoder-2__BsmtFin Type 2_BLQ         -1.082e+04   7236.449     -1.495      0.135    -2.5e+04    3373.848\n",
       "onehotencoder-2__BsmtFin Type 2_GLQ          3238.6781   8921.994      0.363      0.717   -1.43e+04    2.07e+04\n",
       "onehotencoder-2__BsmtFin Type 2_LwQ         -1.124e+04   6872.852     -1.635      0.102   -2.47e+04    2241.025\n",
       "onehotencoder-2__BsmtFin Type 2_Rec         -1.285e+04   6559.683     -1.959      0.050   -2.57e+04      14.003\n",
       "onehotencoder-2__BsmtFin Type 2_Unf         -8611.3420   5566.404     -1.547      0.122   -1.95e+04    2307.380\n",
       "onehotencoder-2__BsmtFin Type 2_no_basement -4215.0555   2.82e+04     -0.149      0.881   -5.95e+04    5.11e+04\n",
       "onehotencoder-2__Central Air_Y               4877.6845   3695.143      1.320      0.187   -2370.484    1.21e+04\n",
       "onehotencoder-2__Electrical_FuseF            -720.9263   6179.351     -0.117      0.907   -1.28e+04    1.14e+04\n",
       "onehotencoder-2__Electrical_FuseP            2.102e+04   1.51e+04      1.390      0.165   -8645.621    5.07e+04\n",
       "onehotencoder-2__Electrical_SBrkr             838.0727   3081.620      0.272      0.786   -5206.647    6882.793\n",
       "onehotencoder-2__Exter Qual_Fa              -4.805e+04   9915.392     -4.846      0.000   -6.75e+04   -2.86e+04\n",
       "onehotencoder-2__Exter Qual_Gd              -3.201e+04   4814.102     -6.648      0.000   -4.14e+04   -2.26e+04\n",
       "onehotencoder-2__Exter Qual_TA              -4.015e+04   5448.301     -7.369      0.000   -5.08e+04   -2.95e+04\n",
       "onehotencoder-2__Exter Cond_Fa              -2.935e+04    1.4e+04     -2.097      0.036   -5.68e+04   -1898.277\n",
       "onehotencoder-2__Exter Cond_Gd              -1.731e+04   1.31e+04     -1.319      0.187    -4.3e+04    8423.625\n",
       "onehotencoder-2__Exter Cond_Po              -5.836e+04   2.86e+04     -2.038      0.042   -1.15e+05   -2181.044\n",
       "onehotencoder-2__Exter Cond_TA              -2.105e+04    1.3e+04     -1.624      0.105   -4.65e+04    4380.774\n",
       "onehotencoder-2__Fence_GdWo                  1329.1727   5131.793      0.259      0.796   -8737.041    1.14e+04\n",
       "onehotencoder-2__Fence_MnPrv                -1487.7706   4193.723     -0.355      0.723   -9713.923    6738.382\n",
       "onehotencoder-2__Fence_MnWw                 -3783.1092   1.12e+04     -0.337      0.736   -2.58e+04    1.83e+04\n",
       "onehotencoder-2__Fence_no_fence             -1349.9337   3790.435     -0.356      0.722   -8785.022    6085.154\n",
       "onehotencoder-2__Fireplace Qu_Fa            -8890.3294   7185.657     -1.237      0.216    -2.3e+04    5204.620\n",
       "onehotencoder-2__Fireplace Qu_Gd            -6083.6126   5749.019     -1.058      0.290   -1.74e+04    5193.314\n",
       "onehotencoder-2__Fireplace Qu_Po            -1.262e+04   8197.345     -1.539      0.124   -2.87e+04    3461.398\n",
       "onehotencoder-2__Fireplace Qu_TA            -7232.1441   5937.125     -1.218      0.223   -1.89e+04    4413.760\n",
       "onehotencoder-2__Fireplace Qu_no_fireplace  -1.483e+04   5969.115     -2.484      0.013   -2.65e+04   -3120.426\n",
       "onehotencoder-2__Foundation_CBlock           4171.5199   3206.135      1.301      0.193   -2117.439    1.05e+04\n",
       "onehotencoder-2__Foundation_PConc            9143.5145   3540.409      2.583      0.010    2198.863    1.61e+04\n",
       "onehotencoder-2__Foundation_Slab             7175.6852   9695.404      0.740      0.459   -1.18e+04    2.62e+04\n",
       "onehotencoder-2__Foundation_Stone            1.148e+04   1.44e+04      0.795      0.427   -1.68e+04    3.98e+04\n",
       "onehotencoder-2__Foundation_Wood              1.75e+04   2.03e+04      0.860      0.390   -2.24e+04    5.74e+04\n",
       "onehotencoder-2__Heating QC_Fa              -4840.5302   4601.733     -1.052      0.293   -1.39e+04    4185.949\n",
       "onehotencoder-2__Heating QC_Gd              -2101.6397   2201.323     -0.955      0.340   -6419.621    2216.341\n",
       "onehotencoder-2__Heating QC_Po              -1.684e+04   2.69e+04     -0.627      0.531   -6.95e+04    3.59e+04\n",
       "onehotencoder-2__Heating QC_TA              -6362.7112   2133.304     -2.983      0.003   -1.05e+04   -2178.152\n",
       "onehotencoder-2__House Style_1.5Unf          1.659e+04   9904.672      1.675      0.094   -2834.377     3.6e+04\n",
       "onehotencoder-2__House Style_1Story           1.24e+04   3022.746      4.103      0.000    6474.483    1.83e+04\n",
       "onehotencoder-2__House Style_2.5Fin         -1.198e+04   1.77e+04     -0.677      0.498   -4.67e+04    2.27e+04\n",
       "onehotencoder-2__House Style_2.5Unf          1.302e+04   9418.202      1.382      0.167   -5456.685    3.15e+04\n",
       "onehotencoder-2__House Style_2Story          -700.0707   3024.178     -0.231      0.817   -6632.115    5231.973\n",
       "onehotencoder-2__House Style_SFoyer          5123.0902   6194.986      0.827      0.408   -7028.618    1.73e+04\n",
       "onehotencoder-2__House Style_SLvl           -1366.6399   4777.005     -0.286      0.775   -1.07e+04    8003.644\n",
       "onehotencoder-2__Kitchen Qual_Fa            -4.023e+04   6638.519     -6.060      0.000   -5.33e+04   -2.72e+04\n",
       "onehotencoder-2__Kitchen Qual_Gd            -3.028e+04   3753.419     -8.068      0.000   -3.76e+04   -2.29e+04\n",
       "onehotencoder-2__Kitchen Qual_TA            -3.658e+04   4208.492     -8.693      0.000   -4.48e+04   -2.83e+04\n",
       "onehotencoder-2__Land Contour_HLS            1.326e+04   5328.308      2.488      0.013    2806.635    2.37e+04\n",
       "onehotencoder-2__Land Contour_Low            5796.2172   6672.696      0.869      0.385   -7292.539    1.89e+04\n",
       "onehotencoder-2__Land Contour_Lvl            7828.9569   3900.923      2.007      0.045     177.143    1.55e+04\n",
       "onehotencoder-2__Lot Shape_IR2               1.253e+04   4580.919      2.734      0.006    3540.589    2.15e+04\n",
       "onehotencoder-2__Lot Shape_IR3              -5.353e+04   1.03e+04     -5.206      0.000   -7.37e+04   -3.34e+04\n",
       "onehotencoder-2__Lot Shape_Reg               -340.7475   1666.222     -0.205      0.838   -3609.108    2927.613\n",
       "onehotencoder-2__MS Zoning_C (all)          -2758.3549   2.81e+04     -0.098      0.922   -5.78e+04    5.23e+04\n",
       "onehotencoder-2__MS Zoning_FV                2.948e+04   2.68e+04      1.099      0.272   -2.31e+04    8.21e+04\n",
       "onehotencoder-2__MS Zoning_I (all)           2.557e+04   4.06e+04      0.630      0.529    -5.4e+04    1.05e+05\n",
       "onehotencoder-2__MS Zoning_RH                3.025e+04   2.73e+04      1.109      0.268   -2.33e+04    8.38e+04\n",
       "onehotencoder-2__MS Zoning_RL                2.249e+04    2.6e+04      0.866      0.387   -2.85e+04    7.34e+04\n",
       "onehotencoder-2__MS Zoning_RM                1.838e+04   2.63e+04      0.699      0.484   -3.32e+04    6.99e+04\n",
       "onehotencoder-2__Mas Vnr Type_BrkFace        1.193e+04   8825.338      1.351      0.177   -5385.049    2.92e+04\n",
       "onehotencoder-2__Mas Vnr Type_Stone          1.445e+04   9158.282      1.578      0.115   -3511.398    3.24e+04\n",
       "onehotencoder-2__Mas Vnr Type_none           9272.8606   8753.185      1.059      0.290   -7896.857    2.64e+04\n",
       "onehotencoder-2__Paved Drive_P                 91.0012   6221.201      0.015      0.988   -1.21e+04    1.23e+04\n",
       "onehotencoder-2__Paved Drive_Y               7761.0112   3453.214      2.247      0.025     987.395    1.45e+04\n",
       "onehotencoder-2__Street_Pave                -2745.1406   1.54e+04     -0.178      0.859    -3.3e+04    2.75e+04\n",
       "remainder__Garage Area                         18.7173      8.599      2.177      0.030       1.850      35.585\n",
       "remainder__Garage Cars                       8687.4475   2482.505      3.499      0.000    3817.915    1.36e+04\n",
       "remainder__Garage Yr Blt                      -76.4584     60.858     -1.256      0.209    -195.833      42.916\n",
       "remainder__Gr Liv Area                         57.1822      2.664     21.462      0.000      51.956      62.408\n",
       "==============================================================================\n",
       "Omnibus:                      529.286   Durbin-Watson:                   1.996\n",
       "Prob(Omnibus):                  0.000   Jarque-Bera (JB):            33387.619\n",
       "Skew:                          -0.643   Prob(JB):                         0.00\n",
       "Kurtosis:                      25.067   Cond. No.                     1.02e+16\n",
       "==============================================================================\n",
       "\n",
       "Notes:\n",
       "[1] Standard Errors assume that the covariance matrix of the errors is correctly specified.\n",
       "[2] The smallest eigenvalue is 9.76e-23. This might indicate that there are\n",
       "strong multicollinearity problems or that the design matrix is singular.\n",
       "\"\"\""
      ]
     },
     "execution_count": 39,
     "metadata": {},
     "output_type": "execute_result"
    }
   ],
   "source": [
    "ols_summary"
   ]
  }
 ],
 "metadata": {
  "kernelspec": {
   "display_name": "Python 3 (ipykernel)",
   "language": "python",
   "name": "python3"
  },
  "language_info": {
   "codemirror_mode": {
    "name": "ipython",
    "version": 3
   },
   "file_extension": ".py",
   "mimetype": "text/x-python",
   "name": "python",
   "nbconvert_exporter": "python",
   "pygments_lexer": "ipython3",
   "version": "3.11.5"
  }
 },
 "nbformat": 4,
 "nbformat_minor": 5
}
