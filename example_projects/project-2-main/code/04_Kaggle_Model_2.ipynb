{
 "cells": [
  {
   "cell_type": "markdown",
   "id": "6e7a3507-3272-4ee3-a3c5-0905d422d8a2",
   "metadata": {
    "tags": []
   },
   "source": [
    "# Modeling - Model 2"
   ]
  },
  {
   "cell_type": "code",
   "execution_count": 1,
   "id": "36d700dc-1e5d-4c57-87c4-623912736436",
   "metadata": {
    "tags": []
   },
   "outputs": [],
   "source": [
    "import pandas as pd\n",
    "import numpy as np\n",
    "import matplotlib.pyplot  as plt\n",
    "import seaborn as sns\n",
    "\n",
    "from sklearn.model_selection import train_test_split, cross_val_score\n",
    "from sklearn.linear_model import LinearRegression\n",
    "from sklearn.metrics import r2_score\n",
    "from sklearn.preprocessing import OneHotEncoder, StandardScaler\n",
    "from sklearn.compose import ColumnTransformer"
   ]
  },
  {
   "cell_type": "markdown",
   "id": "3d945a86-b06b-40c1-a26e-2d9dd83e1ff5",
   "metadata": {
    "tags": []
   },
   "source": [
    "## Load clean training and test data"
   ]
  },
  {
   "cell_type": "code",
   "execution_count": 2,
   "id": "ad157b49-94f4-4380-affa-edacc22be121",
   "metadata": {
    "tags": []
   },
   "outputs": [],
   "source": [
    "train = pd.read_csv('../data/cleaned_data/train_clean.csv')\n",
    "test = pd.read_csv('../data/cleaned_data/test_clean.csv')"
   ]
  },
  {
   "cell_type": "markdown",
   "id": "ed01916b-a310-4bda-996c-988c00b150c1",
   "metadata": {
    "tags": []
   },
   "source": [
    "## Predictors and target Variables"
   ]
  },
  {
   "cell_type": "code",
   "execution_count": 3,
   "id": "4b6d98f2-161a-48a4-b3af-2719b5b7670b",
   "metadata": {
    "tags": []
   },
   "outputs": [],
   "source": [
    "predictors = [\n",
    "    'Overall Qual',\n",
    "    'Year Built',\n",
    "    'Year Remod/Add',\n",
    "    'Mas Vnr Area',\n",
    "    'Total Bsmt SF',\n",
    "    '1st Flr SF',\n",
    "    'Gr Liv Area',\n",
    "    'Full Bath',\n",
    "    'TotRms AbvGrd',\n",
    "    'Garage Cars',\n",
    "    'Garage Area',\n",
    "    'Lot Area',\n",
    "    'Fireplaces',\n",
    "    'Wood Deck SF',\n",
    "    'Open Porch SF',\n",
    "    'Foundation',\n",
    "    'Exter Qual',\n",
    "    'Mas Vnr Type',\n",
    "    'Kitchen Qual',\n",
    "    'Bsmt Qual',\n",
    "    'Garage Type',\n",
    "    'Fireplace Qu'\n",
    "]"
   ]
  },
  {
   "cell_type": "code",
   "execution_count": 4,
   "id": "8ab25e8b-f8fb-4962-a67a-7d11d482280f",
   "metadata": {
    "tags": []
   },
   "outputs": [],
   "source": [
    "X = train[predictors]\n",
    "y = train['SalePrice']"
   ]
  },
  {
   "cell_type": "markdown",
   "id": "993701b1-65ca-442e-910c-43f12901c7bc",
   "metadata": {},
   "source": [
    "## Split data into train and test sets"
   ]
  },
  {
   "cell_type": "code",
   "execution_count": 5,
   "id": "5d4820db-11c7-48d2-b48b-7305a0695f47",
   "metadata": {
    "tags": []
   },
   "outputs": [],
   "source": [
    "X_train, X_test, y_train, y_test = train_test_split(X, y, test_size=0.2, random_state = 21)"
   ]
  },
  {
   "cell_type": "code",
   "execution_count": 6,
   "id": "47e6a23f-28fe-4a8a-beb2-ac7194d9ae2a",
   "metadata": {
    "tags": []
   },
   "outputs": [
    {
     "data": {
      "text/plain": [
       "((1640, 22), (411,))"
      ]
     },
     "execution_count": 6,
     "metadata": {},
     "output_type": "execute_result"
    }
   ],
   "source": [
    "X_train.shape, y_test.shape"
   ]
  },
  {
   "cell_type": "markdown",
   "id": "f34be0a9-0520-4572-8fec-4b91088b9df0",
   "metadata": {},
   "source": [
    "## Column Transformer"
   ]
  },
  {
   "cell_type": "code",
   "execution_count": 7,
   "id": "e08afa18-630e-4178-8f90-f9394b4eb864",
   "metadata": {
    "tags": []
   },
   "outputs": [],
   "source": [
    "categorical_cols = ['Foundation', 'Exter Qual', 'Mas Vnr Type', 'Kitchen Qual', 'Bsmt Qual', 'Garage Type', 'Fireplace Qu']"
   ]
  },
  {
   "cell_type": "code",
   "execution_count": 8,
   "id": "f9f00dce-702f-4475-a416-dc0b406d3b0d",
   "metadata": {
    "tags": []
   },
   "outputs": [],
   "source": [
    "numerical_cols = ['Overall Qual', 'Year Built', 'Year Remod/Add', 'Mas Vnr Area', 'Total Bsmt SF', '1st Flr SF', 'Gr Liv Area', 'Full Bath', 'TotRms AbvGrd', 'Garage Cars', 'Garage Area', 'Lot Area', 'Fireplaces', 'Wood Deck SF', 'Open Porch SF']"
   ]
  },
  {
   "cell_type": "code",
   "execution_count": 9,
   "id": "0bb790cd-8dca-4713-a813-2d2965a1da24",
   "metadata": {
    "tags": []
   },
   "outputs": [],
   "source": [
    "ct = ColumnTransformer([\n",
    "    ('sc', StandardScaler(), numerical_cols),\n",
    "    ('oh', OneHotEncoder(drop='first', sparse=False, handle_unknown='ignore'), categorical_cols)\n",
    " ], remainder='passthrough')\n",
    "\n",
    "# special thanks to Kaity Ellsweig and Qingxin Wei for assistance wite OneHotEncoder and ColumnTransformer"
   ]
  },
  {
   "cell_type": "markdown",
   "id": "834a4a67-49b8-4281-9589-47853329755d",
   "metadata": {},
   "source": [
    "## Transform training and testing data"
   ]
  },
  {
   "cell_type": "code",
   "execution_count": 10,
   "id": "213cd95a-986e-47ed-a75a-20e1d64f0ec2",
   "metadata": {
    "tags": []
   },
   "outputs": [
    {
     "name": "stderr",
     "output_type": "stream",
     "text": [
      "/Users/nolan/anaconda3/lib/python3.11/site-packages/sklearn/preprocessing/_encoders.py:972: FutureWarning: `sparse` was renamed to `sparse_output` in version 1.2 and will be removed in 1.4. `sparse_output` is ignored unless you leave `sparse` to its default value.\n",
      "  warnings.warn(\n"
     ]
    }
   ],
   "source": [
    "X_train_ct = ct.fit_transform(X_train)"
   ]
  },
  {
   "cell_type": "code",
   "execution_count": 11,
   "id": "4cadd819-5972-41ba-afb4-f9429c7a86e1",
   "metadata": {
    "tags": []
   },
   "outputs": [],
   "source": [
    "X_test_ct = ct.transform(X_test)"
   ]
  },
  {
   "cell_type": "markdown",
   "id": "d37c2310-3a4b-4a6a-a304-c87433bef7f9",
   "metadata": {},
   "source": [
    "## Initialize and train Linear Regression Model"
   ]
  },
  {
   "cell_type": "code",
   "execution_count": 12,
   "id": "70de985e-53a8-4514-9aff-a776102301c0",
   "metadata": {},
   "outputs": [
    {
     "data": {
      "text/html": [
       "<style>#sk-container-id-1 {color: black;}#sk-container-id-1 pre{padding: 0;}#sk-container-id-1 div.sk-toggleable {background-color: white;}#sk-container-id-1 label.sk-toggleable__label {cursor: pointer;display: block;width: 100%;margin-bottom: 0;padding: 0.3em;box-sizing: border-box;text-align: center;}#sk-container-id-1 label.sk-toggleable__label-arrow:before {content: \"▸\";float: left;margin-right: 0.25em;color: #696969;}#sk-container-id-1 label.sk-toggleable__label-arrow:hover:before {color: black;}#sk-container-id-1 div.sk-estimator:hover label.sk-toggleable__label-arrow:before {color: black;}#sk-container-id-1 div.sk-toggleable__content {max-height: 0;max-width: 0;overflow: hidden;text-align: left;background-color: #f0f8ff;}#sk-container-id-1 div.sk-toggleable__content pre {margin: 0.2em;color: black;border-radius: 0.25em;background-color: #f0f8ff;}#sk-container-id-1 input.sk-toggleable__control:checked~div.sk-toggleable__content {max-height: 200px;max-width: 100%;overflow: auto;}#sk-container-id-1 input.sk-toggleable__control:checked~label.sk-toggleable__label-arrow:before {content: \"▾\";}#sk-container-id-1 div.sk-estimator input.sk-toggleable__control:checked~label.sk-toggleable__label {background-color: #d4ebff;}#sk-container-id-1 div.sk-label input.sk-toggleable__control:checked~label.sk-toggleable__label {background-color: #d4ebff;}#sk-container-id-1 input.sk-hidden--visually {border: 0;clip: rect(1px 1px 1px 1px);clip: rect(1px, 1px, 1px, 1px);height: 1px;margin: -1px;overflow: hidden;padding: 0;position: absolute;width: 1px;}#sk-container-id-1 div.sk-estimator {font-family: monospace;background-color: #f0f8ff;border: 1px dotted black;border-radius: 0.25em;box-sizing: border-box;margin-bottom: 0.5em;}#sk-container-id-1 div.sk-estimator:hover {background-color: #d4ebff;}#sk-container-id-1 div.sk-parallel-item::after {content: \"\";width: 100%;border-bottom: 1px solid gray;flex-grow: 1;}#sk-container-id-1 div.sk-label:hover label.sk-toggleable__label {background-color: #d4ebff;}#sk-container-id-1 div.sk-serial::before {content: \"\";position: absolute;border-left: 1px solid gray;box-sizing: border-box;top: 0;bottom: 0;left: 50%;z-index: 0;}#sk-container-id-1 div.sk-serial {display: flex;flex-direction: column;align-items: center;background-color: white;padding-right: 0.2em;padding-left: 0.2em;position: relative;}#sk-container-id-1 div.sk-item {position: relative;z-index: 1;}#sk-container-id-1 div.sk-parallel {display: flex;align-items: stretch;justify-content: center;background-color: white;position: relative;}#sk-container-id-1 div.sk-item::before, #sk-container-id-1 div.sk-parallel-item::before {content: \"\";position: absolute;border-left: 1px solid gray;box-sizing: border-box;top: 0;bottom: 0;left: 50%;z-index: -1;}#sk-container-id-1 div.sk-parallel-item {display: flex;flex-direction: column;z-index: 1;position: relative;background-color: white;}#sk-container-id-1 div.sk-parallel-item:first-child::after {align-self: flex-end;width: 50%;}#sk-container-id-1 div.sk-parallel-item:last-child::after {align-self: flex-start;width: 50%;}#sk-container-id-1 div.sk-parallel-item:only-child::after {width: 0;}#sk-container-id-1 div.sk-dashed-wrapped {border: 1px dashed gray;margin: 0 0.4em 0.5em 0.4em;box-sizing: border-box;padding-bottom: 0.4em;background-color: white;}#sk-container-id-1 div.sk-label label {font-family: monospace;font-weight: bold;display: inline-block;line-height: 1.2em;}#sk-container-id-1 div.sk-label-container {text-align: center;}#sk-container-id-1 div.sk-container {/* jupyter's `normalize.less` sets `[hidden] { display: none; }` but bootstrap.min.css set `[hidden] { display: none !important; }` so we also need the `!important` here to be able to override the default hidden behavior on the sphinx rendered scikit-learn.org. See: https://github.com/scikit-learn/scikit-learn/issues/21755 */display: inline-block !important;position: relative;}#sk-container-id-1 div.sk-text-repr-fallback {display: none;}</style><div id=\"sk-container-id-1\" class=\"sk-top-container\"><div class=\"sk-text-repr-fallback\"><pre>LinearRegression()</pre><b>In a Jupyter environment, please rerun this cell to show the HTML representation or trust the notebook. <br />On GitHub, the HTML representation is unable to render, please try loading this page with nbviewer.org.</b></div><div class=\"sk-container\" hidden><div class=\"sk-item\"><div class=\"sk-estimator sk-toggleable\"><input class=\"sk-toggleable__control sk-hidden--visually\" id=\"sk-estimator-id-1\" type=\"checkbox\" checked><label for=\"sk-estimator-id-1\" class=\"sk-toggleable__label sk-toggleable__label-arrow\">LinearRegression</label><div class=\"sk-toggleable__content\"><pre>LinearRegression()</pre></div></div></div></div></div>"
      ],
      "text/plain": [
       "LinearRegression()"
      ]
     },
     "execution_count": 12,
     "metadata": {},
     "output_type": "execute_result"
    }
   ],
   "source": [
    "model = LinearRegression()\n",
    "model.fit(X_train_ct, y_train)"
   ]
  },
  {
   "cell_type": "markdown",
   "id": "8930478e-606a-4b10-900d-8837167b07b7",
   "metadata": {
    "tags": []
   },
   "source": [
    "## Evaluate Model"
   ]
  },
  {
   "cell_type": "code",
   "execution_count": 13,
   "id": "fa83af72-8e5f-4e11-a057-437cf7c880b8",
   "metadata": {
    "tags": []
   },
   "outputs": [
    {
     "data": {
      "text/plain": [
       "0.8604057444446076"
      ]
     },
     "execution_count": 13,
     "metadata": {},
     "output_type": "execute_result"
    }
   ],
   "source": [
    "# scoring model on training set\n",
    "model.score(X_train_ct, y_train)"
   ]
  },
  {
   "cell_type": "code",
   "execution_count": 14,
   "id": "6b1e507a-12b4-4c5f-8c63-d392eacfdcc4",
   "metadata": {
    "tags": []
   },
   "outputs": [
    {
     "data": {
      "text/plain": [
       "0.7825556959280188"
      ]
     },
     "execution_count": 14,
     "metadata": {},
     "output_type": "execute_result"
    }
   ],
   "source": [
    "#scoring model on testing set\n",
    "model.score(X_test_ct, y_test)"
   ]
  },
  {
   "cell_type": "code",
   "execution_count": 15,
   "id": "0c80a5ef-f540-460e-97fc-477ab2509134",
   "metadata": {
    "tags": []
   },
   "outputs": [
    {
     "data": {
      "text/plain": [
       "0.7287663419728482"
      ]
     },
     "execution_count": 15,
     "metadata": {},
     "output_type": "execute_result"
    }
   ],
   "source": [
    "np.mean(cross_val_score(model, X_test_ct, y_test, cv=5))"
   ]
  },
  {
   "cell_type": "code",
   "execution_count": 16,
   "id": "5fd3940b-7c70-4e7b-8618-f8c7c142f93c",
   "metadata": {
    "tags": []
   },
   "outputs": [],
   "source": [
    "# setting baseline\n",
    "y_pred_baseline = [np.mean(y_train)] * len(y_test)"
   ]
  },
  {
   "cell_type": "code",
   "execution_count": 17,
   "id": "9ac30094-7f4d-4aba-b69b-4fa1f4637bbf",
   "metadata": {
    "tags": []
   },
   "outputs": [
    {
     "data": {
      "text/plain": [
       "-0.014887741251467856"
      ]
     },
     "execution_count": 17,
     "metadata": {},
     "output_type": "execute_result"
    }
   ],
   "source": [
    "# scoring mean baseline on testing set\n",
    "r2_score(y_test, y_pred_baseline)"
   ]
  },
  {
   "cell_type": "markdown",
   "id": "462fd94b-572a-4904-9357-92ed0ceea0fd",
   "metadata": {},
   "source": [
    "## Transform and Make Predictions on Unseen Testing Set"
   ]
  },
  {
   "cell_type": "code",
   "execution_count": 18,
   "id": "f8537f70-89f8-4e66-b102-23910d7d7355",
   "metadata": {
    "tags": []
   },
   "outputs": [
    {
     "name": "stderr",
     "output_type": "stream",
     "text": [
      "/Users/nolan/anaconda3/lib/python3.11/site-packages/sklearn/preprocessing/_encoders.py:227: UserWarning: Found unknown categories in columns [2, 3] during transform. These unknown categories will be encoded as all zeros\n",
      "  warnings.warn(\n"
     ]
    }
   ],
   "source": [
    "test_features = test[predictors]\n",
    "test_features_ct = ct.transform(test_features)"
   ]
  },
  {
   "cell_type": "code",
   "execution_count": 19,
   "id": "54ce00ce-eb7a-4e42-917c-26d3ba548341",
   "metadata": {
    "tags": []
   },
   "outputs": [],
   "source": [
    "predictions = model.predict(test_features_ct)"
   ]
  },
  {
   "cell_type": "code",
   "execution_count": 20,
   "id": "a8a75af0-ed8d-4733-a334-aa5152479ad9",
   "metadata": {
    "tags": []
   },
   "outputs": [],
   "source": [
    "predictions_df = pd.DataFrame({'Id': test['Id'], 'SalePrice': predictions})"
   ]
  },
  {
   "cell_type": "code",
   "execution_count": 21,
   "id": "2bd7f1c7-dc0c-4b73-be67-f82b4356f5fb",
   "metadata": {
    "tags": []
   },
   "outputs": [
    {
     "data": {
      "text/html": [
       "<div>\n",
       "<style scoped>\n",
       "    .dataframe tbody tr th:only-of-type {\n",
       "        vertical-align: middle;\n",
       "    }\n",
       "\n",
       "    .dataframe tbody tr th {\n",
       "        vertical-align: top;\n",
       "    }\n",
       "\n",
       "    .dataframe thead th {\n",
       "        text-align: right;\n",
       "    }\n",
       "</style>\n",
       "<table border=\"1\" class=\"dataframe\">\n",
       "  <thead>\n",
       "    <tr style=\"text-align: right;\">\n",
       "      <th></th>\n",
       "      <th>Id</th>\n",
       "      <th>SalePrice</th>\n",
       "    </tr>\n",
       "  </thead>\n",
       "  <tbody>\n",
       "    <tr>\n",
       "      <th>0</th>\n",
       "      <td>2658</td>\n",
       "      <td>151955.439285</td>\n",
       "    </tr>\n",
       "    <tr>\n",
       "      <th>1</th>\n",
       "      <td>2718</td>\n",
       "      <td>192236.548488</td>\n",
       "    </tr>\n",
       "    <tr>\n",
       "      <th>2</th>\n",
       "      <td>2414</td>\n",
       "      <td>205479.821330</td>\n",
       "    </tr>\n",
       "    <tr>\n",
       "      <th>3</th>\n",
       "      <td>1989</td>\n",
       "      <td>128695.176568</td>\n",
       "    </tr>\n",
       "    <tr>\n",
       "      <th>4</th>\n",
       "      <td>625</td>\n",
       "      <td>181204.676557</td>\n",
       "    </tr>\n",
       "    <tr>\n",
       "      <th>...</th>\n",
       "      <td>...</td>\n",
       "      <td>...</td>\n",
       "    </tr>\n",
       "    <tr>\n",
       "      <th>873</th>\n",
       "      <td>1662</td>\n",
       "      <td>180152.769880</td>\n",
       "    </tr>\n",
       "    <tr>\n",
       "      <th>874</th>\n",
       "      <td>1234</td>\n",
       "      <td>218791.931195</td>\n",
       "    </tr>\n",
       "    <tr>\n",
       "      <th>875</th>\n",
       "      <td>1373</td>\n",
       "      <td>132528.465931</td>\n",
       "    </tr>\n",
       "    <tr>\n",
       "      <th>876</th>\n",
       "      <td>1672</td>\n",
       "      <td>107776.465387</td>\n",
       "    </tr>\n",
       "    <tr>\n",
       "      <th>877</th>\n",
       "      <td>1939</td>\n",
       "      <td>125814.573325</td>\n",
       "    </tr>\n",
       "  </tbody>\n",
       "</table>\n",
       "<p>878 rows × 2 columns</p>\n",
       "</div>"
      ],
      "text/plain": [
       "       Id      SalePrice\n",
       "0    2658  151955.439285\n",
       "1    2718  192236.548488\n",
       "2    2414  205479.821330\n",
       "3    1989  128695.176568\n",
       "4     625  181204.676557\n",
       "..    ...            ...\n",
       "873  1662  180152.769880\n",
       "874  1234  218791.931195\n",
       "875  1373  132528.465931\n",
       "876  1672  107776.465387\n",
       "877  1939  125814.573325\n",
       "\n",
       "[878 rows x 2 columns]"
      ]
     },
     "execution_count": 21,
     "metadata": {},
     "output_type": "execute_result"
    }
   ],
   "source": [
    "predictions_df"
   ]
  },
  {
   "cell_type": "code",
   "execution_count": 22,
   "id": "124dcfc7-1d59-4375-aad4-0c1ecdb1bc27",
   "metadata": {
    "tags": []
   },
   "outputs": [],
   "source": [
    "predictions_df.to_csv('../data/submission/model_2.csv', index=False)"
   ]
  }
 ],
 "metadata": {
  "kernelspec": {
   "display_name": "Python 3 (ipykernel)",
   "language": "python",
   "name": "python3"
  },
  "language_info": {
   "codemirror_mode": {
    "name": "ipython",
    "version": 3
   },
   "file_extension": ".py",
   "mimetype": "text/x-python",
   "name": "python",
   "nbconvert_exporter": "python",
   "pygments_lexer": "ipython3",
   "version": "3.11.5"
  }
 },
 "nbformat": 4,
 "nbformat_minor": 5
}
