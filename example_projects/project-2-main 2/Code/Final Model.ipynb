{
 "cells": [
  {
   "cell_type": "markdown",
   "id": "8eadb755-64be-4380-a0e0-597f68a6c5de",
   "metadata": {},
   "source": [
    "# Building the Model"
   ]
  },
  {
   "cell_type": "code",
   "execution_count": 264,
   "id": "2bdb0972-ec24-4db7-a029-ee18ea7fcb58",
   "metadata": {
    "tags": []
   },
   "outputs": [],
   "source": [
    "import pandas as pd\n",
    "import numpy as np\n",
    "import matplotlib.pyplot as plt\n",
    "\n",
    "from sklearn.linear_model import LinearRegression\n",
    "from sklearn.model_selection import train_test_split, cross_val_score\n",
    "from sklearn.preprocessing import PolynomialFeatures, StandardScaler, OneHotEncoder\n",
    "from sklearn.compose import ColumnTransformer\n",
    "from sklearn.impute import SimpleImputer\n",
    "\n",
    "from sklearn import metrics\n",
    "from sklearn.metrics import mean_squared_error, r2_score\n",
    "from sklearn.linear_model import Lasso\n",
    "from sklearn.linear_model import ElasticNet\n",
    "\n",
    "pd.options.display.float_format = '{:.4f}'.format\n",
    "import statsmodels.api as sm"
   ]
  },
  {
   "cell_type": "markdown",
   "id": "6a94e5a8-199a-43df-b359-0c3fd4506fb4",
   "metadata": {},
   "source": [
    "**For this model I analayzed the heatmap/ correlations ofnumeric columns with sale price and the catterplots/ bargraphs of the categorical columns and sale price. I will start witha model with just these variables and then use stepwise regression to add and drop variables**"
   ]
  },
  {
   "cell_type": "code",
   "execution_count": 265,
   "id": "8c483560-98ee-4f22-ad6d-8905bbc71804",
   "metadata": {
    "tags": []
   },
   "outputs": [],
   "source": [
    "clean_data = pd.read_csv('datasets/clean_df.csv')"
   ]
  },
  {
   "cell_type": "code",
   "execution_count": 266,
   "id": "b3eefd3f-bbc5-4b65-a381-0c5bbd4ed52d",
   "metadata": {
    "tags": []
   },
   "outputs": [
    {
     "data": {
      "text/plain": [
       "Unnamed: 0      int64\n",
       "Id              int64\n",
       "PID             int64\n",
       "MS SubClass     int64\n",
       "MS Zoning      object\n",
       "                ...  \n",
       "Misc Val        int64\n",
       "Mo Sold         int64\n",
       "Yr Sold         int64\n",
       "Sale Type      object\n",
       "SalePrice       int64\n",
       "Length: 82, dtype: object"
      ]
     },
     "execution_count": 266,
     "metadata": {},
     "output_type": "execute_result"
    }
   ],
   "source": [
    "clean_data.dtypes"
   ]
  },
  {
   "cell_type": "code",
   "execution_count": 267,
   "id": "71a3f44e-93ad-409f-97f7-d297e5d5409a",
   "metadata": {},
   "outputs": [],
   "source": [
    "clean_data['MS SubClass'] = clean_data['MS SubClass'].astype(str)"
   ]
  },
  {
   "cell_type": "code",
   "execution_count": 268,
   "id": "6b830db7-b9ec-462a-be03-54c45ad7d8f1",
   "metadata": {
    "tags": []
   },
   "outputs": [],
   "source": [
    "Columns_to_include = ['SalePrice', \n",
    "                      'Overall Qual', \n",
    "                      'Gr Liv Area', \n",
    "                      'Garage Area', \n",
    "                      'Garage Cars', \n",
    "                      'Total Bsmt SF', \n",
    "                      '1st Flr SF', \n",
    "                      'Year Built', \n",
    "                      'Full Bath', \n",
    "                      'Fireplaces', \n",
    "                      'MS SubClass', \n",
    "                      'Neighborhood', \n",
    "                      'Condition 1', \n",
    "                      'Exter Qual', \n",
    "                      'Bsmt Exposure', \n",
    "                      'Kitchen Qual', \n",
    "                      'Garage Qual',\n",
    "                      'Exterior 1st',\n",
    "                      'Exter Cond',\n",
    "                      'Bsmt Qual',\n",
    "                      'Bsmt Cond',\n",
    "                      'BsmtFin Type 1',\n",
    "                      'Functional',\n",
    "                      'Fireplace Qu',\n",
    "                      'Paved Drive',\n",
    "                      'Sale Type',\n",
    "                      'Garage Cond']"
   ]
  },
  {
   "cell_type": "code",
   "execution_count": 269,
   "id": "e6a1fa59-61e8-45b0-8c1a-25bc6efb6c29",
   "metadata": {
    "tags": []
   },
   "outputs": [],
   "source": [
    "clean_columns = clean_data[Columns_to_include]"
   ]
  },
  {
   "cell_type": "code",
   "execution_count": 270,
   "id": "83eb4dc4-d55b-455b-a874-92baaec4c0f6",
   "metadata": {
    "tags": []
   },
   "outputs": [],
   "source": [
    "#Confirm Data is fully cleaned- this is the step I will repeat on Test Data\n",
    "# Create a list of string-type column names\n",
    "string_columns = clean_data.select_dtypes(include=['object']).columns\n",
    "\n",
    "column_to_exclude = 'Mas Vnr Type'\n",
    "\n",
    "# Use a for loop to input NA in each column in dataframe that is in list except Mas Vnr Type\n",
    "for column in string_columns:\n",
    "    if column != column_to_exclude:\n",
    "        clean_data[column].fillna('NA', inplace=True)"
   ]
  },
  {
   "cell_type": "code",
   "execution_count": 271,
   "id": "076f9f9f-e05f-49eb-8669-08a1f7611e31",
   "metadata": {
    "tags": []
   },
   "outputs": [],
   "source": [
    "X1 = clean_data[Columns_to_include].drop(columns='SalePrice')\n",
    "y = clean_data['SalePrice']"
   ]
  },
  {
   "cell_type": "code",
   "execution_count": 272,
   "id": "6d35a81c-0d67-46b1-8736-51d9a709692a",
   "metadata": {
    "tags": []
   },
   "outputs": [
    {
     "data": {
      "text/plain": [
       "TA    1832\n",
       "NA     114\n",
       "Fa      82\n",
       "Gd      18\n",
       "Ex       3\n",
       "Po       2\n",
       "Name: Garage Qual, dtype: int64"
      ]
     },
     "execution_count": 272,
     "metadata": {},
     "output_type": "execute_result"
    }
   ],
   "source": [
    "X1['Garage Qual'].value_counts()"
   ]
  },
  {
   "cell_type": "code",
   "execution_count": 273,
   "id": "e7bea9ab-4758-4779-aa83-f0c31f4db376",
   "metadata": {
    "tags": []
   },
   "outputs": [
    {
     "data": {
      "text/plain": [
       "(2051,)"
      ]
     },
     "execution_count": 273,
     "metadata": {},
     "output_type": "execute_result"
    }
   ],
   "source": [
    "y.shape"
   ]
  },
  {
   "cell_type": "code",
   "execution_count": 274,
   "id": "0387a605-c627-4e03-9dbe-6d7b521ebc4e",
   "metadata": {
    "tags": []
   },
   "outputs": [],
   "source": [
    "X1_train, X1_val, y_train, y_val = train_test_split(X1, y, test_size= 0.2, random_state=24)"
   ]
  },
  {
   "cell_type": "code",
   "execution_count": 275,
   "id": "d47fd24a-52a5-4300-af62-ef165c19d666",
   "metadata": {},
   "outputs": [
    {
     "data": {
      "text/plain": [
       "5959496572.987543"
      ]
     },
     "execution_count": 275,
     "metadata": {},
     "output_type": "execute_result"
    }
   ],
   "source": [
    "# First I will create a baseline\n",
    "base_preds = [clean_data['SalePrice'].mean()] * len(y_val)\n",
    "\n",
    "# MSE\n",
    "base_mse = mean_squared_error(y_val, base_preds)\n",
    "base_mse\n"
   ]
  },
  {
   "cell_type": "code",
   "execution_count": 276,
   "id": "c69d0e58-6c17-40db-aa66-bbea1071d238",
   "metadata": {
    "tags": []
   },
   "outputs": [
    {
     "data": {
      "text/plain": [
       "-1.9433919757450013e-05"
      ]
     },
     "execution_count": 276,
     "metadata": {},
     "output_type": "execute_result"
    }
   ],
   "source": [
    "# For the Baseline I expect R 2 to be about 0\n",
    "r2_score(y_val, base_preds)"
   ]
  },
  {
   "cell_type": "code",
   "execution_count": 277,
   "id": "847cd295-3cd8-4117-8029-e1ff6a0bdb9e",
   "metadata": {
    "tags": []
   },
   "outputs": [],
   "source": [
    "X1_str = list(X1.select_dtypes(include=['object']).columns)"
   ]
  },
  {
   "cell_type": "markdown",
   "id": "edde45e1-7a19-4341-bf3a-401ee2be87fe",
   "metadata": {},
   "source": [
    "*Credit to Qingxin Wei who suggested using handle_unknown='ignore'*"
   ]
  },
  {
   "cell_type": "code",
   "execution_count": 278,
   "id": "8f8ac160-a891-4bec-948a-841e7e047dc2",
   "metadata": {
    "tags": []
   },
   "outputs": [],
   "source": [
    "# I use a OneHot Encoder with argument handle_unknown = 'ignore' to binarize my column & handle new values\n",
    "ct = ColumnTransformer([('oh', OneHotEncoder(sparse_output=False, handle_unknown='ignore', drop='first'), X1_str)\n",
    "], remainder='passthrough')  \n",
    "\n",
    "# Fit and transform the training data using the ColumnTransformer\n",
    "X1_train_transformed = ct.fit_transform(X1_train)\n",
    "\n",
    "# Transform the test data using the fitted ColumnTransformer\n",
    "X1_val_transformed = ct.transform(X1_val)\n",
    "\n",
    "\n",
    "# Use a simpleImputer since numeric missings were filled with Np.nan during cleaning\n",
    "imputer = SimpleImputer(strategy='median')\n",
    "X1_train_transformed = imputer.fit_transform(X1_train_transformed)\n",
    "X1_val_transofrmed = imputer.transform(X1_val_transformed)\n"
   ]
  },
  {
   "cell_type": "code",
   "execution_count": 279,
   "id": "5531e85c-ab99-4a7c-a3bb-07bf472dedae",
   "metadata": {
    "tags": []
   },
   "outputs": [],
   "source": [
    "lr=LinearRegression()"
   ]
  },
  {
   "cell_type": "code",
   "execution_count": 280,
   "id": "875011b1-971d-404f-9df7-2ced70d7ef84",
   "metadata": {
    "tags": []
   },
   "outputs": [
    {
     "data": {
      "text/html": [
       "<style>#sk-container-id-13 {color: black;}#sk-container-id-13 pre{padding: 0;}#sk-container-id-13 div.sk-toggleable {background-color: white;}#sk-container-id-13 label.sk-toggleable__label {cursor: pointer;display: block;width: 100%;margin-bottom: 0;padding: 0.3em;box-sizing: border-box;text-align: center;}#sk-container-id-13 label.sk-toggleable__label-arrow:before {content: \"▸\";float: left;margin-right: 0.25em;color: #696969;}#sk-container-id-13 label.sk-toggleable__label-arrow:hover:before {color: black;}#sk-container-id-13 div.sk-estimator:hover label.sk-toggleable__label-arrow:before {color: black;}#sk-container-id-13 div.sk-toggleable__content {max-height: 0;max-width: 0;overflow: hidden;text-align: left;background-color: #f0f8ff;}#sk-container-id-13 div.sk-toggleable__content pre {margin: 0.2em;color: black;border-radius: 0.25em;background-color: #f0f8ff;}#sk-container-id-13 input.sk-toggleable__control:checked~div.sk-toggleable__content {max-height: 200px;max-width: 100%;overflow: auto;}#sk-container-id-13 input.sk-toggleable__control:checked~label.sk-toggleable__label-arrow:before {content: \"▾\";}#sk-container-id-13 div.sk-estimator input.sk-toggleable__control:checked~label.sk-toggleable__label {background-color: #d4ebff;}#sk-container-id-13 div.sk-label input.sk-toggleable__control:checked~label.sk-toggleable__label {background-color: #d4ebff;}#sk-container-id-13 input.sk-hidden--visually {border: 0;clip: rect(1px 1px 1px 1px);clip: rect(1px, 1px, 1px, 1px);height: 1px;margin: -1px;overflow: hidden;padding: 0;position: absolute;width: 1px;}#sk-container-id-13 div.sk-estimator {font-family: monospace;background-color: #f0f8ff;border: 1px dotted black;border-radius: 0.25em;box-sizing: border-box;margin-bottom: 0.5em;}#sk-container-id-13 div.sk-estimator:hover {background-color: #d4ebff;}#sk-container-id-13 div.sk-parallel-item::after {content: \"\";width: 100%;border-bottom: 1px solid gray;flex-grow: 1;}#sk-container-id-13 div.sk-label:hover label.sk-toggleable__label {background-color: #d4ebff;}#sk-container-id-13 div.sk-serial::before {content: \"\";position: absolute;border-left: 1px solid gray;box-sizing: border-box;top: 0;bottom: 0;left: 50%;z-index: 0;}#sk-container-id-13 div.sk-serial {display: flex;flex-direction: column;align-items: center;background-color: white;padding-right: 0.2em;padding-left: 0.2em;position: relative;}#sk-container-id-13 div.sk-item {position: relative;z-index: 1;}#sk-container-id-13 div.sk-parallel {display: flex;align-items: stretch;justify-content: center;background-color: white;position: relative;}#sk-container-id-13 div.sk-item::before, #sk-container-id-13 div.sk-parallel-item::before {content: \"\";position: absolute;border-left: 1px solid gray;box-sizing: border-box;top: 0;bottom: 0;left: 50%;z-index: -1;}#sk-container-id-13 div.sk-parallel-item {display: flex;flex-direction: column;z-index: 1;position: relative;background-color: white;}#sk-container-id-13 div.sk-parallel-item:first-child::after {align-self: flex-end;width: 50%;}#sk-container-id-13 div.sk-parallel-item:last-child::after {align-self: flex-start;width: 50%;}#sk-container-id-13 div.sk-parallel-item:only-child::after {width: 0;}#sk-container-id-13 div.sk-dashed-wrapped {border: 1px dashed gray;margin: 0 0.4em 0.5em 0.4em;box-sizing: border-box;padding-bottom: 0.4em;background-color: white;}#sk-container-id-13 div.sk-label label {font-family: monospace;font-weight: bold;display: inline-block;line-height: 1.2em;}#sk-container-id-13 div.sk-label-container {text-align: center;}#sk-container-id-13 div.sk-container {/* jupyter's `normalize.less` sets `[hidden] { display: none; }` but bootstrap.min.css set `[hidden] { display: none !important; }` so we also need the `!important` here to be able to override the default hidden behavior on the sphinx rendered scikit-learn.org. See: https://github.com/scikit-learn/scikit-learn/issues/21755 */display: inline-block !important;position: relative;}#sk-container-id-13 div.sk-text-repr-fallback {display: none;}</style><div id=\"sk-container-id-13\" class=\"sk-top-container\"><div class=\"sk-text-repr-fallback\"><pre>LinearRegression()</pre><b>In a Jupyter environment, please rerun this cell to show the HTML representation or trust the notebook. <br />On GitHub, the HTML representation is unable to render, please try loading this page with nbviewer.org.</b></div><div class=\"sk-container\" hidden><div class=\"sk-item\"><div class=\"sk-estimator sk-toggleable\"><input class=\"sk-toggleable__control sk-hidden--visually\" id=\"sk-estimator-id-13\" type=\"checkbox\" checked><label for=\"sk-estimator-id-13\" class=\"sk-toggleable__label sk-toggleable__label-arrow\">LinearRegression</label><div class=\"sk-toggleable__content\"><pre>LinearRegression()</pre></div></div></div></div></div>"
      ],
      "text/plain": [
       "LinearRegression()"
      ]
     },
     "execution_count": 280,
     "metadata": {},
     "output_type": "execute_result"
    }
   ],
   "source": [
    "lr.fit(X1_train_transformed, y_train)"
   ]
  },
  {
   "cell_type": "code",
   "execution_count": 281,
   "id": "985c7c79-a8a9-4a81-8a82-799d52983487",
   "metadata": {
    "tags": []
   },
   "outputs": [
    {
     "name": "stdout",
     "output_type": "stream",
     "text": [
      "0.8911281372375199\n",
      "0.9079038541824045\n"
     ]
    }
   ],
   "source": [
    "r2_train = lr.score(X1_train_transformed, y_train)\n",
    "r2_val = lr.score(X1_val_transformed, y_val)\n",
    "print(r2_train)\n",
    "print(r2_val)"
   ]
  },
  {
   "cell_type": "code",
   "execution_count": 282,
   "id": "af87b785-f798-4f85-9add-23d085319912",
   "metadata": {},
   "outputs": [
    {
     "data": {
      "text/plain": [
       "692305679.6847442"
      ]
     },
     "execution_count": 282,
     "metadata": {},
     "output_type": "execute_result"
    }
   ],
   "source": [
    "y_preds_train = lr.predict(X1_train_transformed)\n",
    "metrics.mean_squared_error(y_train, y_preds_train)"
   ]
  },
  {
   "cell_type": "code",
   "execution_count": 283,
   "id": "8eeae0f5-f6b6-4de5-94f0-fbcd6daa8d4e",
   "metadata": {
    "tags": []
   },
   "outputs": [
    {
     "data": {
      "text/plain": [
       "548835999.35055"
      ]
     },
     "execution_count": 283,
     "metadata": {},
     "output_type": "execute_result"
    }
   ],
   "source": [
    "y_preds_val = lr.predict(X1_val_transformed)\n",
    "metrics.mean_squared_error(y_val, y_preds_val)"
   ]
  },
  {
   "cell_type": "code",
   "execution_count": 284,
   "id": "e49dba63-9991-4fa1-90af-c2c530ab8074",
   "metadata": {
    "tags": []
   },
   "outputs": [
    {
     "data": {
      "text/plain": [
       "array([-8.17489394e+04, -1.17396240e+04, -9.47369820e+03,  1.99859603e+04,\n",
       "        3.74371324e+04,  3.93228633e+04,  3.52486374e+04,  4.32640696e+04,\n",
       "        3.39502016e+04,  2.44717695e+04,  3.60313480e+04,  4.44433884e+04,\n",
       "        2.31684475e+04,  2.89114936e+04,  1.28507351e+04, -3.54929607e+03,\n",
       "        1.36207512e+04, -1.44471300e+04,  1.28085802e+04, -5.35905635e+03,\n",
       "        1.24459170e+04, -1.96863785e+04, -7.28906681e+03,  9.04832218e+03,\n",
       "        1.28218030e+05, -1.82807028e+04,  1.47555654e+03, -4.98676995e+03,\n",
       "       -7.55327074e+03, -1.04172574e+04,  4.99366582e+03, -6.83629209e+03,\n",
       "        4.54325893e+04,  3.38811278e+04, -2.10246211e+04, -1.44861954e+04,\n",
       "       -7.66299592e+03, -4.90568593e+03,  1.23465178e+04,  5.61668345e+04,\n",
       "        1.11416386e+03,  8.33802923e+03,  3.37061715e+03,  1.30060760e+04,\n",
       "        2.83608543e+04,  2.48648575e+04, -5.75319073e+03,  1.15913414e+04,\n",
       "       -6.38299847e+03,  4.90202704e+03, -3.23254787e+04, -2.39570107e+04,\n",
       "       -2.84102373e+04,  1.89780685e+04, -7.05557619e+03,  5.49387915e+03,\n",
       "       -8.17021196e+03, -3.72484105e+04, -2.62979072e+04, -3.21496616e+04,\n",
       "       -1.62839650e+05, -1.11680515e+05,  5.94187993e+03, -1.95187444e+05,\n",
       "       -1.61241803e+05,  1.81152725e+04, -1.55778072e+04,  2.59477331e+04,\n",
       "        1.41580176e+04,  1.30793385e+04,  1.29837275e+03, -1.35106181e+04,\n",
       "        9.30692325e+03,  6.28073735e+03,  1.05082975e+04, -1.24660458e+04,\n",
       "        9.16335692e+03,  3.23833133e+03,  1.01374040e+04, -5.26776100e+03,\n",
       "        4.50038037e+01, -1.35259254e+04, -3.58000487e+03, -2.53006675e+04,\n",
       "       -2.43226595e+04, -1.84687781e+04, -1.44787738e+04, -2.51258629e+04,\n",
       "       -1.75568428e+03,  4.11074825e+03, -1.84687781e+04,  9.69207490e+03,\n",
       "        3.29179811e+02, -2.92559836e+03,  4.17917018e+02, -6.88051029e+03,\n",
       "       -1.84687781e+04, -4.05171682e+03, -1.37850166e+04,  1.48835774e+04,\n",
       "        2.24962392e+04,  1.58466927e+04,  2.22986402e+04,  4.79189540e+03,\n",
       "       -3.74387073e+04,  2.57423324e+04, -8.09415572e+03, -5.64083363e+03,\n",
       "       -6.57109143e+03, -1.02144681e+04, -3.65606139e+03, -1.66391765e+03,\n",
       "        2.42742638e+03,  1.29526397e+04,  8.43211398e+04,  1.53851157e+04,\n",
       "        2.56449505e+02,  1.76484485e+03,  1.40267383e+04,  1.98316548e+04,\n",
       "        7.84531055e+03,  1.59319781e+05,  1.55820959e+05,  5.94187993e+03,\n",
       "        1.59736014e+05,  1.62457759e+05,  7.79600824e+03,  4.24628791e+01,\n",
       "        6.96262616e+00,  9.81481593e+03,  4.51767942e+00, -6.04319530e+00,\n",
       "        1.82356535e+02,  5.55084604e+03,  6.87593086e+03])"
      ]
     },
     "execution_count": 284,
     "metadata": {},
     "output_type": "execute_result"
    }
   ],
   "source": [
    "lr.coef_"
   ]
  },
  {
   "cell_type": "markdown",
   "id": "ebaf06ba-ac09-4f4b-ac01-b905eb893a70",
   "metadata": {},
   "source": [
    "*Credit to Susan for add_constant to simplify creating an intercept process*"
   ]
  },
  {
   "cell_type": "code",
   "execution_count": 285,
   "id": "2d1855b1-bb18-468f-af04-e70b111045d1",
   "metadata": {
    "tags": []
   },
   "outputs": [
    {
     "data": {
      "text/html": [
       "<table class=\"simpletable\">\n",
       "<caption>OLS Regression Results</caption>\n",
       "<tr>\n",
       "  <th>Dep. Variable:</th>        <td>SalePrice</td>    <th>  R-squared:         </th> <td>   0.891</td> \n",
       "</tr>\n",
       "<tr>\n",
       "  <th>Model:</th>                   <td>OLS</td>       <th>  Adj. R-squared:    </th> <td>   0.882</td> \n",
       "</tr>\n",
       "<tr>\n",
       "  <th>Method:</th>             <td>Least Squares</td>  <th>  F-statistic:       </th> <td>   93.45</td> \n",
       "</tr>\n",
       "<tr>\n",
       "  <th>Date:</th>             <td>Fri, 06 Oct 2023</td> <th>  Prob (F-statistic):</th>  <td>  0.00</td>  \n",
       "</tr>\n",
       "<tr>\n",
       "  <th>Time:</th>                 <td>07:33:59</td>     <th>  Log-Likelihood:    </th> <td> -19019.</td> \n",
       "</tr>\n",
       "<tr>\n",
       "  <th>No. Observations:</th>      <td>  1640</td>      <th>  AIC:               </th> <td>3.830e+04</td>\n",
       "</tr>\n",
       "<tr>\n",
       "  <th>Df Residuals:</th>          <td>  1507</td>      <th>  BIC:               </th> <td>3.902e+04</td>\n",
       "</tr>\n",
       "<tr>\n",
       "  <th>Df Model:</th>              <td>   132</td>      <th>                     </th>     <td> </td>    \n",
       "</tr>\n",
       "<tr>\n",
       "  <th>Covariance Type:</th>      <td>nonrobust</td>    <th>                     </th>     <td> </td>    \n",
       "</tr>\n",
       "</table>\n",
       "<table class=\"simpletable\">\n",
       "<tr>\n",
       "    <td></td>       <th>coef</th>     <th>std err</th>      <th>t</th>      <th>P>|t|</th>  <th>[0.025</th>    <th>0.975]</th>  \n",
       "</tr>\n",
       "<tr>\n",
       "  <th>const</th> <td>-3.091e+05</td> <td> 1.61e+05</td> <td>   -1.922</td> <td> 0.055</td> <td>-6.25e+05</td> <td> 6366.143</td>\n",
       "</tr>\n",
       "<tr>\n",
       "  <th>x1</th>    <td>-8.175e+04</td> <td> 3.07e+04</td> <td>   -2.662</td> <td> 0.008</td> <td>-1.42e+05</td> <td>-2.15e+04</td>\n",
       "</tr>\n",
       "<tr>\n",
       "  <th>x2</th>    <td>-1.174e+04</td> <td> 6182.553</td> <td>   -1.899</td> <td> 0.058</td> <td>-2.39e+04</td> <td>  387.697</td>\n",
       "</tr>\n",
       "<tr>\n",
       "  <th>x3</th>    <td>-9473.6982</td> <td> 1.11e+04</td> <td>   -0.856</td> <td> 0.392</td> <td>-3.12e+04</td> <td> 1.22e+04</td>\n",
       "</tr>\n",
       "<tr>\n",
       "  <th>x4</th>    <td> 1.999e+04</td> <td> 7109.938</td> <td>    2.811</td> <td> 0.005</td> <td> 6039.536</td> <td> 3.39e+04</td>\n",
       "</tr>\n",
       "<tr>\n",
       "  <th>x5</th>    <td> 3.744e+04</td> <td> 3786.214</td> <td>    9.888</td> <td> 0.000</td> <td>    3e+04</td> <td> 4.49e+04</td>\n",
       "</tr>\n",
       "<tr>\n",
       "  <th>x6</th>    <td> 3.932e+04</td> <td> 5983.711</td> <td>    6.572</td> <td> 0.000</td> <td> 2.76e+04</td> <td> 5.11e+04</td>\n",
       "</tr>\n",
       "<tr>\n",
       "  <th>x7</th>    <td> 3.525e+04</td> <td> 2.86e+04</td> <td>    1.234</td> <td> 0.217</td> <td>-2.08e+04</td> <td> 9.13e+04</td>\n",
       "</tr>\n",
       "<tr>\n",
       "  <th>x8</th>    <td> 4.326e+04</td> <td> 1.25e+04</td> <td>    3.452</td> <td> 0.001</td> <td> 1.87e+04</td> <td> 6.78e+04</td>\n",
       "</tr>\n",
       "<tr>\n",
       "  <th>x9</th>    <td> 3.395e+04</td> <td> 5668.867</td> <td>    5.989</td> <td> 0.000</td> <td> 2.28e+04</td> <td> 4.51e+04</td>\n",
       "</tr>\n",
       "<tr>\n",
       "  <th>x10</th>   <td> 2.447e+04</td> <td> 5364.877</td> <td>    4.561</td> <td> 0.000</td> <td> 1.39e+04</td> <td>  3.5e+04</td>\n",
       "</tr>\n",
       "<tr>\n",
       "  <th>x11</th>   <td> 3.603e+04</td> <td> 6877.648</td> <td>    5.239</td> <td> 0.000</td> <td> 2.25e+04</td> <td> 4.95e+04</td>\n",
       "</tr>\n",
       "<tr>\n",
       "  <th>x12</th>   <td> 4.444e+04</td> <td> 1.14e+04</td> <td>    3.886</td> <td> 0.000</td> <td>  2.2e+04</td> <td> 6.69e+04</td>\n",
       "</tr>\n",
       "<tr>\n",
       "  <th>x13</th>   <td> 2.317e+04</td> <td> 5246.229</td> <td>    4.416</td> <td> 0.000</td> <td> 1.29e+04</td> <td> 3.35e+04</td>\n",
       "</tr>\n",
       "<tr>\n",
       "  <th>x14</th>   <td> 2.891e+04</td> <td> 8336.370</td> <td>    3.468</td> <td> 0.001</td> <td> 1.26e+04</td> <td> 4.53e+04</td>\n",
       "</tr>\n",
       "<tr>\n",
       "  <th>x15</th>   <td> 1.285e+04</td> <td> 6101.490</td> <td>    2.106</td> <td> 0.035</td> <td>  882.423</td> <td> 2.48e+04</td>\n",
       "</tr>\n",
       "<tr>\n",
       "  <th>x16</th>   <td>-3549.2961</td> <td> 1.49e+04</td> <td>   -0.238</td> <td> 0.812</td> <td>-3.28e+04</td> <td> 2.57e+04</td>\n",
       "</tr>\n",
       "<tr>\n",
       "  <th>x17</th>   <td> 1.362e+04</td> <td> 1.21e+04</td> <td>    1.124</td> <td> 0.261</td> <td>-1.01e+04</td> <td> 3.74e+04</td>\n",
       "</tr>\n",
       "<tr>\n",
       "  <th>x18</th>   <td>-1.445e+04</td> <td> 9616.937</td> <td>   -1.502</td> <td> 0.133</td> <td>-3.33e+04</td> <td> 4416.872</td>\n",
       "</tr>\n",
       "<tr>\n",
       "  <th>x19</th>   <td> 1.281e+04</td> <td> 1.13e+04</td> <td>    1.130</td> <td> 0.259</td> <td>-9435.300</td> <td> 3.51e+04</td>\n",
       "</tr>\n",
       "<tr>\n",
       "  <th>x20</th>   <td>-5359.0563</td> <td> 8259.510</td> <td>   -0.649</td> <td> 0.517</td> <td>-2.16e+04</td> <td> 1.08e+04</td>\n",
       "</tr>\n",
       "<tr>\n",
       "  <th>x21</th>   <td> 1.245e+04</td> <td> 9128.126</td> <td>    1.363</td> <td> 0.173</td> <td>-5459.261</td> <td> 3.04e+04</td>\n",
       "</tr>\n",
       "<tr>\n",
       "  <th>x22</th>   <td>-1.969e+04</td> <td> 8883.694</td> <td>   -2.216</td> <td> 0.027</td> <td>-3.71e+04</td> <td>-2260.662</td>\n",
       "</tr>\n",
       "<tr>\n",
       "  <th>x23</th>   <td>-7289.0668</td> <td> 8480.541</td> <td>   -0.860</td> <td> 0.390</td> <td>-2.39e+04</td> <td> 9345.849</td>\n",
       "</tr>\n",
       "<tr>\n",
       "  <th>x24</th>   <td> 9048.3222</td> <td> 2.13e+04</td> <td>    0.425</td> <td> 0.671</td> <td>-3.27e+04</td> <td> 5.08e+04</td>\n",
       "</tr>\n",
       "<tr>\n",
       "  <th>x25</th>   <td> 1.282e+05</td> <td> 2.12e+04</td> <td>    6.051</td> <td> 0.000</td> <td> 8.67e+04</td> <td>  1.7e+05</td>\n",
       "</tr>\n",
       "<tr>\n",
       "  <th>x26</th>   <td>-1.828e+04</td> <td> 9790.320</td> <td>   -1.867</td> <td> 0.062</td> <td>-3.75e+04</td> <td>  923.395</td>\n",
       "</tr>\n",
       "<tr>\n",
       "  <th>x27</th>   <td> 1475.5565</td> <td> 2.91e+04</td> <td>    0.051</td> <td> 0.960</td> <td>-5.55e+04</td> <td> 5.85e+04</td>\n",
       "</tr>\n",
       "<tr>\n",
       "  <th>x28</th>   <td>-4986.7700</td> <td> 1.22e+04</td> <td>   -0.410</td> <td> 0.682</td> <td>-2.89e+04</td> <td> 1.89e+04</td>\n",
       "</tr>\n",
       "<tr>\n",
       "  <th>x29</th>   <td>-7553.2707</td> <td> 8847.902</td> <td>   -0.854</td> <td> 0.393</td> <td>-2.49e+04</td> <td> 9802.237</td>\n",
       "</tr>\n",
       "<tr>\n",
       "  <th>x30</th>   <td>-1.042e+04</td> <td> 8693.235</td> <td>   -1.198</td> <td> 0.231</td> <td>-2.75e+04</td> <td> 6634.866</td>\n",
       "</tr>\n",
       "<tr>\n",
       "  <th>x31</th>   <td> 4993.6658</td> <td> 1.13e+04</td> <td>    0.441</td> <td> 0.659</td> <td>-1.72e+04</td> <td> 2.72e+04</td>\n",
       "</tr>\n",
       "<tr>\n",
       "  <th>x32</th>   <td>-6836.2921</td> <td> 8981.693</td> <td>   -0.761</td> <td> 0.447</td> <td>-2.45e+04</td> <td> 1.08e+04</td>\n",
       "</tr>\n",
       "<tr>\n",
       "  <th>x33</th>   <td> 4.543e+04</td> <td> 9470.375</td> <td>    4.797</td> <td> 0.000</td> <td> 2.69e+04</td> <td>  6.4e+04</td>\n",
       "</tr>\n",
       "<tr>\n",
       "  <th>x34</th>   <td> 3.388e+04</td> <td> 8318.445</td> <td>    4.073</td> <td> 0.000</td> <td> 1.76e+04</td> <td> 5.02e+04</td>\n",
       "</tr>\n",
       "<tr>\n",
       "  <th>x35</th>   <td>-2.102e+04</td> <td> 9290.228</td> <td>   -2.263</td> <td> 0.024</td> <td>-3.92e+04</td> <td>-2801.473</td>\n",
       "</tr>\n",
       "<tr>\n",
       "  <th>x36</th>   <td>-1.449e+04</td> <td>  1.1e+04</td> <td>   -1.312</td> <td> 0.190</td> <td>-3.61e+04</td> <td> 7163.604</td>\n",
       "</tr>\n",
       "<tr>\n",
       "  <th>x37</th>   <td>-7662.9959</td> <td> 9085.257</td> <td>   -0.843</td> <td> 0.399</td> <td>-2.55e+04</td> <td> 1.02e+04</td>\n",
       "</tr>\n",
       "<tr>\n",
       "  <th>x38</th>   <td>-4905.6859</td> <td> 8699.275</td> <td>   -0.564</td> <td> 0.573</td> <td> -2.2e+04</td> <td> 1.22e+04</td>\n",
       "</tr>\n",
       "<tr>\n",
       "  <th>x39</th>   <td> 1.235e+04</td> <td> 8382.866</td> <td>    1.473</td> <td> 0.141</td> <td>-4096.805</td> <td> 2.88e+04</td>\n",
       "</tr>\n",
       "<tr>\n",
       "  <th>x40</th>   <td> 5.617e+04</td> <td> 9091.164</td> <td>    6.178</td> <td> 0.000</td> <td> 3.83e+04</td> <td>  7.4e+04</td>\n",
       "</tr>\n",
       "<tr>\n",
       "  <th>x41</th>   <td> 1114.1639</td> <td> 9121.645</td> <td>    0.122</td> <td> 0.903</td> <td>-1.68e+04</td> <td>  1.9e+04</td>\n",
       "</tr>\n",
       "<tr>\n",
       "  <th>x42</th>   <td> 8338.0292</td> <td> 1.12e+04</td> <td>    0.743</td> <td> 0.457</td> <td>-1.37e+04</td> <td> 3.03e+04</td>\n",
       "</tr>\n",
       "<tr>\n",
       "  <th>x43</th>   <td> 3370.6171</td> <td> 5170.109</td> <td>    0.652</td> <td> 0.515</td> <td>-6770.756</td> <td> 1.35e+04</td>\n",
       "</tr>\n",
       "<tr>\n",
       "  <th>x44</th>   <td> 1.301e+04</td> <td> 4168.593</td> <td>    3.120</td> <td> 0.002</td> <td> 4829.217</td> <td> 2.12e+04</td>\n",
       "</tr>\n",
       "<tr>\n",
       "  <th>x45</th>   <td> 2.836e+04</td> <td> 9613.082</td> <td>    2.950</td> <td> 0.003</td> <td> 9504.414</td> <td> 4.72e+04</td>\n",
       "</tr>\n",
       "<tr>\n",
       "  <th>x46</th>   <td> 2.486e+04</td> <td> 7108.234</td> <td>    3.498</td> <td> 0.000</td> <td> 1.09e+04</td> <td> 3.88e+04</td>\n",
       "</tr>\n",
       "<tr>\n",
       "  <th>x47</th>   <td>-5753.1907</td> <td> 8239.514</td> <td>   -0.698</td> <td> 0.485</td> <td>-2.19e+04</td> <td> 1.04e+04</td>\n",
       "</tr>\n",
       "<tr>\n",
       "  <th>x48</th>   <td> 1.159e+04</td> <td> 6815.868</td> <td>    1.701</td> <td> 0.089</td> <td>-1778.252</td> <td>  2.5e+04</td>\n",
       "</tr>\n",
       "<tr>\n",
       "  <th>x49</th>   <td>-6382.9985</td> <td> 2.04e+04</td> <td>   -0.312</td> <td> 0.755</td> <td>-4.65e+04</td> <td> 3.37e+04</td>\n",
       "</tr>\n",
       "<tr>\n",
       "  <th>x50</th>   <td> 4902.0270</td> <td> 1.48e+04</td> <td>    0.331</td> <td> 0.741</td> <td>-2.41e+04</td> <td> 3.39e+04</td>\n",
       "</tr>\n",
       "<tr>\n",
       "  <th>x51</th>   <td>-3.233e+04</td> <td> 9839.771</td> <td>   -3.285</td> <td> 0.001</td> <td>-5.16e+04</td> <td> -1.3e+04</td>\n",
       "</tr>\n",
       "<tr>\n",
       "  <th>x52</th>   <td>-2.396e+04</td> <td> 4768.912</td> <td>   -5.024</td> <td> 0.000</td> <td>-3.33e+04</td> <td>-1.46e+04</td>\n",
       "</tr>\n",
       "<tr>\n",
       "  <th>x53</th>   <td>-2.841e+04</td> <td> 5501.066</td> <td>   -5.164</td> <td> 0.000</td> <td>-3.92e+04</td> <td>-1.76e+04</td>\n",
       "</tr>\n",
       "<tr>\n",
       "  <th>x54</th>   <td> 1.898e+04</td> <td> 3136.698</td> <td>    6.050</td> <td> 0.000</td> <td> 1.28e+04</td> <td> 2.51e+04</td>\n",
       "</tr>\n",
       "<tr>\n",
       "  <th>x55</th>   <td>-7055.5762</td> <td> 3310.117</td> <td>   -2.132</td> <td> 0.033</td> <td>-1.35e+04</td> <td> -562.650</td>\n",
       "</tr>\n",
       "<tr>\n",
       "  <th>x56</th>   <td> 5493.8791</td> <td>  2.8e+04</td> <td>    0.196</td> <td> 0.845</td> <td>-4.95e+04</td> <td> 6.05e+04</td>\n",
       "</tr>\n",
       "<tr>\n",
       "  <th>x57</th>   <td>-8170.2120</td> <td> 2405.947</td> <td>   -3.396</td> <td> 0.001</td> <td>-1.29e+04</td> <td>-3450.852</td>\n",
       "</tr>\n",
       "<tr>\n",
       "  <th>x58</th>   <td>-3.725e+04</td> <td> 6609.223</td> <td>   -5.636</td> <td> 0.000</td> <td>-5.02e+04</td> <td>-2.43e+04</td>\n",
       "</tr>\n",
       "<tr>\n",
       "  <th>x59</th>   <td> -2.63e+04</td> <td> 3740.171</td> <td>   -7.031</td> <td> 0.000</td> <td>-3.36e+04</td> <td> -1.9e+04</td>\n",
       "</tr>\n",
       "<tr>\n",
       "  <th>x60</th>   <td>-3.215e+04</td> <td> 4247.564</td> <td>   -7.569</td> <td> 0.000</td> <td>-4.05e+04</td> <td>-2.38e+04</td>\n",
       "</tr>\n",
       "<tr>\n",
       "  <th>x61</th>   <td>-1.628e+05</td> <td> 3.05e+04</td> <td>   -5.335</td> <td> 0.000</td> <td>-2.23e+05</td> <td>-1.03e+05</td>\n",
       "</tr>\n",
       "<tr>\n",
       "  <th>x62</th>   <td>-1.117e+05</td> <td> 3.16e+04</td> <td>   -3.539</td> <td> 0.000</td> <td>-1.74e+05</td> <td>-4.98e+04</td>\n",
       "</tr>\n",
       "<tr>\n",
       "  <th>x63</th>   <td> 5941.8799</td> <td> 1.45e+04</td> <td>    0.409</td> <td> 0.682</td> <td>-2.25e+04</td> <td> 3.44e+04</td>\n",
       "</tr>\n",
       "<tr>\n",
       "  <th>x64</th>   <td>-1.952e+05</td> <td> 4.02e+04</td> <td>   -4.857</td> <td> 0.000</td> <td>-2.74e+05</td> <td>-1.16e+05</td>\n",
       "</tr>\n",
       "<tr>\n",
       "  <th>x65</th>   <td>-1.612e+05</td> <td> 3.02e+04</td> <td>   -5.333</td> <td> 0.000</td> <td>-2.21e+05</td> <td>-1.02e+05</td>\n",
       "</tr>\n",
       "<tr>\n",
       "  <th>x66</th>   <td> 1.812e+04</td> <td> 2.95e+04</td> <td>    0.614</td> <td> 0.539</td> <td>-3.97e+04</td> <td>  7.6e+04</td>\n",
       "</tr>\n",
       "<tr>\n",
       "  <th>x67</th>   <td>-1.558e+04</td> <td> 2.24e+04</td> <td>   -0.696</td> <td> 0.487</td> <td>-5.95e+04</td> <td> 2.83e+04</td>\n",
       "</tr>\n",
       "<tr>\n",
       "  <th>x68</th>   <td> 2.595e+04</td> <td> 7060.053</td> <td>    3.675</td> <td> 0.000</td> <td> 1.21e+04</td> <td> 3.98e+04</td>\n",
       "</tr>\n",
       "<tr>\n",
       "  <th>x69</th>   <td> 1.416e+04</td> <td> 3.06e+04</td> <td>    0.462</td> <td> 0.644</td> <td> -4.6e+04</td> <td> 7.43e+04</td>\n",
       "</tr>\n",
       "<tr>\n",
       "  <th>x70</th>   <td> 1.308e+04</td> <td> 7189.280</td> <td>    1.819</td> <td> 0.069</td> <td>-1022.718</td> <td> 2.72e+04</td>\n",
       "</tr>\n",
       "<tr>\n",
       "  <th>x71</th>   <td> 1298.3728</td> <td> 6183.503</td> <td>    0.210</td> <td> 0.834</td> <td>-1.08e+04</td> <td> 1.34e+04</td>\n",
       "</tr>\n",
       "<tr>\n",
       "  <th>x72</th>   <td>-1.351e+04</td> <td>  2.9e+04</td> <td>   -0.466</td> <td> 0.641</td> <td>-7.04e+04</td> <td> 4.33e+04</td>\n",
       "</tr>\n",
       "<tr>\n",
       "  <th>x73</th>   <td> 9306.9233</td> <td> 5960.486</td> <td>    1.561</td> <td> 0.119</td> <td>-2384.805</td> <td>  2.1e+04</td>\n",
       "</tr>\n",
       "<tr>\n",
       "  <th>x74</th>   <td> 6280.7374</td> <td> 6544.624</td> <td>    0.960</td> <td> 0.337</td> <td>-6556.801</td> <td> 1.91e+04</td>\n",
       "</tr>\n",
       "<tr>\n",
       "  <th>x75</th>   <td> 1.051e+04</td> <td> 2.12e+04</td> <td>    0.496</td> <td> 0.620</td> <td> -3.1e+04</td> <td> 5.21e+04</td>\n",
       "</tr>\n",
       "<tr>\n",
       "  <th>x76</th>   <td>-1.247e+04</td> <td> 8154.121</td> <td>   -1.529</td> <td> 0.127</td> <td>-2.85e+04</td> <td> 3528.583</td>\n",
       "</tr>\n",
       "<tr>\n",
       "  <th>x77</th>   <td> 9163.3569</td> <td> 6120.425</td> <td>    1.497</td> <td> 0.135</td> <td>-2842.097</td> <td> 2.12e+04</td>\n",
       "</tr>\n",
       "<tr>\n",
       "  <th>x78</th>   <td> 3238.3313</td> <td> 5960.801</td> <td>    0.543</td> <td> 0.587</td> <td>-8454.014</td> <td> 1.49e+04</td>\n",
       "</tr>\n",
       "<tr>\n",
       "  <th>x79</th>   <td> 1.014e+04</td> <td> 7799.941</td> <td>    1.300</td> <td> 0.194</td> <td>-5162.488</td> <td> 2.54e+04</td>\n",
       "</tr>\n",
       "<tr>\n",
       "  <th>x80</th>   <td>-5267.7610</td> <td> 1.42e+04</td> <td>   -0.371</td> <td> 0.711</td> <td>-3.32e+04</td> <td> 2.26e+04</td>\n",
       "</tr>\n",
       "<tr>\n",
       "  <th>x81</th>   <td>   45.0038</td> <td> 1.33e+04</td> <td>    0.003</td> <td> 0.997</td> <td> -2.6e+04</td> <td> 2.61e+04</td>\n",
       "</tr>\n",
       "<tr>\n",
       "  <th>x82</th>   <td>-1.353e+04</td> <td> 2.81e+04</td> <td>   -0.482</td> <td> 0.630</td> <td>-6.86e+04</td> <td> 4.15e+04</td>\n",
       "</tr>\n",
       "<tr>\n",
       "  <th>x83</th>   <td>-3580.0049</td> <td> 1.31e+04</td> <td>   -0.272</td> <td> 0.785</td> <td>-2.94e+04</td> <td> 2.22e+04</td>\n",
       "</tr>\n",
       "<tr>\n",
       "  <th>x84</th>   <td> -2.53e+04</td> <td> 6391.561</td> <td>   -3.958</td> <td> 0.000</td> <td>-3.78e+04</td> <td>-1.28e+04</td>\n",
       "</tr>\n",
       "<tr>\n",
       "  <th>x85</th>   <td>-2.432e+04</td> <td> 3497.107</td> <td>   -6.955</td> <td> 0.000</td> <td>-3.12e+04</td> <td>-1.75e+04</td>\n",
       "</tr>\n",
       "<tr>\n",
       "  <th>x86</th>   <td>-1.847e+04</td> <td> 1.12e+04</td> <td>   -1.645</td> <td> 0.100</td> <td>-4.05e+04</td> <td> 3552.270</td>\n",
       "</tr>\n",
       "<tr>\n",
       "  <th>x87</th>   <td>-1.448e+04</td> <td> 2.93e+04</td> <td>   -0.494</td> <td> 0.621</td> <td> -7.2e+04</td> <td>  4.3e+04</td>\n",
       "</tr>\n",
       "<tr>\n",
       "  <th>x88</th>   <td>-2.513e+04</td> <td> 4339.885</td> <td>   -5.790</td> <td> 0.000</td> <td>-3.36e+04</td> <td>-1.66e+04</td>\n",
       "</tr>\n",
       "<tr>\n",
       "  <th>x89</th>   <td>-1755.6843</td> <td> 1.77e+04</td> <td>   -0.099</td> <td> 0.921</td> <td>-3.64e+04</td> <td> 3.29e+04</td>\n",
       "</tr>\n",
       "<tr>\n",
       "  <th>x90</th>   <td> 4110.7483</td> <td> 1.74e+04</td> <td>    0.236</td> <td> 0.813</td> <td>   -3e+04</td> <td> 3.82e+04</td>\n",
       "</tr>\n",
       "<tr>\n",
       "  <th>x91</th>   <td>-1.847e+04</td> <td> 1.12e+04</td> <td>   -1.645</td> <td> 0.100</td> <td>-4.05e+04</td> <td> 3552.270</td>\n",
       "</tr>\n",
       "<tr>\n",
       "  <th>x92</th>   <td> 9692.0749</td> <td> 2.23e+04</td> <td>    0.434</td> <td> 0.664</td> <td>-3.41e+04</td> <td> 5.35e+04</td>\n",
       "</tr>\n",
       "<tr>\n",
       "  <th>x93</th>   <td>  329.1798</td> <td>  1.7e+04</td> <td>    0.019</td> <td> 0.985</td> <td>-3.31e+04</td> <td> 3.38e+04</td>\n",
       "</tr>\n",
       "<tr>\n",
       "  <th>x94</th>   <td>-2925.5984</td> <td> 2940.168</td> <td>   -0.995</td> <td> 0.320</td> <td>-8692.854</td> <td> 2841.657</td>\n",
       "</tr>\n",
       "<tr>\n",
       "  <th>x95</th>   <td>  417.9170</td> <td> 2695.049</td> <td>    0.155</td> <td> 0.877</td> <td>-4868.529</td> <td> 5704.363</td>\n",
       "</tr>\n",
       "<tr>\n",
       "  <th>x96</th>   <td>-6880.5103</td> <td> 3869.583</td> <td>   -1.778</td> <td> 0.076</td> <td>-1.45e+04</td> <td>  709.828</td>\n",
       "</tr>\n",
       "<tr>\n",
       "  <th>x97</th>   <td>-1.847e+04</td> <td> 1.12e+04</td> <td>   -1.645</td> <td> 0.100</td> <td>-4.05e+04</td> <td> 3552.270</td>\n",
       "</tr>\n",
       "<tr>\n",
       "  <th>x98</th>   <td>-4051.7168</td> <td> 3121.894</td> <td>   -1.298</td> <td> 0.195</td> <td>-1.02e+04</td> <td> 2072.001</td>\n",
       "</tr>\n",
       "<tr>\n",
       "  <th>x99</th>   <td>-1.379e+04</td> <td> 2568.394</td> <td>   -5.367</td> <td> 0.000</td> <td>-1.88e+04</td> <td>-8747.012</td>\n",
       "</tr>\n",
       "<tr>\n",
       "  <th>x100</th>  <td> 1.488e+04</td> <td>  1.7e+04</td> <td>    0.878</td> <td> 0.380</td> <td>-1.84e+04</td> <td> 4.82e+04</td>\n",
       "</tr>\n",
       "<tr>\n",
       "  <th>x101</th>  <td>  2.25e+04</td> <td> 1.23e+04</td> <td>    1.834</td> <td> 0.067</td> <td>-1564.128</td> <td> 4.66e+04</td>\n",
       "</tr>\n",
       "<tr>\n",
       "  <th>x102</th>  <td> 1.585e+04</td> <td> 1.24e+04</td> <td>    1.274</td> <td> 0.203</td> <td>-8549.693</td> <td> 4.02e+04</td>\n",
       "</tr>\n",
       "<tr>\n",
       "  <th>x103</th>  <td>  2.23e+04</td> <td> 1.28e+04</td> <td>    1.747</td> <td> 0.081</td> <td>-2738.028</td> <td> 4.73e+04</td>\n",
       "</tr>\n",
       "<tr>\n",
       "  <th>x104</th>  <td> 4791.8954</td> <td> 2.75e+04</td> <td>    0.174</td> <td> 0.862</td> <td>-4.91e+04</td> <td> 5.87e+04</td>\n",
       "</tr>\n",
       "<tr>\n",
       "  <th>x105</th>  <td>-3.744e+04</td> <td> 2.31e+04</td> <td>   -1.619</td> <td> 0.106</td> <td>-8.28e+04</td> <td> 7907.693</td>\n",
       "</tr>\n",
       "<tr>\n",
       "  <th>x106</th>  <td> 2.574e+04</td> <td> 1.13e+04</td> <td>    2.280</td> <td> 0.023</td> <td> 3591.550</td> <td> 4.79e+04</td>\n",
       "</tr>\n",
       "<tr>\n",
       "  <th>x107</th>  <td>-8094.1557</td> <td> 7474.191</td> <td>   -1.083</td> <td> 0.279</td> <td>-2.28e+04</td> <td> 6566.765</td>\n",
       "</tr>\n",
       "<tr>\n",
       "  <th>x108</th>  <td>-5640.8336</td> <td> 5926.969</td> <td>   -0.952</td> <td> 0.341</td> <td>-1.73e+04</td> <td> 5985.149</td>\n",
       "</tr>\n",
       "<tr>\n",
       "  <th>x109</th>  <td>-6571.0914</td> <td> 6791.606</td> <td>   -0.968</td> <td> 0.333</td> <td>-1.99e+04</td> <td> 6750.911</td>\n",
       "</tr>\n",
       "<tr>\n",
       "  <th>x110</th>  <td>-1.021e+04</td> <td> 8274.027</td> <td>   -1.235</td> <td> 0.217</td> <td>-2.64e+04</td> <td> 6015.363</td>\n",
       "</tr>\n",
       "<tr>\n",
       "  <th>x111</th>  <td>-3656.0614</td> <td> 6144.578</td> <td>   -0.595</td> <td> 0.552</td> <td>-1.57e+04</td> <td> 8396.770</td>\n",
       "</tr>\n",
       "<tr>\n",
       "  <th>x112</th>  <td>-1663.9177</td> <td> 5746.746</td> <td>   -0.290</td> <td> 0.772</td> <td>-1.29e+04</td> <td> 9608.550</td>\n",
       "</tr>\n",
       "<tr>\n",
       "  <th>x113</th>  <td> 2427.4264</td> <td> 3470.716</td> <td>    0.699</td> <td> 0.484</td> <td>-4380.519</td> <td> 9235.372</td>\n",
       "</tr>\n",
       "<tr>\n",
       "  <th>x114</th>  <td> 1.295e+04</td> <td> 9795.638</td> <td>    1.322</td> <td> 0.186</td> <td>-6261.890</td> <td> 3.22e+04</td>\n",
       "</tr>\n",
       "<tr>\n",
       "  <th>x115</th>  <td> 8.432e+04</td> <td> 2.84e+04</td> <td>    2.970</td> <td> 0.003</td> <td> 2.86e+04</td> <td>  1.4e+05</td>\n",
       "</tr>\n",
       "<tr>\n",
       "  <th>x116</th>  <td> 1.539e+04</td> <td> 8250.253</td> <td>    1.865</td> <td> 0.062</td> <td> -798.080</td> <td> 3.16e+04</td>\n",
       "</tr>\n",
       "<tr>\n",
       "  <th>x117</th>  <td>  256.4495</td> <td> 1.23e+04</td> <td>    0.021</td> <td> 0.983</td> <td>-2.38e+04</td> <td> 2.44e+04</td>\n",
       "</tr>\n",
       "<tr>\n",
       "  <th>x118</th>  <td> 1764.8448</td> <td> 1.34e+04</td> <td>    0.131</td> <td> 0.896</td> <td>-2.46e+04</td> <td> 2.81e+04</td>\n",
       "</tr>\n",
       "<tr>\n",
       "  <th>x119</th>  <td> 1.403e+04</td> <td> 5162.793</td> <td>    2.717</td> <td> 0.007</td> <td> 3899.717</td> <td> 2.42e+04</td>\n",
       "</tr>\n",
       "<tr>\n",
       "  <th>x120</th>  <td> 1.983e+04</td> <td> 1.47e+04</td> <td>    1.349</td> <td> 0.178</td> <td>-9013.987</td> <td> 4.87e+04</td>\n",
       "</tr>\n",
       "<tr>\n",
       "  <th>x121</th>  <td> 7845.3105</td> <td> 4183.518</td> <td>    1.875</td> <td> 0.061</td> <td> -360.825</td> <td> 1.61e+04</td>\n",
       "</tr>\n",
       "<tr>\n",
       "  <th>x122</th>  <td> 1.593e+05</td> <td> 4.22e+04</td> <td>    3.773</td> <td> 0.000</td> <td> 7.65e+04</td> <td> 2.42e+05</td>\n",
       "</tr>\n",
       "<tr>\n",
       "  <th>x123</th>  <td> 1.558e+05</td> <td> 4.31e+04</td> <td>    3.614</td> <td> 0.000</td> <td> 7.12e+04</td> <td>  2.4e+05</td>\n",
       "</tr>\n",
       "<tr>\n",
       "  <th>x124</th>  <td> 5941.8799</td> <td> 1.45e+04</td> <td>    0.409</td> <td> 0.682</td> <td>-2.25e+04</td> <td> 3.44e+04</td>\n",
       "</tr>\n",
       "<tr>\n",
       "  <th>x125</th>  <td> 1.597e+05</td> <td> 4.45e+04</td> <td>    3.588</td> <td> 0.000</td> <td> 7.24e+04</td> <td> 2.47e+05</td>\n",
       "</tr>\n",
       "<tr>\n",
       "  <th>x126</th>  <td> 1.625e+05</td> <td> 4.18e+04</td> <td>    3.883</td> <td> 0.000</td> <td> 8.04e+04</td> <td> 2.45e+05</td>\n",
       "</tr>\n",
       "<tr>\n",
       "  <th>x127</th>  <td> 7796.0082</td> <td> 1061.954</td> <td>    7.341</td> <td> 0.000</td> <td> 5712.944</td> <td> 9879.072</td>\n",
       "</tr>\n",
       "<tr>\n",
       "  <th>x128</th>  <td>   42.4629</td> <td>    4.259</td> <td>    9.969</td> <td> 0.000</td> <td>   34.108</td> <td>   50.818</td>\n",
       "</tr>\n",
       "<tr>\n",
       "  <th>x129</th>  <td>    6.9626</td> <td>    8.140</td> <td>    0.855</td> <td> 0.393</td> <td>   -9.005</td> <td>   22.931</td>\n",
       "</tr>\n",
       "<tr>\n",
       "  <th>x130</th>  <td> 9814.8159</td> <td> 2407.526</td> <td>    4.077</td> <td> 0.000</td> <td> 5092.358</td> <td> 1.45e+04</td>\n",
       "</tr>\n",
       "<tr>\n",
       "  <th>x131</th>  <td>    4.5177</td> <td>    4.125</td> <td>    1.095</td> <td> 0.274</td> <td>   -3.574</td> <td>   12.609</td>\n",
       "</tr>\n",
       "<tr>\n",
       "  <th>x132</th>  <td>   -6.0432</td> <td>    5.956</td> <td>   -1.015</td> <td> 0.310</td> <td>  -17.726</td> <td>    5.639</td>\n",
       "</tr>\n",
       "<tr>\n",
       "  <th>x133</th>  <td>  182.3565</td> <td>   79.137</td> <td>    2.304</td> <td> 0.021</td> <td>   27.126</td> <td>  337.587</td>\n",
       "</tr>\n",
       "<tr>\n",
       "  <th>x134</th>  <td> 5550.8460</td> <td> 2060.791</td> <td>    2.694</td> <td> 0.007</td> <td> 1508.523</td> <td> 9593.169</td>\n",
       "</tr>\n",
       "<tr>\n",
       "  <th>x135</th>  <td> 6875.9309</td> <td> 2904.280</td> <td>    2.368</td> <td> 0.018</td> <td> 1179.071</td> <td> 1.26e+04</td>\n",
       "</tr>\n",
       "</table>\n",
       "<table class=\"simpletable\">\n",
       "<tr>\n",
       "  <th>Omnibus:</th>       <td>848.895</td> <th>  Durbin-Watson:     </th> <td>   2.000</td> \n",
       "</tr>\n",
       "<tr>\n",
       "  <th>Prob(Omnibus):</th> <td> 0.000</td>  <th>  Jarque-Bera (JB):  </th> <td>71715.114</td>\n",
       "</tr>\n",
       "<tr>\n",
       "  <th>Skew:</th>          <td>-1.521</td>  <th>  Prob(JB):          </th> <td>    0.00</td> \n",
       "</tr>\n",
       "<tr>\n",
       "  <th>Kurtosis:</th>      <td>35.253</td>  <th>  Cond. No.          </th> <td>1.08e+17</td> \n",
       "</tr>\n",
       "</table><br/><br/>Notes:<br/>[1] Standard Errors assume that the covariance matrix of the errors is correctly specified.<br/>[2] The smallest eigenvalue is 1.29e-24. This might indicate that there are<br/>strong multicollinearity problems or that the design matrix is singular."
      ],
      "text/latex": [
       "\\begin{center}\n",
       "\\begin{tabular}{lclc}\n",
       "\\toprule\n",
       "\\textbf{Dep. Variable:}    &    SalePrice     & \\textbf{  R-squared:         } &     0.891   \\\\\n",
       "\\textbf{Model:}            &       OLS        & \\textbf{  Adj. R-squared:    } &     0.882   \\\\\n",
       "\\textbf{Method:}           &  Least Squares   & \\textbf{  F-statistic:       } &     93.45   \\\\\n",
       "\\textbf{Date:}             & Fri, 06 Oct 2023 & \\textbf{  Prob (F-statistic):} &     0.00    \\\\\n",
       "\\textbf{Time:}             &     07:33:59     & \\textbf{  Log-Likelihood:    } &   -19019.   \\\\\n",
       "\\textbf{No. Observations:} &        1640      & \\textbf{  AIC:               } & 3.830e+04   \\\\\n",
       "\\textbf{Df Residuals:}     &        1507      & \\textbf{  BIC:               } & 3.902e+04   \\\\\n",
       "\\textbf{Df Model:}         &         132      & \\textbf{                     } &             \\\\\n",
       "\\textbf{Covariance Type:}  &    nonrobust     & \\textbf{                     } &             \\\\\n",
       "\\bottomrule\n",
       "\\end{tabular}\n",
       "\\begin{tabular}{lcccccc}\n",
       "               & \\textbf{coef} & \\textbf{std err} & \\textbf{t} & \\textbf{P$> |$t$|$} & \\textbf{[0.025} & \\textbf{0.975]}  \\\\\n",
       "\\midrule\n",
       "\\textbf{const} &   -3.091e+05  &     1.61e+05     &    -1.922  &         0.055        &    -6.25e+05    &     6366.143     \\\\\n",
       "\\textbf{x1}    &   -8.175e+04  &     3.07e+04     &    -2.662  &         0.008        &    -1.42e+05    &    -2.15e+04     \\\\\n",
       "\\textbf{x2}    &   -1.174e+04  &     6182.553     &    -1.899  &         0.058        &    -2.39e+04    &      387.697     \\\\\n",
       "\\textbf{x3}    &   -9473.6982  &     1.11e+04     &    -0.856  &         0.392        &    -3.12e+04    &     1.22e+04     \\\\\n",
       "\\textbf{x4}    &    1.999e+04  &     7109.938     &     2.811  &         0.005        &     6039.536    &     3.39e+04     \\\\\n",
       "\\textbf{x5}    &    3.744e+04  &     3786.214     &     9.888  &         0.000        &        3e+04    &     4.49e+04     \\\\\n",
       "\\textbf{x6}    &    3.932e+04  &     5983.711     &     6.572  &         0.000        &     2.76e+04    &     5.11e+04     \\\\\n",
       "\\textbf{x7}    &    3.525e+04  &     2.86e+04     &     1.234  &         0.217        &    -2.08e+04    &     9.13e+04     \\\\\n",
       "\\textbf{x8}    &    4.326e+04  &     1.25e+04     &     3.452  &         0.001        &     1.87e+04    &     6.78e+04     \\\\\n",
       "\\textbf{x9}    &    3.395e+04  &     5668.867     &     5.989  &         0.000        &     2.28e+04    &     4.51e+04     \\\\\n",
       "\\textbf{x10}   &    2.447e+04  &     5364.877     &     4.561  &         0.000        &     1.39e+04    &      3.5e+04     \\\\\n",
       "\\textbf{x11}   &    3.603e+04  &     6877.648     &     5.239  &         0.000        &     2.25e+04    &     4.95e+04     \\\\\n",
       "\\textbf{x12}   &    4.444e+04  &     1.14e+04     &     3.886  &         0.000        &      2.2e+04    &     6.69e+04     \\\\\n",
       "\\textbf{x13}   &    2.317e+04  &     5246.229     &     4.416  &         0.000        &     1.29e+04    &     3.35e+04     \\\\\n",
       "\\textbf{x14}   &    2.891e+04  &     8336.370     &     3.468  &         0.001        &     1.26e+04    &     4.53e+04     \\\\\n",
       "\\textbf{x15}   &    1.285e+04  &     6101.490     &     2.106  &         0.035        &      882.423    &     2.48e+04     \\\\\n",
       "\\textbf{x16}   &   -3549.2961  &     1.49e+04     &    -0.238  &         0.812        &    -3.28e+04    &     2.57e+04     \\\\\n",
       "\\textbf{x17}   &    1.362e+04  &     1.21e+04     &     1.124  &         0.261        &    -1.01e+04    &     3.74e+04     \\\\\n",
       "\\textbf{x18}   &   -1.445e+04  &     9616.937     &    -1.502  &         0.133        &    -3.33e+04    &     4416.872     \\\\\n",
       "\\textbf{x19}   &    1.281e+04  &     1.13e+04     &     1.130  &         0.259        &    -9435.300    &     3.51e+04     \\\\\n",
       "\\textbf{x20}   &   -5359.0563  &     8259.510     &    -0.649  &         0.517        &    -2.16e+04    &     1.08e+04     \\\\\n",
       "\\textbf{x21}   &    1.245e+04  &     9128.126     &     1.363  &         0.173        &    -5459.261    &     3.04e+04     \\\\\n",
       "\\textbf{x22}   &   -1.969e+04  &     8883.694     &    -2.216  &         0.027        &    -3.71e+04    &    -2260.662     \\\\\n",
       "\\textbf{x23}   &   -7289.0668  &     8480.541     &    -0.860  &         0.390        &    -2.39e+04    &     9345.849     \\\\\n",
       "\\textbf{x24}   &    9048.3222  &     2.13e+04     &     0.425  &         0.671        &    -3.27e+04    &     5.08e+04     \\\\\n",
       "\\textbf{x25}   &    1.282e+05  &     2.12e+04     &     6.051  &         0.000        &     8.67e+04    &      1.7e+05     \\\\\n",
       "\\textbf{x26}   &   -1.828e+04  &     9790.320     &    -1.867  &         0.062        &    -3.75e+04    &      923.395     \\\\\n",
       "\\textbf{x27}   &    1475.5565  &     2.91e+04     &     0.051  &         0.960        &    -5.55e+04    &     5.85e+04     \\\\\n",
       "\\textbf{x28}   &   -4986.7700  &     1.22e+04     &    -0.410  &         0.682        &    -2.89e+04    &     1.89e+04     \\\\\n",
       "\\textbf{x29}   &   -7553.2707  &     8847.902     &    -0.854  &         0.393        &    -2.49e+04    &     9802.237     \\\\\n",
       "\\textbf{x30}   &   -1.042e+04  &     8693.235     &    -1.198  &         0.231        &    -2.75e+04    &     6634.866     \\\\\n",
       "\\textbf{x31}   &    4993.6658  &     1.13e+04     &     0.441  &         0.659        &    -1.72e+04    &     2.72e+04     \\\\\n",
       "\\textbf{x32}   &   -6836.2921  &     8981.693     &    -0.761  &         0.447        &    -2.45e+04    &     1.08e+04     \\\\\n",
       "\\textbf{x33}   &    4.543e+04  &     9470.375     &     4.797  &         0.000        &     2.69e+04    &      6.4e+04     \\\\\n",
       "\\textbf{x34}   &    3.388e+04  &     8318.445     &     4.073  &         0.000        &     1.76e+04    &     5.02e+04     \\\\\n",
       "\\textbf{x35}   &   -2.102e+04  &     9290.228     &    -2.263  &         0.024        &    -3.92e+04    &    -2801.473     \\\\\n",
       "\\textbf{x36}   &   -1.449e+04  &      1.1e+04     &    -1.312  &         0.190        &    -3.61e+04    &     7163.604     \\\\\n",
       "\\textbf{x37}   &   -7662.9959  &     9085.257     &    -0.843  &         0.399        &    -2.55e+04    &     1.02e+04     \\\\\n",
       "\\textbf{x38}   &   -4905.6859  &     8699.275     &    -0.564  &         0.573        &     -2.2e+04    &     1.22e+04     \\\\\n",
       "\\textbf{x39}   &    1.235e+04  &     8382.866     &     1.473  &         0.141        &    -4096.805    &     2.88e+04     \\\\\n",
       "\\textbf{x40}   &    5.617e+04  &     9091.164     &     6.178  &         0.000        &     3.83e+04    &      7.4e+04     \\\\\n",
       "\\textbf{x41}   &    1114.1639  &     9121.645     &     0.122  &         0.903        &    -1.68e+04    &      1.9e+04     \\\\\n",
       "\\textbf{x42}   &    8338.0292  &     1.12e+04     &     0.743  &         0.457        &    -1.37e+04    &     3.03e+04     \\\\\n",
       "\\textbf{x43}   &    3370.6171  &     5170.109     &     0.652  &         0.515        &    -6770.756    &     1.35e+04     \\\\\n",
       "\\textbf{x44}   &    1.301e+04  &     4168.593     &     3.120  &         0.002        &     4829.217    &     2.12e+04     \\\\\n",
       "\\textbf{x45}   &    2.836e+04  &     9613.082     &     2.950  &         0.003        &     9504.414    &     4.72e+04     \\\\\n",
       "\\textbf{x46}   &    2.486e+04  &     7108.234     &     3.498  &         0.000        &     1.09e+04    &     3.88e+04     \\\\\n",
       "\\textbf{x47}   &   -5753.1907  &     8239.514     &    -0.698  &         0.485        &    -2.19e+04    &     1.04e+04     \\\\\n",
       "\\textbf{x48}   &    1.159e+04  &     6815.868     &     1.701  &         0.089        &    -1778.252    &      2.5e+04     \\\\\n",
       "\\textbf{x49}   &   -6382.9985  &     2.04e+04     &    -0.312  &         0.755        &    -4.65e+04    &     3.37e+04     \\\\\n",
       "\\textbf{x50}   &    4902.0270  &     1.48e+04     &     0.331  &         0.741        &    -2.41e+04    &     3.39e+04     \\\\\n",
       "\\textbf{x51}   &   -3.233e+04  &     9839.771     &    -3.285  &         0.001        &    -5.16e+04    &     -1.3e+04     \\\\\n",
       "\\textbf{x52}   &   -2.396e+04  &     4768.912     &    -5.024  &         0.000        &    -3.33e+04    &    -1.46e+04     \\\\\n",
       "\\textbf{x53}   &   -2.841e+04  &     5501.066     &    -5.164  &         0.000        &    -3.92e+04    &    -1.76e+04     \\\\\n",
       "\\textbf{x54}   &    1.898e+04  &     3136.698     &     6.050  &         0.000        &     1.28e+04    &     2.51e+04     \\\\\n",
       "\\textbf{x55}   &   -7055.5762  &     3310.117     &    -2.132  &         0.033        &    -1.35e+04    &     -562.650     \\\\\n",
       "\\textbf{x56}   &    5493.8791  &      2.8e+04     &     0.196  &         0.845        &    -4.95e+04    &     6.05e+04     \\\\\n",
       "\\textbf{x57}   &   -8170.2120  &     2405.947     &    -3.396  &         0.001        &    -1.29e+04    &    -3450.852     \\\\\n",
       "\\textbf{x58}   &   -3.725e+04  &     6609.223     &    -5.636  &         0.000        &    -5.02e+04    &    -2.43e+04     \\\\\n",
       "\\textbf{x59}   &    -2.63e+04  &     3740.171     &    -7.031  &         0.000        &    -3.36e+04    &     -1.9e+04     \\\\\n",
       "\\textbf{x60}   &   -3.215e+04  &     4247.564     &    -7.569  &         0.000        &    -4.05e+04    &    -2.38e+04     \\\\\n",
       "\\textbf{x61}   &   -1.628e+05  &     3.05e+04     &    -5.335  &         0.000        &    -2.23e+05    &    -1.03e+05     \\\\\n",
       "\\textbf{x62}   &   -1.117e+05  &     3.16e+04     &    -3.539  &         0.000        &    -1.74e+05    &    -4.98e+04     \\\\\n",
       "\\textbf{x63}   &    5941.8799  &     1.45e+04     &     0.409  &         0.682        &    -2.25e+04    &     3.44e+04     \\\\\n",
       "\\textbf{x64}   &   -1.952e+05  &     4.02e+04     &    -4.857  &         0.000        &    -2.74e+05    &    -1.16e+05     \\\\\n",
       "\\textbf{x65}   &   -1.612e+05  &     3.02e+04     &    -5.333  &         0.000        &    -2.21e+05    &    -1.02e+05     \\\\\n",
       "\\textbf{x66}   &    1.812e+04  &     2.95e+04     &     0.614  &         0.539        &    -3.97e+04    &      7.6e+04     \\\\\n",
       "\\textbf{x67}   &   -1.558e+04  &     2.24e+04     &    -0.696  &         0.487        &    -5.95e+04    &     2.83e+04     \\\\\n",
       "\\textbf{x68}   &    2.595e+04  &     7060.053     &     3.675  &         0.000        &     1.21e+04    &     3.98e+04     \\\\\n",
       "\\textbf{x69}   &    1.416e+04  &     3.06e+04     &     0.462  &         0.644        &     -4.6e+04    &     7.43e+04     \\\\\n",
       "\\textbf{x70}   &    1.308e+04  &     7189.280     &     1.819  &         0.069        &    -1022.718    &     2.72e+04     \\\\\n",
       "\\textbf{x71}   &    1298.3728  &     6183.503     &     0.210  &         0.834        &    -1.08e+04    &     1.34e+04     \\\\\n",
       "\\textbf{x72}   &   -1.351e+04  &      2.9e+04     &    -0.466  &         0.641        &    -7.04e+04    &     4.33e+04     \\\\\n",
       "\\textbf{x73}   &    9306.9233  &     5960.486     &     1.561  &         0.119        &    -2384.805    &      2.1e+04     \\\\\n",
       "\\textbf{x74}   &    6280.7374  &     6544.624     &     0.960  &         0.337        &    -6556.801    &     1.91e+04     \\\\\n",
       "\\textbf{x75}   &    1.051e+04  &     2.12e+04     &     0.496  &         0.620        &     -3.1e+04    &     5.21e+04     \\\\\n",
       "\\textbf{x76}   &   -1.247e+04  &     8154.121     &    -1.529  &         0.127        &    -2.85e+04    &     3528.583     \\\\\n",
       "\\textbf{x77}   &    9163.3569  &     6120.425     &     1.497  &         0.135        &    -2842.097    &     2.12e+04     \\\\\n",
       "\\textbf{x78}   &    3238.3313  &     5960.801     &     0.543  &         0.587        &    -8454.014    &     1.49e+04     \\\\\n",
       "\\textbf{x79}   &    1.014e+04  &     7799.941     &     1.300  &         0.194        &    -5162.488    &     2.54e+04     \\\\\n",
       "\\textbf{x80}   &   -5267.7610  &     1.42e+04     &    -0.371  &         0.711        &    -3.32e+04    &     2.26e+04     \\\\\n",
       "\\textbf{x81}   &      45.0038  &     1.33e+04     &     0.003  &         0.997        &     -2.6e+04    &     2.61e+04     \\\\\n",
       "\\textbf{x82}   &   -1.353e+04  &     2.81e+04     &    -0.482  &         0.630        &    -6.86e+04    &     4.15e+04     \\\\\n",
       "\\textbf{x83}   &   -3580.0049  &     1.31e+04     &    -0.272  &         0.785        &    -2.94e+04    &     2.22e+04     \\\\\n",
       "\\textbf{x84}   &    -2.53e+04  &     6391.561     &    -3.958  &         0.000        &    -3.78e+04    &    -1.28e+04     \\\\\n",
       "\\textbf{x85}   &   -2.432e+04  &     3497.107     &    -6.955  &         0.000        &    -3.12e+04    &    -1.75e+04     \\\\\n",
       "\\textbf{x86}   &   -1.847e+04  &     1.12e+04     &    -1.645  &         0.100        &    -4.05e+04    &     3552.270     \\\\\n",
       "\\textbf{x87}   &   -1.448e+04  &     2.93e+04     &    -0.494  &         0.621        &     -7.2e+04    &      4.3e+04     \\\\\n",
       "\\textbf{x88}   &   -2.513e+04  &     4339.885     &    -5.790  &         0.000        &    -3.36e+04    &    -1.66e+04     \\\\\n",
       "\\textbf{x89}   &   -1755.6843  &     1.77e+04     &    -0.099  &         0.921        &    -3.64e+04    &     3.29e+04     \\\\\n",
       "\\textbf{x90}   &    4110.7483  &     1.74e+04     &     0.236  &         0.813        &       -3e+04    &     3.82e+04     \\\\\n",
       "\\textbf{x91}   &   -1.847e+04  &     1.12e+04     &    -1.645  &         0.100        &    -4.05e+04    &     3552.270     \\\\\n",
       "\\textbf{x92}   &    9692.0749  &     2.23e+04     &     0.434  &         0.664        &    -3.41e+04    &     5.35e+04     \\\\\n",
       "\\textbf{x93}   &     329.1798  &      1.7e+04     &     0.019  &         0.985        &    -3.31e+04    &     3.38e+04     \\\\\n",
       "\\textbf{x94}   &   -2925.5984  &     2940.168     &    -0.995  &         0.320        &    -8692.854    &     2841.657     \\\\\n",
       "\\textbf{x95}   &     417.9170  &     2695.049     &     0.155  &         0.877        &    -4868.529    &     5704.363     \\\\\n",
       "\\textbf{x96}   &   -6880.5103  &     3869.583     &    -1.778  &         0.076        &    -1.45e+04    &      709.828     \\\\\n",
       "\\textbf{x97}   &   -1.847e+04  &     1.12e+04     &    -1.645  &         0.100        &    -4.05e+04    &     3552.270     \\\\\n",
       "\\textbf{x98}   &   -4051.7168  &     3121.894     &    -1.298  &         0.195        &    -1.02e+04    &     2072.001     \\\\\n",
       "\\textbf{x99}   &   -1.379e+04  &     2568.394     &    -5.367  &         0.000        &    -1.88e+04    &    -8747.012     \\\\\n",
       "\\textbf{x100}  &    1.488e+04  &      1.7e+04     &     0.878  &         0.380        &    -1.84e+04    &     4.82e+04     \\\\\n",
       "\\textbf{x101}  &     2.25e+04  &     1.23e+04     &     1.834  &         0.067        &    -1564.128    &     4.66e+04     \\\\\n",
       "\\textbf{x102}  &    1.585e+04  &     1.24e+04     &     1.274  &         0.203        &    -8549.693    &     4.02e+04     \\\\\n",
       "\\textbf{x103}  &     2.23e+04  &     1.28e+04     &     1.747  &         0.081        &    -2738.028    &     4.73e+04     \\\\\n",
       "\\textbf{x104}  &    4791.8954  &     2.75e+04     &     0.174  &         0.862        &    -4.91e+04    &     5.87e+04     \\\\\n",
       "\\textbf{x105}  &   -3.744e+04  &     2.31e+04     &    -1.619  &         0.106        &    -8.28e+04    &     7907.693     \\\\\n",
       "\\textbf{x106}  &    2.574e+04  &     1.13e+04     &     2.280  &         0.023        &     3591.550    &     4.79e+04     \\\\\n",
       "\\textbf{x107}  &   -8094.1557  &     7474.191     &    -1.083  &         0.279        &    -2.28e+04    &     6566.765     \\\\\n",
       "\\textbf{x108}  &   -5640.8336  &     5926.969     &    -0.952  &         0.341        &    -1.73e+04    &     5985.149     \\\\\n",
       "\\textbf{x109}  &   -6571.0914  &     6791.606     &    -0.968  &         0.333        &    -1.99e+04    &     6750.911     \\\\\n",
       "\\textbf{x110}  &   -1.021e+04  &     8274.027     &    -1.235  &         0.217        &    -2.64e+04    &     6015.363     \\\\\n",
       "\\textbf{x111}  &   -3656.0614  &     6144.578     &    -0.595  &         0.552        &    -1.57e+04    &     8396.770     \\\\\n",
       "\\textbf{x112}  &   -1663.9177  &     5746.746     &    -0.290  &         0.772        &    -1.29e+04    &     9608.550     \\\\\n",
       "\\textbf{x113}  &    2427.4264  &     3470.716     &     0.699  &         0.484        &    -4380.519    &     9235.372     \\\\\n",
       "\\textbf{x114}  &    1.295e+04  &     9795.638     &     1.322  &         0.186        &    -6261.890    &     3.22e+04     \\\\\n",
       "\\textbf{x115}  &    8.432e+04  &     2.84e+04     &     2.970  &         0.003        &     2.86e+04    &      1.4e+05     \\\\\n",
       "\\textbf{x116}  &    1.539e+04  &     8250.253     &     1.865  &         0.062        &     -798.080    &     3.16e+04     \\\\\n",
       "\\textbf{x117}  &     256.4495  &     1.23e+04     &     0.021  &         0.983        &    -2.38e+04    &     2.44e+04     \\\\\n",
       "\\textbf{x118}  &    1764.8448  &     1.34e+04     &     0.131  &         0.896        &    -2.46e+04    &     2.81e+04     \\\\\n",
       "\\textbf{x119}  &    1.403e+04  &     5162.793     &     2.717  &         0.007        &     3899.717    &     2.42e+04     \\\\\n",
       "\\textbf{x120}  &    1.983e+04  &     1.47e+04     &     1.349  &         0.178        &    -9013.987    &     4.87e+04     \\\\\n",
       "\\textbf{x121}  &    7845.3105  &     4183.518     &     1.875  &         0.061        &     -360.825    &     1.61e+04     \\\\\n",
       "\\textbf{x122}  &    1.593e+05  &     4.22e+04     &     3.773  &         0.000        &     7.65e+04    &     2.42e+05     \\\\\n",
       "\\textbf{x123}  &    1.558e+05  &     4.31e+04     &     3.614  &         0.000        &     7.12e+04    &      2.4e+05     \\\\\n",
       "\\textbf{x124}  &    5941.8799  &     1.45e+04     &     0.409  &         0.682        &    -2.25e+04    &     3.44e+04     \\\\\n",
       "\\textbf{x125}  &    1.597e+05  &     4.45e+04     &     3.588  &         0.000        &     7.24e+04    &     2.47e+05     \\\\\n",
       "\\textbf{x126}  &    1.625e+05  &     4.18e+04     &     3.883  &         0.000        &     8.04e+04    &     2.45e+05     \\\\\n",
       "\\textbf{x127}  &    7796.0082  &     1061.954     &     7.341  &         0.000        &     5712.944    &     9879.072     \\\\\n",
       "\\textbf{x128}  &      42.4629  &        4.259     &     9.969  &         0.000        &       34.108    &       50.818     \\\\\n",
       "\\textbf{x129}  &       6.9626  &        8.140     &     0.855  &         0.393        &       -9.005    &       22.931     \\\\\n",
       "\\textbf{x130}  &    9814.8159  &     2407.526     &     4.077  &         0.000        &     5092.358    &     1.45e+04     \\\\\n",
       "\\textbf{x131}  &       4.5177  &        4.125     &     1.095  &         0.274        &       -3.574    &       12.609     \\\\\n",
       "\\textbf{x132}  &      -6.0432  &        5.956     &    -1.015  &         0.310        &      -17.726    &        5.639     \\\\\n",
       "\\textbf{x133}  &     182.3565  &       79.137     &     2.304  &         0.021        &       27.126    &      337.587     \\\\\n",
       "\\textbf{x134}  &    5550.8460  &     2060.791     &     2.694  &         0.007        &     1508.523    &     9593.169     \\\\\n",
       "\\textbf{x135}  &    6875.9309  &     2904.280     &     2.368  &         0.018        &     1179.071    &     1.26e+04     \\\\\n",
       "\\bottomrule\n",
       "\\end{tabular}\n",
       "\\begin{tabular}{lclc}\n",
       "\\textbf{Omnibus:}       & 848.895 & \\textbf{  Durbin-Watson:     } &     2.000  \\\\\n",
       "\\textbf{Prob(Omnibus):} &   0.000 & \\textbf{  Jarque-Bera (JB):  } & 71715.114  \\\\\n",
       "\\textbf{Skew:}          &  -1.521 & \\textbf{  Prob(JB):          } &      0.00  \\\\\n",
       "\\textbf{Kurtosis:}      &  35.253 & \\textbf{  Cond. No.          } &  1.08e+17  \\\\\n",
       "\\bottomrule\n",
       "\\end{tabular}\n",
       "%\\caption{OLS Regression Results}\n",
       "\\end{center}\n",
       "\n",
       "Notes: \\newline\n",
       " [1] Standard Errors assume that the covariance matrix of the errors is correctly specified. \\newline\n",
       " [2] The smallest eigenvalue is 1.29e-24. This might indicate that there are \\newline\n",
       " strong multicollinearity problems or that the design matrix is singular."
      ],
      "text/plain": [
       "<class 'statsmodels.iolib.summary.Summary'>\n",
       "\"\"\"\n",
       "                            OLS Regression Results                            \n",
       "==============================================================================\n",
       "Dep. Variable:              SalePrice   R-squared:                       0.891\n",
       "Model:                            OLS   Adj. R-squared:                  0.882\n",
       "Method:                 Least Squares   F-statistic:                     93.45\n",
       "Date:                Fri, 06 Oct 2023   Prob (F-statistic):               0.00\n",
       "Time:                        07:33:59   Log-Likelihood:                -19019.\n",
       "No. Observations:                1640   AIC:                         3.830e+04\n",
       "Df Residuals:                    1507   BIC:                         3.902e+04\n",
       "Df Model:                         132                                         \n",
       "Covariance Type:            nonrobust                                         \n",
       "==============================================================================\n",
       "                 coef    std err          t      P>|t|      [0.025      0.975]\n",
       "------------------------------------------------------------------------------\n",
       "const      -3.091e+05   1.61e+05     -1.922      0.055   -6.25e+05    6366.143\n",
       "x1         -8.175e+04   3.07e+04     -2.662      0.008   -1.42e+05   -2.15e+04\n",
       "x2         -1.174e+04   6182.553     -1.899      0.058   -2.39e+04     387.697\n",
       "x3         -9473.6982   1.11e+04     -0.856      0.392   -3.12e+04    1.22e+04\n",
       "x4          1.999e+04   7109.938      2.811      0.005    6039.536    3.39e+04\n",
       "x5          3.744e+04   3786.214      9.888      0.000       3e+04    4.49e+04\n",
       "x6          3.932e+04   5983.711      6.572      0.000    2.76e+04    5.11e+04\n",
       "x7          3.525e+04   2.86e+04      1.234      0.217   -2.08e+04    9.13e+04\n",
       "x8          4.326e+04   1.25e+04      3.452      0.001    1.87e+04    6.78e+04\n",
       "x9          3.395e+04   5668.867      5.989      0.000    2.28e+04    4.51e+04\n",
       "x10         2.447e+04   5364.877      4.561      0.000    1.39e+04     3.5e+04\n",
       "x11         3.603e+04   6877.648      5.239      0.000    2.25e+04    4.95e+04\n",
       "x12         4.444e+04   1.14e+04      3.886      0.000     2.2e+04    6.69e+04\n",
       "x13         2.317e+04   5246.229      4.416      0.000    1.29e+04    3.35e+04\n",
       "x14         2.891e+04   8336.370      3.468      0.001    1.26e+04    4.53e+04\n",
       "x15         1.285e+04   6101.490      2.106      0.035     882.423    2.48e+04\n",
       "x16        -3549.2961   1.49e+04     -0.238      0.812   -3.28e+04    2.57e+04\n",
       "x17         1.362e+04   1.21e+04      1.124      0.261   -1.01e+04    3.74e+04\n",
       "x18        -1.445e+04   9616.937     -1.502      0.133   -3.33e+04    4416.872\n",
       "x19         1.281e+04   1.13e+04      1.130      0.259   -9435.300    3.51e+04\n",
       "x20        -5359.0563   8259.510     -0.649      0.517   -2.16e+04    1.08e+04\n",
       "x21         1.245e+04   9128.126      1.363      0.173   -5459.261    3.04e+04\n",
       "x22        -1.969e+04   8883.694     -2.216      0.027   -3.71e+04   -2260.662\n",
       "x23        -7289.0668   8480.541     -0.860      0.390   -2.39e+04    9345.849\n",
       "x24         9048.3222   2.13e+04      0.425      0.671   -3.27e+04    5.08e+04\n",
       "x25         1.282e+05   2.12e+04      6.051      0.000    8.67e+04     1.7e+05\n",
       "x26        -1.828e+04   9790.320     -1.867      0.062   -3.75e+04     923.395\n",
       "x27         1475.5565   2.91e+04      0.051      0.960   -5.55e+04    5.85e+04\n",
       "x28        -4986.7700   1.22e+04     -0.410      0.682   -2.89e+04    1.89e+04\n",
       "x29        -7553.2707   8847.902     -0.854      0.393   -2.49e+04    9802.237\n",
       "x30        -1.042e+04   8693.235     -1.198      0.231   -2.75e+04    6634.866\n",
       "x31         4993.6658   1.13e+04      0.441      0.659   -1.72e+04    2.72e+04\n",
       "x32        -6836.2921   8981.693     -0.761      0.447   -2.45e+04    1.08e+04\n",
       "x33         4.543e+04   9470.375      4.797      0.000    2.69e+04     6.4e+04\n",
       "x34         3.388e+04   8318.445      4.073      0.000    1.76e+04    5.02e+04\n",
       "x35        -2.102e+04   9290.228     -2.263      0.024   -3.92e+04   -2801.473\n",
       "x36        -1.449e+04    1.1e+04     -1.312      0.190   -3.61e+04    7163.604\n",
       "x37        -7662.9959   9085.257     -0.843      0.399   -2.55e+04    1.02e+04\n",
       "x38        -4905.6859   8699.275     -0.564      0.573    -2.2e+04    1.22e+04\n",
       "x39         1.235e+04   8382.866      1.473      0.141   -4096.805    2.88e+04\n",
       "x40         5.617e+04   9091.164      6.178      0.000    3.83e+04     7.4e+04\n",
       "x41         1114.1639   9121.645      0.122      0.903   -1.68e+04     1.9e+04\n",
       "x42         8338.0292   1.12e+04      0.743      0.457   -1.37e+04    3.03e+04\n",
       "x43         3370.6171   5170.109      0.652      0.515   -6770.756    1.35e+04\n",
       "x44         1.301e+04   4168.593      3.120      0.002    4829.217    2.12e+04\n",
       "x45         2.836e+04   9613.082      2.950      0.003    9504.414    4.72e+04\n",
       "x46         2.486e+04   7108.234      3.498      0.000    1.09e+04    3.88e+04\n",
       "x47        -5753.1907   8239.514     -0.698      0.485   -2.19e+04    1.04e+04\n",
       "x48         1.159e+04   6815.868      1.701      0.089   -1778.252     2.5e+04\n",
       "x49        -6382.9985   2.04e+04     -0.312      0.755   -4.65e+04    3.37e+04\n",
       "x50         4902.0270   1.48e+04      0.331      0.741   -2.41e+04    3.39e+04\n",
       "x51        -3.233e+04   9839.771     -3.285      0.001   -5.16e+04    -1.3e+04\n",
       "x52        -2.396e+04   4768.912     -5.024      0.000   -3.33e+04   -1.46e+04\n",
       "x53        -2.841e+04   5501.066     -5.164      0.000   -3.92e+04   -1.76e+04\n",
       "x54         1.898e+04   3136.698      6.050      0.000    1.28e+04    2.51e+04\n",
       "x55        -7055.5762   3310.117     -2.132      0.033   -1.35e+04    -562.650\n",
       "x56         5493.8791    2.8e+04      0.196      0.845   -4.95e+04    6.05e+04\n",
       "x57        -8170.2120   2405.947     -3.396      0.001   -1.29e+04   -3450.852\n",
       "x58        -3.725e+04   6609.223     -5.636      0.000   -5.02e+04   -2.43e+04\n",
       "x59         -2.63e+04   3740.171     -7.031      0.000   -3.36e+04    -1.9e+04\n",
       "x60        -3.215e+04   4247.564     -7.569      0.000   -4.05e+04   -2.38e+04\n",
       "x61        -1.628e+05   3.05e+04     -5.335      0.000   -2.23e+05   -1.03e+05\n",
       "x62        -1.117e+05   3.16e+04     -3.539      0.000   -1.74e+05   -4.98e+04\n",
       "x63         5941.8799   1.45e+04      0.409      0.682   -2.25e+04    3.44e+04\n",
       "x64        -1.952e+05   4.02e+04     -4.857      0.000   -2.74e+05   -1.16e+05\n",
       "x65        -1.612e+05   3.02e+04     -5.333      0.000   -2.21e+05   -1.02e+05\n",
       "x66         1.812e+04   2.95e+04      0.614      0.539   -3.97e+04     7.6e+04\n",
       "x67        -1.558e+04   2.24e+04     -0.696      0.487   -5.95e+04    2.83e+04\n",
       "x68         2.595e+04   7060.053      3.675      0.000    1.21e+04    3.98e+04\n",
       "x69         1.416e+04   3.06e+04      0.462      0.644    -4.6e+04    7.43e+04\n",
       "x70         1.308e+04   7189.280      1.819      0.069   -1022.718    2.72e+04\n",
       "x71         1298.3728   6183.503      0.210      0.834   -1.08e+04    1.34e+04\n",
       "x72        -1.351e+04    2.9e+04     -0.466      0.641   -7.04e+04    4.33e+04\n",
       "x73         9306.9233   5960.486      1.561      0.119   -2384.805     2.1e+04\n",
       "x74         6280.7374   6544.624      0.960      0.337   -6556.801    1.91e+04\n",
       "x75         1.051e+04   2.12e+04      0.496      0.620    -3.1e+04    5.21e+04\n",
       "x76        -1.247e+04   8154.121     -1.529      0.127   -2.85e+04    3528.583\n",
       "x77         9163.3569   6120.425      1.497      0.135   -2842.097    2.12e+04\n",
       "x78         3238.3313   5960.801      0.543      0.587   -8454.014    1.49e+04\n",
       "x79         1.014e+04   7799.941      1.300      0.194   -5162.488    2.54e+04\n",
       "x80        -5267.7610   1.42e+04     -0.371      0.711   -3.32e+04    2.26e+04\n",
       "x81           45.0038   1.33e+04      0.003      0.997    -2.6e+04    2.61e+04\n",
       "x82        -1.353e+04   2.81e+04     -0.482      0.630   -6.86e+04    4.15e+04\n",
       "x83        -3580.0049   1.31e+04     -0.272      0.785   -2.94e+04    2.22e+04\n",
       "x84         -2.53e+04   6391.561     -3.958      0.000   -3.78e+04   -1.28e+04\n",
       "x85        -2.432e+04   3497.107     -6.955      0.000   -3.12e+04   -1.75e+04\n",
       "x86        -1.847e+04   1.12e+04     -1.645      0.100   -4.05e+04    3552.270\n",
       "x87        -1.448e+04   2.93e+04     -0.494      0.621    -7.2e+04     4.3e+04\n",
       "x88        -2.513e+04   4339.885     -5.790      0.000   -3.36e+04   -1.66e+04\n",
       "x89        -1755.6843   1.77e+04     -0.099      0.921   -3.64e+04    3.29e+04\n",
       "x90         4110.7483   1.74e+04      0.236      0.813      -3e+04    3.82e+04\n",
       "x91        -1.847e+04   1.12e+04     -1.645      0.100   -4.05e+04    3552.270\n",
       "x92         9692.0749   2.23e+04      0.434      0.664   -3.41e+04    5.35e+04\n",
       "x93          329.1798    1.7e+04      0.019      0.985   -3.31e+04    3.38e+04\n",
       "x94        -2925.5984   2940.168     -0.995      0.320   -8692.854    2841.657\n",
       "x95          417.9170   2695.049      0.155      0.877   -4868.529    5704.363\n",
       "x96        -6880.5103   3869.583     -1.778      0.076   -1.45e+04     709.828\n",
       "x97        -1.847e+04   1.12e+04     -1.645      0.100   -4.05e+04    3552.270\n",
       "x98        -4051.7168   3121.894     -1.298      0.195   -1.02e+04    2072.001\n",
       "x99        -1.379e+04   2568.394     -5.367      0.000   -1.88e+04   -8747.012\n",
       "x100        1.488e+04    1.7e+04      0.878      0.380   -1.84e+04    4.82e+04\n",
       "x101         2.25e+04   1.23e+04      1.834      0.067   -1564.128    4.66e+04\n",
       "x102        1.585e+04   1.24e+04      1.274      0.203   -8549.693    4.02e+04\n",
       "x103         2.23e+04   1.28e+04      1.747      0.081   -2738.028    4.73e+04\n",
       "x104        4791.8954   2.75e+04      0.174      0.862   -4.91e+04    5.87e+04\n",
       "x105       -3.744e+04   2.31e+04     -1.619      0.106   -8.28e+04    7907.693\n",
       "x106        2.574e+04   1.13e+04      2.280      0.023    3591.550    4.79e+04\n",
       "x107       -8094.1557   7474.191     -1.083      0.279   -2.28e+04    6566.765\n",
       "x108       -5640.8336   5926.969     -0.952      0.341   -1.73e+04    5985.149\n",
       "x109       -6571.0914   6791.606     -0.968      0.333   -1.99e+04    6750.911\n",
       "x110       -1.021e+04   8274.027     -1.235      0.217   -2.64e+04    6015.363\n",
       "x111       -3656.0614   6144.578     -0.595      0.552   -1.57e+04    8396.770\n",
       "x112       -1663.9177   5746.746     -0.290      0.772   -1.29e+04    9608.550\n",
       "x113        2427.4264   3470.716      0.699      0.484   -4380.519    9235.372\n",
       "x114        1.295e+04   9795.638      1.322      0.186   -6261.890    3.22e+04\n",
       "x115        8.432e+04   2.84e+04      2.970      0.003    2.86e+04     1.4e+05\n",
       "x116        1.539e+04   8250.253      1.865      0.062    -798.080    3.16e+04\n",
       "x117         256.4495   1.23e+04      0.021      0.983   -2.38e+04    2.44e+04\n",
       "x118        1764.8448   1.34e+04      0.131      0.896   -2.46e+04    2.81e+04\n",
       "x119        1.403e+04   5162.793      2.717      0.007    3899.717    2.42e+04\n",
       "x120        1.983e+04   1.47e+04      1.349      0.178   -9013.987    4.87e+04\n",
       "x121        7845.3105   4183.518      1.875      0.061    -360.825    1.61e+04\n",
       "x122        1.593e+05   4.22e+04      3.773      0.000    7.65e+04    2.42e+05\n",
       "x123        1.558e+05   4.31e+04      3.614      0.000    7.12e+04     2.4e+05\n",
       "x124        5941.8799   1.45e+04      0.409      0.682   -2.25e+04    3.44e+04\n",
       "x125        1.597e+05   4.45e+04      3.588      0.000    7.24e+04    2.47e+05\n",
       "x126        1.625e+05   4.18e+04      3.883      0.000    8.04e+04    2.45e+05\n",
       "x127        7796.0082   1061.954      7.341      0.000    5712.944    9879.072\n",
       "x128          42.4629      4.259      9.969      0.000      34.108      50.818\n",
       "x129           6.9626      8.140      0.855      0.393      -9.005      22.931\n",
       "x130        9814.8159   2407.526      4.077      0.000    5092.358    1.45e+04\n",
       "x131           4.5177      4.125      1.095      0.274      -3.574      12.609\n",
       "x132          -6.0432      5.956     -1.015      0.310     -17.726       5.639\n",
       "x133         182.3565     79.137      2.304      0.021      27.126     337.587\n",
       "x134        5550.8460   2060.791      2.694      0.007    1508.523    9593.169\n",
       "x135        6875.9309   2904.280      2.368      0.018    1179.071    1.26e+04\n",
       "==============================================================================\n",
       "Omnibus:                      848.895   Durbin-Watson:                   2.000\n",
       "Prob(Omnibus):                  0.000   Jarque-Bera (JB):            71715.114\n",
       "Skew:                          -1.521   Prob(JB):                         0.00\n",
       "Kurtosis:                      35.253   Cond. No.                     1.08e+17\n",
       "==============================================================================\n",
       "\n",
       "Notes:\n",
       "[1] Standard Errors assume that the covariance matrix of the errors is correctly specified.\n",
       "[2] The smallest eigenvalue is 1.29e-24. This might indicate that there are\n",
       "strong multicollinearity problems or that the design matrix is singular.\n",
       "\"\"\""
      ]
     },
     "execution_count": 285,
     "metadata": {},
     "output_type": "execute_result"
    }
   ],
   "source": [
    "ols = sm.OLS(y_train, sm.add_constant(X1_train_transformed)).fit()\n",
    "summary_table = ols.summary()\n",
    "summary_table"
   ]
  },
  {
   "cell_type": "code",
   "execution_count": 286,
   "id": "9c11476b-87d3-4f74-953b-649815f1da4c",
   "metadata": {
    "tags": []
   },
   "outputs": [
    {
     "data": {
      "text/plain": [
       "array(['oh__MS SubClass_150', 'oh__MS SubClass_160',\n",
       "       'oh__MS SubClass_180', 'oh__MS SubClass_190', 'oh__MS SubClass_20',\n",
       "       'oh__MS SubClass_30', 'oh__MS SubClass_40', 'oh__MS SubClass_45',\n",
       "       'oh__MS SubClass_50', 'oh__MS SubClass_60', 'oh__MS SubClass_70',\n",
       "       'oh__MS SubClass_75', 'oh__MS SubClass_80', 'oh__MS SubClass_85',\n",
       "       'oh__MS SubClass_90', 'oh__Neighborhood_Blueste',\n",
       "       'oh__Neighborhood_BrDale', 'oh__Neighborhood_BrkSide',\n",
       "       'oh__Neighborhood_ClearCr', 'oh__Neighborhood_CollgCr',\n",
       "       'oh__Neighborhood_Crawfor', 'oh__Neighborhood_Edwards',\n",
       "       'oh__Neighborhood_Gilbert', 'oh__Neighborhood_Greens',\n",
       "       'oh__Neighborhood_GrnHill', 'oh__Neighborhood_IDOTRR',\n",
       "       'oh__Neighborhood_Landmrk', 'oh__Neighborhood_MeadowV',\n",
       "       'oh__Neighborhood_Mitchel', 'oh__Neighborhood_NAmes',\n",
       "       'oh__Neighborhood_NPkVill', 'oh__Neighborhood_NWAmes',\n",
       "       'oh__Neighborhood_NoRidge', 'oh__Neighborhood_NridgHt',\n",
       "       'oh__Neighborhood_OldTown', 'oh__Neighborhood_SWISU',\n",
       "       'oh__Neighborhood_Sawyer', 'oh__Neighborhood_SawyerW',\n",
       "       'oh__Neighborhood_Somerst', 'oh__Neighborhood_StoneBr',\n",
       "       'oh__Neighborhood_Timber', 'oh__Neighborhood_Veenker',\n",
       "       'oh__Condition 1_Feedr', 'oh__Condition 1_Norm',\n",
       "       'oh__Condition 1_PosA', 'oh__Condition 1_PosN',\n",
       "       'oh__Condition 1_RRAe', 'oh__Condition 1_RRAn',\n",
       "       'oh__Condition 1_RRNe', 'oh__Condition 1_RRNn',\n",
       "       'oh__Exter Qual_Fa', 'oh__Exter Qual_Gd', 'oh__Exter Qual_TA',\n",
       "       'oh__Bsmt Exposure_Gd', 'oh__Bsmt Exposure_Mn',\n",
       "       'oh__Bsmt Exposure_NA', 'oh__Bsmt Exposure_No',\n",
       "       'oh__Kitchen Qual_Fa', 'oh__Kitchen Qual_Gd',\n",
       "       'oh__Kitchen Qual_TA', 'oh__Garage Qual_Fa', 'oh__Garage Qual_Gd',\n",
       "       'oh__Garage Qual_NA', 'oh__Garage Qual_Po', 'oh__Garage Qual_TA',\n",
       "       'oh__Exterior 1st_AsphShn', 'oh__Exterior 1st_BrkComm',\n",
       "       'oh__Exterior 1st_BrkFace', 'oh__Exterior 1st_CBlock',\n",
       "       'oh__Exterior 1st_CemntBd', 'oh__Exterior 1st_HdBoard',\n",
       "       'oh__Exterior 1st_ImStucc', 'oh__Exterior 1st_MetalSd',\n",
       "       'oh__Exterior 1st_Plywood', 'oh__Exterior 1st_Stone',\n",
       "       'oh__Exterior 1st_Stucco', 'oh__Exterior 1st_VinylSd',\n",
       "       'oh__Exterior 1st_Wd Sdng', 'oh__Exterior 1st_WdShing',\n",
       "       'oh__Exter Cond_Fa', 'oh__Exter Cond_Gd', 'oh__Exter Cond_Po',\n",
       "       'oh__Exter Cond_TA', 'oh__Bsmt Qual_Fa', 'oh__Bsmt Qual_Gd',\n",
       "       'oh__Bsmt Qual_NA', 'oh__Bsmt Qual_Po', 'oh__Bsmt Qual_TA',\n",
       "       'oh__Bsmt Cond_Fa', 'oh__Bsmt Cond_Gd', 'oh__Bsmt Cond_NA',\n",
       "       'oh__Bsmt Cond_Po', 'oh__Bsmt Cond_TA', 'oh__BsmtFin Type 1_BLQ',\n",
       "       'oh__BsmtFin Type 1_GLQ', 'oh__BsmtFin Type 1_LwQ',\n",
       "       'oh__BsmtFin Type 1_NA', 'oh__BsmtFin Type 1_Rec',\n",
       "       'oh__BsmtFin Type 1_Unf', 'oh__Functional_Maj2',\n",
       "       'oh__Functional_Min1', 'oh__Functional_Min2', 'oh__Functional_Mod',\n",
       "       'oh__Functional_Sal', 'oh__Functional_Sev', 'oh__Functional_Typ',\n",
       "       'oh__Fireplace Qu_Fa', 'oh__Fireplace Qu_Gd',\n",
       "       'oh__Fireplace Qu_NA', 'oh__Fireplace Qu_Po',\n",
       "       'oh__Fireplace Qu_TA', 'oh__Paved Drive_P', 'oh__Paved Drive_Y',\n",
       "       'oh__Sale Type_CWD', 'oh__Sale Type_Con', 'oh__Sale Type_ConLD',\n",
       "       'oh__Sale Type_ConLI', 'oh__Sale Type_ConLw', 'oh__Sale Type_New',\n",
       "       'oh__Sale Type_Oth', 'oh__Sale Type_WD ', 'oh__Garage Cond_Fa',\n",
       "       'oh__Garage Cond_Gd', 'oh__Garage Cond_NA', 'oh__Garage Cond_Po',\n",
       "       'oh__Garage Cond_TA', 'remainder__Overall Qual',\n",
       "       'remainder__Gr Liv Area', 'remainder__Garage Area',\n",
       "       'remainder__Garage Cars', 'remainder__Total Bsmt SF',\n",
       "       'remainder__1st Flr SF', 'remainder__Year Built',\n",
       "       'remainder__Full Bath', 'remainder__Fireplaces'], dtype=object)"
      ]
     },
     "execution_count": 286,
     "metadata": {},
     "output_type": "execute_result"
    }
   ],
   "source": [
    "ct.get_feature_names_out()"
   ]
  },
  {
   "cell_type": "markdown",
   "id": "f484d160-fb75-45e9-8420-194e818b5db0",
   "metadata": {
    "tags": []
   },
   "source": [
    "### Coefficient Interpretations:\n",
    "\n",
    "- MS SubClass or house type is a signficcant predictor. The baseline is 1- Story Planned Unit Development. Holding all other variables equal, out of all PUDs, the 1 story models have the highest sale prices: changing from a 1-story to a 1 1/2 story (while holding all else equal) decreases the predicted price by \\$81,750. \n",
    "- All else held equal, adding a fireplace increasese the home value by over \\$7,000\n",
    "- All else held equal, adding a bathroom increases the home value by \\$5,550.\n",
    "- Basements only slightly improved the value: the home value increased by 4 for every increase in sq footage of the basement when all else was held equal\n",
    "- Holding all else equal, adding a garage and increasing the size increased the home value. Creating space for one more car resulted in an approximatedly \\$10,000 increased in value\n",
    "- Quality of the house and materials mattered: increasing the overall quality of the house by 1 led to an increase in sale price of almost \\$8,000"
   ]
  },
  {
   "cell_type": "code",
   "execution_count": 287,
   "id": "8847b761-60fd-4e69-9e9d-9e0969fe9fc9",
   "metadata": {
    "tags": []
   },
   "outputs": [],
   "source": [
    "test = pd.read_csv('datasets/test.csv')"
   ]
  },
  {
   "cell_type": "code",
   "execution_count": 288,
   "id": "7f27e5d2-d582-42aa-af00-b27b78d47fb5",
   "metadata": {},
   "outputs": [],
   "source": [
    "test['MS SubClass'] = test['MS SubClass'].astype(str)"
   ]
  },
  {
   "cell_type": "code",
   "execution_count": 289,
   "id": "e6892cdb-e6da-48b4-b823-07495bb128ff",
   "metadata": {
    "tags": []
   },
   "outputs": [
    {
     "name": "stdout",
     "output_type": "stream",
     "text": [
      "<class 'pandas.core.frame.DataFrame'>\n",
      "RangeIndex: 878 entries, 0 to 877\n",
      "Data columns (total 80 columns):\n",
      " #   Column           Non-Null Count  Dtype  \n",
      "---  ------           --------------  -----  \n",
      " 0   Id               878 non-null    int64  \n",
      " 1   PID              878 non-null    int64  \n",
      " 2   MS SubClass      878 non-null    object \n",
      " 3   MS Zoning        878 non-null    object \n",
      " 4   Lot Frontage     718 non-null    float64\n",
      " 5   Lot Area         878 non-null    int64  \n",
      " 6   Street           878 non-null    object \n",
      " 7   Alley            58 non-null     object \n",
      " 8   Lot Shape        878 non-null    object \n",
      " 9   Land Contour     878 non-null    object \n",
      " 10  Utilities        878 non-null    object \n",
      " 11  Lot Config       878 non-null    object \n",
      " 12  Land Slope       878 non-null    object \n",
      " 13  Neighborhood     878 non-null    object \n",
      " 14  Condition 1      878 non-null    object \n",
      " 15  Condition 2      878 non-null    object \n",
      " 16  Bldg Type        878 non-null    object \n",
      " 17  House Style      878 non-null    object \n",
      " 18  Overall Qual     878 non-null    int64  \n",
      " 19  Overall Cond     878 non-null    int64  \n",
      " 20  Year Built       878 non-null    int64  \n",
      " 21  Year Remod/Add   878 non-null    int64  \n",
      " 22  Roof Style       878 non-null    object \n",
      " 23  Roof Matl        878 non-null    object \n",
      " 24  Exterior 1st     878 non-null    object \n",
      " 25  Exterior 2nd     878 non-null    object \n",
      " 26  Mas Vnr Type     877 non-null    object \n",
      " 27  Mas Vnr Area     877 non-null    float64\n",
      " 28  Exter Qual       878 non-null    object \n",
      " 29  Exter Cond       878 non-null    object \n",
      " 30  Foundation       878 non-null    object \n",
      " 31  Bsmt Qual        853 non-null    object \n",
      " 32  Bsmt Cond        853 non-null    object \n",
      " 33  Bsmt Exposure    853 non-null    object \n",
      " 34  BsmtFin Type 1   853 non-null    object \n",
      " 35  BsmtFin SF 1     878 non-null    int64  \n",
      " 36  BsmtFin Type 2   853 non-null    object \n",
      " 37  BsmtFin SF 2     878 non-null    int64  \n",
      " 38  Bsmt Unf SF      878 non-null    int64  \n",
      " 39  Total Bsmt SF    878 non-null    int64  \n",
      " 40  Heating          878 non-null    object \n",
      " 41  Heating QC       878 non-null    object \n",
      " 42  Central Air      878 non-null    object \n",
      " 43  Electrical       877 non-null    object \n",
      " 44  1st Flr SF       878 non-null    int64  \n",
      " 45  2nd Flr SF       878 non-null    int64  \n",
      " 46  Low Qual Fin SF  878 non-null    int64  \n",
      " 47  Gr Liv Area      878 non-null    int64  \n",
      " 48  Bsmt Full Bath   878 non-null    int64  \n",
      " 49  Bsmt Half Bath   878 non-null    int64  \n",
      " 50  Full Bath        878 non-null    int64  \n",
      " 51  Half Bath        878 non-null    int64  \n",
      " 52  Bedroom AbvGr    878 non-null    int64  \n",
      " 53  Kitchen AbvGr    878 non-null    int64  \n",
      " 54  Kitchen Qual     878 non-null    object \n",
      " 55  TotRms AbvGrd    878 non-null    int64  \n",
      " 56  Functional       878 non-null    object \n",
      " 57  Fireplaces       878 non-null    int64  \n",
      " 58  Fireplace Qu     456 non-null    object \n",
      " 59  Garage Type      834 non-null    object \n",
      " 60  Garage Yr Blt    833 non-null    float64\n",
      " 61  Garage Finish    833 non-null    object \n",
      " 62  Garage Cars      878 non-null    int64  \n",
      " 63  Garage Area      878 non-null    int64  \n",
      " 64  Garage Qual      833 non-null    object \n",
      " 65  Garage Cond      833 non-null    object \n",
      " 66  Paved Drive      878 non-null    object \n",
      " 67  Wood Deck SF     878 non-null    int64  \n",
      " 68  Open Porch SF    878 non-null    int64  \n",
      " 69  Enclosed Porch   878 non-null    int64  \n",
      " 70  3Ssn Porch       878 non-null    int64  \n",
      " 71  Screen Porch     878 non-null    int64  \n",
      " 72  Pool Area        878 non-null    int64  \n",
      " 73  Pool QC          4 non-null      object \n",
      " 74  Fence            172 non-null    object \n",
      " 75  Misc Feature     41 non-null     object \n",
      " 76  Misc Val         878 non-null    int64  \n",
      " 77  Mo Sold          878 non-null    int64  \n",
      " 78  Yr Sold          878 non-null    int64  \n",
      " 79  Sale Type        878 non-null    object \n",
      "dtypes: float64(3), int64(34), object(43)\n",
      "memory usage: 548.9+ KB\n"
     ]
    }
   ],
   "source": [
    "test.info()"
   ]
  },
  {
   "cell_type": "code",
   "execution_count": 290,
   "id": "2a84566c-3d23-45f3-8f5a-195659191536",
   "metadata": {
    "tags": []
   },
   "outputs": [],
   "source": [
    "#For the columns I am using, the solution for missing values was to fill na with \n",
    "test.fillna('NA', inplace=True)"
   ]
  },
  {
   "cell_type": "code",
   "execution_count": 291,
   "id": "8b6bef0e-c030-4ca4-9df7-759311de214d",
   "metadata": {
    "tags": []
   },
   "outputs": [],
   "source": [
    "test_columns = ['Overall Qual', \n",
    "                'Gr Liv Area', \n",
    "                'Garage Area', \n",
    "                'Garage Cars', \n",
    "                'Total Bsmt SF', \n",
    "                '1st Flr SF', \n",
    "                'Year Built', \n",
    "                'Full Bath', \n",
    "                'Fireplaces', \n",
    "                'MS SubClass', \n",
    "                'Neighborhood', \n",
    "                'Condition 1', \n",
    "                'Exter Qual', \n",
    "                'Bsmt Exposure', \n",
    "                'Kitchen Qual', \n",
    "                'Garage Qual',\n",
    "                'Exterior 1st',\n",
    "                'Exter Cond',\n",
    "                'Bsmt Qual',\n",
    "                'Bsmt Cond',\n",
    "                'BsmtFin Type 1',\n",
    "                'Functional',\n",
    "                'Fireplace Qu',\n",
    "                'Paved Drive',\n",
    "                'Sale Type',\n",
    "                'Garage Cond']\n",
    "X_test = test[test_columns]"
   ]
  },
  {
   "cell_type": "code",
   "execution_count": 292,
   "id": "f1008e13-def3-4fdc-b20f-aac67ada348f",
   "metadata": {
    "tags": []
   },
   "outputs": [
    {
     "data": {
      "text/plain": [
       "Overall Qual       int64\n",
       "Gr Liv Area        int64\n",
       "Garage Area        int64\n",
       "Garage Cars        int64\n",
       "Total Bsmt SF      int64\n",
       "1st Flr SF         int64\n",
       "Year Built         int64\n",
       "Full Bath          int64\n",
       "Fireplaces         int64\n",
       "MS SubClass       object\n",
       "Neighborhood      object\n",
       "Condition 1       object\n",
       "Exter Qual        object\n",
       "Bsmt Exposure     object\n",
       "Kitchen Qual      object\n",
       "Garage Qual       object\n",
       "Exterior 1st      object\n",
       "Exter Cond        object\n",
       "Bsmt Qual         object\n",
       "Bsmt Cond         object\n",
       "BsmtFin Type 1    object\n",
       "Functional        object\n",
       "Fireplace Qu      object\n",
       "Paved Drive       object\n",
       "Sale Type         object\n",
       "Garage Cond       object\n",
       "dtype: object"
      ]
     },
     "execution_count": 292,
     "metadata": {},
     "output_type": "execute_result"
    }
   ],
   "source": [
    "X_test.dtypes"
   ]
  },
  {
   "cell_type": "code",
   "execution_count": 293,
   "id": "876a979f-c2ac-4bd0-a748-6c82d08b0fcc",
   "metadata": {
    "tags": []
   },
   "outputs": [],
   "source": [
    "#For Garage Qual & Bsmt Exposure, I can input NA for missing values as I did for training data"
   ]
  },
  {
   "cell_type": "code",
   "execution_count": 294,
   "id": "03daac85-eac9-496c-b214-f762df82b7cd",
   "metadata": {
    "tags": []
   },
   "outputs": [],
   "source": [
    "\n",
    "ct_full = ColumnTransformer([('oh', OneHotEncoder(sparse_output=False, handle_unknown='ignore', drop='first'), X1_str)\n",
    "], remainder='passthrough')  \n",
    "\n",
    "imputer_full = SimpleImputer(strategy='median')"
   ]
  },
  {
   "cell_type": "code",
   "execution_count": 295,
   "id": "783cf4c4-3250-43b7-90d5-45ce51dddbb9",
   "metadata": {
    "tags": []
   },
   "outputs": [],
   "source": [
    "X_transformed= ct.fit_transform(X1)\n",
    "X_transformed= imputer_full.fit_transform(X_transformed)"
   ]
  },
  {
   "cell_type": "code",
   "execution_count": 296,
   "id": "3fe13c4e-cec0-4c76-8607-c7afb1b66b82",
   "metadata": {
    "tags": []
   },
   "outputs": [
    {
     "data": {
      "text/html": [
       "<style>#sk-container-id-14 {color: black;}#sk-container-id-14 pre{padding: 0;}#sk-container-id-14 div.sk-toggleable {background-color: white;}#sk-container-id-14 label.sk-toggleable__label {cursor: pointer;display: block;width: 100%;margin-bottom: 0;padding: 0.3em;box-sizing: border-box;text-align: center;}#sk-container-id-14 label.sk-toggleable__label-arrow:before {content: \"▸\";float: left;margin-right: 0.25em;color: #696969;}#sk-container-id-14 label.sk-toggleable__label-arrow:hover:before {color: black;}#sk-container-id-14 div.sk-estimator:hover label.sk-toggleable__label-arrow:before {color: black;}#sk-container-id-14 div.sk-toggleable__content {max-height: 0;max-width: 0;overflow: hidden;text-align: left;background-color: #f0f8ff;}#sk-container-id-14 div.sk-toggleable__content pre {margin: 0.2em;color: black;border-radius: 0.25em;background-color: #f0f8ff;}#sk-container-id-14 input.sk-toggleable__control:checked~div.sk-toggleable__content {max-height: 200px;max-width: 100%;overflow: auto;}#sk-container-id-14 input.sk-toggleable__control:checked~label.sk-toggleable__label-arrow:before {content: \"▾\";}#sk-container-id-14 div.sk-estimator input.sk-toggleable__control:checked~label.sk-toggleable__label {background-color: #d4ebff;}#sk-container-id-14 div.sk-label input.sk-toggleable__control:checked~label.sk-toggleable__label {background-color: #d4ebff;}#sk-container-id-14 input.sk-hidden--visually {border: 0;clip: rect(1px 1px 1px 1px);clip: rect(1px, 1px, 1px, 1px);height: 1px;margin: -1px;overflow: hidden;padding: 0;position: absolute;width: 1px;}#sk-container-id-14 div.sk-estimator {font-family: monospace;background-color: #f0f8ff;border: 1px dotted black;border-radius: 0.25em;box-sizing: border-box;margin-bottom: 0.5em;}#sk-container-id-14 div.sk-estimator:hover {background-color: #d4ebff;}#sk-container-id-14 div.sk-parallel-item::after {content: \"\";width: 100%;border-bottom: 1px solid gray;flex-grow: 1;}#sk-container-id-14 div.sk-label:hover label.sk-toggleable__label {background-color: #d4ebff;}#sk-container-id-14 div.sk-serial::before {content: \"\";position: absolute;border-left: 1px solid gray;box-sizing: border-box;top: 0;bottom: 0;left: 50%;z-index: 0;}#sk-container-id-14 div.sk-serial {display: flex;flex-direction: column;align-items: center;background-color: white;padding-right: 0.2em;padding-left: 0.2em;position: relative;}#sk-container-id-14 div.sk-item {position: relative;z-index: 1;}#sk-container-id-14 div.sk-parallel {display: flex;align-items: stretch;justify-content: center;background-color: white;position: relative;}#sk-container-id-14 div.sk-item::before, #sk-container-id-14 div.sk-parallel-item::before {content: \"\";position: absolute;border-left: 1px solid gray;box-sizing: border-box;top: 0;bottom: 0;left: 50%;z-index: -1;}#sk-container-id-14 div.sk-parallel-item {display: flex;flex-direction: column;z-index: 1;position: relative;background-color: white;}#sk-container-id-14 div.sk-parallel-item:first-child::after {align-self: flex-end;width: 50%;}#sk-container-id-14 div.sk-parallel-item:last-child::after {align-self: flex-start;width: 50%;}#sk-container-id-14 div.sk-parallel-item:only-child::after {width: 0;}#sk-container-id-14 div.sk-dashed-wrapped {border: 1px dashed gray;margin: 0 0.4em 0.5em 0.4em;box-sizing: border-box;padding-bottom: 0.4em;background-color: white;}#sk-container-id-14 div.sk-label label {font-family: monospace;font-weight: bold;display: inline-block;line-height: 1.2em;}#sk-container-id-14 div.sk-label-container {text-align: center;}#sk-container-id-14 div.sk-container {/* jupyter's `normalize.less` sets `[hidden] { display: none; }` but bootstrap.min.css set `[hidden] { display: none !important; }` so we also need the `!important` here to be able to override the default hidden behavior on the sphinx rendered scikit-learn.org. See: https://github.com/scikit-learn/scikit-learn/issues/21755 */display: inline-block !important;position: relative;}#sk-container-id-14 div.sk-text-repr-fallback {display: none;}</style><div id=\"sk-container-id-14\" class=\"sk-top-container\"><div class=\"sk-text-repr-fallback\"><pre>LinearRegression()</pre><b>In a Jupyter environment, please rerun this cell to show the HTML representation or trust the notebook. <br />On GitHub, the HTML representation is unable to render, please try loading this page with nbviewer.org.</b></div><div class=\"sk-container\" hidden><div class=\"sk-item\"><div class=\"sk-estimator sk-toggleable\"><input class=\"sk-toggleable__control sk-hidden--visually\" id=\"sk-estimator-id-14\" type=\"checkbox\" checked><label for=\"sk-estimator-id-14\" class=\"sk-toggleable__label sk-toggleable__label-arrow\">LinearRegression</label><div class=\"sk-toggleable__content\"><pre>LinearRegression()</pre></div></div></div></div></div>"
      ],
      "text/plain": [
       "LinearRegression()"
      ]
     },
     "execution_count": 296,
     "metadata": {},
     "output_type": "execute_result"
    }
   ],
   "source": [
    "lrfull= LinearRegression()\n",
    "lrfull.fit(X_transformed, y)"
   ]
  },
  {
   "cell_type": "code",
   "execution_count": 297,
   "id": "24b0f2e1-5369-4538-a4d9-1c638b1dec56",
   "metadata": {
    "tags": []
   },
   "outputs": [
    {
     "data": {
      "text/plain": [
       "0.8711827073220875"
      ]
     },
     "execution_count": 297,
     "metadata": {},
     "output_type": "execute_result"
    }
   ],
   "source": [
    "np.mean(cross_val_score(lrfull, X_transformed, y))"
   ]
  },
  {
   "cell_type": "code",
   "execution_count": 298,
   "id": "cd34b95f-2a58-4163-8fb0-362110b638e9",
   "metadata": {
    "tags": []
   },
   "outputs": [
    {
     "name": "stderr",
     "output_type": "stream",
     "text": [
      "C:\\Users\\kaitl\\anaconda3\\Lib\\site-packages\\sklearn\\preprocessing\\_encoders.py:227: UserWarning: Found unknown categories in columns [5, 7, 15] during transform. These unknown categories will be encoded as all zeros\n",
      "  warnings.warn(\n"
     ]
    }
   ],
   "source": [
    "X_test_transformed = ct.transform(X_test)"
   ]
  },
  {
   "cell_type": "code",
   "execution_count": 299,
   "id": "2fc21cb6-95b1-45f7-8ed8-05aae547b90c",
   "metadata": {
    "tags": []
   },
   "outputs": [],
   "source": [
    "saleprice = lrfull.predict(X_test_transformed)"
   ]
  },
  {
   "cell_type": "code",
   "execution_count": 300,
   "id": "d818aa33-3488-40a7-b831-bd867c31f693",
   "metadata": {
    "tags": []
   },
   "outputs": [
    {
     "data": {
      "text/plain": [
       "(878,)"
      ]
     },
     "execution_count": 300,
     "metadata": {},
     "output_type": "execute_result"
    }
   ],
   "source": [
    "saleprice.shape"
   ]
  },
  {
   "cell_type": "code",
   "execution_count": 301,
   "id": "4b5fa1f1-d1bc-4423-a0a3-b9829bc9837c",
   "metadata": {
    "tags": []
   },
   "outputs": [],
   "source": [
    "data = {'Id':test['Id'], 'SalePrice': saleprice}\n",
    "test_sub = pd.DataFrame(data)"
   ]
  },
  {
   "cell_type": "code",
   "execution_count": 302,
   "id": "fa951ed0-e4fb-4037-9545-8b9e46ed7644",
   "metadata": {
    "tags": []
   },
   "outputs": [
    {
     "data": {
      "text/plain": [
       "(878, 2)"
      ]
     },
     "execution_count": 302,
     "metadata": {},
     "output_type": "execute_result"
    }
   ],
   "source": [
    "test_sub.shape"
   ]
  },
  {
   "cell_type": "code",
   "execution_count": 303,
   "id": "9c5ca735-2a77-4d27-8fe1-acda770fee4e",
   "metadata": {
    "tags": []
   },
   "outputs": [],
   "source": [
    "test_sub.to_csv('datasets/submission4.csv', index=False)"
   ]
  },
  {
   "cell_type": "markdown",
   "id": "93d6d9e7-dcdf-45e1-ac0a-3b94674b91b0",
   "metadata": {},
   "source": [
    "### Residuals & Visualization"
   ]
  },
  {
   "cell_type": "code",
   "execution_count": 304,
   "id": "02aecd79-61f4-4e45-ad2b-4476d26a987e",
   "metadata": {
    "tags": []
   },
   "outputs": [
    {
     "data": {
      "image/png": "[encoded data removed]",
      "text/plain": [
       "<Figure size 640x480 with 1 Axes>"
      ]
     },
     "metadata": {},
     "output_type": "display_data"
    }
   ],
   "source": [
    "# Residuals are the comparison between predicted and actual prices\n",
    "y_preds = lrfull.predict(X_transformed)\n",
    "\n",
    "resids = (y - y_preds)\n",
    "\n",
    "# Looking at a Scatterplot to check for equal variance of errors:\n",
    "plt.scatter(y_preds, resids, s=1)\n",
    "plt.title('Plot of Predictions vs Residuals')\n",
    "plt.xlabel('Predicted Sale Price')\n",
    "plt.ylabel('Difference in expected vs actual price')\n",
    "plt.axhline(0, color=\"orange\");\n",
    "plt.savefig('Resids_Scatterplot.png', dpi =500)"
   ]
  },
  {
   "cell_type": "code",
   "execution_count": 305,
   "id": "047f22da-b36b-450b-bb35-e21e51f24bde",
   "metadata": {},
   "outputs": [
    {
     "data": {
      "image/png": "[encoded data removed]",
      "text/plain": [
       "<Figure size 640x480 with 1 Axes>"
      ]
     },
     "metadata": {},
     "output_type": "display_data"
    }
   ],
   "source": [
    "# Plot of Predicted vs actual\n",
    "plt.scatter(y_preds, y, s=1)\n",
    "plt.title('Plot of Predicted Price vs Actual Sale Price')\n",
    "plt.xlabel('Predicted Sale Price')\n",
    "plt.ylabel('Actual Price')\n",
    "plt.savefig('Predicted_vs_Actual_Sale_Price.png', dpi =500)"
   ]
  },
  {
   "cell_type": "markdown",
   "id": "7e3f3ed2-85b7-44af-b8a2-a40484265b2e",
   "metadata": {},
   "source": [
    "# Analysis & Conclusions"
   ]
  },
  {
   "cell_type": "markdown",
   "id": "1f00405a-604d-43ca-96e8-80ea323d8c9a",
   "metadata": {},
   "source": [
    "### Model Metrics\n",
    "This model performed the best out of every model I developed and tested. I analyzed the performance of this model by performing a train-test-split and then comparing the rsquared values of the training vs testing data. I also calculated and compared the MSEs. After refitting my model on the full dataset, I also calculated the cross-validation score for this model.The metrics I calculated were:\n",
    "- the r squared of training data = .887 \n",
    "- r squared of .905 for the validation data\n",
    "- MSE of training data = 715730948.6393995 \n",
    "- The MSE of validation data = 563890073.929552 \n",
    "- The mean cross val score was .87\n",
    "\n",
    "From these metrics I was able to conclude:\n",
    "- The model was not overfit\n",
    "- Bias may be high despite a relatively strong r2 value\n",
    "-\n",
    "While the validation r2 was high compared with other models, since the MSE and r2 of the validation data after the train-test split were higher than the metrics of the training data, it seems likely that there are still opportunities to reduce bias and improve the model without increasing variance and overfitting the model.\n",
    "\n",
    "**In order to more accurately predict total revenue, this model should be refined more to better predict the Sale Price of individual homes. While an r2 of .9 is relatively high, even small improvements can mean more precise predictions which when aggragated across many homes, could translate to differences in the millions.**"
   ]
  },
  {
   "cell_type": "markdown",
   "id": "a2e4968b-fb10-47cb-bfed-ee2a53906151",
   "metadata": {
    "tags": []
   },
   "source": [
    "# Next Steps"
   ]
  },
  {
   "cell_type": "markdown",
   "id": "d28c8fb8-a1b8-4d13-bc94-354eee03b86e",
   "metadata": {},
   "source": [
    "1. Refine the model further to better predict the Sale Price of individual homes and prevent large discrepancies in predicted vs actual revenue for IA Construction through the aggregation of errors\n",
    "2. Create a model for cost based on home style/ layout, materials, room types, lot size, and time on market\n",
    "3. Create a model for length of time on market\n",
    "4. Utilize sale price, cost, and sale time models in a model to maximize profit per home\n",
    "5. Create a final presentation for the client, IA Construction"
   ]
  },
  {
   "cell_type": "code",
   "execution_count": null,
   "id": "04b69d0a-1821-4036-bb3b-ed9519d07fae",
   "metadata": {},
   "outputs": [],
   "source": []
  }
 ],
 "metadata": {
  "kernelspec": {
   "display_name": "Python 3 (ipykernel)",
   "language": "python",
   "name": "python3"
  },
  "language_info": {
   "codemirror_mode": {
    "name": "ipython",
    "version": 3
   },
   "file_extension": ".py",
   "mimetype": "text/x-python",
   "name": "python",
   "nbconvert_exporter": "python",
   "pygments_lexer": "ipython3",
   "version": "3.11.4"
  }
 },
 "nbformat": 4,
 "nbformat_minor": 5
}
