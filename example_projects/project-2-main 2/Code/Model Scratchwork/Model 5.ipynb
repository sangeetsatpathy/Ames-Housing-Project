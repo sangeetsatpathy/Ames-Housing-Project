{
 "cells": [
  {
   "cell_type": "code",
   "execution_count": 4,
   "id": "2bdb0972-ec24-4db7-a029-ee18ea7fcb58",
   "metadata": {
    "tags": []
   },
   "outputs": [],
   "source": [
    "import pandas as pd\n",
    "import numpy as np\n",
    "import matplotlib.pyplot as plt\n",
    "\n",
    "from sklearn.linear_model import LinearRegression\n",
    "from sklearn.model_selection import train_test_split, cross_val_score\n",
    "from sklearn.preprocessing import PolynomialFeatures, StandardScaler, OneHotEncoder\n",
    "from sklearn.compose import ColumnTransformer\n",
    "from sklearn.impute import SimpleImputer\n",
    "\n",
    "from sklearn import metrics\n",
    "from sklearn.linear_model import Lasso\n",
    "from sklearn.linear_model import ElasticNet\n",
    "\n",
    "pd.options.display.float_format = '{:.4f}'.format\n",
    "import statsmodels.api as sm"
   ]
  },
  {
   "cell_type": "markdown",
   "id": "6a94e5a8-199a-43df-b359-0c3fd4506fb4",
   "metadata": {},
   "source": [
    "**For this model I analayzed the heatmap/ correlations ofnumeric columns with sale price and the catterplots/ bargraphs of the categorical columns and sale price. I will start witha model with just these variables and then use stepwise regression to add and drop variables**"
   ]
  },
  {
   "cell_type": "code",
   "execution_count": 5,
   "id": "8c483560-98ee-4f22-ad6d-8905bbc71804",
   "metadata": {
    "tags": []
   },
   "outputs": [],
   "source": [
    "clean_data = pd.read_csv('../datasets/clean_df.csv')"
   ]
  },
  {
   "cell_type": "code",
   "execution_count": 6,
   "id": "b3eefd3f-bbc5-4b65-a381-0c5bbd4ed52d",
   "metadata": {
    "tags": []
   },
   "outputs": [
    {
     "name": "stdout",
     "output_type": "stream",
     "text": [
      "<class 'pandas.core.frame.DataFrame'>\n",
      "RangeIndex: 2051 entries, 0 to 2050\n",
      "Data columns (total 82 columns):\n",
      " #   Column           Non-Null Count  Dtype  \n",
      "---  ------           --------------  -----  \n",
      " 0   Unnamed: 0       2051 non-null   int64  \n",
      " 1   Id               2051 non-null   int64  \n",
      " 2   PID              2051 non-null   int64  \n",
      " 3   MS SubClass      2051 non-null   int64  \n",
      " 4   MS Zoning        2051 non-null   object \n",
      " 5   Lot Frontage     1721 non-null   float64\n",
      " 6   Lot Area         2051 non-null   int64  \n",
      " 7   Street           2051 non-null   object \n",
      " 8   Alley            140 non-null    object \n",
      " 9   Lot Shape        2051 non-null   object \n",
      " 10  Land Contour     2051 non-null   object \n",
      " 11  Utilities        2051 non-null   object \n",
      " 12  Lot Config       2051 non-null   object \n",
      " 13  Land Slope       2051 non-null   object \n",
      " 14  Neighborhood     2051 non-null   object \n",
      " 15  Condition 1      2051 non-null   object \n",
      " 16  Condition 2      2051 non-null   object \n",
      " 17  Bldg Type        2051 non-null   object \n",
      " 18  House Style      2051 non-null   object \n",
      " 19  Overall Qual     2051 non-null   int64  \n",
      " 20  Overall Cond     2051 non-null   int64  \n",
      " 21  Year Built       2051 non-null   int64  \n",
      " 22  Year Remod/Add   2051 non-null   int64  \n",
      " 23  Roof Style       2051 non-null   object \n",
      " 24  Roof Matl        2051 non-null   object \n",
      " 25  Exterior 1st     2051 non-null   object \n",
      " 26  Exterior 2nd     2051 non-null   object \n",
      " 27  Mas Vnr Type     2029 non-null   object \n",
      " 28  Mas Vnr Area     2029 non-null   float64\n",
      " 29  Exter Qual       2051 non-null   object \n",
      " 30  Exter Cond       2051 non-null   object \n",
      " 31  Foundation       2051 non-null   object \n",
      " 32  Bsmt Qual        1996 non-null   object \n",
      " 33  Bsmt Cond        1996 non-null   object \n",
      " 34  Bsmt Exposure    1993 non-null   object \n",
      " 35  BsmtFin Type 1   1996 non-null   object \n",
      " 36  BsmtFin SF 1     2051 non-null   float64\n",
      " 37  BsmtFin Type 2   1995 non-null   object \n",
      " 38  BsmtFin SF 2     2051 non-null   float64\n",
      " 39  Bsmt Unf SF      2051 non-null   float64\n",
      " 40  Total Bsmt SF    2051 non-null   float64\n",
      " 41  Heating          2051 non-null   object \n",
      " 42  Heating QC       2051 non-null   object \n",
      " 43  Central Air      2051 non-null   object \n",
      " 44  Electrical       2051 non-null   object \n",
      " 45  1st Flr SF       2051 non-null   int64  \n",
      " 46  2nd Flr SF       2051 non-null   int64  \n",
      " 47  Low Qual Fin SF  2051 non-null   int64  \n",
      " 48  Gr Liv Area      2051 non-null   int64  \n",
      " 49  Bsmt Full Bath   2051 non-null   float64\n",
      " 50  Bsmt Half Bath   2051 non-null   float64\n",
      " 51  Full Bath        2051 non-null   int64  \n",
      " 52  Half Bath        2051 non-null   int64  \n",
      " 53  Bedroom AbvGr    2051 non-null   int64  \n",
      " 54  Kitchen AbvGr    2051 non-null   int64  \n",
      " 55  Kitchen Qual     2051 non-null   object \n",
      " 56  TotRms AbvGrd    2051 non-null   int64  \n",
      " 57  Functional       2051 non-null   object \n",
      " 58  Fireplaces       2051 non-null   int64  \n",
      " 59  Fireplace Qu     1051 non-null   object \n",
      " 60  Garage Type      1938 non-null   object \n",
      " 61  Garage Yr Blt    1937 non-null   float64\n",
      " 62  Garage Finish    1937 non-null   object \n",
      " 63  Garage Cars      2050 non-null   float64\n",
      " 64  Garage Area      2050 non-null   float64\n",
      " 65  Garage Qual      1937 non-null   object \n",
      " 66  Garage Cond      1937 non-null   object \n",
      " 67  Paved Drive      2051 non-null   object \n",
      " 68  Wood Deck SF     2051 non-null   int64  \n",
      " 69  Open Porch SF    2051 non-null   int64  \n",
      " 70  Enclosed Porch   2051 non-null   int64  \n",
      " 71  3Ssn Porch       2051 non-null   int64  \n",
      " 72  Screen Porch     2051 non-null   int64  \n",
      " 73  Pool Area        2051 non-null   int64  \n",
      " 74  Pool QC          9 non-null      object \n",
      " 75  Fence            400 non-null    object \n",
      " 76  Misc Feature     65 non-null     object \n",
      " 77  Misc Val         2051 non-null   int64  \n",
      " 78  Mo Sold          2051 non-null   int64  \n",
      " 79  Yr Sold          2051 non-null   int64  \n",
      " 80  Sale Type        2051 non-null   object \n",
      " 81  SalePrice        2051 non-null   int64  \n",
      "dtypes: float64(11), int64(29), object(42)\n",
      "memory usage: 1.3+ MB\n"
     ]
    }
   ],
   "source": [
    "clean_data.info()"
   ]
  },
  {
   "cell_type": "code",
   "execution_count": 7,
   "id": "6b830db7-b9ec-462a-be03-54c45ad7d8f1",
   "metadata": {
    "tags": []
   },
   "outputs": [],
   "source": [
    "Columns_to_include = ['SalePrice', \n",
    "                      'Overall Qual', \n",
    "                      'Gr Liv Area', \n",
    "                      'Garage Area', \n",
    "                      'Garage Cars',  \n",
    "                      'Full Bath', \n",
    "                      'Fireplaces', \n",
    "                      'MS SubClass', \n",
    "                      'Neighborhood', \n",
    "                      'Condition 1', \n",
    "                      'Exter Qual', \n",
    "                      'Bsmt Exposure', \n",
    "                      'Kitchen Qual', \n",
    "                      'Garage Qual',\n",
    "                      'Exterior 1st',\n",
    "                      'Exter Cond',\n",
    "                      'Bsmt Qual',\n",
    "                      'Bsmt Cond',\n",
    "                      'BsmtFin Type 1',\n",
    "                      'Functional',\n",
    "                      'Fireplace Qu',\n",
    "                      'Paved Drive',\n",
    "                      'Sale Type',\n",
    "                      'Garage Cond']"
   ]
  },
  {
   "cell_type": "code",
   "execution_count": 8,
   "id": "e6a1fa59-61e8-45b0-8c1a-25bc6efb6c29",
   "metadata": {
    "tags": []
   },
   "outputs": [],
   "source": [
    "clean_columns = clean_data[Columns_to_include]"
   ]
  },
  {
   "cell_type": "code",
   "execution_count": 9,
   "id": "83eb4dc4-d55b-455b-a874-92baaec4c0f6",
   "metadata": {
    "tags": []
   },
   "outputs": [],
   "source": [
    "# Create a list of string-type column names\n",
    "string_columns = clean_data.select_dtypes(include=['object']).columns\n",
    "\n",
    "column_to_exclude = 'Mas Vnr Type'\n",
    "\n",
    "# Use a for loop to input NA in each column in dataframe that is in list except Mas Vnr Type\n",
    "for column in string_columns:\n",
    "    if column != column_to_exclude:\n",
    "        clean_data[column].fillna('NA', inplace=True)"
   ]
  },
  {
   "cell_type": "code",
   "execution_count": 10,
   "id": "076f9f9f-e05f-49eb-8669-08a1f7611e31",
   "metadata": {
    "tags": []
   },
   "outputs": [],
   "source": [
    "X1 = clean_data[Columns_to_include].drop(columns='SalePrice')\n",
    "y = clean_data['SalePrice']"
   ]
  },
  {
   "cell_type": "code",
   "execution_count": null,
   "id": "58e99f2f-aed4-4cdc-ad2f-4d4ef5fb1643",
   "metadata": {
    "tags": []
   },
   "outputs": [],
   "source": []
  },
  {
   "cell_type": "code",
   "execution_count": 11,
   "id": "80311f12-fb3e-45d0-9bcc-0cc9f16b3ab8",
   "metadata": {
    "tags": []
   },
   "outputs": [
    {
     "name": "stdout",
     "output_type": "stream",
     "text": [
      "<class 'pandas.core.frame.DataFrame'>\n",
      "RangeIndex: 2051 entries, 0 to 2050\n",
      "Data columns (total 23 columns):\n",
      " #   Column          Non-Null Count  Dtype  \n",
      "---  ------          --------------  -----  \n",
      " 0   Overall Qual    2051 non-null   int64  \n",
      " 1   Gr Liv Area     2051 non-null   int64  \n",
      " 2   Garage Area     2050 non-null   float64\n",
      " 3   Garage Cars     2050 non-null   float64\n",
      " 4   Full Bath       2051 non-null   int64  \n",
      " 5   Fireplaces      2051 non-null   int64  \n",
      " 6   MS SubClass     2051 non-null   int64  \n",
      " 7   Neighborhood    2051 non-null   object \n",
      " 8   Condition 1     2051 non-null   object \n",
      " 9   Exter Qual      2051 non-null   object \n",
      " 10  Bsmt Exposure   2051 non-null   object \n",
      " 11  Kitchen Qual    2051 non-null   object \n",
      " 12  Garage Qual     2051 non-null   object \n",
      " 13  Exterior 1st    2051 non-null   object \n",
      " 14  Exter Cond      2051 non-null   object \n",
      " 15  Bsmt Qual       2051 non-null   object \n",
      " 16  Bsmt Cond       2051 non-null   object \n",
      " 17  BsmtFin Type 1  2051 non-null   object \n",
      " 18  Functional      2051 non-null   object \n",
      " 19  Fireplace Qu    2051 non-null   object \n",
      " 20  Paved Drive     2051 non-null   object \n",
      " 21  Sale Type       2051 non-null   object \n",
      " 22  Garage Cond     2051 non-null   object \n",
      "dtypes: float64(2), int64(5), object(16)\n",
      "memory usage: 368.7+ KB\n"
     ]
    }
   ],
   "source": [
    "X1.info()"
   ]
  },
  {
   "cell_type": "code",
   "execution_count": 12,
   "id": "6d35a81c-0d67-46b1-8736-51d9a709692a",
   "metadata": {
    "tags": []
   },
   "outputs": [
    {
     "data": {
      "text/plain": [
       "TA    1832\n",
       "NA     114\n",
       "Fa      82\n",
       "Gd      18\n",
       "Ex       3\n",
       "Po       2\n",
       "Name: Garage Qual, dtype: int64"
      ]
     },
     "execution_count": 12,
     "metadata": {},
     "output_type": "execute_result"
    }
   ],
   "source": [
    "X1['Garage Qual'].value_counts()"
   ]
  },
  {
   "cell_type": "code",
   "execution_count": 13,
   "id": "e7bea9ab-4758-4779-aa83-f0c31f4db376",
   "metadata": {
    "tags": []
   },
   "outputs": [
    {
     "data": {
      "text/plain": [
       "(2051,)"
      ]
     },
     "execution_count": 13,
     "metadata": {},
     "output_type": "execute_result"
    }
   ],
   "source": [
    "y.shape"
   ]
  },
  {
   "cell_type": "code",
   "execution_count": 14,
   "id": "0387a605-c627-4e03-9dbe-6d7b521ebc4e",
   "metadata": {
    "tags": []
   },
   "outputs": [],
   "source": [
    "X1_train, X1_val, y_train, y_val = train_test_split(X1, y, test_size= 0.2, random_state=24)"
   ]
  },
  {
   "cell_type": "code",
   "execution_count": 15,
   "id": "847cd295-3cd8-4117-8029-e1ff6a0bdb9e",
   "metadata": {
    "tags": []
   },
   "outputs": [],
   "source": [
    "X1_str = list(X1.select_dtypes(include=['object']).columns)"
   ]
  },
  {
   "cell_type": "code",
   "execution_count": 16,
   "id": "8f8ac160-a891-4bec-948a-841e7e047dc2",
   "metadata": {
    "tags": []
   },
   "outputs": [],
   "source": [
    "#I can either add imputer to the column transformer\n",
    "#or if I don't add polynomical features back in, I can just remove ct & run each separate\n",
    "#\n",
    "ct = ColumnTransformer([('oh', OneHotEncoder(sparse_output=False, handle_unknown='ignore', drop='first'), X1_str)\n",
    "], remainder='passthrough')  \n",
    "\n",
    "# Fit and transform the training data using the ColumnTransformer\n",
    "X1_train_transformed = ct.fit_transform(X1_train)\n",
    "\n",
    "# Transform the test data using the fitted ColumnTransformer\n",
    "X1_val_transformed = ct.transform(X1_val)\n",
    "\n",
    "\n",
    "#Double-check this... why would I need an imputer? I shouldn't have any numeric columns with missings\n",
    "imputer = SimpleImputer(strategy='median')\n",
    "X1_train_transformed = imputer.fit_transform(X1_train_transformed)\n",
    "X1_val_transofrmed = imputer.transform(X1_val_transformed)\n"
   ]
  },
  {
   "cell_type": "code",
   "execution_count": 17,
   "id": "5531e85c-ab99-4a7c-a3bb-07bf472dedae",
   "metadata": {
    "tags": []
   },
   "outputs": [],
   "source": [
    "lr=LinearRegression()"
   ]
  },
  {
   "cell_type": "code",
   "execution_count": 18,
   "id": "875011b1-971d-404f-9df7-2ced70d7ef84",
   "metadata": {
    "tags": []
   },
   "outputs": [
    {
     "data": {
      "text/html": [
       "<style>#sk-container-id-1 {color: black;}#sk-container-id-1 pre{padding: 0;}#sk-container-id-1 div.sk-toggleable {background-color: white;}#sk-container-id-1 label.sk-toggleable__label {cursor: pointer;display: block;width: 100%;margin-bottom: 0;padding: 0.3em;box-sizing: border-box;text-align: center;}#sk-container-id-1 label.sk-toggleable__label-arrow:before {content: \"▸\";float: left;margin-right: 0.25em;color: #696969;}#sk-container-id-1 label.sk-toggleable__label-arrow:hover:before {color: black;}#sk-container-id-1 div.sk-estimator:hover label.sk-toggleable__label-arrow:before {color: black;}#sk-container-id-1 div.sk-toggleable__content {max-height: 0;max-width: 0;overflow: hidden;text-align: left;background-color: #f0f8ff;}#sk-container-id-1 div.sk-toggleable__content pre {margin: 0.2em;color: black;border-radius: 0.25em;background-color: #f0f8ff;}#sk-container-id-1 input.sk-toggleable__control:checked~div.sk-toggleable__content {max-height: 200px;max-width: 100%;overflow: auto;}#sk-container-id-1 input.sk-toggleable__control:checked~label.sk-toggleable__label-arrow:before {content: \"▾\";}#sk-container-id-1 div.sk-estimator input.sk-toggleable__control:checked~label.sk-toggleable__label {background-color: #d4ebff;}#sk-container-id-1 div.sk-label input.sk-toggleable__control:checked~label.sk-toggleable__label {background-color: #d4ebff;}#sk-container-id-1 input.sk-hidden--visually {border: 0;clip: rect(1px 1px 1px 1px);clip: rect(1px, 1px, 1px, 1px);height: 1px;margin: -1px;overflow: hidden;padding: 0;position: absolute;width: 1px;}#sk-container-id-1 div.sk-estimator {font-family: monospace;background-color: #f0f8ff;border: 1px dotted black;border-radius: 0.25em;box-sizing: border-box;margin-bottom: 0.5em;}#sk-container-id-1 div.sk-estimator:hover {background-color: #d4ebff;}#sk-container-id-1 div.sk-parallel-item::after {content: \"\";width: 100%;border-bottom: 1px solid gray;flex-grow: 1;}#sk-container-id-1 div.sk-label:hover label.sk-toggleable__label {background-color: #d4ebff;}#sk-container-id-1 div.sk-serial::before {content: \"\";position: absolute;border-left: 1px solid gray;box-sizing: border-box;top: 0;bottom: 0;left: 50%;z-index: 0;}#sk-container-id-1 div.sk-serial {display: flex;flex-direction: column;align-items: center;background-color: white;padding-right: 0.2em;padding-left: 0.2em;position: relative;}#sk-container-id-1 div.sk-item {position: relative;z-index: 1;}#sk-container-id-1 div.sk-parallel {display: flex;align-items: stretch;justify-content: center;background-color: white;position: relative;}#sk-container-id-1 div.sk-item::before, #sk-container-id-1 div.sk-parallel-item::before {content: \"\";position: absolute;border-left: 1px solid gray;box-sizing: border-box;top: 0;bottom: 0;left: 50%;z-index: -1;}#sk-container-id-1 div.sk-parallel-item {display: flex;flex-direction: column;z-index: 1;position: relative;background-color: white;}#sk-container-id-1 div.sk-parallel-item:first-child::after {align-self: flex-end;width: 50%;}#sk-container-id-1 div.sk-parallel-item:last-child::after {align-self: flex-start;width: 50%;}#sk-container-id-1 div.sk-parallel-item:only-child::after {width: 0;}#sk-container-id-1 div.sk-dashed-wrapped {border: 1px dashed gray;margin: 0 0.4em 0.5em 0.4em;box-sizing: border-box;padding-bottom: 0.4em;background-color: white;}#sk-container-id-1 div.sk-label label {font-family: monospace;font-weight: bold;display: inline-block;line-height: 1.2em;}#sk-container-id-1 div.sk-label-container {text-align: center;}#sk-container-id-1 div.sk-container {/* jupyter's `normalize.less` sets `[hidden] { display: none; }` but bootstrap.min.css set `[hidden] { display: none !important; }` so we also need the `!important` here to be able to override the default hidden behavior on the sphinx rendered scikit-learn.org. See: https://github.com/scikit-learn/scikit-learn/issues/21755 */display: inline-block !important;position: relative;}#sk-container-id-1 div.sk-text-repr-fallback {display: none;}</style><div id=\"sk-container-id-1\" class=\"sk-top-container\"><div class=\"sk-text-repr-fallback\"><pre>LinearRegression()</pre><b>In a Jupyter environment, please rerun this cell to show the HTML representation or trust the notebook. <br />On GitHub, the HTML representation is unable to render, please try loading this page with nbviewer.org.</b></div><div class=\"sk-container\" hidden><div class=\"sk-item\"><div class=\"sk-estimator sk-toggleable\"><input class=\"sk-toggleable__control sk-hidden--visually\" id=\"sk-estimator-id-1\" type=\"checkbox\" checked><label for=\"sk-estimator-id-1\" class=\"sk-toggleable__label sk-toggleable__label-arrow\">LinearRegression</label><div class=\"sk-toggleable__content\"><pre>LinearRegression()</pre></div></div></div></div></div>"
      ],
      "text/plain": [
       "LinearRegression()"
      ]
     },
     "execution_count": 18,
     "metadata": {},
     "output_type": "execute_result"
    }
   ],
   "source": [
    "lr.fit(X1_train_transformed, y_train)"
   ]
  },
  {
   "cell_type": "code",
   "execution_count": 19,
   "id": "985c7c79-a8a9-4a81-8a82-799d52983487",
   "metadata": {
    "tags": []
   },
   "outputs": [
    {
     "name": "stdout",
     "output_type": "stream",
     "text": [
      "0.8873055847891408\n",
      "0.904916025625044\n"
     ]
    }
   ],
   "source": [
    "r2_train = lr.score(X1_train_transformed, y_train)\n",
    "r2_val = lr.score(X1_val_transformed, y_val)\n",
    "print(r2_train)\n",
    "print(r2_val)"
   ]
  },
  {
   "cell_type": "code",
   "execution_count": 20,
   "id": "af87b785-f798-4f85-9add-23d085319912",
   "metadata": {},
   "outputs": [
    {
     "data": {
      "text/plain": [
       "716612922.1967893"
      ]
     },
     "execution_count": 20,
     "metadata": {},
     "output_type": "execute_result"
    }
   ],
   "source": [
    "y_preds_train = lr.predict(X1_train_transformed)\n",
    "metrics.mean_squared_error(y_train, y_preds_train)"
   ]
  },
  {
   "cell_type": "code",
   "execution_count": 21,
   "id": "8eeae0f5-f6b6-4de5-94f0-fbcd6daa8d4e",
   "metadata": {
    "tags": []
   },
   "outputs": [
    {
     "data": {
      "text/plain": [
       "566641607.3660567"
      ]
     },
     "execution_count": 21,
     "metadata": {},
     "output_type": "execute_result"
    }
   ],
   "source": [
    "y_preds_val = lr.predict(X1_val_transformed)\n",
    "metrics.mean_squared_error(y_val, y_preds_val)"
   ]
  },
  {
   "cell_type": "code",
   "execution_count": 22,
   "id": "e49dba63-9991-4fa1-90af-c2c530ab8074",
   "metadata": {
    "tags": []
   },
   "outputs": [
    {
     "data": {
      "text/plain": [
       "array([-6.28114465e+03,  8.91854338e+03, -6.65428944e+03,  1.40004963e+04,\n",
       "        3.88139284e+03,  1.84965394e+04, -1.30570005e+04,  2.88953046e+03,\n",
       "        5.27676515e+03,  1.30335344e+05, -9.59020145e+03, -5.34982652e+02,\n",
       "       -8.30729207e+03,  2.05362372e+02, -4.58151442e+03,  1.40112048e+03,\n",
       "       -5.71973546e+01,  5.33054169e+04,  3.99889271e+04, -1.29614771e+04,\n",
       "       -3.71478174e+03, -6.45414670e+02,  3.47974122e+03,  1.87635716e+04,\n",
       "        5.87878015e+04,  9.52369006e+03,  1.27755835e+04,  1.98111600e+03,\n",
       "        1.19089074e+04,  2.56074000e+04,  2.44672413e+04, -5.46742615e+03,\n",
       "        1.26370251e+04, -8.71656392e+03,  4.91750548e+03, -3.28704285e+04,\n",
       "       -2.37015785e+04, -2.74201105e+04,  1.84701975e+04, -7.74417395e+03,\n",
       "        8.13657739e+03, -9.85755318e+03, -3.64312789e+04, -2.63283037e+04,\n",
       "       -3.21637372e+04, -1.64159633e+05, -1.18561078e+05,  9.43487675e+03,\n",
       "       -2.04593213e+05, -1.62485415e+05,  3.34170942e+04, -9.37219336e+03,\n",
       "        2.46991102e+04,  6.84192062e+03,  1.35416288e+04,  1.65548276e+03,\n",
       "       -1.08289055e+04,  8.95550046e+03,  5.73281873e+03,  2.43337071e+03,\n",
       "       -1.44035324e+04,  1.06563398e+04,  2.64016997e+03,  8.92248302e+03,\n",
       "       -1.91770807e+03,  2.44946902e+02, -1.60747816e+04, -3.33621706e+03,\n",
       "       -2.69034085e+04, -2.45814292e+04, -2.28945097e+04, -1.67560973e+04,\n",
       "       -2.60395217e+04, -2.97243860e+03,  3.65878892e+03, -2.28945097e+04,\n",
       "        1.12380130e+04,  2.80954340e+01, -3.24795675e+03, -8.71428972e+02,\n",
       "       -8.36209452e+03, -2.28945097e+04, -3.58042965e+03, -1.48402854e+04,\n",
       "        1.24711038e+04,  2.16164909e+04,  1.69007512e+04,  2.55127011e+04,\n",
       "        2.20093823e+03, -4.59845610e+04,  2.59043237e+04, -9.08375495e+03,\n",
       "       -6.82263322e+03, -6.90903453e+03, -1.08549215e+04, -5.44399215e+03,\n",
       "       -3.26162335e+03,  2.95203021e+03,  1.25649511e+04,  8.91604889e+04,\n",
       "        1.91127411e+04, -6.48707864e+02,  3.49886236e+03,  1.65072553e+04,\n",
       "        1.81389602e+04,  8.31743542e+03,  1.65947644e+05,  1.63456697e+05,\n",
       "        9.43487675e+03,  1.72173691e+05,  1.68367055e+05,  8.30257184e+03,\n",
       "        4.19855490e+01,  9.60237632e+00,  9.90391058e+03,  5.17946807e+03,\n",
       "        8.12931887e+03, -2.51729800e+02])"
      ]
     },
     "execution_count": 22,
     "metadata": {},
     "output_type": "execute_result"
    }
   ],
   "source": [
    "lr.coef_"
   ]
  },
  {
   "cell_type": "markdown",
   "id": "ebaf06ba-ac09-4f4b-ac01-b905eb893a70",
   "metadata": {},
   "source": [
    "*Credit to Susan for add_constant to simplify creating an intercept process*"
   ]
  },
  {
   "cell_type": "code",
   "execution_count": 23,
   "id": "2d1855b1-bb18-468f-af04-e70b111045d1",
   "metadata": {
    "tags": []
   },
   "outputs": [
    {
     "data": {
      "text/html": [
       "<table class=\"simpletable\">\n",
       "<caption>OLS Regression Results</caption>\n",
       "<tr>\n",
       "  <th>Dep. Variable:</th>        <td>SalePrice</td>    <th>  R-squared:         </th> <td>   0.887</td> \n",
       "</tr>\n",
       "<tr>\n",
       "  <th>Model:</th>                   <td>OLS</td>       <th>  Adj. R-squared:    </th> <td>   0.879</td> \n",
       "</tr>\n",
       "<tr>\n",
       "  <th>Method:</th>             <td>Least Squares</td>  <th>  F-statistic:       </th> <td>   104.3</td> \n",
       "</tr>\n",
       "<tr>\n",
       "  <th>Date:</th>             <td>Thu, 05 Oct 2023</td> <th>  Prob (F-statistic):</th>  <td>  0.00</td>  \n",
       "</tr>\n",
       "<tr>\n",
       "  <th>Time:</th>                 <td>17:33:54</td>     <th>  Log-Likelihood:    </th> <td> -19047.</td> \n",
       "</tr>\n",
       "<tr>\n",
       "  <th>No. Observations:</th>      <td>  1640</td>      <th>  AIC:               </th> <td>3.833e+04</td>\n",
       "</tr>\n",
       "<tr>\n",
       "  <th>Df Residuals:</th>          <td>  1524</td>      <th>  BIC:               </th> <td>3.895e+04</td>\n",
       "</tr>\n",
       "<tr>\n",
       "  <th>Df Model:</th>              <td>   115</td>      <th>                     </th>     <td> </td>    \n",
       "</tr>\n",
       "<tr>\n",
       "  <th>Covariance Type:</th>      <td>nonrobust</td>    <th>                     </th>     <td> </td>    \n",
       "</tr>\n",
       "</table>\n",
       "<table class=\"simpletable\">\n",
       "<tr>\n",
       "    <td></td>       <th>coef</th>     <th>std err</th>      <th>t</th>      <th>P>|t|</th>  <th>[0.025</th>    <th>0.975]</th>  \n",
       "</tr>\n",
       "<tr>\n",
       "  <th>const</th> <td> 7.725e+04</td> <td> 4.01e+04</td> <td>    1.927</td> <td> 0.054</td> <td>-1383.150</td> <td> 1.56e+05</td>\n",
       "</tr>\n",
       "<tr>\n",
       "  <th>x1</th>    <td>-6281.1446</td> <td> 1.47e+04</td> <td>   -0.426</td> <td> 0.670</td> <td>-3.52e+04</td> <td> 2.26e+04</td>\n",
       "</tr>\n",
       "<tr>\n",
       "  <th>x2</th>    <td> 8918.5434</td> <td> 1.11e+04</td> <td>    0.801</td> <td> 0.423</td> <td>-1.29e+04</td> <td> 3.08e+04</td>\n",
       "</tr>\n",
       "<tr>\n",
       "  <th>x3</th>    <td>-6654.2894</td> <td> 8941.312</td> <td>   -0.744</td> <td> 0.457</td> <td>-2.42e+04</td> <td> 1.09e+04</td>\n",
       "</tr>\n",
       "<tr>\n",
       "  <th>x4</th>    <td>   1.4e+04</td> <td> 1.09e+04</td> <td>    1.286</td> <td> 0.199</td> <td>-7359.601</td> <td> 3.54e+04</td>\n",
       "</tr>\n",
       "<tr>\n",
       "  <th>x5</th>    <td> 3881.3928</td> <td> 7896.147</td> <td>    0.492</td> <td> 0.623</td> <td>-1.16e+04</td> <td> 1.94e+04</td>\n",
       "</tr>\n",
       "<tr>\n",
       "  <th>x6</th>    <td>  1.85e+04</td> <td> 8729.899</td> <td>    2.119</td> <td> 0.034</td> <td> 1372.652</td> <td> 3.56e+04</td>\n",
       "</tr>\n",
       "<tr>\n",
       "  <th>x7</th>    <td>-1.306e+04</td> <td> 8484.216</td> <td>   -1.539</td> <td> 0.124</td> <td>-2.97e+04</td> <td> 3584.974</td>\n",
       "</tr>\n",
       "<tr>\n",
       "  <th>x8</th>    <td> 2889.5305</td> <td> 7977.714</td> <td>    0.362</td> <td> 0.717</td> <td>-1.28e+04</td> <td> 1.85e+04</td>\n",
       "</tr>\n",
       "<tr>\n",
       "  <th>x9</th>    <td> 5276.7652</td> <td> 2.14e+04</td> <td>    0.246</td> <td> 0.805</td> <td>-3.67e+04</td> <td> 4.73e+04</td>\n",
       "</tr>\n",
       "<tr>\n",
       "  <th>x10</th>   <td> 1.303e+05</td> <td> 2.14e+04</td> <td>    6.087</td> <td> 0.000</td> <td> 8.83e+04</td> <td> 1.72e+05</td>\n",
       "</tr>\n",
       "<tr>\n",
       "  <th>x11</th>   <td>-9590.2015</td> <td> 9214.952</td> <td>   -1.041</td> <td> 0.298</td> <td>-2.77e+04</td> <td> 8485.128</td>\n",
       "</tr>\n",
       "<tr>\n",
       "  <th>x12</th>   <td> -534.9827</td> <td> 2.89e+04</td> <td>   -0.018</td> <td> 0.985</td> <td>-5.73e+04</td> <td> 5.62e+04</td>\n",
       "</tr>\n",
       "<tr>\n",
       "  <th>x13</th>   <td>-8307.2921</td> <td>  1.1e+04</td> <td>   -0.753</td> <td> 0.452</td> <td>-2.99e+04</td> <td> 1.33e+04</td>\n",
       "</tr>\n",
       "<tr>\n",
       "  <th>x14</th>   <td>  205.3624</td> <td> 8550.430</td> <td>    0.024</td> <td> 0.981</td> <td>-1.66e+04</td> <td>  1.7e+04</td>\n",
       "</tr>\n",
       "<tr>\n",
       "  <th>x15</th>   <td>-4581.5144</td> <td> 8274.773</td> <td>   -0.554</td> <td> 0.580</td> <td>-2.08e+04</td> <td> 1.16e+04</td>\n",
       "</tr>\n",
       "<tr>\n",
       "  <th>x16</th>   <td> 1401.1205</td> <td> 1.11e+04</td> <td>    0.126</td> <td> 0.899</td> <td>-2.03e+04</td> <td> 2.31e+04</td>\n",
       "</tr>\n",
       "<tr>\n",
       "  <th>x17</th>   <td>  -57.1974</td> <td> 8672.628</td> <td>   -0.007</td> <td> 0.995</td> <td>-1.71e+04</td> <td>  1.7e+04</td>\n",
       "</tr>\n",
       "<tr>\n",
       "  <th>x18</th>   <td> 5.331e+04</td> <td> 9163.829</td> <td>    5.817</td> <td> 0.000</td> <td> 3.53e+04</td> <td> 7.13e+04</td>\n",
       "</tr>\n",
       "<tr>\n",
       "  <th>x19</th>   <td> 3.999e+04</td> <td> 8155.959</td> <td>    4.903</td> <td> 0.000</td> <td>  2.4e+04</td> <td>  5.6e+04</td>\n",
       "</tr>\n",
       "<tr>\n",
       "  <th>x20</th>   <td>-1.296e+04</td> <td> 8561.821</td> <td>   -1.514</td> <td> 0.130</td> <td>-2.98e+04</td> <td> 3832.721</td>\n",
       "</tr>\n",
       "<tr>\n",
       "  <th>x21</th>   <td>-3714.7817</td> <td> 1.04e+04</td> <td>   -0.357</td> <td> 0.721</td> <td>-2.41e+04</td> <td> 1.67e+04</td>\n",
       "</tr>\n",
       "<tr>\n",
       "  <th>x22</th>   <td> -645.4147</td> <td> 8713.555</td> <td>   -0.074</td> <td> 0.941</td> <td>-1.77e+04</td> <td> 1.64e+04</td>\n",
       "</tr>\n",
       "<tr>\n",
       "  <th>x23</th>   <td> 3479.7412</td> <td> 8361.629</td> <td>    0.416</td> <td> 0.677</td> <td>-1.29e+04</td> <td> 1.99e+04</td>\n",
       "</tr>\n",
       "<tr>\n",
       "  <th>x24</th>   <td> 1.876e+04</td> <td> 8000.370</td> <td>    2.345</td> <td> 0.019</td> <td> 3070.670</td> <td> 3.45e+04</td>\n",
       "</tr>\n",
       "<tr>\n",
       "  <th>x25</th>   <td> 5.879e+04</td> <td> 9058.077</td> <td>    6.490</td> <td> 0.000</td> <td>  4.1e+04</td> <td> 7.66e+04</td>\n",
       "</tr>\n",
       "<tr>\n",
       "  <th>x26</th>   <td> 9523.6901</td> <td> 8843.041</td> <td>    1.077</td> <td> 0.282</td> <td>-7822.128</td> <td> 2.69e+04</td>\n",
       "</tr>\n",
       "<tr>\n",
       "  <th>x27</th>   <td> 1.278e+04</td> <td> 1.12e+04</td> <td>    1.142</td> <td> 0.253</td> <td>-9161.639</td> <td> 3.47e+04</td>\n",
       "</tr>\n",
       "<tr>\n",
       "  <th>x28</th>   <td> 1981.1160</td> <td> 5147.333</td> <td>    0.385</td> <td> 0.700</td> <td>-8115.489</td> <td> 1.21e+04</td>\n",
       "</tr>\n",
       "<tr>\n",
       "  <th>x29</th>   <td> 1.191e+04</td> <td> 4133.708</td> <td>    2.881</td> <td> 0.004</td> <td> 3800.548</td> <td>    2e+04</td>\n",
       "</tr>\n",
       "<tr>\n",
       "  <th>x30</th>   <td> 2.561e+04</td> <td> 9627.984</td> <td>    2.660</td> <td> 0.008</td> <td> 6721.899</td> <td> 4.45e+04</td>\n",
       "</tr>\n",
       "<tr>\n",
       "  <th>x31</th>   <td> 2.447e+04</td> <td> 7104.017</td> <td>    3.444</td> <td> 0.001</td> <td> 1.05e+04</td> <td> 3.84e+04</td>\n",
       "</tr>\n",
       "<tr>\n",
       "  <th>x32</th>   <td>-5467.4262</td> <td> 8229.337</td> <td>   -0.664</td> <td> 0.507</td> <td>-2.16e+04</td> <td> 1.07e+04</td>\n",
       "</tr>\n",
       "<tr>\n",
       "  <th>x33</th>   <td> 1.264e+04</td> <td> 6801.668</td> <td>    1.858</td> <td> 0.063</td> <td> -704.595</td> <td>  2.6e+04</td>\n",
       "</tr>\n",
       "<tr>\n",
       "  <th>x34</th>   <td>-8716.5639</td> <td> 2.06e+04</td> <td>   -0.422</td> <td> 0.673</td> <td>-4.92e+04</td> <td> 3.18e+04</td>\n",
       "</tr>\n",
       "<tr>\n",
       "  <th>x35</th>   <td> 4917.5055</td> <td> 1.49e+04</td> <td>    0.330</td> <td> 0.742</td> <td>-2.43e+04</td> <td> 3.42e+04</td>\n",
       "</tr>\n",
       "<tr>\n",
       "  <th>x36</th>   <td>-3.287e+04</td> <td> 9862.759</td> <td>   -3.333</td> <td> 0.001</td> <td>-5.22e+04</td> <td>-1.35e+04</td>\n",
       "</tr>\n",
       "<tr>\n",
       "  <th>x37</th>   <td> -2.37e+04</td> <td> 4808.380</td> <td>   -4.929</td> <td> 0.000</td> <td>-3.31e+04</td> <td>-1.43e+04</td>\n",
       "</tr>\n",
       "<tr>\n",
       "  <th>x38</th>   <td>-2.742e+04</td> <td> 5505.586</td> <td>   -4.980</td> <td> 0.000</td> <td>-3.82e+04</td> <td>-1.66e+04</td>\n",
       "</tr>\n",
       "<tr>\n",
       "  <th>x39</th>   <td> 1.847e+04</td> <td> 3135.941</td> <td>    5.890</td> <td> 0.000</td> <td> 1.23e+04</td> <td> 2.46e+04</td>\n",
       "</tr>\n",
       "<tr>\n",
       "  <th>x40</th>   <td>-7744.1739</td> <td> 3233.963</td> <td>   -2.395</td> <td> 0.017</td> <td>-1.41e+04</td> <td>-1400.685</td>\n",
       "</tr>\n",
       "<tr>\n",
       "  <th>x41</th>   <td> 8136.5774</td> <td> 2.83e+04</td> <td>    0.288</td> <td> 0.774</td> <td>-4.73e+04</td> <td> 6.36e+04</td>\n",
       "</tr>\n",
       "<tr>\n",
       "  <th>x42</th>   <td>-9857.5532</td> <td> 2277.234</td> <td>   -4.329</td> <td> 0.000</td> <td>-1.43e+04</td> <td>-5390.709</td>\n",
       "</tr>\n",
       "<tr>\n",
       "  <th>x43</th>   <td>-3.643e+04</td> <td> 6627.232</td> <td>   -5.497</td> <td> 0.000</td> <td>-4.94e+04</td> <td>-2.34e+04</td>\n",
       "</tr>\n",
       "<tr>\n",
       "  <th>x44</th>   <td>-2.633e+04</td> <td> 3770.702</td> <td>   -6.982</td> <td> 0.000</td> <td>-3.37e+04</td> <td>-1.89e+04</td>\n",
       "</tr>\n",
       "<tr>\n",
       "  <th>x45</th>   <td>-3.216e+04</td> <td> 4279.702</td> <td>   -7.515</td> <td> 0.000</td> <td>-4.06e+04</td> <td>-2.38e+04</td>\n",
       "</tr>\n",
       "<tr>\n",
       "  <th>x46</th>   <td>-1.642e+05</td> <td> 2.93e+04</td> <td>   -5.601</td> <td> 0.000</td> <td>-2.22e+05</td> <td>-1.07e+05</td>\n",
       "</tr>\n",
       "<tr>\n",
       "  <th>x47</th>   <td>-1.186e+05</td> <td> 3.02e+04</td> <td>   -3.924</td> <td> 0.000</td> <td>-1.78e+05</td> <td>-5.93e+04</td>\n",
       "</tr>\n",
       "<tr>\n",
       "  <th>x48</th>   <td> 9434.8767</td> <td> 1.46e+04</td> <td>    0.647</td> <td> 0.517</td> <td>-1.91e+04</td> <td>  3.8e+04</td>\n",
       "</tr>\n",
       "<tr>\n",
       "  <th>x49</th>   <td>-2.046e+05</td> <td>  3.9e+04</td> <td>   -5.247</td> <td> 0.000</td> <td>-2.81e+05</td> <td>-1.28e+05</td>\n",
       "</tr>\n",
       "<tr>\n",
       "  <th>x50</th>   <td>-1.625e+05</td> <td>  2.9e+04</td> <td>   -5.600</td> <td> 0.000</td> <td>-2.19e+05</td> <td>-1.06e+05</td>\n",
       "</tr>\n",
       "<tr>\n",
       "  <th>x51</th>   <td> 3.342e+04</td> <td> 2.96e+04</td> <td>    1.129</td> <td> 0.259</td> <td>-2.46e+04</td> <td> 9.15e+04</td>\n",
       "</tr>\n",
       "<tr>\n",
       "  <th>x52</th>   <td>-9372.1934</td> <td> 2.25e+04</td> <td>   -0.416</td> <td> 0.677</td> <td>-5.35e+04</td> <td> 3.48e+04</td>\n",
       "</tr>\n",
       "<tr>\n",
       "  <th>x53</th>   <td>  2.47e+04</td> <td> 7089.719</td> <td>    3.484</td> <td> 0.001</td> <td> 1.08e+04</td> <td> 3.86e+04</td>\n",
       "</tr>\n",
       "<tr>\n",
       "  <th>x54</th>   <td> 6841.9206</td> <td> 3.07e+04</td> <td>    0.223</td> <td> 0.824</td> <td>-5.34e+04</td> <td> 6.71e+04</td>\n",
       "</tr>\n",
       "<tr>\n",
       "  <th>x55</th>   <td> 1.354e+04</td> <td> 7184.874</td> <td>    1.885</td> <td> 0.060</td> <td> -551.658</td> <td> 2.76e+04</td>\n",
       "</tr>\n",
       "<tr>\n",
       "  <th>x56</th>   <td> 1655.4828</td> <td> 6183.640</td> <td>    0.268</td> <td> 0.789</td> <td>-1.05e+04</td> <td> 1.38e+04</td>\n",
       "</tr>\n",
       "<tr>\n",
       "  <th>x57</th>   <td>-1.083e+04</td> <td> 2.93e+04</td> <td>   -0.370</td> <td> 0.712</td> <td>-6.83e+04</td> <td> 4.66e+04</td>\n",
       "</tr>\n",
       "<tr>\n",
       "  <th>x58</th>   <td> 8955.5005</td> <td> 5956.808</td> <td>    1.503</td> <td> 0.133</td> <td>-2728.909</td> <td> 2.06e+04</td>\n",
       "</tr>\n",
       "<tr>\n",
       "  <th>x59</th>   <td> 5732.8187</td> <td> 6552.282</td> <td>    0.875</td> <td> 0.382</td> <td>-7119.625</td> <td> 1.86e+04</td>\n",
       "</tr>\n",
       "<tr>\n",
       "  <th>x60</th>   <td> 2433.3707</td> <td> 2.11e+04</td> <td>    0.115</td> <td> 0.908</td> <td> -3.9e+04</td> <td> 4.38e+04</td>\n",
       "</tr>\n",
       "<tr>\n",
       "  <th>x61</th>   <td> -1.44e+04</td> <td> 8110.125</td> <td>   -1.776</td> <td> 0.076</td> <td>-3.03e+04</td> <td> 1504.654</td>\n",
       "</tr>\n",
       "<tr>\n",
       "  <th>x62</th>   <td> 1.066e+04</td> <td> 6059.518</td> <td>    1.759</td> <td> 0.079</td> <td>-1229.536</td> <td> 2.25e+04</td>\n",
       "</tr>\n",
       "<tr>\n",
       "  <th>x63</th>   <td> 2640.1700</td> <td> 5988.580</td> <td>    0.441</td> <td> 0.659</td> <td>-9106.560</td> <td> 1.44e+04</td>\n",
       "</tr>\n",
       "<tr>\n",
       "  <th>x64</th>   <td> 8922.4830</td> <td> 7823.403</td> <td>    1.140</td> <td> 0.254</td> <td>-6423.292</td> <td> 2.43e+04</td>\n",
       "</tr>\n",
       "<tr>\n",
       "  <th>x65</th>   <td>-1917.7081</td> <td> 1.43e+04</td> <td>   -0.134</td> <td> 0.893</td> <td>-2.99e+04</td> <td> 2.61e+04</td>\n",
       "</tr>\n",
       "<tr>\n",
       "  <th>x66</th>   <td>  244.9469</td> <td> 1.34e+04</td> <td>    0.018</td> <td> 0.985</td> <td> -2.6e+04</td> <td> 2.65e+04</td>\n",
       "</tr>\n",
       "<tr>\n",
       "  <th>x67</th>   <td>-1.607e+04</td> <td> 2.81e+04</td> <td>   -0.572</td> <td> 0.567</td> <td>-7.12e+04</td> <td>  3.9e+04</td>\n",
       "</tr>\n",
       "<tr>\n",
       "  <th>x68</th>   <td>-3336.2171</td> <td> 1.32e+04</td> <td>   -0.252</td> <td> 0.801</td> <td>-2.93e+04</td> <td> 2.26e+04</td>\n",
       "</tr>\n",
       "<tr>\n",
       "  <th>x69</th>   <td> -2.69e+04</td> <td> 6200.900</td> <td>   -4.339</td> <td> 0.000</td> <td>-3.91e+04</td> <td>-1.47e+04</td>\n",
       "</tr>\n",
       "<tr>\n",
       "  <th>x70</th>   <td>-2.458e+04</td> <td> 3497.102</td> <td>   -7.029</td> <td> 0.000</td> <td>-3.14e+04</td> <td>-1.77e+04</td>\n",
       "</tr>\n",
       "<tr>\n",
       "  <th>x71</th>   <td>-2.289e+04</td> <td> 1.12e+04</td> <td>   -2.041</td> <td> 0.041</td> <td>-4.49e+04</td> <td> -887.757</td>\n",
       "</tr>\n",
       "<tr>\n",
       "  <th>x72</th>   <td>-1.676e+04</td> <td> 2.93e+04</td> <td>   -0.572</td> <td> 0.567</td> <td>-7.42e+04</td> <td> 4.07e+04</td>\n",
       "</tr>\n",
       "<tr>\n",
       "  <th>x73</th>   <td>-2.604e+04</td> <td> 4218.920</td> <td>   -6.172</td> <td> 0.000</td> <td>-3.43e+04</td> <td>-1.78e+04</td>\n",
       "</tr>\n",
       "<tr>\n",
       "  <th>x74</th>   <td>-2972.4386</td> <td> 1.78e+04</td> <td>   -0.167</td> <td> 0.868</td> <td>-3.79e+04</td> <td>  3.2e+04</td>\n",
       "</tr>\n",
       "<tr>\n",
       "  <th>x75</th>   <td> 3658.7889</td> <td> 1.76e+04</td> <td>    0.208</td> <td> 0.835</td> <td>-3.08e+04</td> <td> 3.81e+04</td>\n",
       "</tr>\n",
       "<tr>\n",
       "  <th>x76</th>   <td>-2.289e+04</td> <td> 1.12e+04</td> <td>   -2.041</td> <td> 0.041</td> <td>-4.49e+04</td> <td> -887.757</td>\n",
       "</tr>\n",
       "<tr>\n",
       "  <th>x77</th>   <td> 1.124e+04</td> <td> 2.25e+04</td> <td>    0.499</td> <td> 0.618</td> <td> -3.3e+04</td> <td> 5.54e+04</td>\n",
       "</tr>\n",
       "<tr>\n",
       "  <th>x78</th>   <td>   28.0954</td> <td> 1.72e+04</td> <td>    0.002</td> <td> 0.999</td> <td>-3.37e+04</td> <td> 3.38e+04</td>\n",
       "</tr>\n",
       "<tr>\n",
       "  <th>x79</th>   <td>-3247.9568</td> <td> 2957.966</td> <td>   -1.098</td> <td> 0.272</td> <td>-9050.071</td> <td> 2554.157</td>\n",
       "</tr>\n",
       "<tr>\n",
       "  <th>x80</th>   <td> -871.4290</td> <td> 2694.422</td> <td>   -0.323</td> <td> 0.746</td> <td>-6156.597</td> <td> 4413.739</td>\n",
       "</tr>\n",
       "<tr>\n",
       "  <th>x81</th>   <td>-8362.0945</td> <td> 3862.555</td> <td>   -2.165</td> <td> 0.031</td> <td>-1.59e+04</td> <td> -785.610</td>\n",
       "</tr>\n",
       "<tr>\n",
       "  <th>x82</th>   <td>-2.289e+04</td> <td> 1.12e+04</td> <td>   -2.041</td> <td> 0.041</td> <td>-4.49e+04</td> <td> -887.757</td>\n",
       "</tr>\n",
       "<tr>\n",
       "  <th>x83</th>   <td>-3580.4297</td> <td> 3144.858</td> <td>   -1.139</td> <td> 0.255</td> <td>-9749.137</td> <td> 2588.278</td>\n",
       "</tr>\n",
       "<tr>\n",
       "  <th>x84</th>   <td>-1.484e+04</td> <td> 2565.720</td> <td>   -5.784</td> <td> 0.000</td> <td>-1.99e+04</td> <td>-9807.570</td>\n",
       "</tr>\n",
       "<tr>\n",
       "  <th>x85</th>   <td> 1.247e+04</td> <td> 1.69e+04</td> <td>    0.736</td> <td> 0.462</td> <td>-2.08e+04</td> <td> 4.57e+04</td>\n",
       "</tr>\n",
       "<tr>\n",
       "  <th>x86</th>   <td> 2.162e+04</td> <td> 1.21e+04</td> <td>    1.786</td> <td> 0.074</td> <td>-2123.985</td> <td> 4.54e+04</td>\n",
       "</tr>\n",
       "<tr>\n",
       "  <th>x87</th>   <td>  1.69e+04</td> <td> 1.23e+04</td> <td>    1.374</td> <td> 0.170</td> <td>-7230.261</td> <td>  4.1e+04</td>\n",
       "</tr>\n",
       "<tr>\n",
       "  <th>x88</th>   <td> 2.551e+04</td> <td> 1.26e+04</td> <td>    2.017</td> <td> 0.044</td> <td>  706.086</td> <td> 5.03e+04</td>\n",
       "</tr>\n",
       "<tr>\n",
       "  <th>x89</th>   <td> 2200.9382</td> <td> 2.76e+04</td> <td>    0.080</td> <td> 0.936</td> <td>-5.18e+04</td> <td> 5.62e+04</td>\n",
       "</tr>\n",
       "<tr>\n",
       "  <th>x90</th>   <td>-4.598e+04</td> <td> 2.31e+04</td> <td>   -1.990</td> <td> 0.047</td> <td>-9.13e+04</td> <td> -665.438</td>\n",
       "</tr>\n",
       "<tr>\n",
       "  <th>x91</th>   <td>  2.59e+04</td> <td> 1.11e+04</td> <td>    2.323</td> <td> 0.020</td> <td> 4034.814</td> <td> 4.78e+04</td>\n",
       "</tr>\n",
       "<tr>\n",
       "  <th>x92</th>   <td>-9083.7549</td> <td> 7526.808</td> <td>   -1.207</td> <td> 0.228</td> <td>-2.38e+04</td> <td> 5680.244</td>\n",
       "</tr>\n",
       "<tr>\n",
       "  <th>x93</th>   <td>-6822.6332</td> <td> 5976.441</td> <td>   -1.142</td> <td> 0.254</td> <td>-1.85e+04</td> <td> 4900.285</td>\n",
       "</tr>\n",
       "<tr>\n",
       "  <th>x94</th>   <td>-6909.0345</td> <td> 6811.888</td> <td>   -1.014</td> <td> 0.311</td> <td>-2.03e+04</td> <td> 6452.633</td>\n",
       "</tr>\n",
       "<tr>\n",
       "  <th>x95</th>   <td>-1.085e+04</td> <td> 8336.129</td> <td>   -1.302</td> <td> 0.193</td> <td>-2.72e+04</td> <td> 5496.578</td>\n",
       "</tr>\n",
       "<tr>\n",
       "  <th>x96</th>   <td>-5443.9921</td> <td> 6185.509</td> <td>   -0.880</td> <td> 0.379</td> <td>-1.76e+04</td> <td> 6689.019</td>\n",
       "</tr>\n",
       "<tr>\n",
       "  <th>x97</th>   <td>-3261.6233</td> <td> 5775.049</td> <td>   -0.565</td> <td> 0.572</td> <td>-1.46e+04</td> <td> 8066.261</td>\n",
       "</tr>\n",
       "<tr>\n",
       "  <th>x98</th>   <td> 2952.0302</td> <td> 3400.945</td> <td>    0.868</td> <td> 0.386</td> <td>-3718.997</td> <td> 9623.058</td>\n",
       "</tr>\n",
       "<tr>\n",
       "  <th>x99</th>   <td> 1.256e+04</td> <td> 9889.039</td> <td>    1.271</td> <td> 0.204</td> <td>-6832.615</td> <td>  3.2e+04</td>\n",
       "</tr>\n",
       "<tr>\n",
       "  <th>x100</th>  <td> 8.916e+04</td> <td> 2.86e+04</td> <td>    3.114</td> <td> 0.002</td> <td>  3.3e+04</td> <td> 1.45e+05</td>\n",
       "</tr>\n",
       "<tr>\n",
       "  <th>x101</th>  <td> 1.911e+04</td> <td> 8260.954</td> <td>    2.314</td> <td> 0.021</td> <td> 2908.700</td> <td> 3.53e+04</td>\n",
       "</tr>\n",
       "<tr>\n",
       "  <th>x102</th>  <td> -648.7079</td> <td> 1.24e+04</td> <td>   -0.052</td> <td> 0.958</td> <td>-2.49e+04</td> <td> 2.36e+04</td>\n",
       "</tr>\n",
       "<tr>\n",
       "  <th>x103</th>  <td> 3498.8624</td> <td> 1.34e+04</td> <td>    0.261</td> <td> 0.794</td> <td>-2.28e+04</td> <td> 2.98e+04</td>\n",
       "</tr>\n",
       "<tr>\n",
       "  <th>x104</th>  <td> 1.651e+04</td> <td> 5181.962</td> <td>    3.186</td> <td> 0.001</td> <td> 6342.723</td> <td> 2.67e+04</td>\n",
       "</tr>\n",
       "<tr>\n",
       "  <th>x105</th>  <td> 1.814e+04</td> <td> 1.48e+04</td> <td>    1.223</td> <td> 0.222</td> <td> -1.1e+04</td> <td> 4.72e+04</td>\n",
       "</tr>\n",
       "<tr>\n",
       "  <th>x106</th>  <td> 8317.4354</td> <td> 4204.846</td> <td>    1.978</td> <td> 0.048</td> <td>   69.539</td> <td> 1.66e+04</td>\n",
       "</tr>\n",
       "<tr>\n",
       "  <th>x107</th>  <td> 1.659e+05</td> <td> 4.16e+04</td> <td>    3.988</td> <td> 0.000</td> <td> 8.43e+04</td> <td> 2.48e+05</td>\n",
       "</tr>\n",
       "<tr>\n",
       "  <th>x108</th>  <td> 1.635e+05</td> <td> 4.25e+04</td> <td>    3.850</td> <td> 0.000</td> <td> 8.02e+04</td> <td> 2.47e+05</td>\n",
       "</tr>\n",
       "<tr>\n",
       "  <th>x109</th>  <td> 9434.8767</td> <td> 1.46e+04</td> <td>    0.647</td> <td> 0.517</td> <td>-1.91e+04</td> <td>  3.8e+04</td>\n",
       "</tr>\n",
       "<tr>\n",
       "  <th>x110</th>  <td> 1.722e+05</td> <td> 4.35e+04</td> <td>    3.962</td> <td> 0.000</td> <td> 8.69e+04</td> <td> 2.57e+05</td>\n",
       "</tr>\n",
       "<tr>\n",
       "  <th>x111</th>  <td> 1.684e+05</td> <td> 4.12e+04</td> <td>    4.089</td> <td> 0.000</td> <td> 8.76e+04</td> <td> 2.49e+05</td>\n",
       "</tr>\n",
       "<tr>\n",
       "  <th>x112</th>  <td> 8302.5718</td> <td> 1035.014</td> <td>    8.022</td> <td> 0.000</td> <td> 6272.369</td> <td> 1.03e+04</td>\n",
       "</tr>\n",
       "<tr>\n",
       "  <th>x113</th>  <td>   41.9855</td> <td>    2.402</td> <td>   17.477</td> <td> 0.000</td> <td>   37.273</td> <td>   46.698</td>\n",
       "</tr>\n",
       "<tr>\n",
       "  <th>x114</th>  <td>    9.6024</td> <td>    8.058</td> <td>    1.192</td> <td> 0.234</td> <td>   -6.204</td> <td>   25.409</td>\n",
       "</tr>\n",
       "<tr>\n",
       "  <th>x115</th>  <td> 9903.9106</td> <td> 2401.823</td> <td>    4.123</td> <td> 0.000</td> <td> 5192.683</td> <td> 1.46e+04</td>\n",
       "</tr>\n",
       "<tr>\n",
       "  <th>x116</th>  <td> 5179.4681</td> <td> 1987.408</td> <td>    2.606</td> <td> 0.009</td> <td> 1281.124</td> <td> 9077.812</td>\n",
       "</tr>\n",
       "<tr>\n",
       "  <th>x117</th>  <td> 8129.3189</td> <td> 2890.796</td> <td>    2.812</td> <td> 0.005</td> <td> 2458.959</td> <td> 1.38e+04</td>\n",
       "</tr>\n",
       "<tr>\n",
       "  <th>x118</th>  <td> -251.7298</td> <td>   21.143</td> <td>  -11.906</td> <td> 0.000</td> <td> -293.203</td> <td> -210.257</td>\n",
       "</tr>\n",
       "</table>\n",
       "<table class=\"simpletable\">\n",
       "<tr>\n",
       "  <th>Omnibus:</th>       <td>817.926</td> <th>  Durbin-Watson:     </th> <td>   1.997</td> \n",
       "</tr>\n",
       "<tr>\n",
       "  <th>Prob(Omnibus):</th> <td> 0.000</td>  <th>  Jarque-Bera (JB):  </th> <td>65032.292</td>\n",
       "</tr>\n",
       "<tr>\n",
       "  <th>Skew:</th>          <td>-1.444</td>  <th>  Prob(JB):          </th> <td>    0.00</td> \n",
       "</tr>\n",
       "<tr>\n",
       "  <th>Kurtosis:</th>      <td>33.714</td>  <th>  Cond. No.          </th> <td>1.08e+16</td> \n",
       "</tr>\n",
       "</table><br/><br/>Notes:<br/>[1] Standard Errors assume that the covariance matrix of the errors is correctly specified.<br/>[2] The smallest eigenvalue is 3.86e-23. This might indicate that there are<br/>strong multicollinearity problems or that the design matrix is singular."
      ],
      "text/latex": [
       "\\begin{center}\n",
       "\\begin{tabular}{lclc}\n",
       "\\toprule\n",
       "\\textbf{Dep. Variable:}    &    SalePrice     & \\textbf{  R-squared:         } &     0.887   \\\\\n",
       "\\textbf{Model:}            &       OLS        & \\textbf{  Adj. R-squared:    } &     0.879   \\\\\n",
       "\\textbf{Method:}           &  Least Squares   & \\textbf{  F-statistic:       } &     104.3   \\\\\n",
       "\\textbf{Date:}             & Thu, 05 Oct 2023 & \\textbf{  Prob (F-statistic):} &     0.00    \\\\\n",
       "\\textbf{Time:}             &     17:33:54     & \\textbf{  Log-Likelihood:    } &   -19047.   \\\\\n",
       "\\textbf{No. Observations:} &        1640      & \\textbf{  AIC:               } & 3.833e+04   \\\\\n",
       "\\textbf{Df Residuals:}     &        1524      & \\textbf{  BIC:               } & 3.895e+04   \\\\\n",
       "\\textbf{Df Model:}         &         115      & \\textbf{                     } &             \\\\\n",
       "\\textbf{Covariance Type:}  &    nonrobust     & \\textbf{                     } &             \\\\\n",
       "\\bottomrule\n",
       "\\end{tabular}\n",
       "\\begin{tabular}{lcccccc}\n",
       "               & \\textbf{coef} & \\textbf{std err} & \\textbf{t} & \\textbf{P$> |$t$|$} & \\textbf{[0.025} & \\textbf{0.975]}  \\\\\n",
       "\\midrule\n",
       "\\textbf{const} &    7.725e+04  &     4.01e+04     &     1.927  &         0.054        &    -1383.150    &     1.56e+05     \\\\\n",
       "\\textbf{x1}    &   -6281.1446  &     1.47e+04     &    -0.426  &         0.670        &    -3.52e+04    &     2.26e+04     \\\\\n",
       "\\textbf{x2}    &    8918.5434  &     1.11e+04     &     0.801  &         0.423        &    -1.29e+04    &     3.08e+04     \\\\\n",
       "\\textbf{x3}    &   -6654.2894  &     8941.312     &    -0.744  &         0.457        &    -2.42e+04    &     1.09e+04     \\\\\n",
       "\\textbf{x4}    &      1.4e+04  &     1.09e+04     &     1.286  &         0.199        &    -7359.601    &     3.54e+04     \\\\\n",
       "\\textbf{x5}    &    3881.3928  &     7896.147     &     0.492  &         0.623        &    -1.16e+04    &     1.94e+04     \\\\\n",
       "\\textbf{x6}    &     1.85e+04  &     8729.899     &     2.119  &         0.034        &     1372.652    &     3.56e+04     \\\\\n",
       "\\textbf{x7}    &   -1.306e+04  &     8484.216     &    -1.539  &         0.124        &    -2.97e+04    &     3584.974     \\\\\n",
       "\\textbf{x8}    &    2889.5305  &     7977.714     &     0.362  &         0.717        &    -1.28e+04    &     1.85e+04     \\\\\n",
       "\\textbf{x9}    &    5276.7652  &     2.14e+04     &     0.246  &         0.805        &    -3.67e+04    &     4.73e+04     \\\\\n",
       "\\textbf{x10}   &    1.303e+05  &     2.14e+04     &     6.087  &         0.000        &     8.83e+04    &     1.72e+05     \\\\\n",
       "\\textbf{x11}   &   -9590.2015  &     9214.952     &    -1.041  &         0.298        &    -2.77e+04    &     8485.128     \\\\\n",
       "\\textbf{x12}   &    -534.9827  &     2.89e+04     &    -0.018  &         0.985        &    -5.73e+04    &     5.62e+04     \\\\\n",
       "\\textbf{x13}   &   -8307.2921  &      1.1e+04     &    -0.753  &         0.452        &    -2.99e+04    &     1.33e+04     \\\\\n",
       "\\textbf{x14}   &     205.3624  &     8550.430     &     0.024  &         0.981        &    -1.66e+04    &      1.7e+04     \\\\\n",
       "\\textbf{x15}   &   -4581.5144  &     8274.773     &    -0.554  &         0.580        &    -2.08e+04    &     1.16e+04     \\\\\n",
       "\\textbf{x16}   &    1401.1205  &     1.11e+04     &     0.126  &         0.899        &    -2.03e+04    &     2.31e+04     \\\\\n",
       "\\textbf{x17}   &     -57.1974  &     8672.628     &    -0.007  &         0.995        &    -1.71e+04    &      1.7e+04     \\\\\n",
       "\\textbf{x18}   &    5.331e+04  &     9163.829     &     5.817  &         0.000        &     3.53e+04    &     7.13e+04     \\\\\n",
       "\\textbf{x19}   &    3.999e+04  &     8155.959     &     4.903  &         0.000        &      2.4e+04    &      5.6e+04     \\\\\n",
       "\\textbf{x20}   &   -1.296e+04  &     8561.821     &    -1.514  &         0.130        &    -2.98e+04    &     3832.721     \\\\\n",
       "\\textbf{x21}   &   -3714.7817  &     1.04e+04     &    -0.357  &         0.721        &    -2.41e+04    &     1.67e+04     \\\\\n",
       "\\textbf{x22}   &    -645.4147  &     8713.555     &    -0.074  &         0.941        &    -1.77e+04    &     1.64e+04     \\\\\n",
       "\\textbf{x23}   &    3479.7412  &     8361.629     &     0.416  &         0.677        &    -1.29e+04    &     1.99e+04     \\\\\n",
       "\\textbf{x24}   &    1.876e+04  &     8000.370     &     2.345  &         0.019        &     3070.670    &     3.45e+04     \\\\\n",
       "\\textbf{x25}   &    5.879e+04  &     9058.077     &     6.490  &         0.000        &      4.1e+04    &     7.66e+04     \\\\\n",
       "\\textbf{x26}   &    9523.6901  &     8843.041     &     1.077  &         0.282        &    -7822.128    &     2.69e+04     \\\\\n",
       "\\textbf{x27}   &    1.278e+04  &     1.12e+04     &     1.142  &         0.253        &    -9161.639    &     3.47e+04     \\\\\n",
       "\\textbf{x28}   &    1981.1160  &     5147.333     &     0.385  &         0.700        &    -8115.489    &     1.21e+04     \\\\\n",
       "\\textbf{x29}   &    1.191e+04  &     4133.708     &     2.881  &         0.004        &     3800.548    &        2e+04     \\\\\n",
       "\\textbf{x30}   &    2.561e+04  &     9627.984     &     2.660  &         0.008        &     6721.899    &     4.45e+04     \\\\\n",
       "\\textbf{x31}   &    2.447e+04  &     7104.017     &     3.444  &         0.001        &     1.05e+04    &     3.84e+04     \\\\\n",
       "\\textbf{x32}   &   -5467.4262  &     8229.337     &    -0.664  &         0.507        &    -2.16e+04    &     1.07e+04     \\\\\n",
       "\\textbf{x33}   &    1.264e+04  &     6801.668     &     1.858  &         0.063        &     -704.595    &      2.6e+04     \\\\\n",
       "\\textbf{x34}   &   -8716.5639  &     2.06e+04     &    -0.422  &         0.673        &    -4.92e+04    &     3.18e+04     \\\\\n",
       "\\textbf{x35}   &    4917.5055  &     1.49e+04     &     0.330  &         0.742        &    -2.43e+04    &     3.42e+04     \\\\\n",
       "\\textbf{x36}   &   -3.287e+04  &     9862.759     &    -3.333  &         0.001        &    -5.22e+04    &    -1.35e+04     \\\\\n",
       "\\textbf{x37}   &    -2.37e+04  &     4808.380     &    -4.929  &         0.000        &    -3.31e+04    &    -1.43e+04     \\\\\n",
       "\\textbf{x38}   &   -2.742e+04  &     5505.586     &    -4.980  &         0.000        &    -3.82e+04    &    -1.66e+04     \\\\\n",
       "\\textbf{x39}   &    1.847e+04  &     3135.941     &     5.890  &         0.000        &     1.23e+04    &     2.46e+04     \\\\\n",
       "\\textbf{x40}   &   -7744.1739  &     3233.963     &    -2.395  &         0.017        &    -1.41e+04    &    -1400.685     \\\\\n",
       "\\textbf{x41}   &    8136.5774  &     2.83e+04     &     0.288  &         0.774        &    -4.73e+04    &     6.36e+04     \\\\\n",
       "\\textbf{x42}   &   -9857.5532  &     2277.234     &    -4.329  &         0.000        &    -1.43e+04    &    -5390.709     \\\\\n",
       "\\textbf{x43}   &   -3.643e+04  &     6627.232     &    -5.497  &         0.000        &    -4.94e+04    &    -2.34e+04     \\\\\n",
       "\\textbf{x44}   &   -2.633e+04  &     3770.702     &    -6.982  &         0.000        &    -3.37e+04    &    -1.89e+04     \\\\\n",
       "\\textbf{x45}   &   -3.216e+04  &     4279.702     &    -7.515  &         0.000        &    -4.06e+04    &    -2.38e+04     \\\\\n",
       "\\textbf{x46}   &   -1.642e+05  &     2.93e+04     &    -5.601  &         0.000        &    -2.22e+05    &    -1.07e+05     \\\\\n",
       "\\textbf{x47}   &   -1.186e+05  &     3.02e+04     &    -3.924  &         0.000        &    -1.78e+05    &    -5.93e+04     \\\\\n",
       "\\textbf{x48}   &    9434.8767  &     1.46e+04     &     0.647  &         0.517        &    -1.91e+04    &      3.8e+04     \\\\\n",
       "\\textbf{x49}   &   -2.046e+05  &      3.9e+04     &    -5.247  &         0.000        &    -2.81e+05    &    -1.28e+05     \\\\\n",
       "\\textbf{x50}   &   -1.625e+05  &      2.9e+04     &    -5.600  &         0.000        &    -2.19e+05    &    -1.06e+05     \\\\\n",
       "\\textbf{x51}   &    3.342e+04  &     2.96e+04     &     1.129  &         0.259        &    -2.46e+04    &     9.15e+04     \\\\\n",
       "\\textbf{x52}   &   -9372.1934  &     2.25e+04     &    -0.416  &         0.677        &    -5.35e+04    &     3.48e+04     \\\\\n",
       "\\textbf{x53}   &     2.47e+04  &     7089.719     &     3.484  &         0.001        &     1.08e+04    &     3.86e+04     \\\\\n",
       "\\textbf{x54}   &    6841.9206  &     3.07e+04     &     0.223  &         0.824        &    -5.34e+04    &     6.71e+04     \\\\\n",
       "\\textbf{x55}   &    1.354e+04  &     7184.874     &     1.885  &         0.060        &     -551.658    &     2.76e+04     \\\\\n",
       "\\textbf{x56}   &    1655.4828  &     6183.640     &     0.268  &         0.789        &    -1.05e+04    &     1.38e+04     \\\\\n",
       "\\textbf{x57}   &   -1.083e+04  &     2.93e+04     &    -0.370  &         0.712        &    -6.83e+04    &     4.66e+04     \\\\\n",
       "\\textbf{x58}   &    8955.5005  &     5956.808     &     1.503  &         0.133        &    -2728.909    &     2.06e+04     \\\\\n",
       "\\textbf{x59}   &    5732.8187  &     6552.282     &     0.875  &         0.382        &    -7119.625    &     1.86e+04     \\\\\n",
       "\\textbf{x60}   &    2433.3707  &     2.11e+04     &     0.115  &         0.908        &     -3.9e+04    &     4.38e+04     \\\\\n",
       "\\textbf{x61}   &    -1.44e+04  &     8110.125     &    -1.776  &         0.076        &    -3.03e+04    &     1504.654     \\\\\n",
       "\\textbf{x62}   &    1.066e+04  &     6059.518     &     1.759  &         0.079        &    -1229.536    &     2.25e+04     \\\\\n",
       "\\textbf{x63}   &    2640.1700  &     5988.580     &     0.441  &         0.659        &    -9106.560    &     1.44e+04     \\\\\n",
       "\\textbf{x64}   &    8922.4830  &     7823.403     &     1.140  &         0.254        &    -6423.292    &     2.43e+04     \\\\\n",
       "\\textbf{x65}   &   -1917.7081  &     1.43e+04     &    -0.134  &         0.893        &    -2.99e+04    &     2.61e+04     \\\\\n",
       "\\textbf{x66}   &     244.9469  &     1.34e+04     &     0.018  &         0.985        &     -2.6e+04    &     2.65e+04     \\\\\n",
       "\\textbf{x67}   &   -1.607e+04  &     2.81e+04     &    -0.572  &         0.567        &    -7.12e+04    &      3.9e+04     \\\\\n",
       "\\textbf{x68}   &   -3336.2171  &     1.32e+04     &    -0.252  &         0.801        &    -2.93e+04    &     2.26e+04     \\\\\n",
       "\\textbf{x69}   &    -2.69e+04  &     6200.900     &    -4.339  &         0.000        &    -3.91e+04    &    -1.47e+04     \\\\\n",
       "\\textbf{x70}   &   -2.458e+04  &     3497.102     &    -7.029  &         0.000        &    -3.14e+04    &    -1.77e+04     \\\\\n",
       "\\textbf{x71}   &   -2.289e+04  &     1.12e+04     &    -2.041  &         0.041        &    -4.49e+04    &     -887.757     \\\\\n",
       "\\textbf{x72}   &   -1.676e+04  &     2.93e+04     &    -0.572  &         0.567        &    -7.42e+04    &     4.07e+04     \\\\\n",
       "\\textbf{x73}   &   -2.604e+04  &     4218.920     &    -6.172  &         0.000        &    -3.43e+04    &    -1.78e+04     \\\\\n",
       "\\textbf{x74}   &   -2972.4386  &     1.78e+04     &    -0.167  &         0.868        &    -3.79e+04    &      3.2e+04     \\\\\n",
       "\\textbf{x75}   &    3658.7889  &     1.76e+04     &     0.208  &         0.835        &    -3.08e+04    &     3.81e+04     \\\\\n",
       "\\textbf{x76}   &   -2.289e+04  &     1.12e+04     &    -2.041  &         0.041        &    -4.49e+04    &     -887.757     \\\\\n",
       "\\textbf{x77}   &    1.124e+04  &     2.25e+04     &     0.499  &         0.618        &     -3.3e+04    &     5.54e+04     \\\\\n",
       "\\textbf{x78}   &      28.0954  &     1.72e+04     &     0.002  &         0.999        &    -3.37e+04    &     3.38e+04     \\\\\n",
       "\\textbf{x79}   &   -3247.9568  &     2957.966     &    -1.098  &         0.272        &    -9050.071    &     2554.157     \\\\\n",
       "\\textbf{x80}   &    -871.4290  &     2694.422     &    -0.323  &         0.746        &    -6156.597    &     4413.739     \\\\\n",
       "\\textbf{x81}   &   -8362.0945  &     3862.555     &    -2.165  &         0.031        &    -1.59e+04    &     -785.610     \\\\\n",
       "\\textbf{x82}   &   -2.289e+04  &     1.12e+04     &    -2.041  &         0.041        &    -4.49e+04    &     -887.757     \\\\\n",
       "\\textbf{x83}   &   -3580.4297  &     3144.858     &    -1.139  &         0.255        &    -9749.137    &     2588.278     \\\\\n",
       "\\textbf{x84}   &   -1.484e+04  &     2565.720     &    -5.784  &         0.000        &    -1.99e+04    &    -9807.570     \\\\\n",
       "\\textbf{x85}   &    1.247e+04  &     1.69e+04     &     0.736  &         0.462        &    -2.08e+04    &     4.57e+04     \\\\\n",
       "\\textbf{x86}   &    2.162e+04  &     1.21e+04     &     1.786  &         0.074        &    -2123.985    &     4.54e+04     \\\\\n",
       "\\textbf{x87}   &     1.69e+04  &     1.23e+04     &     1.374  &         0.170        &    -7230.261    &      4.1e+04     \\\\\n",
       "\\textbf{x88}   &    2.551e+04  &     1.26e+04     &     2.017  &         0.044        &      706.086    &     5.03e+04     \\\\\n",
       "\\textbf{x89}   &    2200.9382  &     2.76e+04     &     0.080  &         0.936        &    -5.18e+04    &     5.62e+04     \\\\\n",
       "\\textbf{x90}   &   -4.598e+04  &     2.31e+04     &    -1.990  &         0.047        &    -9.13e+04    &     -665.438     \\\\\n",
       "\\textbf{x91}   &     2.59e+04  &     1.11e+04     &     2.323  &         0.020        &     4034.814    &     4.78e+04     \\\\\n",
       "\\textbf{x92}   &   -9083.7549  &     7526.808     &    -1.207  &         0.228        &    -2.38e+04    &     5680.244     \\\\\n",
       "\\textbf{x93}   &   -6822.6332  &     5976.441     &    -1.142  &         0.254        &    -1.85e+04    &     4900.285     \\\\\n",
       "\\textbf{x94}   &   -6909.0345  &     6811.888     &    -1.014  &         0.311        &    -2.03e+04    &     6452.633     \\\\\n",
       "\\textbf{x95}   &   -1.085e+04  &     8336.129     &    -1.302  &         0.193        &    -2.72e+04    &     5496.578     \\\\\n",
       "\\textbf{x96}   &   -5443.9921  &     6185.509     &    -0.880  &         0.379        &    -1.76e+04    &     6689.019     \\\\\n",
       "\\textbf{x97}   &   -3261.6233  &     5775.049     &    -0.565  &         0.572        &    -1.46e+04    &     8066.261     \\\\\n",
       "\\textbf{x98}   &    2952.0302  &     3400.945     &     0.868  &         0.386        &    -3718.997    &     9623.058     \\\\\n",
       "\\textbf{x99}   &    1.256e+04  &     9889.039     &     1.271  &         0.204        &    -6832.615    &      3.2e+04     \\\\\n",
       "\\textbf{x100}  &    8.916e+04  &     2.86e+04     &     3.114  &         0.002        &      3.3e+04    &     1.45e+05     \\\\\n",
       "\\textbf{x101}  &    1.911e+04  &     8260.954     &     2.314  &         0.021        &     2908.700    &     3.53e+04     \\\\\n",
       "\\textbf{x102}  &    -648.7079  &     1.24e+04     &    -0.052  &         0.958        &    -2.49e+04    &     2.36e+04     \\\\\n",
       "\\textbf{x103}  &    3498.8624  &     1.34e+04     &     0.261  &         0.794        &    -2.28e+04    &     2.98e+04     \\\\\n",
       "\\textbf{x104}  &    1.651e+04  &     5181.962     &     3.186  &         0.001        &     6342.723    &     2.67e+04     \\\\\n",
       "\\textbf{x105}  &    1.814e+04  &     1.48e+04     &     1.223  &         0.222        &     -1.1e+04    &     4.72e+04     \\\\\n",
       "\\textbf{x106}  &    8317.4354  &     4204.846     &     1.978  &         0.048        &       69.539    &     1.66e+04     \\\\\n",
       "\\textbf{x107}  &    1.659e+05  &     4.16e+04     &     3.988  &         0.000        &     8.43e+04    &     2.48e+05     \\\\\n",
       "\\textbf{x108}  &    1.635e+05  &     4.25e+04     &     3.850  &         0.000        &     8.02e+04    &     2.47e+05     \\\\\n",
       "\\textbf{x109}  &    9434.8767  &     1.46e+04     &     0.647  &         0.517        &    -1.91e+04    &      3.8e+04     \\\\\n",
       "\\textbf{x110}  &    1.722e+05  &     4.35e+04     &     3.962  &         0.000        &     8.69e+04    &     2.57e+05     \\\\\n",
       "\\textbf{x111}  &    1.684e+05  &     4.12e+04     &     4.089  &         0.000        &     8.76e+04    &     2.49e+05     \\\\\n",
       "\\textbf{x112}  &    8302.5718  &     1035.014     &     8.022  &         0.000        &     6272.369    &     1.03e+04     \\\\\n",
       "\\textbf{x113}  &      41.9855  &        2.402     &    17.477  &         0.000        &       37.273    &       46.698     \\\\\n",
       "\\textbf{x114}  &       9.6024  &        8.058     &     1.192  &         0.234        &       -6.204    &       25.409     \\\\\n",
       "\\textbf{x115}  &    9903.9106  &     2401.823     &     4.123  &         0.000        &     5192.683    &     1.46e+04     \\\\\n",
       "\\textbf{x116}  &    5179.4681  &     1987.408     &     2.606  &         0.009        &     1281.124    &     9077.812     \\\\\n",
       "\\textbf{x117}  &    8129.3189  &     2890.796     &     2.812  &         0.005        &     2458.959    &     1.38e+04     \\\\\n",
       "\\textbf{x118}  &    -251.7298  &       21.143     &   -11.906  &         0.000        &     -293.203    &     -210.257     \\\\\n",
       "\\bottomrule\n",
       "\\end{tabular}\n",
       "\\begin{tabular}{lclc}\n",
       "\\textbf{Omnibus:}       & 817.926 & \\textbf{  Durbin-Watson:     } &     1.997  \\\\\n",
       "\\textbf{Prob(Omnibus):} &   0.000 & \\textbf{  Jarque-Bera (JB):  } & 65032.292  \\\\\n",
       "\\textbf{Skew:}          &  -1.444 & \\textbf{  Prob(JB):          } &      0.00  \\\\\n",
       "\\textbf{Kurtosis:}      &  33.714 & \\textbf{  Cond. No.          } &  1.08e+16  \\\\\n",
       "\\bottomrule\n",
       "\\end{tabular}\n",
       "%\\caption{OLS Regression Results}\n",
       "\\end{center}\n",
       "\n",
       "Notes: \\newline\n",
       " [1] Standard Errors assume that the covariance matrix of the errors is correctly specified. \\newline\n",
       " [2] The smallest eigenvalue is 3.86e-23. This might indicate that there are \\newline\n",
       " strong multicollinearity problems or that the design matrix is singular."
      ],
      "text/plain": [
       "<class 'statsmodels.iolib.summary.Summary'>\n",
       "\"\"\"\n",
       "                            OLS Regression Results                            \n",
       "==============================================================================\n",
       "Dep. Variable:              SalePrice   R-squared:                       0.887\n",
       "Model:                            OLS   Adj. R-squared:                  0.879\n",
       "Method:                 Least Squares   F-statistic:                     104.3\n",
       "Date:                Thu, 05 Oct 2023   Prob (F-statistic):               0.00\n",
       "Time:                        17:33:54   Log-Likelihood:                -19047.\n",
       "No. Observations:                1640   AIC:                         3.833e+04\n",
       "Df Residuals:                    1524   BIC:                         3.895e+04\n",
       "Df Model:                         115                                         \n",
       "Covariance Type:            nonrobust                                         \n",
       "==============================================================================\n",
       "                 coef    std err          t      P>|t|      [0.025      0.975]\n",
       "------------------------------------------------------------------------------\n",
       "const       7.725e+04   4.01e+04      1.927      0.054   -1383.150    1.56e+05\n",
       "x1         -6281.1446   1.47e+04     -0.426      0.670   -3.52e+04    2.26e+04\n",
       "x2          8918.5434   1.11e+04      0.801      0.423   -1.29e+04    3.08e+04\n",
       "x3         -6654.2894   8941.312     -0.744      0.457   -2.42e+04    1.09e+04\n",
       "x4            1.4e+04   1.09e+04      1.286      0.199   -7359.601    3.54e+04\n",
       "x5          3881.3928   7896.147      0.492      0.623   -1.16e+04    1.94e+04\n",
       "x6           1.85e+04   8729.899      2.119      0.034    1372.652    3.56e+04\n",
       "x7         -1.306e+04   8484.216     -1.539      0.124   -2.97e+04    3584.974\n",
       "x8          2889.5305   7977.714      0.362      0.717   -1.28e+04    1.85e+04\n",
       "x9          5276.7652   2.14e+04      0.246      0.805   -3.67e+04    4.73e+04\n",
       "x10         1.303e+05   2.14e+04      6.087      0.000    8.83e+04    1.72e+05\n",
       "x11        -9590.2015   9214.952     -1.041      0.298   -2.77e+04    8485.128\n",
       "x12         -534.9827   2.89e+04     -0.018      0.985   -5.73e+04    5.62e+04\n",
       "x13        -8307.2921    1.1e+04     -0.753      0.452   -2.99e+04    1.33e+04\n",
       "x14          205.3624   8550.430      0.024      0.981   -1.66e+04     1.7e+04\n",
       "x15        -4581.5144   8274.773     -0.554      0.580   -2.08e+04    1.16e+04\n",
       "x16         1401.1205   1.11e+04      0.126      0.899   -2.03e+04    2.31e+04\n",
       "x17          -57.1974   8672.628     -0.007      0.995   -1.71e+04     1.7e+04\n",
       "x18         5.331e+04   9163.829      5.817      0.000    3.53e+04    7.13e+04\n",
       "x19         3.999e+04   8155.959      4.903      0.000     2.4e+04     5.6e+04\n",
       "x20        -1.296e+04   8561.821     -1.514      0.130   -2.98e+04    3832.721\n",
       "x21        -3714.7817   1.04e+04     -0.357      0.721   -2.41e+04    1.67e+04\n",
       "x22         -645.4147   8713.555     -0.074      0.941   -1.77e+04    1.64e+04\n",
       "x23         3479.7412   8361.629      0.416      0.677   -1.29e+04    1.99e+04\n",
       "x24         1.876e+04   8000.370      2.345      0.019    3070.670    3.45e+04\n",
       "x25         5.879e+04   9058.077      6.490      0.000     4.1e+04    7.66e+04\n",
       "x26         9523.6901   8843.041      1.077      0.282   -7822.128    2.69e+04\n",
       "x27         1.278e+04   1.12e+04      1.142      0.253   -9161.639    3.47e+04\n",
       "x28         1981.1160   5147.333      0.385      0.700   -8115.489    1.21e+04\n",
       "x29         1.191e+04   4133.708      2.881      0.004    3800.548       2e+04\n",
       "x30         2.561e+04   9627.984      2.660      0.008    6721.899    4.45e+04\n",
       "x31         2.447e+04   7104.017      3.444      0.001    1.05e+04    3.84e+04\n",
       "x32        -5467.4262   8229.337     -0.664      0.507   -2.16e+04    1.07e+04\n",
       "x33         1.264e+04   6801.668      1.858      0.063    -704.595     2.6e+04\n",
       "x34        -8716.5639   2.06e+04     -0.422      0.673   -4.92e+04    3.18e+04\n",
       "x35         4917.5055   1.49e+04      0.330      0.742   -2.43e+04    3.42e+04\n",
       "x36        -3.287e+04   9862.759     -3.333      0.001   -5.22e+04   -1.35e+04\n",
       "x37         -2.37e+04   4808.380     -4.929      0.000   -3.31e+04   -1.43e+04\n",
       "x38        -2.742e+04   5505.586     -4.980      0.000   -3.82e+04   -1.66e+04\n",
       "x39         1.847e+04   3135.941      5.890      0.000    1.23e+04    2.46e+04\n",
       "x40        -7744.1739   3233.963     -2.395      0.017   -1.41e+04   -1400.685\n",
       "x41         8136.5774   2.83e+04      0.288      0.774   -4.73e+04    6.36e+04\n",
       "x42        -9857.5532   2277.234     -4.329      0.000   -1.43e+04   -5390.709\n",
       "x43        -3.643e+04   6627.232     -5.497      0.000   -4.94e+04   -2.34e+04\n",
       "x44        -2.633e+04   3770.702     -6.982      0.000   -3.37e+04   -1.89e+04\n",
       "x45        -3.216e+04   4279.702     -7.515      0.000   -4.06e+04   -2.38e+04\n",
       "x46        -1.642e+05   2.93e+04     -5.601      0.000   -2.22e+05   -1.07e+05\n",
       "x47        -1.186e+05   3.02e+04     -3.924      0.000   -1.78e+05   -5.93e+04\n",
       "x48         9434.8767   1.46e+04      0.647      0.517   -1.91e+04     3.8e+04\n",
       "x49        -2.046e+05    3.9e+04     -5.247      0.000   -2.81e+05   -1.28e+05\n",
       "x50        -1.625e+05    2.9e+04     -5.600      0.000   -2.19e+05   -1.06e+05\n",
       "x51         3.342e+04   2.96e+04      1.129      0.259   -2.46e+04    9.15e+04\n",
       "x52        -9372.1934   2.25e+04     -0.416      0.677   -5.35e+04    3.48e+04\n",
       "x53          2.47e+04   7089.719      3.484      0.001    1.08e+04    3.86e+04\n",
       "x54         6841.9206   3.07e+04      0.223      0.824   -5.34e+04    6.71e+04\n",
       "x55         1.354e+04   7184.874      1.885      0.060    -551.658    2.76e+04\n",
       "x56         1655.4828   6183.640      0.268      0.789   -1.05e+04    1.38e+04\n",
       "x57        -1.083e+04   2.93e+04     -0.370      0.712   -6.83e+04    4.66e+04\n",
       "x58         8955.5005   5956.808      1.503      0.133   -2728.909    2.06e+04\n",
       "x59         5732.8187   6552.282      0.875      0.382   -7119.625    1.86e+04\n",
       "x60         2433.3707   2.11e+04      0.115      0.908    -3.9e+04    4.38e+04\n",
       "x61         -1.44e+04   8110.125     -1.776      0.076   -3.03e+04    1504.654\n",
       "x62         1.066e+04   6059.518      1.759      0.079   -1229.536    2.25e+04\n",
       "x63         2640.1700   5988.580      0.441      0.659   -9106.560    1.44e+04\n",
       "x64         8922.4830   7823.403      1.140      0.254   -6423.292    2.43e+04\n",
       "x65        -1917.7081   1.43e+04     -0.134      0.893   -2.99e+04    2.61e+04\n",
       "x66          244.9469   1.34e+04      0.018      0.985    -2.6e+04    2.65e+04\n",
       "x67        -1.607e+04   2.81e+04     -0.572      0.567   -7.12e+04     3.9e+04\n",
       "x68        -3336.2171   1.32e+04     -0.252      0.801   -2.93e+04    2.26e+04\n",
       "x69         -2.69e+04   6200.900     -4.339      0.000   -3.91e+04   -1.47e+04\n",
       "x70        -2.458e+04   3497.102     -7.029      0.000   -3.14e+04   -1.77e+04\n",
       "x71        -2.289e+04   1.12e+04     -2.041      0.041   -4.49e+04    -887.757\n",
       "x72        -1.676e+04   2.93e+04     -0.572      0.567   -7.42e+04    4.07e+04\n",
       "x73        -2.604e+04   4218.920     -6.172      0.000   -3.43e+04   -1.78e+04\n",
       "x74        -2972.4386   1.78e+04     -0.167      0.868   -3.79e+04     3.2e+04\n",
       "x75         3658.7889   1.76e+04      0.208      0.835   -3.08e+04    3.81e+04\n",
       "x76        -2.289e+04   1.12e+04     -2.041      0.041   -4.49e+04    -887.757\n",
       "x77         1.124e+04   2.25e+04      0.499      0.618    -3.3e+04    5.54e+04\n",
       "x78           28.0954   1.72e+04      0.002      0.999   -3.37e+04    3.38e+04\n",
       "x79        -3247.9568   2957.966     -1.098      0.272   -9050.071    2554.157\n",
       "x80         -871.4290   2694.422     -0.323      0.746   -6156.597    4413.739\n",
       "x81        -8362.0945   3862.555     -2.165      0.031   -1.59e+04    -785.610\n",
       "x82        -2.289e+04   1.12e+04     -2.041      0.041   -4.49e+04    -887.757\n",
       "x83        -3580.4297   3144.858     -1.139      0.255   -9749.137    2588.278\n",
       "x84        -1.484e+04   2565.720     -5.784      0.000   -1.99e+04   -9807.570\n",
       "x85         1.247e+04   1.69e+04      0.736      0.462   -2.08e+04    4.57e+04\n",
       "x86         2.162e+04   1.21e+04      1.786      0.074   -2123.985    4.54e+04\n",
       "x87          1.69e+04   1.23e+04      1.374      0.170   -7230.261     4.1e+04\n",
       "x88         2.551e+04   1.26e+04      2.017      0.044     706.086    5.03e+04\n",
       "x89         2200.9382   2.76e+04      0.080      0.936   -5.18e+04    5.62e+04\n",
       "x90        -4.598e+04   2.31e+04     -1.990      0.047   -9.13e+04    -665.438\n",
       "x91          2.59e+04   1.11e+04      2.323      0.020    4034.814    4.78e+04\n",
       "x92        -9083.7549   7526.808     -1.207      0.228   -2.38e+04    5680.244\n",
       "x93        -6822.6332   5976.441     -1.142      0.254   -1.85e+04    4900.285\n",
       "x94        -6909.0345   6811.888     -1.014      0.311   -2.03e+04    6452.633\n",
       "x95        -1.085e+04   8336.129     -1.302      0.193   -2.72e+04    5496.578\n",
       "x96        -5443.9921   6185.509     -0.880      0.379   -1.76e+04    6689.019\n",
       "x97        -3261.6233   5775.049     -0.565      0.572   -1.46e+04    8066.261\n",
       "x98         2952.0302   3400.945      0.868      0.386   -3718.997    9623.058\n",
       "x99         1.256e+04   9889.039      1.271      0.204   -6832.615     3.2e+04\n",
       "x100        8.916e+04   2.86e+04      3.114      0.002     3.3e+04    1.45e+05\n",
       "x101        1.911e+04   8260.954      2.314      0.021    2908.700    3.53e+04\n",
       "x102        -648.7079   1.24e+04     -0.052      0.958   -2.49e+04    2.36e+04\n",
       "x103        3498.8624   1.34e+04      0.261      0.794   -2.28e+04    2.98e+04\n",
       "x104        1.651e+04   5181.962      3.186      0.001    6342.723    2.67e+04\n",
       "x105        1.814e+04   1.48e+04      1.223      0.222    -1.1e+04    4.72e+04\n",
       "x106        8317.4354   4204.846      1.978      0.048      69.539    1.66e+04\n",
       "x107        1.659e+05   4.16e+04      3.988      0.000    8.43e+04    2.48e+05\n",
       "x108        1.635e+05   4.25e+04      3.850      0.000    8.02e+04    2.47e+05\n",
       "x109        9434.8767   1.46e+04      0.647      0.517   -1.91e+04     3.8e+04\n",
       "x110        1.722e+05   4.35e+04      3.962      0.000    8.69e+04    2.57e+05\n",
       "x111        1.684e+05   4.12e+04      4.089      0.000    8.76e+04    2.49e+05\n",
       "x112        8302.5718   1035.014      8.022      0.000    6272.369    1.03e+04\n",
       "x113          41.9855      2.402     17.477      0.000      37.273      46.698\n",
       "x114           9.6024      8.058      1.192      0.234      -6.204      25.409\n",
       "x115        9903.9106   2401.823      4.123      0.000    5192.683    1.46e+04\n",
       "x116        5179.4681   1987.408      2.606      0.009    1281.124    9077.812\n",
       "x117        8129.3189   2890.796      2.812      0.005    2458.959    1.38e+04\n",
       "x118        -251.7298     21.143    -11.906      0.000    -293.203    -210.257\n",
       "==============================================================================\n",
       "Omnibus:                      817.926   Durbin-Watson:                   1.997\n",
       "Prob(Omnibus):                  0.000   Jarque-Bera (JB):            65032.292\n",
       "Skew:                          -1.444   Prob(JB):                         0.00\n",
       "Kurtosis:                      33.714   Cond. No.                     1.08e+16\n",
       "==============================================================================\n",
       "\n",
       "Notes:\n",
       "[1] Standard Errors assume that the covariance matrix of the errors is correctly specified.\n",
       "[2] The smallest eigenvalue is 3.86e-23. This might indicate that there are\n",
       "strong multicollinearity problems or that the design matrix is singular.\n",
       "\"\"\""
      ]
     },
     "execution_count": 23,
     "metadata": {},
     "output_type": "execute_result"
    }
   ],
   "source": [
    "ols = sm.OLS(y_train, sm.add_constant(X1_train_transformed)).fit()\n",
    "summary_table = ols.summary()\n",
    "summary_table"
   ]
  },
  {
   "cell_type": "code",
   "execution_count": 24,
   "id": "9c11476b-87d3-4f74-953b-649815f1da4c",
   "metadata": {
    "tags": []
   },
   "outputs": [
    {
     "data": {
      "text/plain": [
       "array(['oh__Neighborhood_Blueste', 'oh__Neighborhood_BrDale',\n",
       "       'oh__Neighborhood_BrkSide', 'oh__Neighborhood_ClearCr',\n",
       "       'oh__Neighborhood_CollgCr', 'oh__Neighborhood_Crawfor',\n",
       "       'oh__Neighborhood_Edwards', 'oh__Neighborhood_Gilbert',\n",
       "       'oh__Neighborhood_Greens', 'oh__Neighborhood_GrnHill',\n",
       "       'oh__Neighborhood_IDOTRR', 'oh__Neighborhood_Landmrk',\n",
       "       'oh__Neighborhood_MeadowV', 'oh__Neighborhood_Mitchel',\n",
       "       'oh__Neighborhood_NAmes', 'oh__Neighborhood_NPkVill',\n",
       "       'oh__Neighborhood_NWAmes', 'oh__Neighborhood_NoRidge',\n",
       "       'oh__Neighborhood_NridgHt', 'oh__Neighborhood_OldTown',\n",
       "       'oh__Neighborhood_SWISU', 'oh__Neighborhood_Sawyer',\n",
       "       'oh__Neighborhood_SawyerW', 'oh__Neighborhood_Somerst',\n",
       "       'oh__Neighborhood_StoneBr', 'oh__Neighborhood_Timber',\n",
       "       'oh__Neighborhood_Veenker', 'oh__Condition 1_Feedr',\n",
       "       'oh__Condition 1_Norm', 'oh__Condition 1_PosA',\n",
       "       'oh__Condition 1_PosN', 'oh__Condition 1_RRAe',\n",
       "       'oh__Condition 1_RRAn', 'oh__Condition 1_RRNe',\n",
       "       'oh__Condition 1_RRNn', 'oh__Exter Qual_Fa', 'oh__Exter Qual_Gd',\n",
       "       'oh__Exter Qual_TA', 'oh__Bsmt Exposure_Gd',\n",
       "       'oh__Bsmt Exposure_Mn', 'oh__Bsmt Exposure_NA',\n",
       "       'oh__Bsmt Exposure_No', 'oh__Kitchen Qual_Fa',\n",
       "       'oh__Kitchen Qual_Gd', 'oh__Kitchen Qual_TA', 'oh__Garage Qual_Fa',\n",
       "       'oh__Garage Qual_Gd', 'oh__Garage Qual_NA', 'oh__Garage Qual_Po',\n",
       "       'oh__Garage Qual_TA', 'oh__Exterior 1st_AsphShn',\n",
       "       'oh__Exterior 1st_BrkComm', 'oh__Exterior 1st_BrkFace',\n",
       "       'oh__Exterior 1st_CBlock', 'oh__Exterior 1st_CemntBd',\n",
       "       'oh__Exterior 1st_HdBoard', 'oh__Exterior 1st_ImStucc',\n",
       "       'oh__Exterior 1st_MetalSd', 'oh__Exterior 1st_Plywood',\n",
       "       'oh__Exterior 1st_Stone', 'oh__Exterior 1st_Stucco',\n",
       "       'oh__Exterior 1st_VinylSd', 'oh__Exterior 1st_Wd Sdng',\n",
       "       'oh__Exterior 1st_WdShing', 'oh__Exter Cond_Fa',\n",
       "       'oh__Exter Cond_Gd', 'oh__Exter Cond_Po', 'oh__Exter Cond_TA',\n",
       "       'oh__Bsmt Qual_Fa', 'oh__Bsmt Qual_Gd', 'oh__Bsmt Qual_NA',\n",
       "       'oh__Bsmt Qual_Po', 'oh__Bsmt Qual_TA', 'oh__Bsmt Cond_Fa',\n",
       "       'oh__Bsmt Cond_Gd', 'oh__Bsmt Cond_NA', 'oh__Bsmt Cond_Po',\n",
       "       'oh__Bsmt Cond_TA', 'oh__BsmtFin Type 1_BLQ',\n",
       "       'oh__BsmtFin Type 1_GLQ', 'oh__BsmtFin Type 1_LwQ',\n",
       "       'oh__BsmtFin Type 1_NA', 'oh__BsmtFin Type 1_Rec',\n",
       "       'oh__BsmtFin Type 1_Unf', 'oh__Functional_Maj2',\n",
       "       'oh__Functional_Min1', 'oh__Functional_Min2', 'oh__Functional_Mod',\n",
       "       'oh__Functional_Sal', 'oh__Functional_Sev', 'oh__Functional_Typ',\n",
       "       'oh__Fireplace Qu_Fa', 'oh__Fireplace Qu_Gd',\n",
       "       'oh__Fireplace Qu_NA', 'oh__Fireplace Qu_Po',\n",
       "       'oh__Fireplace Qu_TA', 'oh__Paved Drive_P', 'oh__Paved Drive_Y',\n",
       "       'oh__Sale Type_CWD', 'oh__Sale Type_Con', 'oh__Sale Type_ConLD',\n",
       "       'oh__Sale Type_ConLI', 'oh__Sale Type_ConLw', 'oh__Sale Type_New',\n",
       "       'oh__Sale Type_Oth', 'oh__Sale Type_WD ', 'oh__Garage Cond_Fa',\n",
       "       'oh__Garage Cond_Gd', 'oh__Garage Cond_NA', 'oh__Garage Cond_Po',\n",
       "       'oh__Garage Cond_TA', 'remainder__Overall Qual',\n",
       "       'remainder__Gr Liv Area', 'remainder__Garage Area',\n",
       "       'remainder__Garage Cars', 'remainder__Full Bath',\n",
       "       'remainder__Fireplaces', 'remainder__MS SubClass'], dtype=object)"
      ]
     },
     "execution_count": 24,
     "metadata": {},
     "output_type": "execute_result"
    }
   ],
   "source": [
    "ct.get_feature_names_out()"
   ]
  },
  {
   "cell_type": "code",
   "execution_count": null,
   "id": "b273f26a-729f-4efc-8d0a-58ed9ee4264c",
   "metadata": {
    "tags": []
   },
   "outputs": [],
   "source": []
  },
  {
   "cell_type": "code",
   "execution_count": 25,
   "id": "8847b761-60fd-4e69-9e9d-9e0969fe9fc9",
   "metadata": {
    "tags": []
   },
   "outputs": [
    {
     "ename": "FileNotFoundError",
     "evalue": "[Errno 2] No such file or directory: 'datasets/test.csv'",
     "output_type": "error",
     "traceback": [
      "\u001b[1;31m---------------------------------------------------------------------------\u001b[0m",
      "\u001b[1;31mFileNotFoundError\u001b[0m                         Traceback (most recent call last)",
      "Cell \u001b[1;32mIn[25], line 1\u001b[0m\n\u001b[1;32m----> 1\u001b[0m test \u001b[38;5;241m=\u001b[39m pd\u001b[38;5;241m.\u001b[39mread_csv(\u001b[38;5;124m'\u001b[39m\u001b[38;5;124mdatasets/test.csv\u001b[39m\u001b[38;5;124m'\u001b[39m)\n",
      "File \u001b[1;32m~\\anaconda3\\Lib\\site-packages\\pandas\\util\\_decorators.py:211\u001b[0m, in \u001b[0;36mdeprecate_kwarg.<locals>._deprecate_kwarg.<locals>.wrapper\u001b[1;34m(*args, **kwargs)\u001b[0m\n\u001b[0;32m    209\u001b[0m     \u001b[38;5;28;01melse\u001b[39;00m:\n\u001b[0;32m    210\u001b[0m         kwargs[new_arg_name] \u001b[38;5;241m=\u001b[39m new_arg_value\n\u001b[1;32m--> 211\u001b[0m \u001b[38;5;28;01mreturn\u001b[39;00m func(\u001b[38;5;241m*\u001b[39margs, \u001b[38;5;241m*\u001b[39m\u001b[38;5;241m*\u001b[39mkwargs)\n",
      "File \u001b[1;32m~\\anaconda3\\Lib\\site-packages\\pandas\\util\\_decorators.py:331\u001b[0m, in \u001b[0;36mdeprecate_nonkeyword_arguments.<locals>.decorate.<locals>.wrapper\u001b[1;34m(*args, **kwargs)\u001b[0m\n\u001b[0;32m    325\u001b[0m \u001b[38;5;28;01mif\u001b[39;00m \u001b[38;5;28mlen\u001b[39m(args) \u001b[38;5;241m>\u001b[39m num_allow_args:\n\u001b[0;32m    326\u001b[0m     warnings\u001b[38;5;241m.\u001b[39mwarn(\n\u001b[0;32m    327\u001b[0m         msg\u001b[38;5;241m.\u001b[39mformat(arguments\u001b[38;5;241m=\u001b[39m_format_argument_list(allow_args)),\n\u001b[0;32m    328\u001b[0m         \u001b[38;5;167;01mFutureWarning\u001b[39;00m,\n\u001b[0;32m    329\u001b[0m         stacklevel\u001b[38;5;241m=\u001b[39mfind_stack_level(),\n\u001b[0;32m    330\u001b[0m     )\n\u001b[1;32m--> 331\u001b[0m \u001b[38;5;28;01mreturn\u001b[39;00m func(\u001b[38;5;241m*\u001b[39margs, \u001b[38;5;241m*\u001b[39m\u001b[38;5;241m*\u001b[39mkwargs)\n",
      "File \u001b[1;32m~\\anaconda3\\Lib\\site-packages\\pandas\\io\\parsers\\readers.py:950\u001b[0m, in \u001b[0;36mread_csv\u001b[1;34m(filepath_or_buffer, sep, delimiter, header, names, index_col, usecols, squeeze, prefix, mangle_dupe_cols, dtype, engine, converters, true_values, false_values, skipinitialspace, skiprows, skipfooter, nrows, na_values, keep_default_na, na_filter, verbose, skip_blank_lines, parse_dates, infer_datetime_format, keep_date_col, date_parser, dayfirst, cache_dates, iterator, chunksize, compression, thousands, decimal, lineterminator, quotechar, quoting, doublequote, escapechar, comment, encoding, encoding_errors, dialect, error_bad_lines, warn_bad_lines, on_bad_lines, delim_whitespace, low_memory, memory_map, float_precision, storage_options)\u001b[0m\n\u001b[0;32m    935\u001b[0m kwds_defaults \u001b[38;5;241m=\u001b[39m _refine_defaults_read(\n\u001b[0;32m    936\u001b[0m     dialect,\n\u001b[0;32m    937\u001b[0m     delimiter,\n\u001b[1;32m   (...)\u001b[0m\n\u001b[0;32m    946\u001b[0m     defaults\u001b[38;5;241m=\u001b[39m{\u001b[38;5;124m\"\u001b[39m\u001b[38;5;124mdelimiter\u001b[39m\u001b[38;5;124m\"\u001b[39m: \u001b[38;5;124m\"\u001b[39m\u001b[38;5;124m,\u001b[39m\u001b[38;5;124m\"\u001b[39m},\n\u001b[0;32m    947\u001b[0m )\n\u001b[0;32m    948\u001b[0m kwds\u001b[38;5;241m.\u001b[39mupdate(kwds_defaults)\n\u001b[1;32m--> 950\u001b[0m \u001b[38;5;28;01mreturn\u001b[39;00m _read(filepath_or_buffer, kwds)\n",
      "File \u001b[1;32m~\\anaconda3\\Lib\\site-packages\\pandas\\io\\parsers\\readers.py:605\u001b[0m, in \u001b[0;36m_read\u001b[1;34m(filepath_or_buffer, kwds)\u001b[0m\n\u001b[0;32m    602\u001b[0m _validate_names(kwds\u001b[38;5;241m.\u001b[39mget(\u001b[38;5;124m\"\u001b[39m\u001b[38;5;124mnames\u001b[39m\u001b[38;5;124m\"\u001b[39m, \u001b[38;5;28;01mNone\u001b[39;00m))\n\u001b[0;32m    604\u001b[0m \u001b[38;5;66;03m# Create the parser.\u001b[39;00m\n\u001b[1;32m--> 605\u001b[0m parser \u001b[38;5;241m=\u001b[39m TextFileReader(filepath_or_buffer, \u001b[38;5;241m*\u001b[39m\u001b[38;5;241m*\u001b[39mkwds)\n\u001b[0;32m    607\u001b[0m \u001b[38;5;28;01mif\u001b[39;00m chunksize \u001b[38;5;129;01mor\u001b[39;00m iterator:\n\u001b[0;32m    608\u001b[0m     \u001b[38;5;28;01mreturn\u001b[39;00m parser\n",
      "File \u001b[1;32m~\\anaconda3\\Lib\\site-packages\\pandas\\io\\parsers\\readers.py:1442\u001b[0m, in \u001b[0;36mTextFileReader.__init__\u001b[1;34m(self, f, engine, **kwds)\u001b[0m\n\u001b[0;32m   1439\u001b[0m     \u001b[38;5;28mself\u001b[39m\u001b[38;5;241m.\u001b[39moptions[\u001b[38;5;124m\"\u001b[39m\u001b[38;5;124mhas_index_names\u001b[39m\u001b[38;5;124m\"\u001b[39m] \u001b[38;5;241m=\u001b[39m kwds[\u001b[38;5;124m\"\u001b[39m\u001b[38;5;124mhas_index_names\u001b[39m\u001b[38;5;124m\"\u001b[39m]\n\u001b[0;32m   1441\u001b[0m \u001b[38;5;28mself\u001b[39m\u001b[38;5;241m.\u001b[39mhandles: IOHandles \u001b[38;5;241m|\u001b[39m \u001b[38;5;28;01mNone\u001b[39;00m \u001b[38;5;241m=\u001b[39m \u001b[38;5;28;01mNone\u001b[39;00m\n\u001b[1;32m-> 1442\u001b[0m \u001b[38;5;28mself\u001b[39m\u001b[38;5;241m.\u001b[39m_engine \u001b[38;5;241m=\u001b[39m \u001b[38;5;28mself\u001b[39m\u001b[38;5;241m.\u001b[39m_make_engine(f, \u001b[38;5;28mself\u001b[39m\u001b[38;5;241m.\u001b[39mengine)\n",
      "File \u001b[1;32m~\\anaconda3\\Lib\\site-packages\\pandas\\io\\parsers\\readers.py:1735\u001b[0m, in \u001b[0;36mTextFileReader._make_engine\u001b[1;34m(self, f, engine)\u001b[0m\n\u001b[0;32m   1733\u001b[0m     \u001b[38;5;28;01mif\u001b[39;00m \u001b[38;5;124m\"\u001b[39m\u001b[38;5;124mb\u001b[39m\u001b[38;5;124m\"\u001b[39m \u001b[38;5;129;01mnot\u001b[39;00m \u001b[38;5;129;01min\u001b[39;00m mode:\n\u001b[0;32m   1734\u001b[0m         mode \u001b[38;5;241m+\u001b[39m\u001b[38;5;241m=\u001b[39m \u001b[38;5;124m\"\u001b[39m\u001b[38;5;124mb\u001b[39m\u001b[38;5;124m\"\u001b[39m\n\u001b[1;32m-> 1735\u001b[0m \u001b[38;5;28mself\u001b[39m\u001b[38;5;241m.\u001b[39mhandles \u001b[38;5;241m=\u001b[39m get_handle(\n\u001b[0;32m   1736\u001b[0m     f,\n\u001b[0;32m   1737\u001b[0m     mode,\n\u001b[0;32m   1738\u001b[0m     encoding\u001b[38;5;241m=\u001b[39m\u001b[38;5;28mself\u001b[39m\u001b[38;5;241m.\u001b[39moptions\u001b[38;5;241m.\u001b[39mget(\u001b[38;5;124m\"\u001b[39m\u001b[38;5;124mencoding\u001b[39m\u001b[38;5;124m\"\u001b[39m, \u001b[38;5;28;01mNone\u001b[39;00m),\n\u001b[0;32m   1739\u001b[0m     compression\u001b[38;5;241m=\u001b[39m\u001b[38;5;28mself\u001b[39m\u001b[38;5;241m.\u001b[39moptions\u001b[38;5;241m.\u001b[39mget(\u001b[38;5;124m\"\u001b[39m\u001b[38;5;124mcompression\u001b[39m\u001b[38;5;124m\"\u001b[39m, \u001b[38;5;28;01mNone\u001b[39;00m),\n\u001b[0;32m   1740\u001b[0m     memory_map\u001b[38;5;241m=\u001b[39m\u001b[38;5;28mself\u001b[39m\u001b[38;5;241m.\u001b[39moptions\u001b[38;5;241m.\u001b[39mget(\u001b[38;5;124m\"\u001b[39m\u001b[38;5;124mmemory_map\u001b[39m\u001b[38;5;124m\"\u001b[39m, \u001b[38;5;28;01mFalse\u001b[39;00m),\n\u001b[0;32m   1741\u001b[0m     is_text\u001b[38;5;241m=\u001b[39mis_text,\n\u001b[0;32m   1742\u001b[0m     errors\u001b[38;5;241m=\u001b[39m\u001b[38;5;28mself\u001b[39m\u001b[38;5;241m.\u001b[39moptions\u001b[38;5;241m.\u001b[39mget(\u001b[38;5;124m\"\u001b[39m\u001b[38;5;124mencoding_errors\u001b[39m\u001b[38;5;124m\"\u001b[39m, \u001b[38;5;124m\"\u001b[39m\u001b[38;5;124mstrict\u001b[39m\u001b[38;5;124m\"\u001b[39m),\n\u001b[0;32m   1743\u001b[0m     storage_options\u001b[38;5;241m=\u001b[39m\u001b[38;5;28mself\u001b[39m\u001b[38;5;241m.\u001b[39moptions\u001b[38;5;241m.\u001b[39mget(\u001b[38;5;124m\"\u001b[39m\u001b[38;5;124mstorage_options\u001b[39m\u001b[38;5;124m\"\u001b[39m, \u001b[38;5;28;01mNone\u001b[39;00m),\n\u001b[0;32m   1744\u001b[0m )\n\u001b[0;32m   1745\u001b[0m \u001b[38;5;28;01massert\u001b[39;00m \u001b[38;5;28mself\u001b[39m\u001b[38;5;241m.\u001b[39mhandles \u001b[38;5;129;01mis\u001b[39;00m \u001b[38;5;129;01mnot\u001b[39;00m \u001b[38;5;28;01mNone\u001b[39;00m\n\u001b[0;32m   1746\u001b[0m f \u001b[38;5;241m=\u001b[39m \u001b[38;5;28mself\u001b[39m\u001b[38;5;241m.\u001b[39mhandles\u001b[38;5;241m.\u001b[39mhandle\n",
      "File \u001b[1;32m~\\anaconda3\\Lib\\site-packages\\pandas\\io\\common.py:856\u001b[0m, in \u001b[0;36mget_handle\u001b[1;34m(path_or_buf, mode, encoding, compression, memory_map, is_text, errors, storage_options)\u001b[0m\n\u001b[0;32m    851\u001b[0m \u001b[38;5;28;01melif\u001b[39;00m \u001b[38;5;28misinstance\u001b[39m(handle, \u001b[38;5;28mstr\u001b[39m):\n\u001b[0;32m    852\u001b[0m     \u001b[38;5;66;03m# Check whether the filename is to be opened in binary mode.\u001b[39;00m\n\u001b[0;32m    853\u001b[0m     \u001b[38;5;66;03m# Binary mode does not support 'encoding' and 'newline'.\u001b[39;00m\n\u001b[0;32m    854\u001b[0m     \u001b[38;5;28;01mif\u001b[39;00m ioargs\u001b[38;5;241m.\u001b[39mencoding \u001b[38;5;129;01mand\u001b[39;00m \u001b[38;5;124m\"\u001b[39m\u001b[38;5;124mb\u001b[39m\u001b[38;5;124m\"\u001b[39m \u001b[38;5;129;01mnot\u001b[39;00m \u001b[38;5;129;01min\u001b[39;00m ioargs\u001b[38;5;241m.\u001b[39mmode:\n\u001b[0;32m    855\u001b[0m         \u001b[38;5;66;03m# Encoding\u001b[39;00m\n\u001b[1;32m--> 856\u001b[0m         handle \u001b[38;5;241m=\u001b[39m \u001b[38;5;28mopen\u001b[39m(\n\u001b[0;32m    857\u001b[0m             handle,\n\u001b[0;32m    858\u001b[0m             ioargs\u001b[38;5;241m.\u001b[39mmode,\n\u001b[0;32m    859\u001b[0m             encoding\u001b[38;5;241m=\u001b[39mioargs\u001b[38;5;241m.\u001b[39mencoding,\n\u001b[0;32m    860\u001b[0m             errors\u001b[38;5;241m=\u001b[39merrors,\n\u001b[0;32m    861\u001b[0m             newline\u001b[38;5;241m=\u001b[39m\u001b[38;5;124m\"\u001b[39m\u001b[38;5;124m\"\u001b[39m,\n\u001b[0;32m    862\u001b[0m         )\n\u001b[0;32m    863\u001b[0m     \u001b[38;5;28;01melse\u001b[39;00m:\n\u001b[0;32m    864\u001b[0m         \u001b[38;5;66;03m# Binary mode\u001b[39;00m\n\u001b[0;32m    865\u001b[0m         handle \u001b[38;5;241m=\u001b[39m \u001b[38;5;28mopen\u001b[39m(handle, ioargs\u001b[38;5;241m.\u001b[39mmode)\n",
      "\u001b[1;31mFileNotFoundError\u001b[0m: [Errno 2] No such file or directory: 'datasets/test.csv'"
     ]
    }
   ],
   "source": [
    "test = pd.read_csv('datasets/test.csv')"
   ]
  },
  {
   "cell_type": "code",
   "execution_count": null,
   "id": "e6892cdb-e6da-48b4-b823-07495bb128ff",
   "metadata": {
    "tags": []
   },
   "outputs": [],
   "source": [
    "test.info()"
   ]
  },
  {
   "cell_type": "code",
   "execution_count": null,
   "id": "2a84566c-3d23-45f3-8f5a-195659191536",
   "metadata": {
    "tags": []
   },
   "outputs": [],
   "source": [
    "#For the columns I am using, the solution for missing values was to fill na with \n",
    "test.fillna('NA', inplace=True)"
   ]
  },
  {
   "cell_type": "code",
   "execution_count": null,
   "id": "8b6bef0e-c030-4ca4-9df7-759311de214d",
   "metadata": {
    "tags": []
   },
   "outputs": [],
   "source": [
    "test_columns = ['Overall Qual', \n",
    "                'Gr Liv Area', \n",
    "                'Garage Area', \n",
    "                'Garage Cars', \n",
    "                'Full Bath', \n",
    "                'Fireplaces', \n",
    "                'MS SubClass', \n",
    "                'Neighborhood', \n",
    "                'Condition 1', \n",
    "                'Exter Qual', \n",
    "                'Bsmt Exposure', \n",
    "                'Kitchen Qual', \n",
    "                'Garage Qual',\n",
    "                'Exterior 1st',\n",
    "                'Exter Cond',\n",
    "                'Bsmt Qual',\n",
    "                'Bsmt Cond',\n",
    "                'BsmtFin Type 1',\n",
    "                'Functional',\n",
    "                'Fireplace Qu',\n",
    "                'Paved Drive',\n",
    "                'Sale Type',\n",
    "                'Garage Cond']\n",
    "X_test = test[test_columns]"
   ]
  },
  {
   "cell_type": "code",
   "execution_count": null,
   "id": "f1008e13-def3-4fdc-b20f-aac67ada348f",
   "metadata": {
    "tags": []
   },
   "outputs": [],
   "source": [
    "X_test.info()"
   ]
  },
  {
   "cell_type": "code",
   "execution_count": null,
   "id": "9a52d678-aeef-471f-b9e7-5b5a1f9119b4",
   "metadata": {
    "tags": []
   },
   "outputs": [],
   "source": []
  },
  {
   "cell_type": "code",
   "execution_count": null,
   "id": "876a979f-c2ac-4bd0-a748-6c82d08b0fcc",
   "metadata": {
    "tags": []
   },
   "outputs": [],
   "source": [
    "#For Garage Qual & Bsmt Exposure, I can input NA for missing values as I did for training data"
   ]
  },
  {
   "cell_type": "code",
   "execution_count": null,
   "id": "03daac85-eac9-496c-b214-f762df82b7cd",
   "metadata": {
    "tags": []
   },
   "outputs": [],
   "source": [
    "X_test_transformed = ct.transform(X_test)"
   ]
  },
  {
   "cell_type": "code",
   "execution_count": null,
   "id": "3fe13c4e-cec0-4c76-8607-c7afb1b66b82",
   "metadata": {
    "tags": []
   },
   "outputs": [],
   "source": []
  },
  {
   "cell_type": "code",
   "execution_count": null,
   "id": "2fc21cb6-95b1-45f7-8ed8-05aae547b90c",
   "metadata": {
    "tags": []
   },
   "outputs": [],
   "source": [
    "saleprice = lr.predict(X_test_transformed)"
   ]
  },
  {
   "cell_type": "code",
   "execution_count": null,
   "id": "d818aa33-3488-40a7-b831-bd867c31f693",
   "metadata": {
    "tags": []
   },
   "outputs": [],
   "source": [
    "saleprice.shape"
   ]
  },
  {
   "cell_type": "code",
   "execution_count": null,
   "id": "4b5fa1f1-d1bc-4423-a0a3-b9829bc9837c",
   "metadata": {
    "tags": []
   },
   "outputs": [],
   "source": [
    "data = {'Id':test['Id'], 'SalePrice': saleprice}\n",
    "test_sub = pd.DataFrame(data)"
   ]
  },
  {
   "cell_type": "code",
   "execution_count": null,
   "id": "fa951ed0-e4fb-4037-9545-8b9e46ed7644",
   "metadata": {
    "tags": []
   },
   "outputs": [],
   "source": [
    "test_sub.shape"
   ]
  },
  {
   "cell_type": "code",
   "execution_count": null,
   "id": "9c5ca735-2a77-4d27-8fe1-acda770fee4e",
   "metadata": {
    "tags": []
   },
   "outputs": [],
   "source": [
    "test_sub.to_csv('datasets/submission4.csv', index=False)"
   ]
  },
  {
   "cell_type": "code",
   "execution_count": null,
   "id": "11ab8329-6e4c-40dd-b827-5383033121ec",
   "metadata": {},
   "outputs": [],
   "source": []
  }
 ],
 "metadata": {
  "kernelspec": {
   "display_name": "Python 3 (ipykernel)",
   "language": "python",
   "name": "python3"
  },
  "language_info": {
   "codemirror_mode": {
    "name": "ipython",
    "version": 3
   },
   "file_extension": ".py",
   "mimetype": "text/x-python",
   "name": "python",
   "nbconvert_exporter": "python",
   "pygments_lexer": "ipython3",
   "version": "3.11.4"
  }
 },
 "nbformat": 4,
 "nbformat_minor": 5
}
