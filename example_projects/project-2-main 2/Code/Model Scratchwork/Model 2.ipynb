{
 "cells": [
  {
   "cell_type": "code",
   "execution_count": 112,
   "id": "2bdb0972-ec24-4db7-a029-ee18ea7fcb58",
   "metadata": {
    "tags": []
   },
   "outputs": [],
   "source": [
    "import pandas as pd\n",
    "import numpy as np\n",
    "import matplotlib.pyplot as plt\n",
    "\n",
    "from sklearn.linear_model import LinearRegression\n",
    "from sklearn.model_selection import train_test_split, cross_val_score\n",
    "from sklearn.preprocessing import PolynomialFeatures, StandardScaler, OneHotEncoder\n",
    "from sklearn.compose import ColumnTransformer\n",
    "from sklearn.impute import SimpleImputer\n",
    "\n",
    "from sklearn import metrics\n",
    "from sklearn.linear_model import Lasso\n",
    "from sklearn.linear_model import ElasticNet\n",
    "\n",
    "pd.options.display.float_format = '{:.4f}'.format\n",
    "import statsmodels.api as sm"
   ]
  },
  {
   "cell_type": "markdown",
   "id": "6a94e5a8-199a-43df-b359-0c3fd4506fb4",
   "metadata": {},
   "source": [
    "**For this model I used the same columns from Model 2 and "
   ]
  },
  {
   "cell_type": "code",
   "execution_count": 113,
   "id": "8c483560-98ee-4f22-ad6d-8905bbc71804",
   "metadata": {
    "tags": []
   },
   "outputs": [],
   "source": [
    "clean_data = pd.read_csv('../datasets/clean_df.csv')"
   ]
  },
  {
   "cell_type": "code",
   "execution_count": 114,
   "id": "b3eefd3f-bbc5-4b65-a381-0c5bbd4ed52d",
   "metadata": {
    "tags": []
   },
   "outputs": [
    {
     "name": "stdout",
     "output_type": "stream",
     "text": [
      "<class 'pandas.core.frame.DataFrame'>\n",
      "RangeIndex: 2051 entries, 0 to 2050\n",
      "Data columns (total 82 columns):\n",
      " #   Column           Non-Null Count  Dtype  \n",
      "---  ------           --------------  -----  \n",
      " 0   Unnamed: 0       2051 non-null   int64  \n",
      " 1   Id               2051 non-null   int64  \n",
      " 2   PID              2051 non-null   int64  \n",
      " 3   MS SubClass      2051 non-null   int64  \n",
      " 4   MS Zoning        2051 non-null   object \n",
      " 5   Lot Frontage     1721 non-null   float64\n",
      " 6   Lot Area         2051 non-null   int64  \n",
      " 7   Street           2051 non-null   object \n",
      " 8   Alley            140 non-null    object \n",
      " 9   Lot Shape        2051 non-null   object \n",
      " 10  Land Contour     2051 non-null   object \n",
      " 11  Utilities        2051 non-null   object \n",
      " 12  Lot Config       2051 non-null   object \n",
      " 13  Land Slope       2051 non-null   object \n",
      " 14  Neighborhood     2051 non-null   object \n",
      " 15  Condition 1      2051 non-null   object \n",
      " 16  Condition 2      2051 non-null   object \n",
      " 17  Bldg Type        2051 non-null   object \n",
      " 18  House Style      2051 non-null   object \n",
      " 19  Overall Qual     2051 non-null   int64  \n",
      " 20  Overall Cond     2051 non-null   int64  \n",
      " 21  Year Built       2051 non-null   int64  \n",
      " 22  Year Remod/Add   2051 non-null   int64  \n",
      " 23  Roof Style       2051 non-null   object \n",
      " 24  Roof Matl        2051 non-null   object \n",
      " 25  Exterior 1st     2051 non-null   object \n",
      " 26  Exterior 2nd     2051 non-null   object \n",
      " 27  Mas Vnr Type     2029 non-null   object \n",
      " 28  Mas Vnr Area     2029 non-null   float64\n",
      " 29  Exter Qual       2051 non-null   object \n",
      " 30  Exter Cond       2051 non-null   object \n",
      " 31  Foundation       2051 non-null   object \n",
      " 32  Bsmt Qual        1996 non-null   object \n",
      " 33  Bsmt Cond        1996 non-null   object \n",
      " 34  Bsmt Exposure    1993 non-null   object \n",
      " 35  BsmtFin Type 1   1996 non-null   object \n",
      " 36  BsmtFin SF 1     2051 non-null   float64\n",
      " 37  BsmtFin Type 2   1995 non-null   object \n",
      " 38  BsmtFin SF 2     2051 non-null   float64\n",
      " 39  Bsmt Unf SF      2051 non-null   float64\n",
      " 40  Total Bsmt SF    2051 non-null   float64\n",
      " 41  Heating          2051 non-null   object \n",
      " 42  Heating QC       2051 non-null   object \n",
      " 43  Central Air      2051 non-null   object \n",
      " 44  Electrical       2051 non-null   object \n",
      " 45  1st Flr SF       2051 non-null   int64  \n",
      " 46  2nd Flr SF       2051 non-null   int64  \n",
      " 47  Low Qual Fin SF  2051 non-null   int64  \n",
      " 48  Gr Liv Area      2051 non-null   int64  \n",
      " 49  Bsmt Full Bath   2051 non-null   float64\n",
      " 50  Bsmt Half Bath   2051 non-null   float64\n",
      " 51  Full Bath        2051 non-null   int64  \n",
      " 52  Half Bath        2051 non-null   int64  \n",
      " 53  Bedroom AbvGr    2051 non-null   int64  \n",
      " 54  Kitchen AbvGr    2051 non-null   int64  \n",
      " 55  Kitchen Qual     2051 non-null   object \n",
      " 56  TotRms AbvGrd    2051 non-null   int64  \n",
      " 57  Functional       2051 non-null   object \n",
      " 58  Fireplaces       2051 non-null   int64  \n",
      " 59  Fireplace Qu     1051 non-null   object \n",
      " 60  Garage Type      1938 non-null   object \n",
      " 61  Garage Yr Blt    1937 non-null   float64\n",
      " 62  Garage Finish    1937 non-null   object \n",
      " 63  Garage Cars      2050 non-null   float64\n",
      " 64  Garage Area      2050 non-null   float64\n",
      " 65  Garage Qual      1937 non-null   object \n",
      " 66  Garage Cond      1937 non-null   object \n",
      " 67  Paved Drive      2051 non-null   object \n",
      " 68  Wood Deck SF     2051 non-null   int64  \n",
      " 69  Open Porch SF    2051 non-null   int64  \n",
      " 70  Enclosed Porch   2051 non-null   int64  \n",
      " 71  3Ssn Porch       2051 non-null   int64  \n",
      " 72  Screen Porch     2051 non-null   int64  \n",
      " 73  Pool Area        2051 non-null   int64  \n",
      " 74  Pool QC          9 non-null      object \n",
      " 75  Fence            400 non-null    object \n",
      " 76  Misc Feature     65 non-null     object \n",
      " 77  Misc Val         2051 non-null   int64  \n",
      " 78  Mo Sold          2051 non-null   int64  \n",
      " 79  Yr Sold          2051 non-null   int64  \n",
      " 80  Sale Type        2051 non-null   object \n",
      " 81  SalePrice        2051 non-null   int64  \n",
      "dtypes: float64(11), int64(29), object(42)\n",
      "memory usage: 1.3+ MB\n"
     ]
    }
   ],
   "source": [
    "clean_data.info()"
   ]
  },
  {
   "cell_type": "code",
   "execution_count": 115,
   "id": "6b830db7-b9ec-462a-be03-54c45ad7d8f1",
   "metadata": {
    "tags": []
   },
   "outputs": [],
   "source": [
    "Columns_to_include = ['SalePrice', \n",
    "                      'Overall Qual', \n",
    "                      'Gr Liv Area', \n",
    "                      'Garage Area', \n",
    "                      'Garage Cars', \n",
    "                      'Total Bsmt SF', \n",
    "                      '1st Flr SF', \n",
    "                      'Year Built', \n",
    "                      'Full Bath', \n",
    "                      'Fireplaces', \n",
    "                      'MS SubClass', \n",
    "                      'Neighborhood', \n",
    "                      'Condition 1', \n",
    "                      'Exter Qual', \n",
    "                      'Bsmt Exposure', \n",
    "                      'Kitchen Qual', \n",
    "                      'Garage Qual',\n",
    "                      'Exterior 1st',\n",
    "                      'Exter Cond',\n",
    "                      'Bsmt Qual',\n",
    "                      'Bsmt Cond',\n",
    "                      'BsmtFin Type 1',\n",
    "                      'Functional',\n",
    "                      'Fireplace Qu',\n",
    "                      'Paved Drive',\n",
    "                      'Sale Type',\n",
    "                      'Garage Cond']"
   ]
  },
  {
   "cell_type": "code",
   "execution_count": 116,
   "id": "e6a1fa59-61e8-45b0-8c1a-25bc6efb6c29",
   "metadata": {
    "tags": []
   },
   "outputs": [],
   "source": [
    "clean_columns = clean_data[Columns_to_include]"
   ]
  },
  {
   "cell_type": "code",
   "execution_count": 117,
   "id": "83eb4dc4-d55b-455b-a874-92baaec4c0f6",
   "metadata": {
    "tags": []
   },
   "outputs": [],
   "source": [
    "# Create a list of string-type column names\n",
    "string_columns = clean_data.select_dtypes(include=['object']).columns\n",
    "\n",
    "column_to_exclude = 'Mas Vnr Type'\n",
    "\n",
    "# Use a for loop to input NA in each column in dataframe that is in list except Mas Vnr Type\n",
    "for column in string_columns:\n",
    "    if column != column_to_exclude:\n",
    "        clean_data[column].fillna('NA', inplace=True)"
   ]
  },
  {
   "cell_type": "code",
   "execution_count": 118,
   "id": "076f9f9f-e05f-49eb-8669-08a1f7611e31",
   "metadata": {
    "tags": []
   },
   "outputs": [],
   "source": [
    "X1 = clean_data[Columns_to_include].drop(columns='SalePrice')\n",
    "y = clean_data['SalePrice']"
   ]
  },
  {
   "cell_type": "code",
   "execution_count": null,
   "id": "58e99f2f-aed4-4cdc-ad2f-4d4ef5fb1643",
   "metadata": {
    "tags": []
   },
   "outputs": [],
   "source": []
  },
  {
   "cell_type": "code",
   "execution_count": 119,
   "id": "80311f12-fb3e-45d0-9bcc-0cc9f16b3ab8",
   "metadata": {
    "tags": []
   },
   "outputs": [
    {
     "name": "stdout",
     "output_type": "stream",
     "text": [
      "<class 'pandas.core.frame.DataFrame'>\n",
      "RangeIndex: 2051 entries, 0 to 2050\n",
      "Data columns (total 26 columns):\n",
      " #   Column          Non-Null Count  Dtype  \n",
      "---  ------          --------------  -----  \n",
      " 0   Overall Qual    2051 non-null   int64  \n",
      " 1   Gr Liv Area     2051 non-null   int64  \n",
      " 2   Garage Area     2050 non-null   float64\n",
      " 3   Garage Cars     2050 non-null   float64\n",
      " 4   Total Bsmt SF   2051 non-null   float64\n",
      " 5   1st Flr SF      2051 non-null   int64  \n",
      " 6   Year Built      2051 non-null   int64  \n",
      " 7   Full Bath       2051 non-null   int64  \n",
      " 8   Fireplaces      2051 non-null   int64  \n",
      " 9   MS SubClass     2051 non-null   int64  \n",
      " 10  Neighborhood    2051 non-null   object \n",
      " 11  Condition 1     2051 non-null   object \n",
      " 12  Exter Qual      2051 non-null   object \n",
      " 13  Bsmt Exposure   2051 non-null   object \n",
      " 14  Kitchen Qual    2051 non-null   object \n",
      " 15  Garage Qual     2051 non-null   object \n",
      " 16  Exterior 1st    2051 non-null   object \n",
      " 17  Exter Cond      2051 non-null   object \n",
      " 18  Bsmt Qual       2051 non-null   object \n",
      " 19  Bsmt Cond       2051 non-null   object \n",
      " 20  BsmtFin Type 1  2051 non-null   object \n",
      " 21  Functional      2051 non-null   object \n",
      " 22  Fireplace Qu    2051 non-null   object \n",
      " 23  Paved Drive     2051 non-null   object \n",
      " 24  Sale Type       2051 non-null   object \n",
      " 25  Garage Cond     2051 non-null   object \n",
      "dtypes: float64(3), int64(7), object(16)\n",
      "memory usage: 416.7+ KB\n"
     ]
    }
   ],
   "source": [
    "X1.info()"
   ]
  },
  {
   "cell_type": "code",
   "execution_count": 120,
   "id": "6d35a81c-0d67-46b1-8736-51d9a709692a",
   "metadata": {
    "tags": []
   },
   "outputs": [
    {
     "data": {
      "text/plain": [
       "TA    1832\n",
       "NA     114\n",
       "Fa      82\n",
       "Gd      18\n",
       "Ex       3\n",
       "Po       2\n",
       "Name: Garage Qual, dtype: int64"
      ]
     },
     "execution_count": 120,
     "metadata": {},
     "output_type": "execute_result"
    }
   ],
   "source": [
    "X1['Garage Qual'].value_counts()"
   ]
  },
  {
   "cell_type": "code",
   "execution_count": 121,
   "id": "e7bea9ab-4758-4779-aa83-f0c31f4db376",
   "metadata": {
    "tags": []
   },
   "outputs": [
    {
     "data": {
      "text/plain": [
       "(2051,)"
      ]
     },
     "execution_count": 121,
     "metadata": {},
     "output_type": "execute_result"
    }
   ],
   "source": [
    "y.shape"
   ]
  },
  {
   "cell_type": "code",
   "execution_count": 122,
   "id": "0387a605-c627-4e03-9dbe-6d7b521ebc4e",
   "metadata": {
    "tags": []
   },
   "outputs": [],
   "source": [
    "X1_train, X1_val, y_train, y_val = train_test_split(X1, y, test_size= 0.2, random_state=24)"
   ]
  },
  {
   "cell_type": "code",
   "execution_count": 123,
   "id": "847cd295-3cd8-4117-8029-e1ff6a0bdb9e",
   "metadata": {
    "tags": []
   },
   "outputs": [],
   "source": [
    "X1_str = list(X1.select_dtypes(include=['object']).columns)"
   ]
  },
  {
   "cell_type": "code",
   "execution_count": 124,
   "id": "8f8ac160-a891-4bec-948a-841e7e047dc2",
   "metadata": {
    "tags": []
   },
   "outputs": [],
   "source": [
    "#I can either add imputer to the column transformer\n",
    "#or if I don't add polynomical features back in, I can just remove ct & run each separate\n",
    "#\n",
    "ct = ColumnTransformer([('oh', OneHotEncoder(sparse_output=False, handle_unknown='ignore', drop='first'), X1_str)\n",
    "], remainder='passthrough')  \n",
    "\n",
    "# Fit and transform the training data using the ColumnTransformer\n",
    "X1_train_transformed = ct.fit_transform(X1_train)\n",
    "\n",
    "# Transform the test data using the fitted ColumnTransformer\n",
    "X1_val_transformed = ct.transform(X1_val)\n",
    "\n",
    "\n",
    "#Double-check this... why would I need an imputer? I shouldn't have any numeric columns with missings\n",
    "imputer = SimpleImputer(strategy='median')\n",
    "X1_train_transformed = imputer.fit_transform(X1_train_transformed)\n",
    "X1_val_transofrmed = imputer.transform(X1_val_transformed)\n"
   ]
  },
  {
   "cell_type": "code",
   "execution_count": 125,
   "id": "5531e85c-ab99-4a7c-a3bb-07bf472dedae",
   "metadata": {
    "tags": []
   },
   "outputs": [],
   "source": [
    "lr=LinearRegression()"
   ]
  },
  {
   "cell_type": "code",
   "execution_count": 126,
   "id": "875011b1-971d-404f-9df7-2ced70d7ef84",
   "metadata": {
    "tags": []
   },
   "outputs": [
    {
     "data": {
      "text/html": [
       "<style>#sk-container-id-7 {color: black;}#sk-container-id-7 pre{padding: 0;}#sk-container-id-7 div.sk-toggleable {background-color: white;}#sk-container-id-7 label.sk-toggleable__label {cursor: pointer;display: block;width: 100%;margin-bottom: 0;padding: 0.3em;box-sizing: border-box;text-align: center;}#sk-container-id-7 label.sk-toggleable__label-arrow:before {content: \"▸\";float: left;margin-right: 0.25em;color: #696969;}#sk-container-id-7 label.sk-toggleable__label-arrow:hover:before {color: black;}#sk-container-id-7 div.sk-estimator:hover label.sk-toggleable__label-arrow:before {color: black;}#sk-container-id-7 div.sk-toggleable__content {max-height: 0;max-width: 0;overflow: hidden;text-align: left;background-color: #f0f8ff;}#sk-container-id-7 div.sk-toggleable__content pre {margin: 0.2em;color: black;border-radius: 0.25em;background-color: #f0f8ff;}#sk-container-id-7 input.sk-toggleable__control:checked~div.sk-toggleable__content {max-height: 200px;max-width: 100%;overflow: auto;}#sk-container-id-7 input.sk-toggleable__control:checked~label.sk-toggleable__label-arrow:before {content: \"▾\";}#sk-container-id-7 div.sk-estimator input.sk-toggleable__control:checked~label.sk-toggleable__label {background-color: #d4ebff;}#sk-container-id-7 div.sk-label input.sk-toggleable__control:checked~label.sk-toggleable__label {background-color: #d4ebff;}#sk-container-id-7 input.sk-hidden--visually {border: 0;clip: rect(1px 1px 1px 1px);clip: rect(1px, 1px, 1px, 1px);height: 1px;margin: -1px;overflow: hidden;padding: 0;position: absolute;width: 1px;}#sk-container-id-7 div.sk-estimator {font-family: monospace;background-color: #f0f8ff;border: 1px dotted black;border-radius: 0.25em;box-sizing: border-box;margin-bottom: 0.5em;}#sk-container-id-7 div.sk-estimator:hover {background-color: #d4ebff;}#sk-container-id-7 div.sk-parallel-item::after {content: \"\";width: 100%;border-bottom: 1px solid gray;flex-grow: 1;}#sk-container-id-7 div.sk-label:hover label.sk-toggleable__label {background-color: #d4ebff;}#sk-container-id-7 div.sk-serial::before {content: \"\";position: absolute;border-left: 1px solid gray;box-sizing: border-box;top: 0;bottom: 0;left: 50%;z-index: 0;}#sk-container-id-7 div.sk-serial {display: flex;flex-direction: column;align-items: center;background-color: white;padding-right: 0.2em;padding-left: 0.2em;position: relative;}#sk-container-id-7 div.sk-item {position: relative;z-index: 1;}#sk-container-id-7 div.sk-parallel {display: flex;align-items: stretch;justify-content: center;background-color: white;position: relative;}#sk-container-id-7 div.sk-item::before, #sk-container-id-7 div.sk-parallel-item::before {content: \"\";position: absolute;border-left: 1px solid gray;box-sizing: border-box;top: 0;bottom: 0;left: 50%;z-index: -1;}#sk-container-id-7 div.sk-parallel-item {display: flex;flex-direction: column;z-index: 1;position: relative;background-color: white;}#sk-container-id-7 div.sk-parallel-item:first-child::after {align-self: flex-end;width: 50%;}#sk-container-id-7 div.sk-parallel-item:last-child::after {align-self: flex-start;width: 50%;}#sk-container-id-7 div.sk-parallel-item:only-child::after {width: 0;}#sk-container-id-7 div.sk-dashed-wrapped {border: 1px dashed gray;margin: 0 0.4em 0.5em 0.4em;box-sizing: border-box;padding-bottom: 0.4em;background-color: white;}#sk-container-id-7 div.sk-label label {font-family: monospace;font-weight: bold;display: inline-block;line-height: 1.2em;}#sk-container-id-7 div.sk-label-container {text-align: center;}#sk-container-id-7 div.sk-container {/* jupyter's `normalize.less` sets `[hidden] { display: none; }` but bootstrap.min.css set `[hidden] { display: none !important; }` so we also need the `!important` here to be able to override the default hidden behavior on the sphinx rendered scikit-learn.org. See: https://github.com/scikit-learn/scikit-learn/issues/21755 */display: inline-block !important;position: relative;}#sk-container-id-7 div.sk-text-repr-fallback {display: none;}</style><div id=\"sk-container-id-7\" class=\"sk-top-container\"><div class=\"sk-text-repr-fallback\"><pre>LinearRegression()</pre><b>In a Jupyter environment, please rerun this cell to show the HTML representation or trust the notebook. <br />On GitHub, the HTML representation is unable to render, please try loading this page with nbviewer.org.</b></div><div class=\"sk-container\" hidden><div class=\"sk-item\"><div class=\"sk-estimator sk-toggleable\"><input class=\"sk-toggleable__control sk-hidden--visually\" id=\"sk-estimator-id-7\" type=\"checkbox\" checked><label for=\"sk-estimator-id-7\" class=\"sk-toggleable__label sk-toggleable__label-arrow\">LinearRegression</label><div class=\"sk-toggleable__content\"><pre>LinearRegression()</pre></div></div></div></div></div>"
      ],
      "text/plain": [
       "LinearRegression()"
      ]
     },
     "execution_count": 126,
     "metadata": {},
     "output_type": "execute_result"
    }
   ],
   "source": [
    "lr.fit(X1_train_transformed, y_train)"
   ]
  },
  {
   "cell_type": "code",
   "execution_count": 127,
   "id": "985c7c79-a8a9-4a81-8a82-799d52983487",
   "metadata": {
    "tags": []
   },
   "outputs": [
    {
     "name": "stdout",
     "output_type": "stream",
     "text": [
      "0.8874442837871672\n",
      "0.9053777402809525\n"
     ]
    }
   ],
   "source": [
    "r2_train = lr.score(X1_train_transformed, y_train)\n",
    "r2_val = lr.score(X1_val_transformed, y_val)\n",
    "print(r2_train)\n",
    "print(r2_val)"
   ]
  },
  {
   "cell_type": "code",
   "execution_count": 128,
   "id": "af87b785-f798-4f85-9add-23d085319912",
   "metadata": {},
   "outputs": [
    {
     "data": {
      "text/plain": [
       "715730948.6393995"
      ]
     },
     "execution_count": 128,
     "metadata": {},
     "output_type": "execute_result"
    }
   ],
   "source": [
    "y_preds_train = lr.predict(X1_train_transformed)\n",
    "metrics.mean_squared_error(y_train, y_preds_train)"
   ]
  },
  {
   "cell_type": "code",
   "execution_count": 129,
   "id": "8eeae0f5-f6b6-4de5-94f0-fbcd6daa8d4e",
   "metadata": {
    "tags": []
   },
   "outputs": [
    {
     "data": {
      "text/plain": [
       "563890073.929552"
      ]
     },
     "execution_count": 129,
     "metadata": {},
     "output_type": "execute_result"
    }
   ],
   "source": [
    "y_preds_val = lr.predict(X1_val_transformed)\n",
    "metrics.mean_squared_error(y_val, y_preds_val)"
   ]
  },
  {
   "cell_type": "code",
   "execution_count": 130,
   "id": "e49dba63-9991-4fa1-90af-c2c530ab8074",
   "metadata": {
    "tags": []
   },
   "outputs": [
    {
     "data": {
      "text/plain": [
       "array([-6.64358966e+03,  8.30579429e+03, -5.34708609e+03,  1.47075007e+04,\n",
       "        3.56753474e+03,  1.97997891e+04, -1.24230104e+04,  2.25747635e+03,\n",
       "        5.14127847e+03,  1.30274641e+05, -8.36608636e+03, -9.04403780e+02,\n",
       "       -8.06395821e+03,  1.08511190e+02, -4.10072266e+03,  1.20977690e+03,\n",
       "        1.68864061e+02,  5.27816466e+04,  3.96526259e+04, -1.14681775e+04,\n",
       "       -2.14939121e+03, -1.17232845e+02,  3.35133857e+03,  1.83210397e+04,\n",
       "        5.85146047e+04,  9.61640796e+03,  1.30209094e+04,  1.88455383e+03,\n",
       "        1.18924681e+04,  2.63087807e+04,  2.44593883e+04, -5.80101916e+03,\n",
       "        1.28081828e+04, -8.82424866e+03,  4.82911992e+03, -3.27870201e+04,\n",
       "       -2.36219426e+04, -2.70059236e+04,  1.82965959e+04, -7.80991406e+03,\n",
       "        7.91194436e+03, -1.00019270e+04, -3.62325082e+04, -2.61917663e+04,\n",
       "       -3.20129704e+04, -1.65826056e+05, -1.19324930e+05,  8.96789447e+03,\n",
       "       -2.06093876e+05, -1.64299350e+05,  3.41866304e+04, -1.13659228e+04,\n",
       "        2.41595607e+04,  8.28650096e+03,  1.26396548e+04,  9.95759865e+02,\n",
       "       -1.10554191e+04,  8.19922975e+03,  5.13376075e+03,  5.86275292e+03,\n",
       "       -1.46251271e+04,  9.60431858e+03,  2.47019046e+03,  9.07323810e+03,\n",
       "       -2.42638191e+03,  8.09454061e+01, -1.69083108e+04, -3.87114607e+03,\n",
       "       -2.54653872e+04, -2.43551268e+04, -2.12653864e+04, -1.27870312e+04,\n",
       "       -2.52616229e+04, -2.81211077e+03,  3.52924093e+03, -2.12653864e+04,\n",
       "        1.14696542e+04, -1.97373491e+02, -3.20716874e+03, -9.00073821e+02,\n",
       "       -8.49036256e+03, -2.12653864e+04, -3.54225431e+03, -1.45685847e+04,\n",
       "        1.35229088e+04,  2.33448867e+04,  1.84830468e+04,  2.69676340e+04,\n",
       "        2.15245540e+03, -4.45949580e+04,  2.67530013e+04, -9.09254294e+03,\n",
       "       -6.81739387e+03, -7.23109622e+03, -1.10419535e+04, -5.37368230e+03,\n",
       "       -3.09867475e+03,  2.65433322e+03,  1.29734306e+04,  8.79567280e+04,\n",
       "        1.87931031e+04, -7.76993142e+02,  3.33770050e+03,  1.60996969e+04,\n",
       "        1.81374482e+04,  8.21520800e+03,  1.66855444e+05,  1.64787243e+05,\n",
       "        8.96789447e+03,  1.73080800e+05,  1.69380297e+05,  8.24053379e+03,\n",
       "        4.27418234e+01,  9.15627881e+00,  9.99740176e+03,  4.39833232e+00,\n",
       "       -4.85727083e+00,  4.47276585e+01,  4.94320075e+03,  7.92496343e+03,\n",
       "       -2.51034249e+02])"
      ]
     },
     "execution_count": 130,
     "metadata": {},
     "output_type": "execute_result"
    }
   ],
   "source": [
    "lr.coef_"
   ]
  },
  {
   "cell_type": "markdown",
   "id": "ebaf06ba-ac09-4f4b-ac01-b905eb893a70",
   "metadata": {},
   "source": [
    "*Credit to Susan for add_constant to simplify creating an intercept process*"
   ]
  },
  {
   "cell_type": "code",
   "execution_count": 131,
   "id": "2d1855b1-bb18-468f-af04-e70b111045d1",
   "metadata": {
    "tags": []
   },
   "outputs": [
    {
     "data": {
      "text/html": [
       "<table class=\"simpletable\">\n",
       "<caption>OLS Regression Results</caption>\n",
       "<tr>\n",
       "  <th>Dep. Variable:</th>        <td>SalePrice</td>    <th>  R-squared:         </th> <td>   0.887</td> \n",
       "</tr>\n",
       "<tr>\n",
       "  <th>Model:</th>                   <td>OLS</td>       <th>  Adj. R-squared:    </th> <td>   0.879</td> \n",
       "</tr>\n",
       "<tr>\n",
       "  <th>Method:</th>             <td>Least Squares</td>  <th>  F-statistic:       </th> <td>   101.6</td> \n",
       "</tr>\n",
       "<tr>\n",
       "  <th>Date:</th>             <td>Thu, 05 Oct 2023</td> <th>  Prob (F-statistic):</th>  <td>  0.00</td>  \n",
       "</tr>\n",
       "<tr>\n",
       "  <th>Time:</th>                 <td>18:13:06</td>     <th>  Log-Likelihood:    </th> <td> -19046.</td> \n",
       "</tr>\n",
       "<tr>\n",
       "  <th>No. Observations:</th>      <td>  1640</td>      <th>  AIC:               </th> <td>3.833e+04</td>\n",
       "</tr>\n",
       "<tr>\n",
       "  <th>Df Residuals:</th>          <td>  1521</td>      <th>  BIC:               </th> <td>3.897e+04</td>\n",
       "</tr>\n",
       "<tr>\n",
       "  <th>Df Model:</th>              <td>   118</td>      <th>                     </th>     <td> </td>    \n",
       "</tr>\n",
       "<tr>\n",
       "  <th>Covariance Type:</th>      <td>nonrobust</td>    <th>                     </th>     <td> </td>    \n",
       "</tr>\n",
       "</table>\n",
       "<table class=\"simpletable\">\n",
       "<tr>\n",
       "    <td></td>       <th>coef</th>     <th>std err</th>      <th>t</th>      <th>P>|t|</th>  <th>[0.025</th>    <th>0.975]</th>  \n",
       "</tr>\n",
       "<tr>\n",
       "  <th>const</th> <td>-9583.0998</td> <td> 1.38e+05</td> <td>   -0.069</td> <td> 0.945</td> <td> -2.8e+05</td> <td> 2.61e+05</td>\n",
       "</tr>\n",
       "<tr>\n",
       "  <th>x1</th>    <td>-6643.5897</td> <td> 1.48e+04</td> <td>   -0.448</td> <td> 0.654</td> <td>-3.57e+04</td> <td> 2.24e+04</td>\n",
       "</tr>\n",
       "<tr>\n",
       "  <th>x2</th>    <td> 8305.7943</td> <td> 1.13e+04</td> <td>    0.738</td> <td> 0.461</td> <td>-1.38e+04</td> <td> 3.04e+04</td>\n",
       "</tr>\n",
       "<tr>\n",
       "  <th>x3</th>    <td>-5347.0861</td> <td> 9322.830</td> <td>   -0.574</td> <td> 0.566</td> <td>-2.36e+04</td> <td> 1.29e+04</td>\n",
       "</tr>\n",
       "<tr>\n",
       "  <th>x4</th>    <td> 1.471e+04</td> <td>  1.1e+04</td> <td>    1.334</td> <td> 0.182</td> <td>-6915.018</td> <td> 3.63e+04</td>\n",
       "</tr>\n",
       "<tr>\n",
       "  <th>x5</th>    <td> 3567.5347</td> <td> 8022.367</td> <td>    0.445</td> <td> 0.657</td> <td>-1.22e+04</td> <td> 1.93e+04</td>\n",
       "</tr>\n",
       "<tr>\n",
       "  <th>x6</th>    <td>  1.98e+04</td> <td> 8972.323</td> <td>    2.207</td> <td> 0.027</td> <td> 2200.354</td> <td> 3.74e+04</td>\n",
       "</tr>\n",
       "<tr>\n",
       "  <th>x7</th>    <td>-1.242e+04</td> <td> 8600.842</td> <td>   -1.444</td> <td> 0.149</td> <td>-2.93e+04</td> <td> 4447.756</td>\n",
       "</tr>\n",
       "<tr>\n",
       "  <th>x8</th>    <td> 2257.4763</td> <td> 8166.563</td> <td>    0.276</td> <td> 0.782</td> <td>-1.38e+04</td> <td> 1.83e+04</td>\n",
       "</tr>\n",
       "<tr>\n",
       "  <th>x9</th>    <td> 5141.2785</td> <td> 2.15e+04</td> <td>    0.239</td> <td> 0.811</td> <td> -3.7e+04</td> <td> 4.73e+04</td>\n",
       "</tr>\n",
       "<tr>\n",
       "  <th>x10</th>   <td> 1.303e+05</td> <td> 2.14e+04</td> <td>    6.081</td> <td> 0.000</td> <td> 8.83e+04</td> <td> 1.72e+05</td>\n",
       "</tr>\n",
       "<tr>\n",
       "  <th>x11</th>   <td>-8366.0864</td> <td> 9549.198</td> <td>   -0.876</td> <td> 0.381</td> <td>-2.71e+04</td> <td> 1.04e+04</td>\n",
       "</tr>\n",
       "<tr>\n",
       "  <th>x12</th>   <td> -904.4038</td> <td>  2.9e+04</td> <td>   -0.031</td> <td> 0.975</td> <td>-5.78e+04</td> <td>  5.6e+04</td>\n",
       "</tr>\n",
       "<tr>\n",
       "  <th>x13</th>   <td>-8063.9582</td> <td> 1.12e+04</td> <td>   -0.723</td> <td> 0.470</td> <td>-2.99e+04</td> <td> 1.38e+04</td>\n",
       "</tr>\n",
       "<tr>\n",
       "  <th>x14</th>   <td>  108.5112</td> <td> 8613.245</td> <td>    0.013</td> <td> 0.990</td> <td>-1.68e+04</td> <td>  1.7e+04</td>\n",
       "</tr>\n",
       "<tr>\n",
       "  <th>x15</th>   <td>-4100.7227</td> <td> 8383.047</td> <td>   -0.489</td> <td> 0.625</td> <td>-2.05e+04</td> <td> 1.23e+04</td>\n",
       "</tr>\n",
       "<tr>\n",
       "  <th>x16</th>   <td> 1209.7769</td> <td> 1.12e+04</td> <td>    0.108</td> <td> 0.914</td> <td>-2.07e+04</td> <td> 2.31e+04</td>\n",
       "</tr>\n",
       "<tr>\n",
       "  <th>x17</th>   <td>  168.8641</td> <td> 8765.254</td> <td>    0.019</td> <td> 0.985</td> <td> -1.7e+04</td> <td> 1.74e+04</td>\n",
       "</tr>\n",
       "<tr>\n",
       "  <th>x18</th>   <td> 5.278e+04</td> <td> 9304.710</td> <td>    5.673</td> <td> 0.000</td> <td> 3.45e+04</td> <td>  7.1e+04</td>\n",
       "</tr>\n",
       "<tr>\n",
       "  <th>x19</th>   <td> 3.965e+04</td> <td> 8202.527</td> <td>    4.834</td> <td> 0.000</td> <td> 2.36e+04</td> <td> 5.57e+04</td>\n",
       "</tr>\n",
       "<tr>\n",
       "  <th>x20</th>   <td>-1.147e+04</td> <td> 9078.340</td> <td>   -1.263</td> <td> 0.207</td> <td>-2.93e+04</td> <td> 6339.211</td>\n",
       "</tr>\n",
       "<tr>\n",
       "  <th>x21</th>   <td>-2149.3912</td> <td> 1.08e+04</td> <td>   -0.199</td> <td> 0.842</td> <td>-2.33e+04</td> <td>  1.9e+04</td>\n",
       "</tr>\n",
       "<tr>\n",
       "  <th>x22</th>   <td> -117.2328</td> <td> 8821.544</td> <td>   -0.013</td> <td> 0.989</td> <td>-1.74e+04</td> <td> 1.72e+04</td>\n",
       "</tr>\n",
       "<tr>\n",
       "  <th>x23</th>   <td> 3351.3386</td> <td> 8492.991</td> <td>    0.395</td> <td> 0.693</td> <td>-1.33e+04</td> <td>    2e+04</td>\n",
       "</tr>\n",
       "<tr>\n",
       "  <th>x24</th>   <td> 1.832e+04</td> <td> 8119.749</td> <td>    2.256</td> <td> 0.024</td> <td> 2393.951</td> <td> 3.42e+04</td>\n",
       "</tr>\n",
       "<tr>\n",
       "  <th>x25</th>   <td> 5.851e+04</td> <td> 9123.494</td> <td>    6.414</td> <td> 0.000</td> <td> 4.06e+04</td> <td> 7.64e+04</td>\n",
       "</tr>\n",
       "<tr>\n",
       "  <th>x26</th>   <td> 9616.4080</td> <td> 8909.275</td> <td>    1.079</td> <td> 0.281</td> <td>-7859.357</td> <td> 2.71e+04</td>\n",
       "</tr>\n",
       "<tr>\n",
       "  <th>x27</th>   <td> 1.302e+04</td> <td> 1.12e+04</td> <td>    1.159</td> <td> 0.247</td> <td>-9014.493</td> <td> 3.51e+04</td>\n",
       "</tr>\n",
       "<tr>\n",
       "  <th>x28</th>   <td> 1884.5538</td> <td> 5150.727</td> <td>    0.366</td> <td> 0.715</td> <td>-8218.725</td> <td>  1.2e+04</td>\n",
       "</tr>\n",
       "<tr>\n",
       "  <th>x29</th>   <td> 1.189e+04</td> <td> 4136.334</td> <td>    2.875</td> <td> 0.004</td> <td> 3778.945</td> <td>    2e+04</td>\n",
       "</tr>\n",
       "<tr>\n",
       "  <th>x30</th>   <td> 2.631e+04</td> <td> 9655.673</td> <td>    2.725</td> <td> 0.007</td> <td> 7368.937</td> <td> 4.52e+04</td>\n",
       "</tr>\n",
       "<tr>\n",
       "  <th>x31</th>   <td> 2.446e+04</td> <td> 7110.150</td> <td>    3.440</td> <td> 0.001</td> <td> 1.05e+04</td> <td> 3.84e+04</td>\n",
       "</tr>\n",
       "<tr>\n",
       "  <th>x32</th>   <td>-5801.0192</td> <td> 8241.878</td> <td>   -0.704</td> <td> 0.482</td> <td> -2.2e+04</td> <td> 1.04e+04</td>\n",
       "</tr>\n",
       "<tr>\n",
       "  <th>x33</th>   <td> 1.281e+04</td> <td> 6811.444</td> <td>    1.880</td> <td> 0.060</td> <td> -552.634</td> <td> 2.62e+04</td>\n",
       "</tr>\n",
       "<tr>\n",
       "  <th>x34</th>   <td>-8824.2487</td> <td> 2.06e+04</td> <td>   -0.427</td> <td> 0.669</td> <td>-4.93e+04</td> <td> 3.17e+04</td>\n",
       "</tr>\n",
       "<tr>\n",
       "  <th>x35</th>   <td> 4829.1199</td> <td> 1.49e+04</td> <td>    0.324</td> <td> 0.746</td> <td>-2.44e+04</td> <td> 3.41e+04</td>\n",
       "</tr>\n",
       "<tr>\n",
       "  <th>x36</th>   <td>-3.279e+04</td> <td> 9872.588</td> <td>   -3.321</td> <td> 0.001</td> <td>-5.22e+04</td> <td>-1.34e+04</td>\n",
       "</tr>\n",
       "<tr>\n",
       "  <th>x37</th>   <td>-2.362e+04</td> <td> 4815.594</td> <td>   -4.905</td> <td> 0.000</td> <td>-3.31e+04</td> <td>-1.42e+04</td>\n",
       "</tr>\n",
       "<tr>\n",
       "  <th>x38</th>   <td>-2.701e+04</td> <td> 5525.257</td> <td>   -4.888</td> <td> 0.000</td> <td>-3.78e+04</td> <td>-1.62e+04</td>\n",
       "</tr>\n",
       "<tr>\n",
       "  <th>x39</th>   <td>  1.83e+04</td> <td> 3145.499</td> <td>    5.817</td> <td> 0.000</td> <td> 1.21e+04</td> <td> 2.45e+04</td>\n",
       "</tr>\n",
       "<tr>\n",
       "  <th>x40</th>   <td>-7809.9141</td> <td> 3245.658</td> <td>   -2.406</td> <td> 0.016</td> <td>-1.42e+04</td> <td>-1443.475</td>\n",
       "</tr>\n",
       "<tr>\n",
       "  <th>x41</th>   <td> 7911.9444</td> <td> 2.83e+04</td> <td>    0.279</td> <td> 0.780</td> <td>-4.76e+04</td> <td> 6.34e+04</td>\n",
       "</tr>\n",
       "<tr>\n",
       "  <th>x42</th>   <td>    -1e+04</td> <td> 2301.009</td> <td>   -4.347</td> <td> 0.000</td> <td>-1.45e+04</td> <td>-5488.441</td>\n",
       "</tr>\n",
       "<tr>\n",
       "  <th>x43</th>   <td>-3.623e+04</td> <td> 6644.823</td> <td>   -5.453</td> <td> 0.000</td> <td>-4.93e+04</td> <td>-2.32e+04</td>\n",
       "</tr>\n",
       "<tr>\n",
       "  <th>x44</th>   <td>-2.619e+04</td> <td> 3773.867</td> <td>   -6.940</td> <td> 0.000</td> <td>-3.36e+04</td> <td>-1.88e+04</td>\n",
       "</tr>\n",
       "<tr>\n",
       "  <th>x45</th>   <td>-3.201e+04</td> <td> 4289.669</td> <td>   -7.463</td> <td> 0.000</td> <td>-4.04e+04</td> <td>-2.36e+04</td>\n",
       "</tr>\n",
       "<tr>\n",
       "  <th>x46</th>   <td>-1.658e+05</td> <td> 2.94e+04</td> <td>   -5.643</td> <td> 0.000</td> <td>-2.23e+05</td> <td>-1.08e+05</td>\n",
       "</tr>\n",
       "<tr>\n",
       "  <th>x47</th>   <td>-1.193e+05</td> <td> 3.03e+04</td> <td>   -3.935</td> <td> 0.000</td> <td>-1.79e+05</td> <td>-5.98e+04</td>\n",
       "</tr>\n",
       "<tr>\n",
       "  <th>x48</th>   <td> 8967.8945</td> <td> 1.46e+04</td> <td>    0.615</td> <td> 0.539</td> <td>-1.97e+04</td> <td> 3.76e+04</td>\n",
       "</tr>\n",
       "<tr>\n",
       "  <th>x49</th>   <td>-2.061e+05</td> <td> 3.91e+04</td> <td>   -5.277</td> <td> 0.000</td> <td>-2.83e+05</td> <td>-1.29e+05</td>\n",
       "</tr>\n",
       "<tr>\n",
       "  <th>x50</th>   <td>-1.643e+05</td> <td> 2.91e+04</td> <td>   -5.644</td> <td> 0.000</td> <td>-2.21e+05</td> <td>-1.07e+05</td>\n",
       "</tr>\n",
       "<tr>\n",
       "  <th>x51</th>   <td> 3.419e+04</td> <td> 2.96e+04</td> <td>    1.154</td> <td> 0.249</td> <td>-2.39e+04</td> <td> 9.23e+04</td>\n",
       "</tr>\n",
       "<tr>\n",
       "  <th>x52</th>   <td>-1.137e+04</td> <td> 2.26e+04</td> <td>   -0.504</td> <td> 0.615</td> <td>-5.56e+04</td> <td> 3.29e+04</td>\n",
       "</tr>\n",
       "<tr>\n",
       "  <th>x53</th>   <td> 2.416e+04</td> <td> 7121.936</td> <td>    3.392</td> <td> 0.001</td> <td> 1.02e+04</td> <td> 3.81e+04</td>\n",
       "</tr>\n",
       "<tr>\n",
       "  <th>x54</th>   <td> 8286.5010</td> <td> 3.08e+04</td> <td>    0.269</td> <td> 0.788</td> <td>-5.22e+04</td> <td> 6.88e+04</td>\n",
       "</tr>\n",
       "<tr>\n",
       "  <th>x55</th>   <td> 1.264e+04</td> <td> 7239.612</td> <td>    1.746</td> <td> 0.081</td> <td>-1561.024</td> <td> 2.68e+04</td>\n",
       "</tr>\n",
       "<tr>\n",
       "  <th>x56</th>   <td>  995.7599</td> <td> 6216.725</td> <td>    0.160</td> <td> 0.873</td> <td>-1.12e+04</td> <td> 1.32e+04</td>\n",
       "</tr>\n",
       "<tr>\n",
       "  <th>x57</th>   <td>-1.106e+04</td> <td> 2.93e+04</td> <td>   -0.377</td> <td> 0.706</td> <td>-6.86e+04</td> <td> 4.64e+04</td>\n",
       "</tr>\n",
       "<tr>\n",
       "  <th>x58</th>   <td> 8199.2298</td> <td> 5991.389</td> <td>    1.369</td> <td> 0.171</td> <td>-3553.028</td> <td>    2e+04</td>\n",
       "</tr>\n",
       "<tr>\n",
       "  <th>x59</th>   <td> 5133.7607</td> <td> 6580.077</td> <td>    0.780</td> <td> 0.435</td> <td>-7773.224</td> <td>  1.8e+04</td>\n",
       "</tr>\n",
       "<tr>\n",
       "  <th>x60</th>   <td> 5862.7529</td> <td> 2.14e+04</td> <td>    0.274</td> <td> 0.784</td> <td>-3.61e+04</td> <td> 4.78e+04</td>\n",
       "</tr>\n",
       "<tr>\n",
       "  <th>x61</th>   <td>-1.463e+04</td> <td> 8137.446</td> <td>   -1.797</td> <td> 0.072</td> <td>-3.06e+04</td> <td> 1336.676</td>\n",
       "</tr>\n",
       "<tr>\n",
       "  <th>x62</th>   <td> 9604.3186</td> <td> 6146.029</td> <td>    1.563</td> <td> 0.118</td> <td>-2451.271</td> <td> 2.17e+04</td>\n",
       "</tr>\n",
       "<tr>\n",
       "  <th>x63</th>   <td> 2470.1905</td> <td> 5995.370</td> <td>    0.412</td> <td> 0.680</td> <td>-9289.878</td> <td> 1.42e+04</td>\n",
       "</tr>\n",
       "<tr>\n",
       "  <th>x64</th>   <td> 9073.2381</td> <td> 7844.028</td> <td>    1.157</td> <td> 0.248</td> <td>-6313.018</td> <td> 2.45e+04</td>\n",
       "</tr>\n",
       "<tr>\n",
       "  <th>x65</th>   <td>-2426.3819</td> <td> 1.43e+04</td> <td>   -0.169</td> <td> 0.865</td> <td>-3.05e+04</td> <td> 2.57e+04</td>\n",
       "</tr>\n",
       "<tr>\n",
       "  <th>x66</th>   <td>   80.9454</td> <td> 1.34e+04</td> <td>    0.006</td> <td> 0.995</td> <td>-2.62e+04</td> <td> 2.64e+04</td>\n",
       "</tr>\n",
       "<tr>\n",
       "  <th>x67</th>   <td>-1.691e+04</td> <td> 2.83e+04</td> <td>   -0.598</td> <td> 0.550</td> <td>-7.24e+04</td> <td> 3.86e+04</td>\n",
       "</tr>\n",
       "<tr>\n",
       "  <th>x68</th>   <td>-3871.1461</td> <td> 1.33e+04</td> <td>   -0.292</td> <td> 0.771</td> <td>-2.99e+04</td> <td> 2.22e+04</td>\n",
       "</tr>\n",
       "<tr>\n",
       "  <th>x69</th>   <td>-2.547e+04</td> <td> 6412.191</td> <td>   -3.971</td> <td> 0.000</td> <td> -3.8e+04</td> <td>-1.29e+04</td>\n",
       "</tr>\n",
       "<tr>\n",
       "  <th>x70</th>   <td>-2.436e+04</td> <td> 3512.089</td> <td>   -6.935</td> <td> 0.000</td> <td>-3.12e+04</td> <td>-1.75e+04</td>\n",
       "</tr>\n",
       "<tr>\n",
       "  <th>x71</th>   <td>-2.127e+04</td> <td> 1.13e+04</td> <td>   -1.882</td> <td> 0.060</td> <td>-4.34e+04</td> <td>  898.640</td>\n",
       "</tr>\n",
       "<tr>\n",
       "  <th>x72</th>   <td>-1.279e+04</td> <td> 2.95e+04</td> <td>   -0.434</td> <td> 0.664</td> <td>-7.06e+04</td> <td>  4.5e+04</td>\n",
       "</tr>\n",
       "<tr>\n",
       "  <th>x73</th>   <td>-2.526e+04</td> <td> 4341.651</td> <td>   -5.818</td> <td> 0.000</td> <td>-3.38e+04</td> <td>-1.67e+04</td>\n",
       "</tr>\n",
       "<tr>\n",
       "  <th>x74</th>   <td>-2812.1108</td> <td> 1.78e+04</td> <td>   -0.158</td> <td> 0.875</td> <td>-3.78e+04</td> <td> 3.22e+04</td>\n",
       "</tr>\n",
       "<tr>\n",
       "  <th>x75</th>   <td> 3529.2409</td> <td> 1.76e+04</td> <td>    0.201</td> <td> 0.841</td> <td>-3.09e+04</td> <td>  3.8e+04</td>\n",
       "</tr>\n",
       "<tr>\n",
       "  <th>x76</th>   <td>-2.127e+04</td> <td> 1.13e+04</td> <td>   -1.882</td> <td> 0.060</td> <td>-4.34e+04</td> <td>  898.640</td>\n",
       "</tr>\n",
       "<tr>\n",
       "  <th>x77</th>   <td> 1.147e+04</td> <td> 2.25e+04</td> <td>    0.509</td> <td> 0.611</td> <td>-3.28e+04</td> <td> 5.57e+04</td>\n",
       "</tr>\n",
       "<tr>\n",
       "  <th>x78</th>   <td> -197.3735</td> <td> 1.72e+04</td> <td>   -0.011</td> <td> 0.991</td> <td> -3.4e+04</td> <td> 3.36e+04</td>\n",
       "</tr>\n",
       "<tr>\n",
       "  <th>x79</th>   <td>-3207.1687</td> <td> 2959.789</td> <td>   -1.084</td> <td> 0.279</td> <td>-9012.869</td> <td> 2598.532</td>\n",
       "</tr>\n",
       "<tr>\n",
       "  <th>x80</th>   <td> -900.0738</td> <td> 2701.529</td> <td>   -0.333</td> <td> 0.739</td> <td>-6199.189</td> <td> 4399.042</td>\n",
       "</tr>\n",
       "<tr>\n",
       "  <th>x81</th>   <td>-8490.3626</td> <td> 3867.522</td> <td>   -2.195</td> <td> 0.028</td> <td>-1.61e+04</td> <td> -904.122</td>\n",
       "</tr>\n",
       "<tr>\n",
       "  <th>x82</th>   <td>-2.127e+04</td> <td> 1.13e+04</td> <td>   -1.882</td> <td> 0.060</td> <td>-4.34e+04</td> <td>  898.640</td>\n",
       "</tr>\n",
       "<tr>\n",
       "  <th>x83</th>   <td>-3542.2543</td> <td> 3146.615</td> <td>   -1.126</td> <td> 0.260</td> <td>-9714.419</td> <td> 2629.910</td>\n",
       "</tr>\n",
       "<tr>\n",
       "  <th>x84</th>   <td>-1.457e+04</td> <td> 2576.176</td> <td>   -5.655</td> <td> 0.000</td> <td>-1.96e+04</td> <td>-9515.352</td>\n",
       "</tr>\n",
       "<tr>\n",
       "  <th>x85</th>   <td> 1.352e+04</td> <td>  1.7e+04</td> <td>    0.797</td> <td> 0.426</td> <td>-1.98e+04</td> <td> 4.68e+04</td>\n",
       "</tr>\n",
       "<tr>\n",
       "  <th>x86</th>   <td> 2.334e+04</td> <td> 1.22e+04</td> <td>    1.916</td> <td> 0.056</td> <td> -552.868</td> <td> 4.72e+04</td>\n",
       "</tr>\n",
       "<tr>\n",
       "  <th>x87</th>   <td> 1.848e+04</td> <td> 1.24e+04</td> <td>    1.494</td> <td> 0.135</td> <td>-5776.988</td> <td> 4.27e+04</td>\n",
       "</tr>\n",
       "<tr>\n",
       "  <th>x88</th>   <td> 2.697e+04</td> <td> 1.27e+04</td> <td>    2.123</td> <td> 0.034</td> <td> 2054.106</td> <td> 5.19e+04</td>\n",
       "</tr>\n",
       "<tr>\n",
       "  <th>x89</th>   <td> 2152.4554</td> <td> 2.76e+04</td> <td>    0.078</td> <td> 0.938</td> <td> -5.2e+04</td> <td> 5.63e+04</td>\n",
       "</tr>\n",
       "<tr>\n",
       "  <th>x90</th>   <td>-4.459e+04</td> <td> 2.31e+04</td> <td>   -1.927</td> <td> 0.054</td> <td>   -9e+04</td> <td>  804.734</td>\n",
       "</tr>\n",
       "<tr>\n",
       "  <th>x91</th>   <td> 2.675e+04</td> <td> 1.12e+04</td> <td>    2.393</td> <td> 0.017</td> <td> 4820.045</td> <td> 4.87e+04</td>\n",
       "</tr>\n",
       "<tr>\n",
       "  <th>x92</th>   <td>-9092.5429</td> <td> 7533.471</td> <td>   -1.207</td> <td> 0.228</td> <td>-2.39e+04</td> <td> 5684.548</td>\n",
       "</tr>\n",
       "<tr>\n",
       "  <th>x93</th>   <td>-6817.3939</td> <td> 5981.723</td> <td>   -1.140</td> <td> 0.255</td> <td>-1.86e+04</td> <td> 4915.904</td>\n",
       "</tr>\n",
       "<tr>\n",
       "  <th>x94</th>   <td>-7231.0962</td> <td> 6833.532</td> <td>   -1.058</td> <td> 0.290</td> <td>-2.06e+04</td> <td> 6173.047</td>\n",
       "</tr>\n",
       "<tr>\n",
       "  <th>x95</th>   <td>-1.104e+04</td> <td> 8343.697</td> <td>   -1.323</td> <td> 0.186</td> <td>-2.74e+04</td> <td> 5324.416</td>\n",
       "</tr>\n",
       "<tr>\n",
       "  <th>x96</th>   <td>-5373.6823</td> <td> 6193.601</td> <td>   -0.868</td> <td> 0.386</td> <td>-1.75e+04</td> <td> 6775.221</td>\n",
       "</tr>\n",
       "<tr>\n",
       "  <th>x97</th>   <td>-3098.6748</td> <td> 5778.483</td> <td>   -0.536</td> <td> 0.592</td> <td>-1.44e+04</td> <td> 8235.963</td>\n",
       "</tr>\n",
       "<tr>\n",
       "  <th>x98</th>   <td> 2654.3332</td> <td> 3471.470</td> <td>    0.765</td> <td> 0.445</td> <td>-4155.042</td> <td> 9463.709</td>\n",
       "</tr>\n",
       "<tr>\n",
       "  <th>x99</th>   <td> 1.297e+04</td> <td> 9900.686</td> <td>    1.310</td> <td> 0.190</td> <td>-6447.012</td> <td> 3.24e+04</td>\n",
       "</tr>\n",
       "<tr>\n",
       "  <th>x100</th>  <td> 8.796e+04</td> <td> 2.87e+04</td> <td>    3.067</td> <td> 0.002</td> <td> 3.17e+04</td> <td> 1.44e+05</td>\n",
       "</tr>\n",
       "<tr>\n",
       "  <th>x101</th>  <td> 1.879e+04</td> <td> 8283.062</td> <td>    2.269</td> <td> 0.023</td> <td> 2545.671</td> <td>  3.5e+04</td>\n",
       "</tr>\n",
       "<tr>\n",
       "  <th>x102</th>  <td> -776.9931</td> <td> 1.24e+04</td> <td>   -0.063</td> <td> 0.950</td> <td>-2.51e+04</td> <td> 2.35e+04</td>\n",
       "</tr>\n",
       "<tr>\n",
       "  <th>x103</th>  <td> 3337.7005</td> <td> 1.34e+04</td> <td>    0.248</td> <td> 0.804</td> <td> -2.3e+04</td> <td> 2.97e+04</td>\n",
       "</tr>\n",
       "<tr>\n",
       "  <th>x104</th>  <td>  1.61e+04</td> <td> 5196.708</td> <td>    3.098</td> <td> 0.002</td> <td> 5906.226</td> <td> 2.63e+04</td>\n",
       "</tr>\n",
       "<tr>\n",
       "  <th>x105</th>  <td> 1.814e+04</td> <td> 1.48e+04</td> <td>    1.222</td> <td> 0.222</td> <td> -1.1e+04</td> <td> 4.72e+04</td>\n",
       "</tr>\n",
       "<tr>\n",
       "  <th>x106</th>  <td> 8215.2080</td> <td> 4220.081</td> <td>    1.947</td> <td> 0.052</td> <td>  -62.586</td> <td> 1.65e+04</td>\n",
       "</tr>\n",
       "<tr>\n",
       "  <th>x107</th>  <td> 1.669e+05</td> <td> 4.17e+04</td> <td>    4.006</td> <td> 0.000</td> <td> 8.51e+04</td> <td> 2.49e+05</td>\n",
       "</tr>\n",
       "<tr>\n",
       "  <th>x108</th>  <td> 1.648e+05</td> <td> 4.25e+04</td> <td>    3.878</td> <td> 0.000</td> <td> 8.14e+04</td> <td> 2.48e+05</td>\n",
       "</tr>\n",
       "<tr>\n",
       "  <th>x109</th>  <td> 8967.8945</td> <td> 1.46e+04</td> <td>    0.615</td> <td> 0.539</td> <td>-1.97e+04</td> <td> 3.76e+04</td>\n",
       "</tr>\n",
       "<tr>\n",
       "  <th>x110</th>  <td> 1.731e+05</td> <td> 4.35e+04</td> <td>    3.979</td> <td> 0.000</td> <td> 8.78e+04</td> <td> 2.58e+05</td>\n",
       "</tr>\n",
       "<tr>\n",
       "  <th>x111</th>  <td> 1.694e+05</td> <td> 4.12e+04</td> <td>    4.110</td> <td> 0.000</td> <td> 8.85e+04</td> <td>  2.5e+05</td>\n",
       "</tr>\n",
       "<tr>\n",
       "  <th>x112</th>  <td> 8240.5338</td> <td> 1042.040</td> <td>    7.908</td> <td> 0.000</td> <td> 6196.546</td> <td> 1.03e+04</td>\n",
       "</tr>\n",
       "<tr>\n",
       "  <th>x113</th>  <td>   42.7418</td> <td>    2.595</td> <td>   16.472</td> <td> 0.000</td> <td>   37.652</td> <td>   47.831</td>\n",
       "</tr>\n",
       "<tr>\n",
       "  <th>x114</th>  <td>    9.1563</td> <td>    8.170</td> <td>    1.121</td> <td> 0.263</td> <td>   -6.869</td> <td>   25.181</td>\n",
       "</tr>\n",
       "<tr>\n",
       "  <th>x115</th>  <td> 9997.4018</td> <td> 2410.589</td> <td>    4.147</td> <td> 0.000</td> <td> 5268.972</td> <td> 1.47e+04</td>\n",
       "</tr>\n",
       "<tr>\n",
       "  <th>x116</th>  <td>    4.3983</td> <td>    4.013</td> <td>    1.096</td> <td> 0.273</td> <td>   -3.474</td> <td>   12.271</td>\n",
       "</tr>\n",
       "<tr>\n",
       "  <th>x117</th>  <td>   -4.8573</td> <td>    4.529</td> <td>   -1.073</td> <td> 0.284</td> <td>  -13.740</td> <td>    4.026</td>\n",
       "</tr>\n",
       "<tr>\n",
       "  <th>x118</th>  <td>   44.7277</td> <td>   67.636</td> <td>    0.661</td> <td> 0.509</td> <td>  -87.943</td> <td>  177.398</td>\n",
       "</tr>\n",
       "<tr>\n",
       "  <th>x119</th>  <td> 4943.2008</td> <td> 2018.430</td> <td>    2.449</td> <td> 0.014</td> <td>  984.000</td> <td> 8902.401</td>\n",
       "</tr>\n",
       "<tr>\n",
       "  <th>x120</th>  <td> 7924.9634</td> <td> 2919.911</td> <td>    2.714</td> <td> 0.007</td> <td> 2197.486</td> <td> 1.37e+04</td>\n",
       "</tr>\n",
       "<tr>\n",
       "  <th>x121</th>  <td> -251.0342</td> <td>   22.735</td> <td>  -11.042</td> <td> 0.000</td> <td> -295.629</td> <td> -206.440</td>\n",
       "</tr>\n",
       "</table>\n",
       "<table class=\"simpletable\">\n",
       "<tr>\n",
       "  <th>Omnibus:</th>       <td>852.496</td> <th>  Durbin-Watson:     </th> <td>   1.998</td> \n",
       "</tr>\n",
       "<tr>\n",
       "  <th>Prob(Omnibus):</th> <td> 0.000</td>  <th>  Jarque-Bera (JB):  </th> <td>71537.404</td>\n",
       "</tr>\n",
       "<tr>\n",
       "  <th>Skew:</th>          <td>-1.534</td>  <th>  Prob(JB):          </th> <td>    0.00</td> \n",
       "</tr>\n",
       "<tr>\n",
       "  <th>Kurtosis:</th>      <td>35.210</td>  <th>  Cond. No.          </th> <td>1.02e+16</td> \n",
       "</tr>\n",
       "</table><br/><br/>Notes:<br/>[1] Standard Errors assume that the covariance matrix of the errors is correctly specified.<br/>[2] The smallest eigenvalue is 1.45e-22. This might indicate that there are<br/>strong multicollinearity problems or that the design matrix is singular."
      ],
      "text/latex": [
       "\\begin{center}\n",
       "\\begin{tabular}{lclc}\n",
       "\\toprule\n",
       "\\textbf{Dep. Variable:}    &    SalePrice     & \\textbf{  R-squared:         } &     0.887   \\\\\n",
       "\\textbf{Model:}            &       OLS        & \\textbf{  Adj. R-squared:    } &     0.879   \\\\\n",
       "\\textbf{Method:}           &  Least Squares   & \\textbf{  F-statistic:       } &     101.6   \\\\\n",
       "\\textbf{Date:}             & Thu, 05 Oct 2023 & \\textbf{  Prob (F-statistic):} &     0.00    \\\\\n",
       "\\textbf{Time:}             &     18:13:06     & \\textbf{  Log-Likelihood:    } &   -19046.   \\\\\n",
       "\\textbf{No. Observations:} &        1640      & \\textbf{  AIC:               } & 3.833e+04   \\\\\n",
       "\\textbf{Df Residuals:}     &        1521      & \\textbf{  BIC:               } & 3.897e+04   \\\\\n",
       "\\textbf{Df Model:}         &         118      & \\textbf{                     } &             \\\\\n",
       "\\textbf{Covariance Type:}  &    nonrobust     & \\textbf{                     } &             \\\\\n",
       "\\bottomrule\n",
       "\\end{tabular}\n",
       "\\begin{tabular}{lcccccc}\n",
       "               & \\textbf{coef} & \\textbf{std err} & \\textbf{t} & \\textbf{P$> |$t$|$} & \\textbf{[0.025} & \\textbf{0.975]}  \\\\\n",
       "\\midrule\n",
       "\\textbf{const} &   -9583.0998  &     1.38e+05     &    -0.069  &         0.945        &     -2.8e+05    &     2.61e+05     \\\\\n",
       "\\textbf{x1}    &   -6643.5897  &     1.48e+04     &    -0.448  &         0.654        &    -3.57e+04    &     2.24e+04     \\\\\n",
       "\\textbf{x2}    &    8305.7943  &     1.13e+04     &     0.738  &         0.461        &    -1.38e+04    &     3.04e+04     \\\\\n",
       "\\textbf{x3}    &   -5347.0861  &     9322.830     &    -0.574  &         0.566        &    -2.36e+04    &     1.29e+04     \\\\\n",
       "\\textbf{x4}    &    1.471e+04  &      1.1e+04     &     1.334  &         0.182        &    -6915.018    &     3.63e+04     \\\\\n",
       "\\textbf{x5}    &    3567.5347  &     8022.367     &     0.445  &         0.657        &    -1.22e+04    &     1.93e+04     \\\\\n",
       "\\textbf{x6}    &     1.98e+04  &     8972.323     &     2.207  &         0.027        &     2200.354    &     3.74e+04     \\\\\n",
       "\\textbf{x7}    &   -1.242e+04  &     8600.842     &    -1.444  &         0.149        &    -2.93e+04    &     4447.756     \\\\\n",
       "\\textbf{x8}    &    2257.4763  &     8166.563     &     0.276  &         0.782        &    -1.38e+04    &     1.83e+04     \\\\\n",
       "\\textbf{x9}    &    5141.2785  &     2.15e+04     &     0.239  &         0.811        &     -3.7e+04    &     4.73e+04     \\\\\n",
       "\\textbf{x10}   &    1.303e+05  &     2.14e+04     &     6.081  &         0.000        &     8.83e+04    &     1.72e+05     \\\\\n",
       "\\textbf{x11}   &   -8366.0864  &     9549.198     &    -0.876  &         0.381        &    -2.71e+04    &     1.04e+04     \\\\\n",
       "\\textbf{x12}   &    -904.4038  &      2.9e+04     &    -0.031  &         0.975        &    -5.78e+04    &      5.6e+04     \\\\\n",
       "\\textbf{x13}   &   -8063.9582  &     1.12e+04     &    -0.723  &         0.470        &    -2.99e+04    &     1.38e+04     \\\\\n",
       "\\textbf{x14}   &     108.5112  &     8613.245     &     0.013  &         0.990        &    -1.68e+04    &      1.7e+04     \\\\\n",
       "\\textbf{x15}   &   -4100.7227  &     8383.047     &    -0.489  &         0.625        &    -2.05e+04    &     1.23e+04     \\\\\n",
       "\\textbf{x16}   &    1209.7769  &     1.12e+04     &     0.108  &         0.914        &    -2.07e+04    &     2.31e+04     \\\\\n",
       "\\textbf{x17}   &     168.8641  &     8765.254     &     0.019  &         0.985        &     -1.7e+04    &     1.74e+04     \\\\\n",
       "\\textbf{x18}   &    5.278e+04  &     9304.710     &     5.673  &         0.000        &     3.45e+04    &      7.1e+04     \\\\\n",
       "\\textbf{x19}   &    3.965e+04  &     8202.527     &     4.834  &         0.000        &     2.36e+04    &     5.57e+04     \\\\\n",
       "\\textbf{x20}   &   -1.147e+04  &     9078.340     &    -1.263  &         0.207        &    -2.93e+04    &     6339.211     \\\\\n",
       "\\textbf{x21}   &   -2149.3912  &     1.08e+04     &    -0.199  &         0.842        &    -2.33e+04    &      1.9e+04     \\\\\n",
       "\\textbf{x22}   &    -117.2328  &     8821.544     &    -0.013  &         0.989        &    -1.74e+04    &     1.72e+04     \\\\\n",
       "\\textbf{x23}   &    3351.3386  &     8492.991     &     0.395  &         0.693        &    -1.33e+04    &        2e+04     \\\\\n",
       "\\textbf{x24}   &    1.832e+04  &     8119.749     &     2.256  &         0.024        &     2393.951    &     3.42e+04     \\\\\n",
       "\\textbf{x25}   &    5.851e+04  &     9123.494     &     6.414  &         0.000        &     4.06e+04    &     7.64e+04     \\\\\n",
       "\\textbf{x26}   &    9616.4080  &     8909.275     &     1.079  &         0.281        &    -7859.357    &     2.71e+04     \\\\\n",
       "\\textbf{x27}   &    1.302e+04  &     1.12e+04     &     1.159  &         0.247        &    -9014.493    &     3.51e+04     \\\\\n",
       "\\textbf{x28}   &    1884.5538  &     5150.727     &     0.366  &         0.715        &    -8218.725    &      1.2e+04     \\\\\n",
       "\\textbf{x29}   &    1.189e+04  &     4136.334     &     2.875  &         0.004        &     3778.945    &        2e+04     \\\\\n",
       "\\textbf{x30}   &    2.631e+04  &     9655.673     &     2.725  &         0.007        &     7368.937    &     4.52e+04     \\\\\n",
       "\\textbf{x31}   &    2.446e+04  &     7110.150     &     3.440  &         0.001        &     1.05e+04    &     3.84e+04     \\\\\n",
       "\\textbf{x32}   &   -5801.0192  &     8241.878     &    -0.704  &         0.482        &     -2.2e+04    &     1.04e+04     \\\\\n",
       "\\textbf{x33}   &    1.281e+04  &     6811.444     &     1.880  &         0.060        &     -552.634    &     2.62e+04     \\\\\n",
       "\\textbf{x34}   &   -8824.2487  &     2.06e+04     &    -0.427  &         0.669        &    -4.93e+04    &     3.17e+04     \\\\\n",
       "\\textbf{x35}   &    4829.1199  &     1.49e+04     &     0.324  &         0.746        &    -2.44e+04    &     3.41e+04     \\\\\n",
       "\\textbf{x36}   &   -3.279e+04  &     9872.588     &    -3.321  &         0.001        &    -5.22e+04    &    -1.34e+04     \\\\\n",
       "\\textbf{x37}   &   -2.362e+04  &     4815.594     &    -4.905  &         0.000        &    -3.31e+04    &    -1.42e+04     \\\\\n",
       "\\textbf{x38}   &   -2.701e+04  &     5525.257     &    -4.888  &         0.000        &    -3.78e+04    &    -1.62e+04     \\\\\n",
       "\\textbf{x39}   &     1.83e+04  &     3145.499     &     5.817  &         0.000        &     1.21e+04    &     2.45e+04     \\\\\n",
       "\\textbf{x40}   &   -7809.9141  &     3245.658     &    -2.406  &         0.016        &    -1.42e+04    &    -1443.475     \\\\\n",
       "\\textbf{x41}   &    7911.9444  &     2.83e+04     &     0.279  &         0.780        &    -4.76e+04    &     6.34e+04     \\\\\n",
       "\\textbf{x42}   &       -1e+04  &     2301.009     &    -4.347  &         0.000        &    -1.45e+04    &    -5488.441     \\\\\n",
       "\\textbf{x43}   &   -3.623e+04  &     6644.823     &    -5.453  &         0.000        &    -4.93e+04    &    -2.32e+04     \\\\\n",
       "\\textbf{x44}   &   -2.619e+04  &     3773.867     &    -6.940  &         0.000        &    -3.36e+04    &    -1.88e+04     \\\\\n",
       "\\textbf{x45}   &   -3.201e+04  &     4289.669     &    -7.463  &         0.000        &    -4.04e+04    &    -2.36e+04     \\\\\n",
       "\\textbf{x46}   &   -1.658e+05  &     2.94e+04     &    -5.643  &         0.000        &    -2.23e+05    &    -1.08e+05     \\\\\n",
       "\\textbf{x47}   &   -1.193e+05  &     3.03e+04     &    -3.935  &         0.000        &    -1.79e+05    &    -5.98e+04     \\\\\n",
       "\\textbf{x48}   &    8967.8945  &     1.46e+04     &     0.615  &         0.539        &    -1.97e+04    &     3.76e+04     \\\\\n",
       "\\textbf{x49}   &   -2.061e+05  &     3.91e+04     &    -5.277  &         0.000        &    -2.83e+05    &    -1.29e+05     \\\\\n",
       "\\textbf{x50}   &   -1.643e+05  &     2.91e+04     &    -5.644  &         0.000        &    -2.21e+05    &    -1.07e+05     \\\\\n",
       "\\textbf{x51}   &    3.419e+04  &     2.96e+04     &     1.154  &         0.249        &    -2.39e+04    &     9.23e+04     \\\\\n",
       "\\textbf{x52}   &   -1.137e+04  &     2.26e+04     &    -0.504  &         0.615        &    -5.56e+04    &     3.29e+04     \\\\\n",
       "\\textbf{x53}   &    2.416e+04  &     7121.936     &     3.392  &         0.001        &     1.02e+04    &     3.81e+04     \\\\\n",
       "\\textbf{x54}   &    8286.5010  &     3.08e+04     &     0.269  &         0.788        &    -5.22e+04    &     6.88e+04     \\\\\n",
       "\\textbf{x55}   &    1.264e+04  &     7239.612     &     1.746  &         0.081        &    -1561.024    &     2.68e+04     \\\\\n",
       "\\textbf{x56}   &     995.7599  &     6216.725     &     0.160  &         0.873        &    -1.12e+04    &     1.32e+04     \\\\\n",
       "\\textbf{x57}   &   -1.106e+04  &     2.93e+04     &    -0.377  &         0.706        &    -6.86e+04    &     4.64e+04     \\\\\n",
       "\\textbf{x58}   &    8199.2298  &     5991.389     &     1.369  &         0.171        &    -3553.028    &        2e+04     \\\\\n",
       "\\textbf{x59}   &    5133.7607  &     6580.077     &     0.780  &         0.435        &    -7773.224    &      1.8e+04     \\\\\n",
       "\\textbf{x60}   &    5862.7529  &     2.14e+04     &     0.274  &         0.784        &    -3.61e+04    &     4.78e+04     \\\\\n",
       "\\textbf{x61}   &   -1.463e+04  &     8137.446     &    -1.797  &         0.072        &    -3.06e+04    &     1336.676     \\\\\n",
       "\\textbf{x62}   &    9604.3186  &     6146.029     &     1.563  &         0.118        &    -2451.271    &     2.17e+04     \\\\\n",
       "\\textbf{x63}   &    2470.1905  &     5995.370     &     0.412  &         0.680        &    -9289.878    &     1.42e+04     \\\\\n",
       "\\textbf{x64}   &    9073.2381  &     7844.028     &     1.157  &         0.248        &    -6313.018    &     2.45e+04     \\\\\n",
       "\\textbf{x65}   &   -2426.3819  &     1.43e+04     &    -0.169  &         0.865        &    -3.05e+04    &     2.57e+04     \\\\\n",
       "\\textbf{x66}   &      80.9454  &     1.34e+04     &     0.006  &         0.995        &    -2.62e+04    &     2.64e+04     \\\\\n",
       "\\textbf{x67}   &   -1.691e+04  &     2.83e+04     &    -0.598  &         0.550        &    -7.24e+04    &     3.86e+04     \\\\\n",
       "\\textbf{x68}   &   -3871.1461  &     1.33e+04     &    -0.292  &         0.771        &    -2.99e+04    &     2.22e+04     \\\\\n",
       "\\textbf{x69}   &   -2.547e+04  &     6412.191     &    -3.971  &         0.000        &     -3.8e+04    &    -1.29e+04     \\\\\n",
       "\\textbf{x70}   &   -2.436e+04  &     3512.089     &    -6.935  &         0.000        &    -3.12e+04    &    -1.75e+04     \\\\\n",
       "\\textbf{x71}   &   -2.127e+04  &     1.13e+04     &    -1.882  &         0.060        &    -4.34e+04    &      898.640     \\\\\n",
       "\\textbf{x72}   &   -1.279e+04  &     2.95e+04     &    -0.434  &         0.664        &    -7.06e+04    &      4.5e+04     \\\\\n",
       "\\textbf{x73}   &   -2.526e+04  &     4341.651     &    -5.818  &         0.000        &    -3.38e+04    &    -1.67e+04     \\\\\n",
       "\\textbf{x74}   &   -2812.1108  &     1.78e+04     &    -0.158  &         0.875        &    -3.78e+04    &     3.22e+04     \\\\\n",
       "\\textbf{x75}   &    3529.2409  &     1.76e+04     &     0.201  &         0.841        &    -3.09e+04    &      3.8e+04     \\\\\n",
       "\\textbf{x76}   &   -2.127e+04  &     1.13e+04     &    -1.882  &         0.060        &    -4.34e+04    &      898.640     \\\\\n",
       "\\textbf{x77}   &    1.147e+04  &     2.25e+04     &     0.509  &         0.611        &    -3.28e+04    &     5.57e+04     \\\\\n",
       "\\textbf{x78}   &    -197.3735  &     1.72e+04     &    -0.011  &         0.991        &     -3.4e+04    &     3.36e+04     \\\\\n",
       "\\textbf{x79}   &   -3207.1687  &     2959.789     &    -1.084  &         0.279        &    -9012.869    &     2598.532     \\\\\n",
       "\\textbf{x80}   &    -900.0738  &     2701.529     &    -0.333  &         0.739        &    -6199.189    &     4399.042     \\\\\n",
       "\\textbf{x81}   &   -8490.3626  &     3867.522     &    -2.195  &         0.028        &    -1.61e+04    &     -904.122     \\\\\n",
       "\\textbf{x82}   &   -2.127e+04  &     1.13e+04     &    -1.882  &         0.060        &    -4.34e+04    &      898.640     \\\\\n",
       "\\textbf{x83}   &   -3542.2543  &     3146.615     &    -1.126  &         0.260        &    -9714.419    &     2629.910     \\\\\n",
       "\\textbf{x84}   &   -1.457e+04  &     2576.176     &    -5.655  &         0.000        &    -1.96e+04    &    -9515.352     \\\\\n",
       "\\textbf{x85}   &    1.352e+04  &      1.7e+04     &     0.797  &         0.426        &    -1.98e+04    &     4.68e+04     \\\\\n",
       "\\textbf{x86}   &    2.334e+04  &     1.22e+04     &     1.916  &         0.056        &     -552.868    &     4.72e+04     \\\\\n",
       "\\textbf{x87}   &    1.848e+04  &     1.24e+04     &     1.494  &         0.135        &    -5776.988    &     4.27e+04     \\\\\n",
       "\\textbf{x88}   &    2.697e+04  &     1.27e+04     &     2.123  &         0.034        &     2054.106    &     5.19e+04     \\\\\n",
       "\\textbf{x89}   &    2152.4554  &     2.76e+04     &     0.078  &         0.938        &     -5.2e+04    &     5.63e+04     \\\\\n",
       "\\textbf{x90}   &   -4.459e+04  &     2.31e+04     &    -1.927  &         0.054        &       -9e+04    &      804.734     \\\\\n",
       "\\textbf{x91}   &    2.675e+04  &     1.12e+04     &     2.393  &         0.017        &     4820.045    &     4.87e+04     \\\\\n",
       "\\textbf{x92}   &   -9092.5429  &     7533.471     &    -1.207  &         0.228        &    -2.39e+04    &     5684.548     \\\\\n",
       "\\textbf{x93}   &   -6817.3939  &     5981.723     &    -1.140  &         0.255        &    -1.86e+04    &     4915.904     \\\\\n",
       "\\textbf{x94}   &   -7231.0962  &     6833.532     &    -1.058  &         0.290        &    -2.06e+04    &     6173.047     \\\\\n",
       "\\textbf{x95}   &   -1.104e+04  &     8343.697     &    -1.323  &         0.186        &    -2.74e+04    &     5324.416     \\\\\n",
       "\\textbf{x96}   &   -5373.6823  &     6193.601     &    -0.868  &         0.386        &    -1.75e+04    &     6775.221     \\\\\n",
       "\\textbf{x97}   &   -3098.6748  &     5778.483     &    -0.536  &         0.592        &    -1.44e+04    &     8235.963     \\\\\n",
       "\\textbf{x98}   &    2654.3332  &     3471.470     &     0.765  &         0.445        &    -4155.042    &     9463.709     \\\\\n",
       "\\textbf{x99}   &    1.297e+04  &     9900.686     &     1.310  &         0.190        &    -6447.012    &     3.24e+04     \\\\\n",
       "\\textbf{x100}  &    8.796e+04  &     2.87e+04     &     3.067  &         0.002        &     3.17e+04    &     1.44e+05     \\\\\n",
       "\\textbf{x101}  &    1.879e+04  &     8283.062     &     2.269  &         0.023        &     2545.671    &      3.5e+04     \\\\\n",
       "\\textbf{x102}  &    -776.9931  &     1.24e+04     &    -0.063  &         0.950        &    -2.51e+04    &     2.35e+04     \\\\\n",
       "\\textbf{x103}  &    3337.7005  &     1.34e+04     &     0.248  &         0.804        &     -2.3e+04    &     2.97e+04     \\\\\n",
       "\\textbf{x104}  &     1.61e+04  &     5196.708     &     3.098  &         0.002        &     5906.226    &     2.63e+04     \\\\\n",
       "\\textbf{x105}  &    1.814e+04  &     1.48e+04     &     1.222  &         0.222        &     -1.1e+04    &     4.72e+04     \\\\\n",
       "\\textbf{x106}  &    8215.2080  &     4220.081     &     1.947  &         0.052        &      -62.586    &     1.65e+04     \\\\\n",
       "\\textbf{x107}  &    1.669e+05  &     4.17e+04     &     4.006  &         0.000        &     8.51e+04    &     2.49e+05     \\\\\n",
       "\\textbf{x108}  &    1.648e+05  &     4.25e+04     &     3.878  &         0.000        &     8.14e+04    &     2.48e+05     \\\\\n",
       "\\textbf{x109}  &    8967.8945  &     1.46e+04     &     0.615  &         0.539        &    -1.97e+04    &     3.76e+04     \\\\\n",
       "\\textbf{x110}  &    1.731e+05  &     4.35e+04     &     3.979  &         0.000        &     8.78e+04    &     2.58e+05     \\\\\n",
       "\\textbf{x111}  &    1.694e+05  &     4.12e+04     &     4.110  &         0.000        &     8.85e+04    &      2.5e+05     \\\\\n",
       "\\textbf{x112}  &    8240.5338  &     1042.040     &     7.908  &         0.000        &     6196.546    &     1.03e+04     \\\\\n",
       "\\textbf{x113}  &      42.7418  &        2.595     &    16.472  &         0.000        &       37.652    &       47.831     \\\\\n",
       "\\textbf{x114}  &       9.1563  &        8.170     &     1.121  &         0.263        &       -6.869    &       25.181     \\\\\n",
       "\\textbf{x115}  &    9997.4018  &     2410.589     &     4.147  &         0.000        &     5268.972    &     1.47e+04     \\\\\n",
       "\\textbf{x116}  &       4.3983  &        4.013     &     1.096  &         0.273        &       -3.474    &       12.271     \\\\\n",
       "\\textbf{x117}  &      -4.8573  &        4.529     &    -1.073  &         0.284        &      -13.740    &        4.026     \\\\\n",
       "\\textbf{x118}  &      44.7277  &       67.636     &     0.661  &         0.509        &      -87.943    &      177.398     \\\\\n",
       "\\textbf{x119}  &    4943.2008  &     2018.430     &     2.449  &         0.014        &      984.000    &     8902.401     \\\\\n",
       "\\textbf{x120}  &    7924.9634  &     2919.911     &     2.714  &         0.007        &     2197.486    &     1.37e+04     \\\\\n",
       "\\textbf{x121}  &    -251.0342  &       22.735     &   -11.042  &         0.000        &     -295.629    &     -206.440     \\\\\n",
       "\\bottomrule\n",
       "\\end{tabular}\n",
       "\\begin{tabular}{lclc}\n",
       "\\textbf{Omnibus:}       & 852.496 & \\textbf{  Durbin-Watson:     } &     1.998  \\\\\n",
       "\\textbf{Prob(Omnibus):} &   0.000 & \\textbf{  Jarque-Bera (JB):  } & 71537.404  \\\\\n",
       "\\textbf{Skew:}          &  -1.534 & \\textbf{  Prob(JB):          } &      0.00  \\\\\n",
       "\\textbf{Kurtosis:}      &  35.210 & \\textbf{  Cond. No.          } &  1.02e+16  \\\\\n",
       "\\bottomrule\n",
       "\\end{tabular}\n",
       "%\\caption{OLS Regression Results}\n",
       "\\end{center}\n",
       "\n",
       "Notes: \\newline\n",
       " [1] Standard Errors assume that the covariance matrix of the errors is correctly specified. \\newline\n",
       " [2] The smallest eigenvalue is 1.45e-22. This might indicate that there are \\newline\n",
       " strong multicollinearity problems or that the design matrix is singular."
      ],
      "text/plain": [
       "<class 'statsmodels.iolib.summary.Summary'>\n",
       "\"\"\"\n",
       "                            OLS Regression Results                            \n",
       "==============================================================================\n",
       "Dep. Variable:              SalePrice   R-squared:                       0.887\n",
       "Model:                            OLS   Adj. R-squared:                  0.879\n",
       "Method:                 Least Squares   F-statistic:                     101.6\n",
       "Date:                Thu, 05 Oct 2023   Prob (F-statistic):               0.00\n",
       "Time:                        18:13:06   Log-Likelihood:                -19046.\n",
       "No. Observations:                1640   AIC:                         3.833e+04\n",
       "Df Residuals:                    1521   BIC:                         3.897e+04\n",
       "Df Model:                         118                                         \n",
       "Covariance Type:            nonrobust                                         \n",
       "==============================================================================\n",
       "                 coef    std err          t      P>|t|      [0.025      0.975]\n",
       "------------------------------------------------------------------------------\n",
       "const      -9583.0998   1.38e+05     -0.069      0.945    -2.8e+05    2.61e+05\n",
       "x1         -6643.5897   1.48e+04     -0.448      0.654   -3.57e+04    2.24e+04\n",
       "x2          8305.7943   1.13e+04      0.738      0.461   -1.38e+04    3.04e+04\n",
       "x3         -5347.0861   9322.830     -0.574      0.566   -2.36e+04    1.29e+04\n",
       "x4          1.471e+04    1.1e+04      1.334      0.182   -6915.018    3.63e+04\n",
       "x5          3567.5347   8022.367      0.445      0.657   -1.22e+04    1.93e+04\n",
       "x6           1.98e+04   8972.323      2.207      0.027    2200.354    3.74e+04\n",
       "x7         -1.242e+04   8600.842     -1.444      0.149   -2.93e+04    4447.756\n",
       "x8          2257.4763   8166.563      0.276      0.782   -1.38e+04    1.83e+04\n",
       "x9          5141.2785   2.15e+04      0.239      0.811    -3.7e+04    4.73e+04\n",
       "x10         1.303e+05   2.14e+04      6.081      0.000    8.83e+04    1.72e+05\n",
       "x11        -8366.0864   9549.198     -0.876      0.381   -2.71e+04    1.04e+04\n",
       "x12         -904.4038    2.9e+04     -0.031      0.975   -5.78e+04     5.6e+04\n",
       "x13        -8063.9582   1.12e+04     -0.723      0.470   -2.99e+04    1.38e+04\n",
       "x14          108.5112   8613.245      0.013      0.990   -1.68e+04     1.7e+04\n",
       "x15        -4100.7227   8383.047     -0.489      0.625   -2.05e+04    1.23e+04\n",
       "x16         1209.7769   1.12e+04      0.108      0.914   -2.07e+04    2.31e+04\n",
       "x17          168.8641   8765.254      0.019      0.985    -1.7e+04    1.74e+04\n",
       "x18         5.278e+04   9304.710      5.673      0.000    3.45e+04     7.1e+04\n",
       "x19         3.965e+04   8202.527      4.834      0.000    2.36e+04    5.57e+04\n",
       "x20        -1.147e+04   9078.340     -1.263      0.207   -2.93e+04    6339.211\n",
       "x21        -2149.3912   1.08e+04     -0.199      0.842   -2.33e+04     1.9e+04\n",
       "x22         -117.2328   8821.544     -0.013      0.989   -1.74e+04    1.72e+04\n",
       "x23         3351.3386   8492.991      0.395      0.693   -1.33e+04       2e+04\n",
       "x24         1.832e+04   8119.749      2.256      0.024    2393.951    3.42e+04\n",
       "x25         5.851e+04   9123.494      6.414      0.000    4.06e+04    7.64e+04\n",
       "x26         9616.4080   8909.275      1.079      0.281   -7859.357    2.71e+04\n",
       "x27         1.302e+04   1.12e+04      1.159      0.247   -9014.493    3.51e+04\n",
       "x28         1884.5538   5150.727      0.366      0.715   -8218.725     1.2e+04\n",
       "x29         1.189e+04   4136.334      2.875      0.004    3778.945       2e+04\n",
       "x30         2.631e+04   9655.673      2.725      0.007    7368.937    4.52e+04\n",
       "x31         2.446e+04   7110.150      3.440      0.001    1.05e+04    3.84e+04\n",
       "x32        -5801.0192   8241.878     -0.704      0.482    -2.2e+04    1.04e+04\n",
       "x33         1.281e+04   6811.444      1.880      0.060    -552.634    2.62e+04\n",
       "x34        -8824.2487   2.06e+04     -0.427      0.669   -4.93e+04    3.17e+04\n",
       "x35         4829.1199   1.49e+04      0.324      0.746   -2.44e+04    3.41e+04\n",
       "x36        -3.279e+04   9872.588     -3.321      0.001   -5.22e+04   -1.34e+04\n",
       "x37        -2.362e+04   4815.594     -4.905      0.000   -3.31e+04   -1.42e+04\n",
       "x38        -2.701e+04   5525.257     -4.888      0.000   -3.78e+04   -1.62e+04\n",
       "x39          1.83e+04   3145.499      5.817      0.000    1.21e+04    2.45e+04\n",
       "x40        -7809.9141   3245.658     -2.406      0.016   -1.42e+04   -1443.475\n",
       "x41         7911.9444   2.83e+04      0.279      0.780   -4.76e+04    6.34e+04\n",
       "x42            -1e+04   2301.009     -4.347      0.000   -1.45e+04   -5488.441\n",
       "x43        -3.623e+04   6644.823     -5.453      0.000   -4.93e+04   -2.32e+04\n",
       "x44        -2.619e+04   3773.867     -6.940      0.000   -3.36e+04   -1.88e+04\n",
       "x45        -3.201e+04   4289.669     -7.463      0.000   -4.04e+04   -2.36e+04\n",
       "x46        -1.658e+05   2.94e+04     -5.643      0.000   -2.23e+05   -1.08e+05\n",
       "x47        -1.193e+05   3.03e+04     -3.935      0.000   -1.79e+05   -5.98e+04\n",
       "x48         8967.8945   1.46e+04      0.615      0.539   -1.97e+04    3.76e+04\n",
       "x49        -2.061e+05   3.91e+04     -5.277      0.000   -2.83e+05   -1.29e+05\n",
       "x50        -1.643e+05   2.91e+04     -5.644      0.000   -2.21e+05   -1.07e+05\n",
       "x51         3.419e+04   2.96e+04      1.154      0.249   -2.39e+04    9.23e+04\n",
       "x52        -1.137e+04   2.26e+04     -0.504      0.615   -5.56e+04    3.29e+04\n",
       "x53         2.416e+04   7121.936      3.392      0.001    1.02e+04    3.81e+04\n",
       "x54         8286.5010   3.08e+04      0.269      0.788   -5.22e+04    6.88e+04\n",
       "x55         1.264e+04   7239.612      1.746      0.081   -1561.024    2.68e+04\n",
       "x56          995.7599   6216.725      0.160      0.873   -1.12e+04    1.32e+04\n",
       "x57        -1.106e+04   2.93e+04     -0.377      0.706   -6.86e+04    4.64e+04\n",
       "x58         8199.2298   5991.389      1.369      0.171   -3553.028       2e+04\n",
       "x59         5133.7607   6580.077      0.780      0.435   -7773.224     1.8e+04\n",
       "x60         5862.7529   2.14e+04      0.274      0.784   -3.61e+04    4.78e+04\n",
       "x61        -1.463e+04   8137.446     -1.797      0.072   -3.06e+04    1336.676\n",
       "x62         9604.3186   6146.029      1.563      0.118   -2451.271    2.17e+04\n",
       "x63         2470.1905   5995.370      0.412      0.680   -9289.878    1.42e+04\n",
       "x64         9073.2381   7844.028      1.157      0.248   -6313.018    2.45e+04\n",
       "x65        -2426.3819   1.43e+04     -0.169      0.865   -3.05e+04    2.57e+04\n",
       "x66           80.9454   1.34e+04      0.006      0.995   -2.62e+04    2.64e+04\n",
       "x67        -1.691e+04   2.83e+04     -0.598      0.550   -7.24e+04    3.86e+04\n",
       "x68        -3871.1461   1.33e+04     -0.292      0.771   -2.99e+04    2.22e+04\n",
       "x69        -2.547e+04   6412.191     -3.971      0.000    -3.8e+04   -1.29e+04\n",
       "x70        -2.436e+04   3512.089     -6.935      0.000   -3.12e+04   -1.75e+04\n",
       "x71        -2.127e+04   1.13e+04     -1.882      0.060   -4.34e+04     898.640\n",
       "x72        -1.279e+04   2.95e+04     -0.434      0.664   -7.06e+04     4.5e+04\n",
       "x73        -2.526e+04   4341.651     -5.818      0.000   -3.38e+04   -1.67e+04\n",
       "x74        -2812.1108   1.78e+04     -0.158      0.875   -3.78e+04    3.22e+04\n",
       "x75         3529.2409   1.76e+04      0.201      0.841   -3.09e+04     3.8e+04\n",
       "x76        -2.127e+04   1.13e+04     -1.882      0.060   -4.34e+04     898.640\n",
       "x77         1.147e+04   2.25e+04      0.509      0.611   -3.28e+04    5.57e+04\n",
       "x78         -197.3735   1.72e+04     -0.011      0.991    -3.4e+04    3.36e+04\n",
       "x79        -3207.1687   2959.789     -1.084      0.279   -9012.869    2598.532\n",
       "x80         -900.0738   2701.529     -0.333      0.739   -6199.189    4399.042\n",
       "x81        -8490.3626   3867.522     -2.195      0.028   -1.61e+04    -904.122\n",
       "x82        -2.127e+04   1.13e+04     -1.882      0.060   -4.34e+04     898.640\n",
       "x83        -3542.2543   3146.615     -1.126      0.260   -9714.419    2629.910\n",
       "x84        -1.457e+04   2576.176     -5.655      0.000   -1.96e+04   -9515.352\n",
       "x85         1.352e+04    1.7e+04      0.797      0.426   -1.98e+04    4.68e+04\n",
       "x86         2.334e+04   1.22e+04      1.916      0.056    -552.868    4.72e+04\n",
       "x87         1.848e+04   1.24e+04      1.494      0.135   -5776.988    4.27e+04\n",
       "x88         2.697e+04   1.27e+04      2.123      0.034    2054.106    5.19e+04\n",
       "x89         2152.4554   2.76e+04      0.078      0.938    -5.2e+04    5.63e+04\n",
       "x90        -4.459e+04   2.31e+04     -1.927      0.054      -9e+04     804.734\n",
       "x91         2.675e+04   1.12e+04      2.393      0.017    4820.045    4.87e+04\n",
       "x92        -9092.5429   7533.471     -1.207      0.228   -2.39e+04    5684.548\n",
       "x93        -6817.3939   5981.723     -1.140      0.255   -1.86e+04    4915.904\n",
       "x94        -7231.0962   6833.532     -1.058      0.290   -2.06e+04    6173.047\n",
       "x95        -1.104e+04   8343.697     -1.323      0.186   -2.74e+04    5324.416\n",
       "x96        -5373.6823   6193.601     -0.868      0.386   -1.75e+04    6775.221\n",
       "x97        -3098.6748   5778.483     -0.536      0.592   -1.44e+04    8235.963\n",
       "x98         2654.3332   3471.470      0.765      0.445   -4155.042    9463.709\n",
       "x99         1.297e+04   9900.686      1.310      0.190   -6447.012    3.24e+04\n",
       "x100        8.796e+04   2.87e+04      3.067      0.002    3.17e+04    1.44e+05\n",
       "x101        1.879e+04   8283.062      2.269      0.023    2545.671     3.5e+04\n",
       "x102        -776.9931   1.24e+04     -0.063      0.950   -2.51e+04    2.35e+04\n",
       "x103        3337.7005   1.34e+04      0.248      0.804    -2.3e+04    2.97e+04\n",
       "x104         1.61e+04   5196.708      3.098      0.002    5906.226    2.63e+04\n",
       "x105        1.814e+04   1.48e+04      1.222      0.222    -1.1e+04    4.72e+04\n",
       "x106        8215.2080   4220.081      1.947      0.052     -62.586    1.65e+04\n",
       "x107        1.669e+05   4.17e+04      4.006      0.000    8.51e+04    2.49e+05\n",
       "x108        1.648e+05   4.25e+04      3.878      0.000    8.14e+04    2.48e+05\n",
       "x109        8967.8945   1.46e+04      0.615      0.539   -1.97e+04    3.76e+04\n",
       "x110        1.731e+05   4.35e+04      3.979      0.000    8.78e+04    2.58e+05\n",
       "x111        1.694e+05   4.12e+04      4.110      0.000    8.85e+04     2.5e+05\n",
       "x112        8240.5338   1042.040      7.908      0.000    6196.546    1.03e+04\n",
       "x113          42.7418      2.595     16.472      0.000      37.652      47.831\n",
       "x114           9.1563      8.170      1.121      0.263      -6.869      25.181\n",
       "x115        9997.4018   2410.589      4.147      0.000    5268.972    1.47e+04\n",
       "x116           4.3983      4.013      1.096      0.273      -3.474      12.271\n",
       "x117          -4.8573      4.529     -1.073      0.284     -13.740       4.026\n",
       "x118          44.7277     67.636      0.661      0.509     -87.943     177.398\n",
       "x119        4943.2008   2018.430      2.449      0.014     984.000    8902.401\n",
       "x120        7924.9634   2919.911      2.714      0.007    2197.486    1.37e+04\n",
       "x121        -251.0342     22.735    -11.042      0.000    -295.629    -206.440\n",
       "==============================================================================\n",
       "Omnibus:                      852.496   Durbin-Watson:                   1.998\n",
       "Prob(Omnibus):                  0.000   Jarque-Bera (JB):            71537.404\n",
       "Skew:                          -1.534   Prob(JB):                         0.00\n",
       "Kurtosis:                      35.210   Cond. No.                     1.02e+16\n",
       "==============================================================================\n",
       "\n",
       "Notes:\n",
       "[1] Standard Errors assume that the covariance matrix of the errors is correctly specified.\n",
       "[2] The smallest eigenvalue is 1.45e-22. This might indicate that there are\n",
       "strong multicollinearity problems or that the design matrix is singular.\n",
       "\"\"\""
      ]
     },
     "execution_count": 131,
     "metadata": {},
     "output_type": "execute_result"
    }
   ],
   "source": [
    "ols = sm.OLS(y_train, sm.add_constant(X1_train_transformed)).fit()\n",
    "summary_table = ols.summary()\n",
    "summary_table"
   ]
  },
  {
   "cell_type": "code",
   "execution_count": 132,
   "id": "9c11476b-87d3-4f74-953b-649815f1da4c",
   "metadata": {
    "tags": []
   },
   "outputs": [
    {
     "data": {
      "text/plain": [
       "array(['oh__Neighborhood_Blueste', 'oh__Neighborhood_BrDale',\n",
       "       'oh__Neighborhood_BrkSide', 'oh__Neighborhood_ClearCr',\n",
       "       'oh__Neighborhood_CollgCr', 'oh__Neighborhood_Crawfor',\n",
       "       'oh__Neighborhood_Edwards', 'oh__Neighborhood_Gilbert',\n",
       "       'oh__Neighborhood_Greens', 'oh__Neighborhood_GrnHill',\n",
       "       'oh__Neighborhood_IDOTRR', 'oh__Neighborhood_Landmrk',\n",
       "       'oh__Neighborhood_MeadowV', 'oh__Neighborhood_Mitchel',\n",
       "       'oh__Neighborhood_NAmes', 'oh__Neighborhood_NPkVill',\n",
       "       'oh__Neighborhood_NWAmes', 'oh__Neighborhood_NoRidge',\n",
       "       'oh__Neighborhood_NridgHt', 'oh__Neighborhood_OldTown',\n",
       "       'oh__Neighborhood_SWISU', 'oh__Neighborhood_Sawyer',\n",
       "       'oh__Neighborhood_SawyerW', 'oh__Neighborhood_Somerst',\n",
       "       'oh__Neighborhood_StoneBr', 'oh__Neighborhood_Timber',\n",
       "       'oh__Neighborhood_Veenker', 'oh__Condition 1_Feedr',\n",
       "       'oh__Condition 1_Norm', 'oh__Condition 1_PosA',\n",
       "       'oh__Condition 1_PosN', 'oh__Condition 1_RRAe',\n",
       "       'oh__Condition 1_RRAn', 'oh__Condition 1_RRNe',\n",
       "       'oh__Condition 1_RRNn', 'oh__Exter Qual_Fa', 'oh__Exter Qual_Gd',\n",
       "       'oh__Exter Qual_TA', 'oh__Bsmt Exposure_Gd',\n",
       "       'oh__Bsmt Exposure_Mn', 'oh__Bsmt Exposure_NA',\n",
       "       'oh__Bsmt Exposure_No', 'oh__Kitchen Qual_Fa',\n",
       "       'oh__Kitchen Qual_Gd', 'oh__Kitchen Qual_TA', 'oh__Garage Qual_Fa',\n",
       "       'oh__Garage Qual_Gd', 'oh__Garage Qual_NA', 'oh__Garage Qual_Po',\n",
       "       'oh__Garage Qual_TA', 'oh__Exterior 1st_AsphShn',\n",
       "       'oh__Exterior 1st_BrkComm', 'oh__Exterior 1st_BrkFace',\n",
       "       'oh__Exterior 1st_CBlock', 'oh__Exterior 1st_CemntBd',\n",
       "       'oh__Exterior 1st_HdBoard', 'oh__Exterior 1st_ImStucc',\n",
       "       'oh__Exterior 1st_MetalSd', 'oh__Exterior 1st_Plywood',\n",
       "       'oh__Exterior 1st_Stone', 'oh__Exterior 1st_Stucco',\n",
       "       'oh__Exterior 1st_VinylSd', 'oh__Exterior 1st_Wd Sdng',\n",
       "       'oh__Exterior 1st_WdShing', 'oh__Exter Cond_Fa',\n",
       "       'oh__Exter Cond_Gd', 'oh__Exter Cond_Po', 'oh__Exter Cond_TA',\n",
       "       'oh__Bsmt Qual_Fa', 'oh__Bsmt Qual_Gd', 'oh__Bsmt Qual_NA',\n",
       "       'oh__Bsmt Qual_Po', 'oh__Bsmt Qual_TA', 'oh__Bsmt Cond_Fa',\n",
       "       'oh__Bsmt Cond_Gd', 'oh__Bsmt Cond_NA', 'oh__Bsmt Cond_Po',\n",
       "       'oh__Bsmt Cond_TA', 'oh__BsmtFin Type 1_BLQ',\n",
       "       'oh__BsmtFin Type 1_GLQ', 'oh__BsmtFin Type 1_LwQ',\n",
       "       'oh__BsmtFin Type 1_NA', 'oh__BsmtFin Type 1_Rec',\n",
       "       'oh__BsmtFin Type 1_Unf', 'oh__Functional_Maj2',\n",
       "       'oh__Functional_Min1', 'oh__Functional_Min2', 'oh__Functional_Mod',\n",
       "       'oh__Functional_Sal', 'oh__Functional_Sev', 'oh__Functional_Typ',\n",
       "       'oh__Fireplace Qu_Fa', 'oh__Fireplace Qu_Gd',\n",
       "       'oh__Fireplace Qu_NA', 'oh__Fireplace Qu_Po',\n",
       "       'oh__Fireplace Qu_TA', 'oh__Paved Drive_P', 'oh__Paved Drive_Y',\n",
       "       'oh__Sale Type_CWD', 'oh__Sale Type_Con', 'oh__Sale Type_ConLD',\n",
       "       'oh__Sale Type_ConLI', 'oh__Sale Type_ConLw', 'oh__Sale Type_New',\n",
       "       'oh__Sale Type_Oth', 'oh__Sale Type_WD ', 'oh__Garage Cond_Fa',\n",
       "       'oh__Garage Cond_Gd', 'oh__Garage Cond_NA', 'oh__Garage Cond_Po',\n",
       "       'oh__Garage Cond_TA', 'remainder__Overall Qual',\n",
       "       'remainder__Gr Liv Area', 'remainder__Garage Area',\n",
       "       'remainder__Garage Cars', 'remainder__Total Bsmt SF',\n",
       "       'remainder__1st Flr SF', 'remainder__Year Built',\n",
       "       'remainder__Full Bath', 'remainder__Fireplaces',\n",
       "       'remainder__MS SubClass'], dtype=object)"
      ]
     },
     "execution_count": 132,
     "metadata": {},
     "output_type": "execute_result"
    }
   ],
   "source": [
    "ct.get_feature_names_out()"
   ]
  },
  {
   "cell_type": "code",
   "execution_count": null,
   "id": "b273f26a-729f-4efc-8d0a-58ed9ee4264c",
   "metadata": {
    "tags": []
   },
   "outputs": [],
   "source": []
  },
  {
   "cell_type": "code",
   "execution_count": 133,
   "id": "8847b761-60fd-4e69-9e9d-9e0969fe9fc9",
   "metadata": {
    "tags": []
   },
   "outputs": [],
   "source": [
    "test = pd.read_csv('../datasets/test.csv')"
   ]
  },
  {
   "cell_type": "code",
   "execution_count": 134,
   "id": "e6892cdb-e6da-48b4-b823-07495bb128ff",
   "metadata": {
    "tags": []
   },
   "outputs": [
    {
     "name": "stdout",
     "output_type": "stream",
     "text": [
      "<class 'pandas.core.frame.DataFrame'>\n",
      "RangeIndex: 878 entries, 0 to 877\n",
      "Data columns (total 80 columns):\n",
      " #   Column           Non-Null Count  Dtype  \n",
      "---  ------           --------------  -----  \n",
      " 0   Id               878 non-null    int64  \n",
      " 1   PID              878 non-null    int64  \n",
      " 2   MS SubClass      878 non-null    int64  \n",
      " 3   MS Zoning        878 non-null    object \n",
      " 4   Lot Frontage     718 non-null    float64\n",
      " 5   Lot Area         878 non-null    int64  \n",
      " 6   Street           878 non-null    object \n",
      " 7   Alley            58 non-null     object \n",
      " 8   Lot Shape        878 non-null    object \n",
      " 9   Land Contour     878 non-null    object \n",
      " 10  Utilities        878 non-null    object \n",
      " 11  Lot Config       878 non-null    object \n",
      " 12  Land Slope       878 non-null    object \n",
      " 13  Neighborhood     878 non-null    object \n",
      " 14  Condition 1      878 non-null    object \n",
      " 15  Condition 2      878 non-null    object \n",
      " 16  Bldg Type        878 non-null    object \n",
      " 17  House Style      878 non-null    object \n",
      " 18  Overall Qual     878 non-null    int64  \n",
      " 19  Overall Cond     878 non-null    int64  \n",
      " 20  Year Built       878 non-null    int64  \n",
      " 21  Year Remod/Add   878 non-null    int64  \n",
      " 22  Roof Style       878 non-null    object \n",
      " 23  Roof Matl        878 non-null    object \n",
      " 24  Exterior 1st     878 non-null    object \n",
      " 25  Exterior 2nd     878 non-null    object \n",
      " 26  Mas Vnr Type     877 non-null    object \n",
      " 27  Mas Vnr Area     877 non-null    float64\n",
      " 28  Exter Qual       878 non-null    object \n",
      " 29  Exter Cond       878 non-null    object \n",
      " 30  Foundation       878 non-null    object \n",
      " 31  Bsmt Qual        853 non-null    object \n",
      " 32  Bsmt Cond        853 non-null    object \n",
      " 33  Bsmt Exposure    853 non-null    object \n",
      " 34  BsmtFin Type 1   853 non-null    object \n",
      " 35  BsmtFin SF 1     878 non-null    int64  \n",
      " 36  BsmtFin Type 2   853 non-null    object \n",
      " 37  BsmtFin SF 2     878 non-null    int64  \n",
      " 38  Bsmt Unf SF      878 non-null    int64  \n",
      " 39  Total Bsmt SF    878 non-null    int64  \n",
      " 40  Heating          878 non-null    object \n",
      " 41  Heating QC       878 non-null    object \n",
      " 42  Central Air      878 non-null    object \n",
      " 43  Electrical       877 non-null    object \n",
      " 44  1st Flr SF       878 non-null    int64  \n",
      " 45  2nd Flr SF       878 non-null    int64  \n",
      " 46  Low Qual Fin SF  878 non-null    int64  \n",
      " 47  Gr Liv Area      878 non-null    int64  \n",
      " 48  Bsmt Full Bath   878 non-null    int64  \n",
      " 49  Bsmt Half Bath   878 non-null    int64  \n",
      " 50  Full Bath        878 non-null    int64  \n",
      " 51  Half Bath        878 non-null    int64  \n",
      " 52  Bedroom AbvGr    878 non-null    int64  \n",
      " 53  Kitchen AbvGr    878 non-null    int64  \n",
      " 54  Kitchen Qual     878 non-null    object \n",
      " 55  TotRms AbvGrd    878 non-null    int64  \n",
      " 56  Functional       878 non-null    object \n",
      " 57  Fireplaces       878 non-null    int64  \n",
      " 58  Fireplace Qu     456 non-null    object \n",
      " 59  Garage Type      834 non-null    object \n",
      " 60  Garage Yr Blt    833 non-null    float64\n",
      " 61  Garage Finish    833 non-null    object \n",
      " 62  Garage Cars      878 non-null    int64  \n",
      " 63  Garage Area      878 non-null    int64  \n",
      " 64  Garage Qual      833 non-null    object \n",
      " 65  Garage Cond      833 non-null    object \n",
      " 66  Paved Drive      878 non-null    object \n",
      " 67  Wood Deck SF     878 non-null    int64  \n",
      " 68  Open Porch SF    878 non-null    int64  \n",
      " 69  Enclosed Porch   878 non-null    int64  \n",
      " 70  3Ssn Porch       878 non-null    int64  \n",
      " 71  Screen Porch     878 non-null    int64  \n",
      " 72  Pool Area        878 non-null    int64  \n",
      " 73  Pool QC          4 non-null      object \n",
      " 74  Fence            172 non-null    object \n",
      " 75  Misc Feature     41 non-null     object \n",
      " 76  Misc Val         878 non-null    int64  \n",
      " 77  Mo Sold          878 non-null    int64  \n",
      " 78  Yr Sold          878 non-null    int64  \n",
      " 79  Sale Type        878 non-null    object \n",
      "dtypes: float64(3), int64(35), object(42)\n",
      "memory usage: 548.9+ KB\n"
     ]
    }
   ],
   "source": [
    "test.info()"
   ]
  },
  {
   "cell_type": "code",
   "execution_count": 135,
   "id": "2a84566c-3d23-45f3-8f5a-195659191536",
   "metadata": {
    "tags": []
   },
   "outputs": [],
   "source": [
    "#For the columns I am using, the solution for missing values was to fill na with \n",
    "test.fillna('NA', inplace=True)"
   ]
  },
  {
   "cell_type": "code",
   "execution_count": 136,
   "id": "8b6bef0e-c030-4ca4-9df7-759311de214d",
   "metadata": {
    "tags": []
   },
   "outputs": [],
   "source": [
    "test_columns = ['Overall Qual', \n",
    "                'Gr Liv Area', \n",
    "                'Garage Area', \n",
    "                'Garage Cars', \n",
    "                'Total Bsmt SF', \n",
    "                '1st Flr SF', \n",
    "                'Year Built', \n",
    "                'Full Bath', \n",
    "                'Fireplaces', \n",
    "                'MS SubClass', \n",
    "                'Neighborhood', \n",
    "                'Condition 1', \n",
    "                'Exter Qual', \n",
    "                'Bsmt Exposure', \n",
    "                'Kitchen Qual', \n",
    "                'Garage Qual',\n",
    "                'Exterior 1st',\n",
    "                'Exter Cond',\n",
    "                'Bsmt Qual',\n",
    "                'Bsmt Cond',\n",
    "                'BsmtFin Type 1',\n",
    "                'Functional',\n",
    "                'Fireplace Qu',\n",
    "                'Paved Drive',\n",
    "                'Sale Type',\n",
    "                'Garage Cond']\n",
    "X_test = test[test_columns]"
   ]
  },
  {
   "cell_type": "code",
   "execution_count": 137,
   "id": "f1008e13-def3-4fdc-b20f-aac67ada348f",
   "metadata": {
    "tags": []
   },
   "outputs": [
    {
     "name": "stdout",
     "output_type": "stream",
     "text": [
      "<class 'pandas.core.frame.DataFrame'>\n",
      "RangeIndex: 878 entries, 0 to 877\n",
      "Data columns (total 26 columns):\n",
      " #   Column          Non-Null Count  Dtype \n",
      "---  ------          --------------  ----- \n",
      " 0   Overall Qual    878 non-null    int64 \n",
      " 1   Gr Liv Area     878 non-null    int64 \n",
      " 2   Garage Area     878 non-null    int64 \n",
      " 3   Garage Cars     878 non-null    int64 \n",
      " 4   Total Bsmt SF   878 non-null    int64 \n",
      " 5   1st Flr SF      878 non-null    int64 \n",
      " 6   Year Built      878 non-null    int64 \n",
      " 7   Full Bath       878 non-null    int64 \n",
      " 8   Fireplaces      878 non-null    int64 \n",
      " 9   MS SubClass     878 non-null    int64 \n",
      " 10  Neighborhood    878 non-null    object\n",
      " 11  Condition 1     878 non-null    object\n",
      " 12  Exter Qual      878 non-null    object\n",
      " 13  Bsmt Exposure   878 non-null    object\n",
      " 14  Kitchen Qual    878 non-null    object\n",
      " 15  Garage Qual     878 non-null    object\n",
      " 16  Exterior 1st    878 non-null    object\n",
      " 17  Exter Cond      878 non-null    object\n",
      " 18  Bsmt Qual       878 non-null    object\n",
      " 19  Bsmt Cond       878 non-null    object\n",
      " 20  BsmtFin Type 1  878 non-null    object\n",
      " 21  Functional      878 non-null    object\n",
      " 22  Fireplace Qu    878 non-null    object\n",
      " 23  Paved Drive     878 non-null    object\n",
      " 24  Sale Type       878 non-null    object\n",
      " 25  Garage Cond     878 non-null    object\n",
      "dtypes: int64(10), object(16)\n",
      "memory usage: 178.5+ KB\n"
     ]
    }
   ],
   "source": [
    "X_test.info()"
   ]
  },
  {
   "cell_type": "code",
   "execution_count": null,
   "id": "9a52d678-aeef-471f-b9e7-5b5a1f9119b4",
   "metadata": {
    "tags": []
   },
   "outputs": [],
   "source": []
  },
  {
   "cell_type": "code",
   "execution_count": 138,
   "id": "876a979f-c2ac-4bd0-a748-6c82d08b0fcc",
   "metadata": {
    "tags": []
   },
   "outputs": [],
   "source": [
    "#For Garage Qual & Bsmt Exposure, I can input NA for missing values as I did for training data"
   ]
  },
  {
   "cell_type": "code",
   "execution_count": 139,
   "id": "03daac85-eac9-496c-b214-f762df82b7cd",
   "metadata": {
    "tags": []
   },
   "outputs": [],
   "source": [
    "\n",
    "ct_full = ColumnTransformer([('oh', OneHotEncoder(sparse_output=False, handle_unknown='ignore', drop='first'), X1_str)\n",
    "], remainder='passthrough')  \n",
    "\n",
    "imputer_full = SimpleImputer(strategy='median')"
   ]
  },
  {
   "cell_type": "code",
   "execution_count": 140,
   "id": "783cf4c4-3250-43b7-90d5-45ce51dddbb9",
   "metadata": {
    "tags": []
   },
   "outputs": [],
   "source": [
    "X_transformed= ct.fit_transform(X1)\n",
    "X_transformed= imputer_full.fit_transform(X_transformed)"
   ]
  },
  {
   "cell_type": "code",
   "execution_count": 141,
   "id": "3fe13c4e-cec0-4c76-8607-c7afb1b66b82",
   "metadata": {
    "tags": []
   },
   "outputs": [
    {
     "data": {
      "text/html": [
       "<style>#sk-container-id-8 {color: black;}#sk-container-id-8 pre{padding: 0;}#sk-container-id-8 div.sk-toggleable {background-color: white;}#sk-container-id-8 label.sk-toggleable__label {cursor: pointer;display: block;width: 100%;margin-bottom: 0;padding: 0.3em;box-sizing: border-box;text-align: center;}#sk-container-id-8 label.sk-toggleable__label-arrow:before {content: \"▸\";float: left;margin-right: 0.25em;color: #696969;}#sk-container-id-8 label.sk-toggleable__label-arrow:hover:before {color: black;}#sk-container-id-8 div.sk-estimator:hover label.sk-toggleable__label-arrow:before {color: black;}#sk-container-id-8 div.sk-toggleable__content {max-height: 0;max-width: 0;overflow: hidden;text-align: left;background-color: #f0f8ff;}#sk-container-id-8 div.sk-toggleable__content pre {margin: 0.2em;color: black;border-radius: 0.25em;background-color: #f0f8ff;}#sk-container-id-8 input.sk-toggleable__control:checked~div.sk-toggleable__content {max-height: 200px;max-width: 100%;overflow: auto;}#sk-container-id-8 input.sk-toggleable__control:checked~label.sk-toggleable__label-arrow:before {content: \"▾\";}#sk-container-id-8 div.sk-estimator input.sk-toggleable__control:checked~label.sk-toggleable__label {background-color: #d4ebff;}#sk-container-id-8 div.sk-label input.sk-toggleable__control:checked~label.sk-toggleable__label {background-color: #d4ebff;}#sk-container-id-8 input.sk-hidden--visually {border: 0;clip: rect(1px 1px 1px 1px);clip: rect(1px, 1px, 1px, 1px);height: 1px;margin: -1px;overflow: hidden;padding: 0;position: absolute;width: 1px;}#sk-container-id-8 div.sk-estimator {font-family: monospace;background-color: #f0f8ff;border: 1px dotted black;border-radius: 0.25em;box-sizing: border-box;margin-bottom: 0.5em;}#sk-container-id-8 div.sk-estimator:hover {background-color: #d4ebff;}#sk-container-id-8 div.sk-parallel-item::after {content: \"\";width: 100%;border-bottom: 1px solid gray;flex-grow: 1;}#sk-container-id-8 div.sk-label:hover label.sk-toggleable__label {background-color: #d4ebff;}#sk-container-id-8 div.sk-serial::before {content: \"\";position: absolute;border-left: 1px solid gray;box-sizing: border-box;top: 0;bottom: 0;left: 50%;z-index: 0;}#sk-container-id-8 div.sk-serial {display: flex;flex-direction: column;align-items: center;background-color: white;padding-right: 0.2em;padding-left: 0.2em;position: relative;}#sk-container-id-8 div.sk-item {position: relative;z-index: 1;}#sk-container-id-8 div.sk-parallel {display: flex;align-items: stretch;justify-content: center;background-color: white;position: relative;}#sk-container-id-8 div.sk-item::before, #sk-container-id-8 div.sk-parallel-item::before {content: \"\";position: absolute;border-left: 1px solid gray;box-sizing: border-box;top: 0;bottom: 0;left: 50%;z-index: -1;}#sk-container-id-8 div.sk-parallel-item {display: flex;flex-direction: column;z-index: 1;position: relative;background-color: white;}#sk-container-id-8 div.sk-parallel-item:first-child::after {align-self: flex-end;width: 50%;}#sk-container-id-8 div.sk-parallel-item:last-child::after {align-self: flex-start;width: 50%;}#sk-container-id-8 div.sk-parallel-item:only-child::after {width: 0;}#sk-container-id-8 div.sk-dashed-wrapped {border: 1px dashed gray;margin: 0 0.4em 0.5em 0.4em;box-sizing: border-box;padding-bottom: 0.4em;background-color: white;}#sk-container-id-8 div.sk-label label {font-family: monospace;font-weight: bold;display: inline-block;line-height: 1.2em;}#sk-container-id-8 div.sk-label-container {text-align: center;}#sk-container-id-8 div.sk-container {/* jupyter's `normalize.less` sets `[hidden] { display: none; }` but bootstrap.min.css set `[hidden] { display: none !important; }` so we also need the `!important` here to be able to override the default hidden behavior on the sphinx rendered scikit-learn.org. See: https://github.com/scikit-learn/scikit-learn/issues/21755 */display: inline-block !important;position: relative;}#sk-container-id-8 div.sk-text-repr-fallback {display: none;}</style><div id=\"sk-container-id-8\" class=\"sk-top-container\"><div class=\"sk-text-repr-fallback\"><pre>LinearRegression()</pre><b>In a Jupyter environment, please rerun this cell to show the HTML representation or trust the notebook. <br />On GitHub, the HTML representation is unable to render, please try loading this page with nbviewer.org.</b></div><div class=\"sk-container\" hidden><div class=\"sk-item\"><div class=\"sk-estimator sk-toggleable\"><input class=\"sk-toggleable__control sk-hidden--visually\" id=\"sk-estimator-id-8\" type=\"checkbox\" checked><label for=\"sk-estimator-id-8\" class=\"sk-toggleable__label sk-toggleable__label-arrow\">LinearRegression</label><div class=\"sk-toggleable__content\"><pre>LinearRegression()</pre></div></div></div></div></div>"
      ],
      "text/plain": [
       "LinearRegression()"
      ]
     },
     "execution_count": 141,
     "metadata": {},
     "output_type": "execute_result"
    }
   ],
   "source": [
    "lrfull= LinearRegression()\n",
    "lrfull.fit(X_transformed, y)"
   ]
  },
  {
   "cell_type": "code",
   "execution_count": 142,
   "id": "cd34b95f-2a58-4163-8fb0-362110b638e9",
   "metadata": {
    "tags": []
   },
   "outputs": [
    {
     "name": "stderr",
     "output_type": "stream",
     "text": [
      "C:\\Users\\kaitl\\anaconda3\\Lib\\site-packages\\sklearn\\preprocessing\\_encoders.py:227: UserWarning: Found unknown categories in columns [4, 6, 14] during transform. These unknown categories will be encoded as all zeros\n",
      "  warnings.warn(\n"
     ]
    }
   ],
   "source": [
    "X_test_transformed = ct.transform(X_test)"
   ]
  },
  {
   "cell_type": "code",
   "execution_count": 143,
   "id": "2fc21cb6-95b1-45f7-8ed8-05aae547b90c",
   "metadata": {
    "tags": []
   },
   "outputs": [],
   "source": [
    "saleprice = lrfull.predict(X_test_transformed)"
   ]
  },
  {
   "cell_type": "code",
   "execution_count": 144,
   "id": "d818aa33-3488-40a7-b831-bd867c31f693",
   "metadata": {
    "tags": []
   },
   "outputs": [
    {
     "data": {
      "text/plain": [
       "(878,)"
      ]
     },
     "execution_count": 144,
     "metadata": {},
     "output_type": "execute_result"
    }
   ],
   "source": [
    "saleprice.shape"
   ]
  },
  {
   "cell_type": "code",
   "execution_count": 145,
   "id": "4b5fa1f1-d1bc-4423-a0a3-b9829bc9837c",
   "metadata": {
    "tags": []
   },
   "outputs": [],
   "source": [
    "data = {'Id':test['Id'], 'SalePrice': saleprice}\n",
    "test_sub = pd.DataFrame(data)"
   ]
  },
  {
   "cell_type": "code",
   "execution_count": 146,
   "id": "fa951ed0-e4fb-4037-9545-8b9e46ed7644",
   "metadata": {
    "tags": []
   },
   "outputs": [
    {
     "data": {
      "text/plain": [
       "(878, 2)"
      ]
     },
     "execution_count": 146,
     "metadata": {},
     "output_type": "execute_result"
    }
   ],
   "source": [
    "test_sub.shape"
   ]
  },
  {
   "cell_type": "code",
   "execution_count": 147,
   "id": "9c5ca735-2a77-4d27-8fe1-acda770fee4e",
   "metadata": {
    "tags": []
   },
   "outputs": [],
   "source": [
    "test_sub.to_csv('../datasets/submission4.csv', index=False)"
   ]
  },
  {
   "cell_type": "code",
   "execution_count": null,
   "id": "11ab8329-6e4c-40dd-b827-5383033121ec",
   "metadata": {},
   "outputs": [],
   "source": []
  }
 ],
 "metadata": {
  "kernelspec": {
   "display_name": "Python 3 (ipykernel)",
   "language": "python",
   "name": "python3"
  },
  "language_info": {
   "codemirror_mode": {
    "name": "ipython",
    "version": 3
   },
   "file_extension": ".py",
   "mimetype": "text/x-python",
   "name": "python",
   "nbconvert_exporter": "python",
   "pygments_lexer": "ipython3",
   "version": "3.11.4"
  }
 },
 "nbformat": 4,
 "nbformat_minor": 5
}
