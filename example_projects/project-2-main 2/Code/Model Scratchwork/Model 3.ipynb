{
 "cells": [
  {
   "cell_type": "code",
   "execution_count": 40,
   "id": "2bdb0972-ec24-4db7-a029-ee18ea7fcb58",
   "metadata": {
    "tags": []
   },
   "outputs": [],
   "source": [
    "import pandas as pd\n",
    "import numpy as np\n",
    "import matplotlib.pyplot as plt\n",
    "\n",
    "from sklearn.linear_model import LinearRegression\n",
    "from sklearn.model_selection import train_test_split, cross_val_score\n",
    "from sklearn.preprocessing import PolynomialFeatures, StandardScaler, OneHotEncoder\n",
    "from sklearn.compose import ColumnTransformer\n",
    "from sklearn.impute import SimpleImputer\n",
    "\n",
    "from sklearn import metrics\n",
    "from sklearn.linear_model import Lasso\n",
    "from sklearn.linear_model import ElasticNet\n",
    "\n",
    "pd.options.display.float_format = '{:.4f}'.format\n",
    "import statsmodels.api as sm"
   ]
  },
  {
   "cell_type": "markdown",
   "id": "6a94e5a8-199a-43df-b359-0c3fd4506fb4",
   "metadata": {},
   "source": []
  },
  {
   "cell_type": "code",
   "execution_count": 41,
   "id": "8c483560-98ee-4f22-ad6d-8905bbc71804",
   "metadata": {
    "tags": []
   },
   "outputs": [],
   "source": [
    "clean_data = pd.read_csv('../datasets/clean_df.csv')"
   ]
  },
  {
   "cell_type": "code",
   "execution_count": 42,
   "id": "b3eefd3f-bbc5-4b65-a381-0c5bbd4ed52d",
   "metadata": {
    "tags": []
   },
   "outputs": [
    {
     "name": "stdout",
     "output_type": "stream",
     "text": [
      "<class 'pandas.core.frame.DataFrame'>\n",
      "RangeIndex: 2051 entries, 0 to 2050\n",
      "Data columns (total 82 columns):\n",
      " #   Column           Non-Null Count  Dtype  \n",
      "---  ------           --------------  -----  \n",
      " 0   Unnamed: 0       2051 non-null   int64  \n",
      " 1   Id               2051 non-null   int64  \n",
      " 2   PID              2051 non-null   int64  \n",
      " 3   MS SubClass      2051 non-null   int64  \n",
      " 4   MS Zoning        2051 non-null   object \n",
      " 5   Lot Frontage     1721 non-null   float64\n",
      " 6   Lot Area         2051 non-null   int64  \n",
      " 7   Street           2051 non-null   object \n",
      " 8   Alley            140 non-null    object \n",
      " 9   Lot Shape        2051 non-null   object \n",
      " 10  Land Contour     2051 non-null   object \n",
      " 11  Utilities        2051 non-null   object \n",
      " 12  Lot Config       2051 non-null   object \n",
      " 13  Land Slope       2051 non-null   object \n",
      " 14  Neighborhood     2051 non-null   object \n",
      " 15  Condition 1      2051 non-null   object \n",
      " 16  Condition 2      2051 non-null   object \n",
      " 17  Bldg Type        2051 non-null   object \n",
      " 18  House Style      2051 non-null   object \n",
      " 19  Overall Qual     2051 non-null   int64  \n",
      " 20  Overall Cond     2051 non-null   int64  \n",
      " 21  Year Built       2051 non-null   int64  \n",
      " 22  Year Remod/Add   2051 non-null   int64  \n",
      " 23  Roof Style       2051 non-null   object \n",
      " 24  Roof Matl        2051 non-null   object \n",
      " 25  Exterior 1st     2051 non-null   object \n",
      " 26  Exterior 2nd     2051 non-null   object \n",
      " 27  Mas Vnr Type     2029 non-null   object \n",
      " 28  Mas Vnr Area     2029 non-null   float64\n",
      " 29  Exter Qual       2051 non-null   object \n",
      " 30  Exter Cond       2051 non-null   object \n",
      " 31  Foundation       2051 non-null   object \n",
      " 32  Bsmt Qual        1996 non-null   object \n",
      " 33  Bsmt Cond        1996 non-null   object \n",
      " 34  Bsmt Exposure    1993 non-null   object \n",
      " 35  BsmtFin Type 1   1996 non-null   object \n",
      " 36  BsmtFin SF 1     2051 non-null   float64\n",
      " 37  BsmtFin Type 2   1995 non-null   object \n",
      " 38  BsmtFin SF 2     2051 non-null   float64\n",
      " 39  Bsmt Unf SF      2051 non-null   float64\n",
      " 40  Total Bsmt SF    2051 non-null   float64\n",
      " 41  Heating          2051 non-null   object \n",
      " 42  Heating QC       2051 non-null   object \n",
      " 43  Central Air      2051 non-null   object \n",
      " 44  Electrical       2051 non-null   object \n",
      " 45  1st Flr SF       2051 non-null   int64  \n",
      " 46  2nd Flr SF       2051 non-null   int64  \n",
      " 47  Low Qual Fin SF  2051 non-null   int64  \n",
      " 48  Gr Liv Area      2051 non-null   int64  \n",
      " 49  Bsmt Full Bath   2051 non-null   float64\n",
      " 50  Bsmt Half Bath   2051 non-null   float64\n",
      " 51  Full Bath        2051 non-null   int64  \n",
      " 52  Half Bath        2051 non-null   int64  \n",
      " 53  Bedroom AbvGr    2051 non-null   int64  \n",
      " 54  Kitchen AbvGr    2051 non-null   int64  \n",
      " 55  Kitchen Qual     2051 non-null   object \n",
      " 56  TotRms AbvGrd    2051 non-null   int64  \n",
      " 57  Functional       2051 non-null   object \n",
      " 58  Fireplaces       2051 non-null   int64  \n",
      " 59  Fireplace Qu     1051 non-null   object \n",
      " 60  Garage Type      1938 non-null   object \n",
      " 61  Garage Yr Blt    1937 non-null   float64\n",
      " 62  Garage Finish    1937 non-null   object \n",
      " 63  Garage Cars      2050 non-null   float64\n",
      " 64  Garage Area      2050 non-null   float64\n",
      " 65  Garage Qual      1937 non-null   object \n",
      " 66  Garage Cond      1937 non-null   object \n",
      " 67  Paved Drive      2051 non-null   object \n",
      " 68  Wood Deck SF     2051 non-null   int64  \n",
      " 69  Open Porch SF    2051 non-null   int64  \n",
      " 70  Enclosed Porch   2051 non-null   int64  \n",
      " 71  3Ssn Porch       2051 non-null   int64  \n",
      " 72  Screen Porch     2051 non-null   int64  \n",
      " 73  Pool Area        2051 non-null   int64  \n",
      " 74  Pool QC          9 non-null      object \n",
      " 75  Fence            400 non-null    object \n",
      " 76  Misc Feature     65 non-null     object \n",
      " 77  Misc Val         2051 non-null   int64  \n",
      " 78  Mo Sold          2051 non-null   int64  \n",
      " 79  Yr Sold          2051 non-null   int64  \n",
      " 80  Sale Type        2051 non-null   object \n",
      " 81  SalePrice        2051 non-null   int64  \n",
      "dtypes: float64(11), int64(29), object(42)\n",
      "memory usage: 1.3+ MB\n"
     ]
    }
   ],
   "source": [
    "clean_data.info()"
   ]
  },
  {
   "cell_type": "code",
   "execution_count": 43,
   "id": "6b830db7-b9ec-462a-be03-54c45ad7d8f1",
   "metadata": {
    "tags": []
   },
   "outputs": [],
   "source": [
    "Columns_to_include = ['SalePrice', \n",
    "                      'Overall Qual', \n",
    "                      'Gr Liv Area', \n",
    "                      'Garage Area', \n",
    "                      'Garage Cars', \n",
    "                      'Total Bsmt SF', \n",
    "                      '1st Flr SF', \n",
    "                      'Year Built', \n",
    "                      'Full Bath', \n",
    "                      'Fireplaces', \n",
    "                      'MS SubClass', \n",
    "                      'Neighborhood', \n",
    "                      'Condition 1', \n",
    "                      'Exter Qual', \n",
    "                      'Bsmt Exposure', \n",
    "                      'Kitchen Qual', \n",
    "                      'Garage Qual',\n",
    "                      'Exterior 1st',\n",
    "                      'Exter Cond',\n",
    "                      'Bsmt Qual',\n",
    "                      'Bsmt Cond',\n",
    "                      'BsmtFin Type 1',\n",
    "                      'Functional',\n",
    "                      'Fireplace Qu',\n",
    "                      'Paved Drive',\n",
    "                      'Sale Type',\n",
    "                      'Garage Cond']"
   ]
  },
  {
   "cell_type": "code",
   "execution_count": 44,
   "id": "e6a1fa59-61e8-45b0-8c1a-25bc6efb6c29",
   "metadata": {
    "tags": []
   },
   "outputs": [],
   "source": [
    "clean_columns = clean_data[Columns_to_include]"
   ]
  },
  {
   "cell_type": "code",
   "execution_count": 45,
   "id": "83eb4dc4-d55b-455b-a874-92baaec4c0f6",
   "metadata": {
    "tags": []
   },
   "outputs": [],
   "source": [
    "# Create a list of string-type column names\n",
    "string_columns = clean_data.select_dtypes(include=['object']).columns\n",
    "\n",
    "column_to_exclude = 'Mas Vnr Type'\n",
    "\n",
    "# Use a for loop to input NA in each column in dataframe that is in list except Mas Vnr Type\n",
    "for column in string_columns:\n",
    "    if column != column_to_exclude:\n",
    "        clean_data[column].fillna('NA', inplace=True)"
   ]
  },
  {
   "cell_type": "code",
   "execution_count": 46,
   "id": "076f9f9f-e05f-49eb-8669-08a1f7611e31",
   "metadata": {
    "tags": []
   },
   "outputs": [],
   "source": [
    "X1 = clean_data[Columns_to_include].drop(columns='SalePrice')\n",
    "y = clean_data['SalePrice']"
   ]
  },
  {
   "cell_type": "code",
   "execution_count": null,
   "id": "58e99f2f-aed4-4cdc-ad2f-4d4ef5fb1643",
   "metadata": {
    "tags": []
   },
   "outputs": [],
   "source": []
  },
  {
   "cell_type": "code",
   "execution_count": 47,
   "id": "80311f12-fb3e-45d0-9bcc-0cc9f16b3ab8",
   "metadata": {
    "tags": []
   },
   "outputs": [
    {
     "name": "stdout",
     "output_type": "stream",
     "text": [
      "<class 'pandas.core.frame.DataFrame'>\n",
      "RangeIndex: 2051 entries, 0 to 2050\n",
      "Data columns (total 26 columns):\n",
      " #   Column          Non-Null Count  Dtype  \n",
      "---  ------          --------------  -----  \n",
      " 0   Overall Qual    2051 non-null   int64  \n",
      " 1   Gr Liv Area     2051 non-null   int64  \n",
      " 2   Garage Area     2050 non-null   float64\n",
      " 3   Garage Cars     2050 non-null   float64\n",
      " 4   Total Bsmt SF   2051 non-null   float64\n",
      " 5   1st Flr SF      2051 non-null   int64  \n",
      " 6   Year Built      2051 non-null   int64  \n",
      " 7   Full Bath       2051 non-null   int64  \n",
      " 8   Fireplaces      2051 non-null   int64  \n",
      " 9   MS SubClass     2051 non-null   int64  \n",
      " 10  Neighborhood    2051 non-null   object \n",
      " 11  Condition 1     2051 non-null   object \n",
      " 12  Exter Qual      2051 non-null   object \n",
      " 13  Bsmt Exposure   2051 non-null   object \n",
      " 14  Kitchen Qual    2051 non-null   object \n",
      " 15  Garage Qual     2051 non-null   object \n",
      " 16  Exterior 1st    2051 non-null   object \n",
      " 17  Exter Cond      2051 non-null   object \n",
      " 18  Bsmt Qual       2051 non-null   object \n",
      " 19  Bsmt Cond       2051 non-null   object \n",
      " 20  BsmtFin Type 1  2051 non-null   object \n",
      " 21  Functional      2051 non-null   object \n",
      " 22  Fireplace Qu    2051 non-null   object \n",
      " 23  Paved Drive     2051 non-null   object \n",
      " 24  Sale Type       2051 non-null   object \n",
      " 25  Garage Cond     2051 non-null   object \n",
      "dtypes: float64(3), int64(7), object(16)\n",
      "memory usage: 416.7+ KB\n"
     ]
    }
   ],
   "source": [
    "X1.info()"
   ]
  },
  {
   "cell_type": "code",
   "execution_count": 48,
   "id": "6d35a81c-0d67-46b1-8736-51d9a709692a",
   "metadata": {
    "tags": []
   },
   "outputs": [
    {
     "data": {
      "text/plain": [
       "TA    1832\n",
       "NA     114\n",
       "Fa      82\n",
       "Gd      18\n",
       "Ex       3\n",
       "Po       2\n",
       "Name: Garage Qual, dtype: int64"
      ]
     },
     "execution_count": 48,
     "metadata": {},
     "output_type": "execute_result"
    }
   ],
   "source": [
    "X1['Garage Qual'].value_counts()"
   ]
  },
  {
   "cell_type": "code",
   "execution_count": 49,
   "id": "e7bea9ab-4758-4779-aa83-f0c31f4db376",
   "metadata": {
    "tags": []
   },
   "outputs": [
    {
     "data": {
      "text/plain": [
       "(2051,)"
      ]
     },
     "execution_count": 49,
     "metadata": {},
     "output_type": "execute_result"
    }
   ],
   "source": [
    "y.shape"
   ]
  },
  {
   "cell_type": "code",
   "execution_count": 50,
   "id": "0387a605-c627-4e03-9dbe-6d7b521ebc4e",
   "metadata": {
    "tags": []
   },
   "outputs": [],
   "source": [
    "X1_train, X1_val, y_train, y_val = train_test_split(X1, y, test_size= 0.2, random_state=24)"
   ]
  },
  {
   "cell_type": "code",
   "execution_count": null,
   "id": "f8ab3783-2e38-4a1d-bb9a-aff4c24910f5",
   "metadata": {},
   "outputs": [],
   "source": []
  },
  {
   "cell_type": "code",
   "execution_count": 51,
   "id": "45c8d02a-36d5-4229-b526-bbb48a35d9db",
   "metadata": {
    "tags": []
   },
   "outputs": [],
   "source": [
    "from sklearn.compose import make_column_transformer, make_column_selector\n",
    "from sklearn.pipeline import Pipeline"
   ]
  },
  {
   "cell_type": "code",
   "execution_count": 53,
   "id": "5649323d-d971-4458-b6fd-5a49cb0e59ad",
   "metadata": {
    "tags": []
   },
   "outputs": [],
   "source": [
    "ct1 = make_column_transformer(\n",
    "    (OneHotEncoder(sparse_output=False, handle_unknown='ignore', drop='first'), make_column_selector(dtype_include=object)),\n",
    "    remainder='passthrough'\n",
    ")\n",
    "\n",
    "ct2 = make_column_transformer(\n",
    "    (SimpleImputer(strategy='median'), make_column_selector(dtype_exclude=object)),\n",
    "    remainder='passthrough'\n",
    ")\n",
    "\n",
    "pipe = Pipeline([\n",
    "    ('ct1', ct1),\n",
    "    ('ct2', ct2),\n",
    "    ('sc', StandardScaler()), \n",
    "    ('poly', PolynomialFeatures(include_bias=False)),\n",
    "    ('lr', LinearRegression())\n",
    "])"
   ]
  },
  {
   "cell_type": "code",
   "execution_count": null,
   "id": "847cd295-3cd8-4117-8029-e1ff6a0bdb9e",
   "metadata": {
    "tags": []
   },
   "outputs": [],
   "source": [
    "X1_train_transformed = ct.fit_transform(X1_train)\n",
    "X1_val_transformed = ct.transform(X1_val)"
   ]
  },
  {
   "cell_type": "markdown",
   "id": "10b187be-8445-476f-9afc-eed144949b60",
   "metadata": {
    "tags": []
   },
   "source": []
  },
  {
   "cell_type": "code",
   "execution_count": null,
   "id": "7497cb84-8d7e-4dcc-a4d1-08b3231243bd",
   "metadata": {
    "tags": []
   },
   "outputs": [],
   "source": []
  },
  {
   "cell_type": "code",
   "execution_count": null,
   "id": "8f8ac160-a891-4bec-948a-841e7e047dc2",
   "metadata": {
    "tags": []
   },
   "outputs": [],
   "source": []
  },
  {
   "cell_type": "code",
   "execution_count": null,
   "id": "5531e85c-ab99-4a7c-a3bb-07bf472dedae",
   "metadata": {
    "tags": []
   },
   "outputs": [],
   "source": [
    "lr=LinearRegression()"
   ]
  },
  {
   "cell_type": "code",
   "execution_count": null,
   "id": "875011b1-971d-404f-9df7-2ced70d7ef84",
   "metadata": {
    "tags": []
   },
   "outputs": [],
   "source": [
    "lr.fit(X1_train_transformed, y_train)"
   ]
  },
  {
   "cell_type": "code",
   "execution_count": null,
   "id": "985c7c79-a8a9-4a81-8a82-799d52983487",
   "metadata": {
    "tags": []
   },
   "outputs": [],
   "source": [
    "r2_train = lr.score(X1_train_transformed, y_train)\n",
    "r2_val = lr.score(X1_val_transformed, y_val)\n",
    "print(r2_train)\n",
    "print(r2_val)"
   ]
  },
  {
   "cell_type": "code",
   "execution_count": null,
   "id": "af87b785-f798-4f85-9add-23d085319912",
   "metadata": {},
   "outputs": [],
   "source": [
    "y_preds_train = lr.predict(X1_train_transformed)\n",
    "metrics.mean_squared_error(y_train, y_preds_train)"
   ]
  },
  {
   "cell_type": "code",
   "execution_count": null,
   "id": "8eeae0f5-f6b6-4de5-94f0-fbcd6daa8d4e",
   "metadata": {
    "tags": []
   },
   "outputs": [],
   "source": [
    "y_preds_val = lr.predict(X1_val_transformed)\n",
    "metrics.mean_squared_error(y_val, y_preds_val)"
   ]
  },
  {
   "cell_type": "code",
   "execution_count": null,
   "id": "e49dba63-9991-4fa1-90af-c2c530ab8074",
   "metadata": {
    "tags": []
   },
   "outputs": [],
   "source": [
    "lr.coef_"
   ]
  },
  {
   "cell_type": "markdown",
   "id": "ebaf06ba-ac09-4f4b-ac01-b905eb893a70",
   "metadata": {},
   "source": [
    "*Credit to Susan for add_constant to simplify creating an intercept process*"
   ]
  },
  {
   "cell_type": "code",
   "execution_count": null,
   "id": "2d1855b1-bb18-468f-af04-e70b111045d1",
   "metadata": {
    "tags": []
   },
   "outputs": [],
   "source": [
    "ols = sm.OLS(y_train, sm.add_constant(X1_train_transformed)).fit()\n",
    "summary_table = ols.summary()\n",
    "summary_table"
   ]
  },
  {
   "cell_type": "code",
   "execution_count": null,
   "id": "9c11476b-87d3-4f74-953b-649815f1da4c",
   "metadata": {
    "tags": []
   },
   "outputs": [],
   "source": [
    "ct.get_feature_names_out()"
   ]
  },
  {
   "cell_type": "code",
   "execution_count": 57,
   "id": "b273f26a-729f-4efc-8d0a-58ed9ee4264c",
   "metadata": {
    "tags": []
   },
   "outputs": [
    {
     "ename": "ValueError",
     "evalue": "make_column_selector can only be applied to pandas dataframes",
     "output_type": "error",
     "traceback": [
      "\u001b[1;31m---------------------------------------------------------------------------\u001b[0m",
      "\u001b[1;31mValueError\u001b[0m                                Traceback (most recent call last)",
      "Cell \u001b[1;32mIn[57], line 1\u001b[0m\n\u001b[1;32m----> 1\u001b[0m X_transformed \u001b[38;5;241m=\u001b[39m pipe\u001b[38;5;241m.\u001b[39mfit(X1, y)\n",
      "File \u001b[1;32m~\\anaconda3\\Lib\\site-packages\\sklearn\\base.py:1151\u001b[0m, in \u001b[0;36m_fit_context.<locals>.decorator.<locals>.wrapper\u001b[1;34m(estimator, *args, **kwargs)\u001b[0m\n\u001b[0;32m   1144\u001b[0m     estimator\u001b[38;5;241m.\u001b[39m_validate_params()\n\u001b[0;32m   1146\u001b[0m \u001b[38;5;28;01mwith\u001b[39;00m config_context(\n\u001b[0;32m   1147\u001b[0m     skip_parameter_validation\u001b[38;5;241m=\u001b[39m(\n\u001b[0;32m   1148\u001b[0m         prefer_skip_nested_validation \u001b[38;5;129;01mor\u001b[39;00m global_skip_validation\n\u001b[0;32m   1149\u001b[0m     )\n\u001b[0;32m   1150\u001b[0m ):\n\u001b[1;32m-> 1151\u001b[0m     \u001b[38;5;28;01mreturn\u001b[39;00m fit_method(estimator, \u001b[38;5;241m*\u001b[39margs, \u001b[38;5;241m*\u001b[39m\u001b[38;5;241m*\u001b[39mkwargs)\n",
      "File \u001b[1;32m~\\anaconda3\\Lib\\site-packages\\sklearn\\pipeline.py:416\u001b[0m, in \u001b[0;36mPipeline.fit\u001b[1;34m(self, X, y, **fit_params)\u001b[0m\n\u001b[0;32m    390\u001b[0m \u001b[38;5;250m\u001b[39m\u001b[38;5;124;03m\"\"\"Fit the model.\u001b[39;00m\n\u001b[0;32m    391\u001b[0m \n\u001b[0;32m    392\u001b[0m \u001b[38;5;124;03mFit all the transformers one after the other and transform the\u001b[39;00m\n\u001b[1;32m   (...)\u001b[0m\n\u001b[0;32m    413\u001b[0m \u001b[38;5;124;03m    Pipeline with fitted steps.\u001b[39;00m\n\u001b[0;32m    414\u001b[0m \u001b[38;5;124;03m\"\"\"\u001b[39;00m\n\u001b[0;32m    415\u001b[0m fit_params_steps \u001b[38;5;241m=\u001b[39m \u001b[38;5;28mself\u001b[39m\u001b[38;5;241m.\u001b[39m_check_fit_params(\u001b[38;5;241m*\u001b[39m\u001b[38;5;241m*\u001b[39mfit_params)\n\u001b[1;32m--> 416\u001b[0m Xt \u001b[38;5;241m=\u001b[39m \u001b[38;5;28mself\u001b[39m\u001b[38;5;241m.\u001b[39m_fit(X, y, \u001b[38;5;241m*\u001b[39m\u001b[38;5;241m*\u001b[39mfit_params_steps)\n\u001b[0;32m    417\u001b[0m \u001b[38;5;28;01mwith\u001b[39;00m _print_elapsed_time(\u001b[38;5;124m\"\u001b[39m\u001b[38;5;124mPipeline\u001b[39m\u001b[38;5;124m\"\u001b[39m, \u001b[38;5;28mself\u001b[39m\u001b[38;5;241m.\u001b[39m_log_message(\u001b[38;5;28mlen\u001b[39m(\u001b[38;5;28mself\u001b[39m\u001b[38;5;241m.\u001b[39msteps) \u001b[38;5;241m-\u001b[39m \u001b[38;5;241m1\u001b[39m)):\n\u001b[0;32m    418\u001b[0m     \u001b[38;5;28;01mif\u001b[39;00m \u001b[38;5;28mself\u001b[39m\u001b[38;5;241m.\u001b[39m_final_estimator \u001b[38;5;241m!=\u001b[39m \u001b[38;5;124m\"\u001b[39m\u001b[38;5;124mpassthrough\u001b[39m\u001b[38;5;124m\"\u001b[39m:\n",
      "File \u001b[1;32m~\\anaconda3\\Lib\\site-packages\\sklearn\\pipeline.py:370\u001b[0m, in \u001b[0;36mPipeline._fit\u001b[1;34m(self, X, y, **fit_params_steps)\u001b[0m\n\u001b[0;32m    368\u001b[0m     cloned_transformer \u001b[38;5;241m=\u001b[39m clone(transformer)\n\u001b[0;32m    369\u001b[0m \u001b[38;5;66;03m# Fit or load from cache the current transformer\u001b[39;00m\n\u001b[1;32m--> 370\u001b[0m X, fitted_transformer \u001b[38;5;241m=\u001b[39m fit_transform_one_cached(\n\u001b[0;32m    371\u001b[0m     cloned_transformer,\n\u001b[0;32m    372\u001b[0m     X,\n\u001b[0;32m    373\u001b[0m     y,\n\u001b[0;32m    374\u001b[0m     \u001b[38;5;28;01mNone\u001b[39;00m,\n\u001b[0;32m    375\u001b[0m     message_clsname\u001b[38;5;241m=\u001b[39m\u001b[38;5;124m\"\u001b[39m\u001b[38;5;124mPipeline\u001b[39m\u001b[38;5;124m\"\u001b[39m,\n\u001b[0;32m    376\u001b[0m     message\u001b[38;5;241m=\u001b[39m\u001b[38;5;28mself\u001b[39m\u001b[38;5;241m.\u001b[39m_log_message(step_idx),\n\u001b[0;32m    377\u001b[0m     \u001b[38;5;241m*\u001b[39m\u001b[38;5;241m*\u001b[39mfit_params_steps[name],\n\u001b[0;32m    378\u001b[0m )\n\u001b[0;32m    379\u001b[0m \u001b[38;5;66;03m# Replace the transformer of the step with the fitted\u001b[39;00m\n\u001b[0;32m    380\u001b[0m \u001b[38;5;66;03m# transformer. This is necessary when loading the transformer\u001b[39;00m\n\u001b[0;32m    381\u001b[0m \u001b[38;5;66;03m# from the cache.\u001b[39;00m\n\u001b[0;32m    382\u001b[0m \u001b[38;5;28mself\u001b[39m\u001b[38;5;241m.\u001b[39msteps[step_idx] \u001b[38;5;241m=\u001b[39m (name, fitted_transformer)\n",
      "File \u001b[1;32m~\\anaconda3\\Lib\\site-packages\\joblib\\memory.py:349\u001b[0m, in \u001b[0;36mNotMemorizedFunc.__call__\u001b[1;34m(self, *args, **kwargs)\u001b[0m\n\u001b[0;32m    348\u001b[0m \u001b[38;5;28;01mdef\u001b[39;00m \u001b[38;5;21m__call__\u001b[39m(\u001b[38;5;28mself\u001b[39m, \u001b[38;5;241m*\u001b[39margs, \u001b[38;5;241m*\u001b[39m\u001b[38;5;241m*\u001b[39mkwargs):\n\u001b[1;32m--> 349\u001b[0m     \u001b[38;5;28;01mreturn\u001b[39;00m \u001b[38;5;28mself\u001b[39m\u001b[38;5;241m.\u001b[39mfunc(\u001b[38;5;241m*\u001b[39margs, \u001b[38;5;241m*\u001b[39m\u001b[38;5;241m*\u001b[39mkwargs)\n",
      "File \u001b[1;32m~\\anaconda3\\Lib\\site-packages\\sklearn\\pipeline.py:950\u001b[0m, in \u001b[0;36m_fit_transform_one\u001b[1;34m(transformer, X, y, weight, message_clsname, message, **fit_params)\u001b[0m\n\u001b[0;32m    948\u001b[0m \u001b[38;5;28;01mwith\u001b[39;00m _print_elapsed_time(message_clsname, message):\n\u001b[0;32m    949\u001b[0m     \u001b[38;5;28;01mif\u001b[39;00m \u001b[38;5;28mhasattr\u001b[39m(transformer, \u001b[38;5;124m\"\u001b[39m\u001b[38;5;124mfit_transform\u001b[39m\u001b[38;5;124m\"\u001b[39m):\n\u001b[1;32m--> 950\u001b[0m         res \u001b[38;5;241m=\u001b[39m transformer\u001b[38;5;241m.\u001b[39mfit_transform(X, y, \u001b[38;5;241m*\u001b[39m\u001b[38;5;241m*\u001b[39mfit_params)\n\u001b[0;32m    951\u001b[0m     \u001b[38;5;28;01melse\u001b[39;00m:\n\u001b[0;32m    952\u001b[0m         res \u001b[38;5;241m=\u001b[39m transformer\u001b[38;5;241m.\u001b[39mfit(X, y, \u001b[38;5;241m*\u001b[39m\u001b[38;5;241m*\u001b[39mfit_params)\u001b[38;5;241m.\u001b[39mtransform(X)\n",
      "File \u001b[1;32m~\\anaconda3\\Lib\\site-packages\\sklearn\\utils\\_set_output.py:140\u001b[0m, in \u001b[0;36m_wrap_method_output.<locals>.wrapped\u001b[1;34m(self, X, *args, **kwargs)\u001b[0m\n\u001b[0;32m    138\u001b[0m \u001b[38;5;129m@wraps\u001b[39m(f)\n\u001b[0;32m    139\u001b[0m \u001b[38;5;28;01mdef\u001b[39;00m \u001b[38;5;21mwrapped\u001b[39m(\u001b[38;5;28mself\u001b[39m, X, \u001b[38;5;241m*\u001b[39margs, \u001b[38;5;241m*\u001b[39m\u001b[38;5;241m*\u001b[39mkwargs):\n\u001b[1;32m--> 140\u001b[0m     data_to_wrap \u001b[38;5;241m=\u001b[39m f(\u001b[38;5;28mself\u001b[39m, X, \u001b[38;5;241m*\u001b[39margs, \u001b[38;5;241m*\u001b[39m\u001b[38;5;241m*\u001b[39mkwargs)\n\u001b[0;32m    141\u001b[0m     \u001b[38;5;28;01mif\u001b[39;00m \u001b[38;5;28misinstance\u001b[39m(data_to_wrap, \u001b[38;5;28mtuple\u001b[39m):\n\u001b[0;32m    142\u001b[0m         \u001b[38;5;66;03m# only wrap the first output for cross decomposition\u001b[39;00m\n\u001b[0;32m    143\u001b[0m         return_tuple \u001b[38;5;241m=\u001b[39m (\n\u001b[0;32m    144\u001b[0m             _wrap_data_with_container(method, data_to_wrap[\u001b[38;5;241m0\u001b[39m], X, \u001b[38;5;28mself\u001b[39m),\n\u001b[0;32m    145\u001b[0m             \u001b[38;5;241m*\u001b[39mdata_to_wrap[\u001b[38;5;241m1\u001b[39m:],\n\u001b[0;32m    146\u001b[0m         )\n",
      "File \u001b[1;32m~\\anaconda3\\Lib\\site-packages\\sklearn\\base.py:1151\u001b[0m, in \u001b[0;36m_fit_context.<locals>.decorator.<locals>.wrapper\u001b[1;34m(estimator, *args, **kwargs)\u001b[0m\n\u001b[0;32m   1144\u001b[0m     estimator\u001b[38;5;241m.\u001b[39m_validate_params()\n\u001b[0;32m   1146\u001b[0m \u001b[38;5;28;01mwith\u001b[39;00m config_context(\n\u001b[0;32m   1147\u001b[0m     skip_parameter_validation\u001b[38;5;241m=\u001b[39m(\n\u001b[0;32m   1148\u001b[0m         prefer_skip_nested_validation \u001b[38;5;129;01mor\u001b[39;00m global_skip_validation\n\u001b[0;32m   1149\u001b[0m     )\n\u001b[0;32m   1150\u001b[0m ):\n\u001b[1;32m-> 1151\u001b[0m     \u001b[38;5;28;01mreturn\u001b[39;00m fit_method(estimator, \u001b[38;5;241m*\u001b[39margs, \u001b[38;5;241m*\u001b[39m\u001b[38;5;241m*\u001b[39mkwargs)\n",
      "File \u001b[1;32m~\\anaconda3\\Lib\\site-packages\\sklearn\\compose\\_column_transformer.py:740\u001b[0m, in \u001b[0;36mColumnTransformer.fit_transform\u001b[1;34m(self, X, y)\u001b[0m\n\u001b[0;32m    738\u001b[0m \u001b[38;5;28mself\u001b[39m\u001b[38;5;241m.\u001b[39m_check_n_features(X, reset\u001b[38;5;241m=\u001b[39m\u001b[38;5;28;01mTrue\u001b[39;00m)\n\u001b[0;32m    739\u001b[0m \u001b[38;5;28mself\u001b[39m\u001b[38;5;241m.\u001b[39m_validate_transformers()\n\u001b[1;32m--> 740\u001b[0m \u001b[38;5;28mself\u001b[39m\u001b[38;5;241m.\u001b[39m_validate_column_callables(X)\n\u001b[0;32m    741\u001b[0m \u001b[38;5;28mself\u001b[39m\u001b[38;5;241m.\u001b[39m_validate_remainder(X)\n\u001b[0;32m    743\u001b[0m result \u001b[38;5;241m=\u001b[39m \u001b[38;5;28mself\u001b[39m\u001b[38;5;241m.\u001b[39m_fit_transform(X, y, _fit_transform_one)\n",
      "File \u001b[1;32m~\\anaconda3\\Lib\\site-packages\\sklearn\\compose\\_column_transformer.py:446\u001b[0m, in \u001b[0;36mColumnTransformer._validate_column_callables\u001b[1;34m(self, X)\u001b[0m\n\u001b[0;32m    444\u001b[0m \u001b[38;5;28;01mfor\u001b[39;00m name, _, columns \u001b[38;5;129;01min\u001b[39;00m \u001b[38;5;28mself\u001b[39m\u001b[38;5;241m.\u001b[39mtransformers:\n\u001b[0;32m    445\u001b[0m     \u001b[38;5;28;01mif\u001b[39;00m \u001b[38;5;28mcallable\u001b[39m(columns):\n\u001b[1;32m--> 446\u001b[0m         columns \u001b[38;5;241m=\u001b[39m columns(X)\n\u001b[0;32m    447\u001b[0m     all_columns\u001b[38;5;241m.\u001b[39mappend(columns)\n\u001b[0;32m    448\u001b[0m     transformer_to_input_indices[name] \u001b[38;5;241m=\u001b[39m _get_column_indices(X, columns)\n",
      "File \u001b[1;32m~\\anaconda3\\Lib\\site-packages\\sklearn\\compose\\_column_transformer.py:1139\u001b[0m, in \u001b[0;36mmake_column_selector.__call__\u001b[1;34m(self, df)\u001b[0m\n\u001b[0;32m   1130\u001b[0m \u001b[38;5;250m\u001b[39m\u001b[38;5;124;03m\"\"\"Callable for column selection to be used by a\u001b[39;00m\n\u001b[0;32m   1131\u001b[0m \u001b[38;5;124;03m:class:`ColumnTransformer`.\u001b[39;00m\n\u001b[0;32m   1132\u001b[0m \n\u001b[1;32m   (...)\u001b[0m\n\u001b[0;32m   1136\u001b[0m \u001b[38;5;124;03m    DataFrame to select columns from.\u001b[39;00m\n\u001b[0;32m   1137\u001b[0m \u001b[38;5;124;03m\"\"\"\u001b[39;00m\n\u001b[0;32m   1138\u001b[0m \u001b[38;5;28;01mif\u001b[39;00m \u001b[38;5;129;01mnot\u001b[39;00m \u001b[38;5;28mhasattr\u001b[39m(df, \u001b[38;5;124m\"\u001b[39m\u001b[38;5;124miloc\u001b[39m\u001b[38;5;124m\"\u001b[39m):\n\u001b[1;32m-> 1139\u001b[0m     \u001b[38;5;28;01mraise\u001b[39;00m \u001b[38;5;167;01mValueError\u001b[39;00m(\n\u001b[0;32m   1140\u001b[0m         \u001b[38;5;124m\"\u001b[39m\u001b[38;5;124mmake_column_selector can only be applied to pandas dataframes\u001b[39m\u001b[38;5;124m\"\u001b[39m\n\u001b[0;32m   1141\u001b[0m     )\n\u001b[0;32m   1142\u001b[0m df_row \u001b[38;5;241m=\u001b[39m df\u001b[38;5;241m.\u001b[39miloc[:\u001b[38;5;241m1\u001b[39m]\n\u001b[0;32m   1143\u001b[0m \u001b[38;5;28;01mif\u001b[39;00m \u001b[38;5;28mself\u001b[39m\u001b[38;5;241m.\u001b[39mdtype_include \u001b[38;5;129;01mis\u001b[39;00m \u001b[38;5;129;01mnot\u001b[39;00m \u001b[38;5;28;01mNone\u001b[39;00m \u001b[38;5;129;01mor\u001b[39;00m \u001b[38;5;28mself\u001b[39m\u001b[38;5;241m.\u001b[39mdtype_exclude \u001b[38;5;129;01mis\u001b[39;00m \u001b[38;5;129;01mnot\u001b[39;00m \u001b[38;5;28;01mNone\u001b[39;00m:\n",
      "\u001b[1;31mValueError\u001b[0m: make_column_selector can only be applied to pandas dataframes"
     ]
    }
   ],
   "source": [
    "X_transformed = pipe.fit(X1, y)"
   ]
  },
  {
   "cell_type": "code",
   "execution_count": null,
   "id": "8847b761-60fd-4e69-9e9d-9e0969fe9fc9",
   "metadata": {
    "tags": []
   },
   "outputs": [],
   "source": [
    "test = pd.read_csv('../datasets/test.csv')"
   ]
  },
  {
   "cell_type": "code",
   "execution_count": null,
   "id": "e6892cdb-e6da-48b4-b823-07495bb128ff",
   "metadata": {
    "tags": []
   },
   "outputs": [],
   "source": [
    "test.info()"
   ]
  },
  {
   "cell_type": "code",
   "execution_count": null,
   "id": "2a84566c-3d23-45f3-8f5a-195659191536",
   "metadata": {
    "tags": []
   },
   "outputs": [],
   "source": [
    "#For the columns I am using, the solution for missing values was to fill na with \n",
    "#test.fillna('NA', inplace=True)"
   ]
  },
  {
   "cell_type": "code",
   "execution_count": null,
   "id": "8b6bef0e-c030-4ca4-9df7-759311de214d",
   "metadata": {
    "tags": []
   },
   "outputs": [],
   "source": [
    "test_columns = ['Overall Qual', \n",
    "                'Gr Liv Area', \n",
    "                'Garage Area', \n",
    "                'Garage Cars', \n",
    "                'Total Bsmt SF', \n",
    "                '1st Flr SF', \n",
    "                'Year Built', \n",
    "                'Full Bath', \n",
    "                'Fireplaces', \n",
    "                'MS SubClass', \n",
    "                'Neighborhood', \n",
    "                'Condition 1', \n",
    "                'Exter Qual', \n",
    "                'Bsmt Exposure', \n",
    "                'Kitchen Qual', \n",
    "                'Garage Qual',\n",
    "                'Exterior 1st',\n",
    "                'Exter Cond',\n",
    "                'Bsmt Qual',\n",
    "                'Bsmt Cond',\n",
    "                'BsmtFin Type 1',\n",
    "                'Functional',\n",
    "                'Fireplace Qu',\n",
    "                'Paved Drive',\n",
    "                'Sale Type',\n",
    "                'Garage Cond']\n",
    "X_test = test[test_columns]"
   ]
  },
  {
   "cell_type": "code",
   "execution_count": null,
   "id": "f1008e13-def3-4fdc-b20f-aac67ada348f",
   "metadata": {
    "tags": []
   },
   "outputs": [],
   "source": [
    "X_test.info()"
   ]
  },
  {
   "cell_type": "code",
   "execution_count": null,
   "id": "df8071c1-c23c-479b-b163-99044c135495",
   "metadata": {
    "tags": []
   },
   "outputs": [],
   "source": [
    "X = ct.fit_transform(X1)"
   ]
  },
  {
   "cell_type": "code",
   "execution_count": null,
   "id": "9a52d678-aeef-471f-b9e7-5b5a1f9119b4",
   "metadata": {
    "tags": []
   },
   "outputs": [],
   "source": [
    "lrfinal=LinearRegression()\n",
    "lrfinal.fit("
   ]
  },
  {
   "cell_type": "code",
   "execution_count": null,
   "id": "876a979f-c2ac-4bd0-a748-6c82d08b0fcc",
   "metadata": {
    "tags": []
   },
   "outputs": [],
   "source": [
    "#For Garage Qual & Bsmt Exposure, I can input NA for missing values as I did for training data"
   ]
  },
  {
   "cell_type": "code",
   "execution_count": null,
   "id": "03daac85-eac9-496c-b214-f762df82b7cd",
   "metadata": {
    "tags": []
   },
   "outputs": [],
   "source": [
    "X_test_transformed = ct.transform(X_test)"
   ]
  },
  {
   "cell_type": "code",
   "execution_count": null,
   "id": "3fe13c4e-cec0-4c76-8607-c7afb1b66b82",
   "metadata": {
    "tags": []
   },
   "outputs": [],
   "source": []
  },
  {
   "cell_type": "code",
   "execution_count": null,
   "id": "2fc21cb6-95b1-45f7-8ed8-05aae547b90c",
   "metadata": {
    "tags": []
   },
   "outputs": [],
   "source": [
    "saleprice = lr.predict(X_test_transformed)"
   ]
  },
  {
   "cell_type": "code",
   "execution_count": null,
   "id": "d818aa33-3488-40a7-b831-bd867c31f693",
   "metadata": {
    "tags": []
   },
   "outputs": [],
   "source": [
    "saleprice.shape"
   ]
  },
  {
   "cell_type": "code",
   "execution_count": null,
   "id": "4b5fa1f1-d1bc-4423-a0a3-b9829bc9837c",
   "metadata": {
    "tags": []
   },
   "outputs": [],
   "source": [
    "data = {'Id':test['Id'], 'SalePrice': saleprice}\n",
    "test_sub = pd.DataFrame(data)"
   ]
  },
  {
   "cell_type": "code",
   "execution_count": null,
   "id": "fa951ed0-e4fb-4037-9545-8b9e46ed7644",
   "metadata": {
    "tags": []
   },
   "outputs": [],
   "source": [
    "test_sub.shape"
   ]
  },
  {
   "cell_type": "code",
   "execution_count": null,
   "id": "9c5ca735-2a77-4d27-8fe1-acda770fee4e",
   "metadata": {
    "tags": []
   },
   "outputs": [],
   "source": [
    "test_sub.to_csv('datasets/submission3.csv', index=False)"
   ]
  },
  {
   "cell_type": "code",
   "execution_count": null,
   "id": "11ab8329-6e4c-40dd-b827-5383033121ec",
   "metadata": {},
   "outputs": [],
   "source": []
  }
 ],
 "metadata": {
  "kernelspec": {
   "display_name": "Python 3 (ipykernel)",
   "language": "python",
   "name": "python3"
  },
  "language_info": {
   "codemirror_mode": {
    "name": "ipython",
    "version": 3
   },
   "file_extension": ".py",
   "mimetype": "text/x-python",
   "name": "python",
   "nbconvert_exporter": "python",
   "pygments_lexer": "ipython3",
   "version": "3.11.4"
  }
 },
 "nbformat": 4,
 "nbformat_minor": 5
}
