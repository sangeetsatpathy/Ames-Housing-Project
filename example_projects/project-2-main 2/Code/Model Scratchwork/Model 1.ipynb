{
 "cells": [
  {
   "cell_type": "code",
   "execution_count": 1,
   "id": "2bdb0972-ec24-4db7-a029-ee18ea7fcb58",
   "metadata": {
    "tags": []
   },
   "outputs": [],
   "source": [
    "import pandas as pd\n",
    "import numpy as np\n",
    "import matplotlib.pyplot as plt\n",
    "\n",
    "from sklearn.linear_model import LinearRegression\n",
    "from sklearn.model_selection import train_test_split, cross_val_score\n",
    "from sklearn.preprocessing import PolynomialFeatures, StandardScaler, OneHotEncoder\n",
    "from sklearn.compose import ColumnTransformer\n",
    "from sklearn.impute import SimpleImputer\n",
    "\n",
    "from sklearn import metrics\n",
    "from sklearn.linear_model import Lasso\n",
    "from sklearn.linear_model import ElasticNet"
   ]
  },
  {
   "cell_type": "markdown",
   "id": "6a94e5a8-199a-43df-b359-0c3fd4506fb4",
   "metadata": {},
   "source": [
    "**For this model I analayzed the heatmap/ correlations ofnumeric columns with sale price and the catterplots/ bargraphs of the categorical columns and sale price. I will start witha model with just these variables and then use stepwise regression to add and drop variables**"
   ]
  },
  {
   "cell_type": "code",
   "execution_count": 2,
   "id": "8c483560-98ee-4f22-ad6d-8905bbc71804",
   "metadata": {
    "tags": []
   },
   "outputs": [],
   "source": [
    "clean_data = pd.read_csv('datasets/clean_df.csv')"
   ]
  },
  {
   "cell_type": "code",
   "execution_count": 3,
   "id": "b3eefd3f-bbc5-4b65-a381-0c5bbd4ed52d",
   "metadata": {
    "tags": []
   },
   "outputs": [
    {
     "name": "stdout",
     "output_type": "stream",
     "text": [
      "<class 'pandas.core.frame.DataFrame'>\n",
      "RangeIndex: 2051 entries, 0 to 2050\n",
      "Data columns (total 82 columns):\n",
      " #   Column           Non-Null Count  Dtype  \n",
      "---  ------           --------------  -----  \n",
      " 0   Unnamed: 0       2051 non-null   int64  \n",
      " 1   Id               2051 non-null   int64  \n",
      " 2   PID              2051 non-null   int64  \n",
      " 3   MS SubClass      2051 non-null   int64  \n",
      " 4   MS Zoning        2051 non-null   object \n",
      " 5   Lot Frontage     1721 non-null   float64\n",
      " 6   Lot Area         2051 non-null   int64  \n",
      " 7   Street           2051 non-null   object \n",
      " 8   Alley            140 non-null    object \n",
      " 9   Lot Shape        2051 non-null   object \n",
      " 10  Land Contour     2051 non-null   object \n",
      " 11  Utilities        2051 non-null   object \n",
      " 12  Lot Config       2051 non-null   object \n",
      " 13  Land Slope       2051 non-null   object \n",
      " 14  Neighborhood     2051 non-null   object \n",
      " 15  Condition 1      2051 non-null   object \n",
      " 16  Condition 2      2051 non-null   object \n",
      " 17  Bldg Type        2051 non-null   object \n",
      " 18  House Style      2051 non-null   object \n",
      " 19  Overall Qual     2051 non-null   int64  \n",
      " 20  Overall Cond     2051 non-null   int64  \n",
      " 21  Year Built       2051 non-null   int64  \n",
      " 22  Year Remod/Add   2051 non-null   int64  \n",
      " 23  Roof Style       2051 non-null   object \n",
      " 24  Roof Matl        2051 non-null   object \n",
      " 25  Exterior 1st     2051 non-null   object \n",
      " 26  Exterior 2nd     2051 non-null   object \n",
      " 27  Mas Vnr Type     2029 non-null   object \n",
      " 28  Mas Vnr Area     2029 non-null   float64\n",
      " 29  Exter Qual       2051 non-null   object \n",
      " 30  Exter Cond       2051 non-null   object \n",
      " 31  Foundation       2051 non-null   object \n",
      " 32  Bsmt Qual        1996 non-null   object \n",
      " 33  Bsmt Cond        1996 non-null   object \n",
      " 34  Bsmt Exposure    1993 non-null   object \n",
      " 35  BsmtFin Type 1   1996 non-null   object \n",
      " 36  BsmtFin SF 1     2051 non-null   float64\n",
      " 37  BsmtFin Type 2   1995 non-null   object \n",
      " 38  BsmtFin SF 2     2051 non-null   float64\n",
      " 39  Bsmt Unf SF      2051 non-null   float64\n",
      " 40  Total Bsmt SF    2051 non-null   float64\n",
      " 41  Heating          2051 non-null   object \n",
      " 42  Heating QC       2051 non-null   object \n",
      " 43  Central Air      2051 non-null   object \n",
      " 44  Electrical       2051 non-null   object \n",
      " 45  1st Flr SF       2051 non-null   int64  \n",
      " 46  2nd Flr SF       2051 non-null   int64  \n",
      " 47  Low Qual Fin SF  2051 non-null   int64  \n",
      " 48  Gr Liv Area      2051 non-null   int64  \n",
      " 49  Bsmt Full Bath   2051 non-null   float64\n",
      " 50  Bsmt Half Bath   2051 non-null   float64\n",
      " 51  Full Bath        2051 non-null   int64  \n",
      " 52  Half Bath        2051 non-null   int64  \n",
      " 53  Bedroom AbvGr    2051 non-null   int64  \n",
      " 54  Kitchen AbvGr    2051 non-null   int64  \n",
      " 55  Kitchen Qual     2051 non-null   object \n",
      " 56  TotRms AbvGrd    2051 non-null   int64  \n",
      " 57  Functional       2051 non-null   object \n",
      " 58  Fireplaces       2051 non-null   int64  \n",
      " 59  Fireplace Qu     1051 non-null   object \n",
      " 60  Garage Type      1938 non-null   object \n",
      " 61  Garage Yr Blt    1937 non-null   float64\n",
      " 62  Garage Finish    1937 non-null   object \n",
      " 63  Garage Cars      2050 non-null   float64\n",
      " 64  Garage Area      2050 non-null   float64\n",
      " 65  Garage Qual      1937 non-null   object \n",
      " 66  Garage Cond      1937 non-null   object \n",
      " 67  Paved Drive      2051 non-null   object \n",
      " 68  Wood Deck SF     2051 non-null   int64  \n",
      " 69  Open Porch SF    2051 non-null   int64  \n",
      " 70  Enclosed Porch   2051 non-null   int64  \n",
      " 71  3Ssn Porch       2051 non-null   int64  \n",
      " 72  Screen Porch     2051 non-null   int64  \n",
      " 73  Pool Area        2051 non-null   int64  \n",
      " 74  Pool QC          9 non-null      object \n",
      " 75  Fence            400 non-null    object \n",
      " 76  Misc Feature     65 non-null     object \n",
      " 77  Misc Val         2051 non-null   int64  \n",
      " 78  Mo Sold          2051 non-null   int64  \n",
      " 79  Yr Sold          2051 non-null   int64  \n",
      " 80  Sale Type        2051 non-null   object \n",
      " 81  SalePrice        2051 non-null   int64  \n",
      "dtypes: float64(11), int64(29), object(42)\n",
      "memory usage: 1.3+ MB\n"
     ]
    }
   ],
   "source": [
    "clean_data.info()"
   ]
  },
  {
   "cell_type": "code",
   "execution_count": 4,
   "id": "6b830db7-b9ec-462a-be03-54c45ad7d8f1",
   "metadata": {
    "tags": []
   },
   "outputs": [],
   "source": [
    "Columns_to_include = ['SalePrice', \n",
    "                      'Overall Qual', \n",
    "                      'Gr Liv Area', \n",
    "                      'Garage Area', \n",
    "                      'Garage Cars', \n",
    "                      'Total Bsmt SF', \n",
    "                      '1st Flr SF', \n",
    "                      'Year Built', \n",
    "                      'Full Bath', \n",
    "                      'Fireplaces', \n",
    "                      'MS SubClass', \n",
    "                      'Neighborhood', \n",
    "                      'Condition 1', \n",
    "                      'Exter Qual', \n",
    "                      'Bsmt Exposure', \n",
    "                      'Kitchen Qual', \n",
    "                      'Garage Qual']"
   ]
  },
  {
   "cell_type": "code",
   "execution_count": 5,
   "id": "e6a1fa59-61e8-45b0-8c1a-25bc6efb6c29",
   "metadata": {
    "tags": []
   },
   "outputs": [],
   "source": [
    "clean_columns = clean_data[Columns_to_include]"
   ]
  },
  {
   "cell_type": "code",
   "execution_count": 6,
   "id": "83eb4dc4-d55b-455b-a874-92baaec4c0f6",
   "metadata": {
    "tags": []
   },
   "outputs": [],
   "source": [
    "# Create a list of string-type column names\n",
    "string_columns = clean_data.select_dtypes(include=['object']).columns\n",
    "\n",
    "column_to_exclude = 'Mas Vnr Type'\n",
    "\n",
    "# Use a for loop to input NA in each column in dataframe that is in list except Mas Vnr Type\n",
    "for column in string_columns:\n",
    "    if column != column_to_exclude:\n",
    "        clean_data[column].fillna('NA', inplace=True)"
   ]
  },
  {
   "cell_type": "code",
   "execution_count": 7,
   "id": "076f9f9f-e05f-49eb-8669-08a1f7611e31",
   "metadata": {
    "tags": []
   },
   "outputs": [],
   "source": [
    "X1 = clean_data[Columns_to_include].drop(columns='SalePrice')\n",
    "y = clean_data['SalePrice']"
   ]
  },
  {
   "cell_type": "code",
   "execution_count": null,
   "id": "58e99f2f-aed4-4cdc-ad2f-4d4ef5fb1643",
   "metadata": {
    "tags": []
   },
   "outputs": [],
   "source": []
  },
  {
   "cell_type": "code",
   "execution_count": 8,
   "id": "80311f12-fb3e-45d0-9bcc-0cc9f16b3ab8",
   "metadata": {
    "tags": []
   },
   "outputs": [
    {
     "name": "stdout",
     "output_type": "stream",
     "text": [
      "<class 'pandas.core.frame.DataFrame'>\n",
      "RangeIndex: 2051 entries, 0 to 2050\n",
      "Data columns (total 16 columns):\n",
      " #   Column         Non-Null Count  Dtype  \n",
      "---  ------         --------------  -----  \n",
      " 0   Overall Qual   2051 non-null   int64  \n",
      " 1   Gr Liv Area    2051 non-null   int64  \n",
      " 2   Garage Area    2050 non-null   float64\n",
      " 3   Garage Cars    2050 non-null   float64\n",
      " 4   Total Bsmt SF  2051 non-null   float64\n",
      " 5   1st Flr SF     2051 non-null   int64  \n",
      " 6   Year Built     2051 non-null   int64  \n",
      " 7   Full Bath      2051 non-null   int64  \n",
      " 8   Fireplaces     2051 non-null   int64  \n",
      " 9   MS SubClass    2051 non-null   int64  \n",
      " 10  Neighborhood   2051 non-null   object \n",
      " 11  Condition 1    2051 non-null   object \n",
      " 12  Exter Qual     2051 non-null   object \n",
      " 13  Bsmt Exposure  2051 non-null   object \n",
      " 14  Kitchen Qual   2051 non-null   object \n",
      " 15  Garage Qual    2051 non-null   object \n",
      "dtypes: float64(3), int64(7), object(6)\n",
      "memory usage: 256.5+ KB\n"
     ]
    }
   ],
   "source": [
    "X1.info()"
   ]
  },
  {
   "cell_type": "code",
   "execution_count": 9,
   "id": "6d35a81c-0d67-46b1-8736-51d9a709692a",
   "metadata": {
    "tags": []
   },
   "outputs": [
    {
     "data": {
      "text/plain": [
       "TA    1832\n",
       "NA     114\n",
       "Fa      82\n",
       "Gd      18\n",
       "Ex       3\n",
       "Po       2\n",
       "Name: Garage Qual, dtype: int64"
      ]
     },
     "execution_count": 9,
     "metadata": {},
     "output_type": "execute_result"
    }
   ],
   "source": [
    "X1['Garage Qual'].value_counts()"
   ]
  },
  {
   "cell_type": "code",
   "execution_count": 10,
   "id": "e7bea9ab-4758-4779-aa83-f0c31f4db376",
   "metadata": {
    "tags": []
   },
   "outputs": [
    {
     "data": {
      "text/plain": [
       "(2051,)"
      ]
     },
     "execution_count": 10,
     "metadata": {},
     "output_type": "execute_result"
    }
   ],
   "source": [
    "y.shape"
   ]
  },
  {
   "cell_type": "code",
   "execution_count": 11,
   "id": "0387a605-c627-4e03-9dbe-6d7b521ebc4e",
   "metadata": {
    "tags": []
   },
   "outputs": [],
   "source": [
    "X1_train, X1_val, y_train, y_val = train_test_split(X1, y, test_size= 0.2, random_state=24)"
   ]
  },
  {
   "cell_type": "code",
   "execution_count": 12,
   "id": "847cd295-3cd8-4117-8029-e1ff6a0bdb9e",
   "metadata": {
    "tags": []
   },
   "outputs": [],
   "source": [
    "X1_str = list(X1.select_dtypes(include=['object']).columns)"
   ]
  },
  {
   "cell_type": "code",
   "execution_count": 13,
   "id": "8f8ac160-a891-4bec-948a-841e7e047dc2",
   "metadata": {
    "tags": []
   },
   "outputs": [],
   "source": [
    "#I can either add imputer to the column transformer\n",
    "#or if I don't add polynomical features back in, I can just remove ct & run each separate\n",
    "#\n",
    "ct = ColumnTransformer([('oh', OneHotEncoder(sparse_output=False, handle_unknown='ignore', drop='first'), X1_str)\n",
    "], remainder='passthrough')  \n",
    "\n",
    "# Fit and transform the training data using the ColumnTransformer\n",
    "X1_train_transformed = ct.fit_transform(X1_train)\n",
    "\n",
    "# Transform the test data using the fitted ColumnTransformer\n",
    "X1_val_transformed = ct.transform(X1_val)\n",
    "\n",
    "\n",
    "#Double-check this... why would I need an imputer? I shouldn't have any numeric columns with missings\n",
    "imputer = SimpleImputer(strategy='mean')\n",
    "X1_train_transformed = imputer.fit_transform(X1_train_transformed)\n",
    "X1_val_transofrmed = imputer.transform(X1_val_transformed)\n"
   ]
  },
  {
   "cell_type": "code",
   "execution_count": 14,
   "id": "5531e85c-ab99-4a7c-a3bb-07bf472dedae",
   "metadata": {
    "tags": []
   },
   "outputs": [],
   "source": [
    "lr=LinearRegression()"
   ]
  },
  {
   "cell_type": "code",
   "execution_count": 15,
   "id": "875011b1-971d-404f-9df7-2ced70d7ef84",
   "metadata": {
    "tags": []
   },
   "outputs": [
    {
     "data": {
      "text/html": [
       "<style>#sk-container-id-1 {color: black;}#sk-container-id-1 pre{padding: 0;}#sk-container-id-1 div.sk-toggleable {background-color: white;}#sk-container-id-1 label.sk-toggleable__label {cursor: pointer;display: block;width: 100%;margin-bottom: 0;padding: 0.3em;box-sizing: border-box;text-align: center;}#sk-container-id-1 label.sk-toggleable__label-arrow:before {content: \"▸\";float: left;margin-right: 0.25em;color: #696969;}#sk-container-id-1 label.sk-toggleable__label-arrow:hover:before {color: black;}#sk-container-id-1 div.sk-estimator:hover label.sk-toggleable__label-arrow:before {color: black;}#sk-container-id-1 div.sk-toggleable__content {max-height: 0;max-width: 0;overflow: hidden;text-align: left;background-color: #f0f8ff;}#sk-container-id-1 div.sk-toggleable__content pre {margin: 0.2em;color: black;border-radius: 0.25em;background-color: #f0f8ff;}#sk-container-id-1 input.sk-toggleable__control:checked~div.sk-toggleable__content {max-height: 200px;max-width: 100%;overflow: auto;}#sk-container-id-1 input.sk-toggleable__control:checked~label.sk-toggleable__label-arrow:before {content: \"▾\";}#sk-container-id-1 div.sk-estimator input.sk-toggleable__control:checked~label.sk-toggleable__label {background-color: #d4ebff;}#sk-container-id-1 div.sk-label input.sk-toggleable__control:checked~label.sk-toggleable__label {background-color: #d4ebff;}#sk-container-id-1 input.sk-hidden--visually {border: 0;clip: rect(1px 1px 1px 1px);clip: rect(1px, 1px, 1px, 1px);height: 1px;margin: -1px;overflow: hidden;padding: 0;position: absolute;width: 1px;}#sk-container-id-1 div.sk-estimator {font-family: monospace;background-color: #f0f8ff;border: 1px dotted black;border-radius: 0.25em;box-sizing: border-box;margin-bottom: 0.5em;}#sk-container-id-1 div.sk-estimator:hover {background-color: #d4ebff;}#sk-container-id-1 div.sk-parallel-item::after {content: \"\";width: 100%;border-bottom: 1px solid gray;flex-grow: 1;}#sk-container-id-1 div.sk-label:hover label.sk-toggleable__label {background-color: #d4ebff;}#sk-container-id-1 div.sk-serial::before {content: \"\";position: absolute;border-left: 1px solid gray;box-sizing: border-box;top: 0;bottom: 0;left: 50%;z-index: 0;}#sk-container-id-1 div.sk-serial {display: flex;flex-direction: column;align-items: center;background-color: white;padding-right: 0.2em;padding-left: 0.2em;position: relative;}#sk-container-id-1 div.sk-item {position: relative;z-index: 1;}#sk-container-id-1 div.sk-parallel {display: flex;align-items: stretch;justify-content: center;background-color: white;position: relative;}#sk-container-id-1 div.sk-item::before, #sk-container-id-1 div.sk-parallel-item::before {content: \"\";position: absolute;border-left: 1px solid gray;box-sizing: border-box;top: 0;bottom: 0;left: 50%;z-index: -1;}#sk-container-id-1 div.sk-parallel-item {display: flex;flex-direction: column;z-index: 1;position: relative;background-color: white;}#sk-container-id-1 div.sk-parallel-item:first-child::after {align-self: flex-end;width: 50%;}#sk-container-id-1 div.sk-parallel-item:last-child::after {align-self: flex-start;width: 50%;}#sk-container-id-1 div.sk-parallel-item:only-child::after {width: 0;}#sk-container-id-1 div.sk-dashed-wrapped {border: 1px dashed gray;margin: 0 0.4em 0.5em 0.4em;box-sizing: border-box;padding-bottom: 0.4em;background-color: white;}#sk-container-id-1 div.sk-label label {font-family: monospace;font-weight: bold;display: inline-block;line-height: 1.2em;}#sk-container-id-1 div.sk-label-container {text-align: center;}#sk-container-id-1 div.sk-container {/* jupyter's `normalize.less` sets `[hidden] { display: none; }` but bootstrap.min.css set `[hidden] { display: none !important; }` so we also need the `!important` here to be able to override the default hidden behavior on the sphinx rendered scikit-learn.org. See: https://github.com/scikit-learn/scikit-learn/issues/21755 */display: inline-block !important;position: relative;}#sk-container-id-1 div.sk-text-repr-fallback {display: none;}</style><div id=\"sk-container-id-1\" class=\"sk-top-container\"><div class=\"sk-text-repr-fallback\"><pre>LinearRegression()</pre><b>In a Jupyter environment, please rerun this cell to show the HTML representation or trust the notebook. <br />On GitHub, the HTML representation is unable to render, please try loading this page with nbviewer.org.</b></div><div class=\"sk-container\" hidden><div class=\"sk-item\"><div class=\"sk-estimator sk-toggleable\"><input class=\"sk-toggleable__control sk-hidden--visually\" id=\"sk-estimator-id-1\" type=\"checkbox\" checked><label for=\"sk-estimator-id-1\" class=\"sk-toggleable__label sk-toggleable__label-arrow\">LinearRegression</label><div class=\"sk-toggleable__content\"><pre>LinearRegression()</pre></div></div></div></div></div>"
      ],
      "text/plain": [
       "LinearRegression()"
      ]
     },
     "execution_count": 15,
     "metadata": {},
     "output_type": "execute_result"
    }
   ],
   "source": [
    "lr.fit(X1_train_transformed, y_train)"
   ]
  },
  {
   "cell_type": "code",
   "execution_count": 16,
   "id": "985c7c79-a8a9-4a81-8a82-799d52983487",
   "metadata": {
    "tags": []
   },
   "outputs": [
    {
     "name": "stdout",
     "output_type": "stream",
     "text": [
      "0.8696229428912882\n",
      "0.8996500011620334\n"
     ]
    }
   ],
   "source": [
    "r2_train = lr.score(X1_train_transformed, y_train)\n",
    "r2_val = lr.score(X1_val_transformed, y_val)\n",
    "print(r2_train)\n",
    "print(r2_val)"
   ]
  },
  {
   "cell_type": "code",
   "execution_count": 17,
   "id": "af87b785-f798-4f85-9add-23d085319912",
   "metadata": {},
   "outputs": [
    {
     "data": {
      "text/plain": [
       "829055137.357763"
      ]
     },
     "execution_count": 17,
     "metadata": {},
     "output_type": "execute_result"
    }
   ],
   "source": [
    "y_preds_train = lr.predict(X1_train_transformed)\n",
    "metrics.mean_squared_error(y_train, y_preds_train)"
   ]
  },
  {
   "cell_type": "code",
   "execution_count": 18,
   "id": "8eeae0f5-f6b6-4de5-94f0-fbcd6daa8d4e",
   "metadata": {
    "tags": []
   },
   "outputs": [
    {
     "data": {
      "text/plain": [
       "598023852.2266089"
      ]
     },
     "execution_count": 18,
     "metadata": {},
     "output_type": "execute_result"
    }
   ],
   "source": [
    "y_preds_val = lr.predict(X1_val_transformed)\n",
    "metrics.mean_squared_error(y_val, y_preds_val)"
   ]
  },
  {
   "cell_type": "code",
   "execution_count": 19,
   "id": "8847b761-60fd-4e69-9e9d-9e0969fe9fc9",
   "metadata": {
    "tags": []
   },
   "outputs": [],
   "source": [
    "test = pd.read_csv('datasets/test.csv')"
   ]
  },
  {
   "cell_type": "code",
   "execution_count": 20,
   "id": "e6892cdb-e6da-48b4-b823-07495bb128ff",
   "metadata": {
    "tags": []
   },
   "outputs": [
    {
     "name": "stdout",
     "output_type": "stream",
     "text": [
      "<class 'pandas.core.frame.DataFrame'>\n",
      "RangeIndex: 878 entries, 0 to 877\n",
      "Data columns (total 80 columns):\n",
      " #   Column           Non-Null Count  Dtype  \n",
      "---  ------           --------------  -----  \n",
      " 0   Id               878 non-null    int64  \n",
      " 1   PID              878 non-null    int64  \n",
      " 2   MS SubClass      878 non-null    int64  \n",
      " 3   MS Zoning        878 non-null    object \n",
      " 4   Lot Frontage     718 non-null    float64\n",
      " 5   Lot Area         878 non-null    int64  \n",
      " 6   Street           878 non-null    object \n",
      " 7   Alley            58 non-null     object \n",
      " 8   Lot Shape        878 non-null    object \n",
      " 9   Land Contour     878 non-null    object \n",
      " 10  Utilities        878 non-null    object \n",
      " 11  Lot Config       878 non-null    object \n",
      " 12  Land Slope       878 non-null    object \n",
      " 13  Neighborhood     878 non-null    object \n",
      " 14  Condition 1      878 non-null    object \n",
      " 15  Condition 2      878 non-null    object \n",
      " 16  Bldg Type        878 non-null    object \n",
      " 17  House Style      878 non-null    object \n",
      " 18  Overall Qual     878 non-null    int64  \n",
      " 19  Overall Cond     878 non-null    int64  \n",
      " 20  Year Built       878 non-null    int64  \n",
      " 21  Year Remod/Add   878 non-null    int64  \n",
      " 22  Roof Style       878 non-null    object \n",
      " 23  Roof Matl        878 non-null    object \n",
      " 24  Exterior 1st     878 non-null    object \n",
      " 25  Exterior 2nd     878 non-null    object \n",
      " 26  Mas Vnr Type     877 non-null    object \n",
      " 27  Mas Vnr Area     877 non-null    float64\n",
      " 28  Exter Qual       878 non-null    object \n",
      " 29  Exter Cond       878 non-null    object \n",
      " 30  Foundation       878 non-null    object \n",
      " 31  Bsmt Qual        853 non-null    object \n",
      " 32  Bsmt Cond        853 non-null    object \n",
      " 33  Bsmt Exposure    853 non-null    object \n",
      " 34  BsmtFin Type 1   853 non-null    object \n",
      " 35  BsmtFin SF 1     878 non-null    int64  \n",
      " 36  BsmtFin Type 2   853 non-null    object \n",
      " 37  BsmtFin SF 2     878 non-null    int64  \n",
      " 38  Bsmt Unf SF      878 non-null    int64  \n",
      " 39  Total Bsmt SF    878 non-null    int64  \n",
      " 40  Heating          878 non-null    object \n",
      " 41  Heating QC       878 non-null    object \n",
      " 42  Central Air      878 non-null    object \n",
      " 43  Electrical       877 non-null    object \n",
      " 44  1st Flr SF       878 non-null    int64  \n",
      " 45  2nd Flr SF       878 non-null    int64  \n",
      " 46  Low Qual Fin SF  878 non-null    int64  \n",
      " 47  Gr Liv Area      878 non-null    int64  \n",
      " 48  Bsmt Full Bath   878 non-null    int64  \n",
      " 49  Bsmt Half Bath   878 non-null    int64  \n",
      " 50  Full Bath        878 non-null    int64  \n",
      " 51  Half Bath        878 non-null    int64  \n",
      " 52  Bedroom AbvGr    878 non-null    int64  \n",
      " 53  Kitchen AbvGr    878 non-null    int64  \n",
      " 54  Kitchen Qual     878 non-null    object \n",
      " 55  TotRms AbvGrd    878 non-null    int64  \n",
      " 56  Functional       878 non-null    object \n",
      " 57  Fireplaces       878 non-null    int64  \n",
      " 58  Fireplace Qu     456 non-null    object \n",
      " 59  Garage Type      834 non-null    object \n",
      " 60  Garage Yr Blt    833 non-null    float64\n",
      " 61  Garage Finish    833 non-null    object \n",
      " 62  Garage Cars      878 non-null    int64  \n",
      " 63  Garage Area      878 non-null    int64  \n",
      " 64  Garage Qual      833 non-null    object \n",
      " 65  Garage Cond      833 non-null    object \n",
      " 66  Paved Drive      878 non-null    object \n",
      " 67  Wood Deck SF     878 non-null    int64  \n",
      " 68  Open Porch SF    878 non-null    int64  \n",
      " 69  Enclosed Porch   878 non-null    int64  \n",
      " 70  3Ssn Porch       878 non-null    int64  \n",
      " 71  Screen Porch     878 non-null    int64  \n",
      " 72  Pool Area        878 non-null    int64  \n",
      " 73  Pool QC          4 non-null      object \n",
      " 74  Fence            172 non-null    object \n",
      " 75  Misc Feature     41 non-null     object \n",
      " 76  Misc Val         878 non-null    int64  \n",
      " 77  Mo Sold          878 non-null    int64  \n",
      " 78  Yr Sold          878 non-null    int64  \n",
      " 79  Sale Type        878 non-null    object \n",
      "dtypes: float64(3), int64(35), object(42)\n",
      "memory usage: 548.9+ KB\n"
     ]
    }
   ],
   "source": [
    "test.info()"
   ]
  },
  {
   "cell_type": "code",
   "execution_count": 21,
   "id": "2a84566c-3d23-45f3-8f5a-195659191536",
   "metadata": {
    "tags": []
   },
   "outputs": [],
   "source": [
    "#For the columns I am using, the solution for missing values was to fill na with \n",
    "test.fillna('NA', inplace=True)"
   ]
  },
  {
   "cell_type": "code",
   "execution_count": 22,
   "id": "8b6bef0e-c030-4ca4-9df7-759311de214d",
   "metadata": {
    "tags": []
   },
   "outputs": [],
   "source": [
    "test_columns = ['Overall Qual', 'Gr Liv Area', 'Garage Area', 'Garage Cars', 'Total Bsmt SF', '1st Flr SF', 'Year Built', 'Full Bath', 'Fireplaces', 'MS SubClass', 'Neighborhood', 'Exter Qual',  'Condition 1', 'Bsmt Exposure', 'Kitchen Qual', 'Garage Qual']\n",
    "X_test = test[test_columns]"
   ]
  },
  {
   "cell_type": "code",
   "execution_count": 23,
   "id": "f1008e13-def3-4fdc-b20f-aac67ada348f",
   "metadata": {
    "tags": []
   },
   "outputs": [
    {
     "name": "stdout",
     "output_type": "stream",
     "text": [
      "<class 'pandas.core.frame.DataFrame'>\n",
      "RangeIndex: 878 entries, 0 to 877\n",
      "Data columns (total 16 columns):\n",
      " #   Column         Non-Null Count  Dtype \n",
      "---  ------         --------------  ----- \n",
      " 0   Overall Qual   878 non-null    int64 \n",
      " 1   Gr Liv Area    878 non-null    int64 \n",
      " 2   Garage Area    878 non-null    int64 \n",
      " 3   Garage Cars    878 non-null    int64 \n",
      " 4   Total Bsmt SF  878 non-null    int64 \n",
      " 5   1st Flr SF     878 non-null    int64 \n",
      " 6   Year Built     878 non-null    int64 \n",
      " 7   Full Bath      878 non-null    int64 \n",
      " 8   Fireplaces     878 non-null    int64 \n",
      " 9   MS SubClass    878 non-null    int64 \n",
      " 10  Neighborhood   878 non-null    object\n",
      " 11  Exter Qual     878 non-null    object\n",
      " 12  Condition 1    878 non-null    object\n",
      " 13  Bsmt Exposure  878 non-null    object\n",
      " 14  Kitchen Qual   878 non-null    object\n",
      " 15  Garage Qual    878 non-null    object\n",
      "dtypes: int64(10), object(6)\n",
      "memory usage: 109.9+ KB\n"
     ]
    }
   ],
   "source": [
    "X_test.info()"
   ]
  },
  {
   "cell_type": "code",
   "execution_count": 24,
   "id": "9a52d678-aeef-471f-b9e7-5b5a1f9119b4",
   "metadata": {
    "tags": []
   },
   "outputs": [
    {
     "ename": "NameError",
     "evalue": "name 'X' is not defined",
     "output_type": "error",
     "traceback": [
      "\u001b[1;31m---------------------------------------------------------------------------\u001b[0m",
      "\u001b[1;31mNameError\u001b[0m                                 Traceback (most recent call last)",
      "Cell \u001b[1;32mIn[24], line 1\u001b[0m\n\u001b[1;32m----> 1\u001b[0m X[\u001b[38;5;124m'\u001b[39m\u001b[38;5;124mKitchen Qual\u001b[39m\u001b[38;5;124m'\u001b[39m]\u001b[38;5;241m.\u001b[39mvalue_counts()\n",
      "\u001b[1;31mNameError\u001b[0m: name 'X' is not defined"
     ]
    }
   ],
   "source": [
    "X['Kitchen Qual'].value_counts()"
   ]
  },
  {
   "cell_type": "code",
   "execution_count": null,
   "id": "876a979f-c2ac-4bd0-a748-6c82d08b0fcc",
   "metadata": {
    "tags": []
   },
   "outputs": [],
   "source": [
    "#For Garage Qual & Bsmt Exposure, I can input NA for missing values as I did for training data"
   ]
  },
  {
   "cell_type": "code",
   "execution_count": null,
   "id": "03daac85-eac9-496c-b214-f762df82b7cd",
   "metadata": {
    "tags": []
   },
   "outputs": [],
   "source": [
    "X_test_transformed = ct.transform(X_test)"
   ]
  },
  {
   "cell_type": "code",
   "execution_count": null,
   "id": "3fe13c4e-cec0-4c76-8607-c7afb1b66b82",
   "metadata": {
    "tags": []
   },
   "outputs": [],
   "source": [
    "X['Condition 1'].value_counts()"
   ]
  },
  {
   "cell_type": "code",
   "execution_count": null,
   "id": "2fc21cb6-95b1-45f7-8ed8-05aae547b90c",
   "metadata": {
    "tags": []
   },
   "outputs": [],
   "source": [
    "saleprice = lr.predict(X_test_transformed)"
   ]
  },
  {
   "cell_type": "code",
   "execution_count": null,
   "id": "d818aa33-3488-40a7-b831-bd867c31f693",
   "metadata": {
    "tags": []
   },
   "outputs": [],
   "source": [
    "saleprice.shape"
   ]
  },
  {
   "cell_type": "code",
   "execution_count": null,
   "id": "4b5fa1f1-d1bc-4423-a0a3-b9829bc9837c",
   "metadata": {
    "tags": []
   },
   "outputs": [],
   "source": [
    "data = {'Id':test['Id'], 'SalePrice': saleprice}\n",
    "test_sub = pd.DataFrame(data)"
   ]
  },
  {
   "cell_type": "code",
   "execution_count": null,
   "id": "fa951ed0-e4fb-4037-9545-8b9e46ed7644",
   "metadata": {
    "tags": []
   },
   "outputs": [],
   "source": [
    "test_sub.shape"
   ]
  },
  {
   "cell_type": "code",
   "execution_count": null,
   "id": "9c5ca735-2a77-4d27-8fe1-acda770fee4e",
   "metadata": {
    "tags": []
   },
   "outputs": [],
   "source": [
    "test_sub.to_csv('datasets/submission1.csv', index=False)"
   ]
  },
  {
   "cell_type": "code",
   "execution_count": null,
   "id": "11ab8329-6e4c-40dd-b827-5383033121ec",
   "metadata": {},
   "outputs": [],
   "source": []
  }
 ],
 "metadata": {
  "kernelspec": {
   "display_name": "Python 3 (ipykernel)",
   "language": "python",
   "name": "python3"
  },
  "language_info": {
   "codemirror_mode": {
    "name": "ipython",
    "version": 3
   },
   "file_extension": ".py",
   "mimetype": "text/x-python",
   "name": "python",
   "nbconvert_exporter": "python",
   "pygments_lexer": "ipython3",
   "version": "3.11.4"
  }
 },
 "nbformat": 4,
 "nbformat_minor": 5
}
